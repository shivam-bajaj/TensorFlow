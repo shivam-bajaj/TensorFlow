{
  "nbformat": 4,
  "nbformat_minor": 0,
  "metadata": {
    "colab": {
      "provenance": [],
      "toc_visible": true,
      "gpuType": "T4",
      "authorship_tag": "ABX9TyMdUaxGuDki9vmd6CcyNRVZ",
      "include_colab_link": true
    },
    "kernelspec": {
      "name": "python3",
      "display_name": "Python 3"
    },
    "language_info": {
      "name": "python"
    },
    "accelerator": "GPU"
  },
  "cells": [
    {
      "cell_type": "markdown",
      "metadata": {
        "id": "view-in-github",
        "colab_type": "text"
      },
      "source": [
        "<a href=\"https://colab.research.google.com/github/shivam-bajaj/TensorFlow/blob/master/00_tensorflow_basic.ipynb\" target=\"_parent\"><img src=\"https://colab.research.google.com/assets/colab-badge.svg\" alt=\"Open In Colab\"/></a>"
      ]
    },
    {
      "cell_type": "markdown",
      "source": [
        "# **TensorFlow**"
      ],
      "metadata": {
        "id": "fPIvBTXcCVTM"
      }
    },
    {
      "cell_type": "markdown",
      "source": [
        "## **Intro to Tensors**"
      ],
      "metadata": {
        "id": "2clD9q7NCjsQ"
      }
    },
    {
      "cell_type": "code",
      "source": [
        "import tensorflow as tf"
      ],
      "metadata": {
        "id": "LmqTeJWvDLfc"
      },
      "execution_count": 1,
      "outputs": []
    },
    {
      "cell_type": "code",
      "source": [
        "tf.__version__"
      ],
      "metadata": {
        "id": "MEf1WVGHDTuV",
        "colab": {
          "base_uri": "https://localhost:8080/",
          "height": 35
        },
        "outputId": "cd89fdb8-6e94-44bd-d1b0-a383c189f0e8"
      },
      "execution_count": 2,
      "outputs": [
        {
          "output_type": "execute_result",
          "data": {
            "text/plain": [
              "'2.12.0'"
            ],
            "application/vnd.google.colaboratory.intrinsic+json": {
              "type": "string"
            }
          },
          "metadata": {},
          "execution_count": 2
        }
      ]
    },
    {
      "cell_type": "markdown",
      "source": [
        "### *`tf.constant`*"
      ],
      "metadata": {
        "id": "xEX6dSQH6aEV"
      }
    },
    {
      "cell_type": "code",
      "source": [
        "tf.constant"
      ],
      "metadata": {
        "colab": {
          "base_uri": "https://localhost:8080/"
        },
        "id": "Kl3x_fxiCKim",
        "outputId": "4321816c-b2e2-40c8-f7ff-44495a5469b1"
      },
      "execution_count": 3,
      "outputs": [
        {
          "output_type": "execute_result",
          "data": {
            "text/plain": [
              "<function tensorflow.python.framework.constant_op.constant(value, dtype=None, shape=None, name='Const')>"
            ]
          },
          "metadata": {},
          "execution_count": 3
        }
      ]
    },
    {
      "cell_type": "code",
      "source": [
        "# create tensors with tf.constant()\n",
        "\n",
        "scalar = tf.constant(7)\n",
        "scalar"
      ],
      "metadata": {
        "id": "AELSLWjkDW8d",
        "colab": {
          "base_uri": "https://localhost:8080/"
        },
        "outputId": "3b95432f-9691-4d0d-8d28-dac49a113747"
      },
      "execution_count": 4,
      "outputs": [
        {
          "output_type": "execute_result",
          "data": {
            "text/plain": [
              "<tf.Tensor: shape=(), dtype=int32, numpy=7>"
            ]
          },
          "metadata": {},
          "execution_count": 4
        }
      ]
    },
    {
      "cell_type": "code",
      "source": [
        "# check dimension of a tensor\n",
        "# tenosr rank 1\n",
        "scalar.ndim"
      ],
      "metadata": {
        "colab": {
          "base_uri": "https://localhost:8080/"
        },
        "id": "LfoSfwfoFAUS",
        "outputId": "10982b81-ffa4-4bd8-ac3a-2e0c8afba8b2"
      },
      "execution_count": 5,
      "outputs": [
        {
          "output_type": "execute_result",
          "data": {
            "text/plain": [
              "0"
            ]
          },
          "metadata": {},
          "execution_count": 5
        }
      ]
    },
    {
      "cell_type": "code",
      "source": [
        "# create a vector\n",
        "# tensor rank 1\n",
        "vector = tf.constant([7,9])\n",
        "vector"
      ],
      "metadata": {
        "colab": {
          "base_uri": "https://localhost:8080/"
        },
        "id": "yncCc82XFYK3",
        "outputId": "deff84c5-0e0f-44a8-f35c-590178a347e2"
      },
      "execution_count": 6,
      "outputs": [
        {
          "output_type": "execute_result",
          "data": {
            "text/plain": [
              "<tf.Tensor: shape=(2,), dtype=int32, numpy=array([7, 9], dtype=int32)>"
            ]
          },
          "metadata": {},
          "execution_count": 6
        }
      ]
    },
    {
      "cell_type": "code",
      "source": [
        "vector.ndim"
      ],
      "metadata": {
        "colab": {
          "base_uri": "https://localhost:8080/"
        },
        "id": "FhHx4VgXFibp",
        "outputId": "27ba114d-4868-4ce4-9b4f-54ed1413cecf"
      },
      "execution_count": 7,
      "outputs": [
        {
          "output_type": "execute_result",
          "data": {
            "text/plain": [
              "1"
            ]
          },
          "metadata": {},
          "execution_count": 7
        }
      ]
    },
    {
      "cell_type": "code",
      "source": [
        "# create a matrix\n",
        "# tensor rank -2\n",
        "matrix = tf.constant([[7,10],[10,7]])\n",
        "matrix"
      ],
      "metadata": {
        "colab": {
          "base_uri": "https://localhost:8080/"
        },
        "id": "lzIOg4mBFkeq",
        "outputId": "c85b86b9-32d7-408a-948b-13e1f3b9be87"
      },
      "execution_count": 8,
      "outputs": [
        {
          "output_type": "execute_result",
          "data": {
            "text/plain": [
              "<tf.Tensor: shape=(2, 2), dtype=int32, numpy=\n",
              "array([[ 7, 10],\n",
              "       [10,  7]], dtype=int32)>"
            ]
          },
          "metadata": {},
          "execution_count": 8
        }
      ]
    },
    {
      "cell_type": "code",
      "source": [
        "matrix.ndim"
      ],
      "metadata": {
        "colab": {
          "base_uri": "https://localhost:8080/"
        },
        "id": "MPttMmeQF8Z5",
        "outputId": "6c776718-52d4-4db2-ac04-190ea9332e5f"
      },
      "execution_count": 9,
      "outputs": [
        {
          "output_type": "execute_result",
          "data": {
            "text/plain": [
              "2"
            ]
          },
          "metadata": {},
          "execution_count": 9
        }
      ]
    },
    {
      "cell_type": "code",
      "source": [
        "# another matrix with specific data type\n",
        "another_matrix = tf.constant([[1.,2.],[3.,4]], dtype=tf.float16)\n",
        "another_matrix"
      ],
      "metadata": {
        "colab": {
          "base_uri": "https://localhost:8080/"
        },
        "id": "_C5Z7PWsF-du",
        "outputId": "7e36ec6f-a6e0-420f-cbbb-64ce225ae12d"
      },
      "execution_count": 10,
      "outputs": [
        {
          "output_type": "execute_result",
          "data": {
            "text/plain": [
              "<tf.Tensor: shape=(2, 2), dtype=float16, numpy=\n",
              "array([[1., 2.],\n",
              "       [3., 4.]], dtype=float16)>"
            ]
          },
          "metadata": {},
          "execution_count": 10
        }
      ]
    },
    {
      "cell_type": "code",
      "source": [
        "# tensor rank 2\n",
        "another_matrix.ndim"
      ],
      "metadata": {
        "colab": {
          "base_uri": "https://localhost:8080/"
        },
        "id": "p9m6jZ3tG08S",
        "outputId": "13ce672a-4d91-42a4-9f80-a21278512430"
      },
      "execution_count": 11,
      "outputs": [
        {
          "output_type": "execute_result",
          "data": {
            "text/plain": [
              "2"
            ]
          },
          "metadata": {},
          "execution_count": 11
        }
      ]
    },
    {
      "cell_type": "code",
      "source": [
        "# tensor rank -3\n",
        "tensor = tf.constant([[[1,2],[3,4]],\n",
        "                      [[3,4],[4,5]],\n",
        "                      [[4,5],[5,6]]])\n",
        "tensor"
      ],
      "metadata": {
        "colab": {
          "base_uri": "https://localhost:8080/"
        },
        "id": "_NwGvAOyHFoe",
        "outputId": "dbcf47f3-9108-4048-f4ab-bbb4a4b161cb"
      },
      "execution_count": 12,
      "outputs": [
        {
          "output_type": "execute_result",
          "data": {
            "text/plain": [
              "<tf.Tensor: shape=(3, 2, 2), dtype=int32, numpy=\n",
              "array([[[1, 2],\n",
              "        [3, 4]],\n",
              "\n",
              "       [[3, 4],\n",
              "        [4, 5]],\n",
              "\n",
              "       [[4, 5],\n",
              "        [5, 6]]], dtype=int32)>"
            ]
          },
          "metadata": {},
          "execution_count": 12
        }
      ]
    },
    {
      "cell_type": "code",
      "source": [
        "tensor.ndim"
      ],
      "metadata": {
        "colab": {
          "base_uri": "https://localhost:8080/"
        },
        "id": "MM9V9w_mHm0Y",
        "outputId": "6727df2a-711c-4e2b-91b6-8d6c6a151609"
      },
      "execution_count": 13,
      "outputs": [
        {
          "output_type": "execute_result",
          "data": {
            "text/plain": [
              "3"
            ]
          },
          "metadata": {},
          "execution_count": 13
        }
      ]
    },
    {
      "cell_type": "code",
      "source": [
        "tensor2 = tf.constant([[\n",
        "                      [[1,2],[3,4]],\n",
        "                      [[3,4],[4,5]],\n",
        "                      [[4,5],[5,6]]],\n",
        "                      [[[1,2],[3,4]],\n",
        "                      [[3,4],[4,5]],\n",
        "                      [[4,5],[5,6]]]])\n",
        "tensor2"
      ],
      "metadata": {
        "id": "jmWl-vegIiNi",
        "colab": {
          "base_uri": "https://localhost:8080/"
        },
        "outputId": "cad44fd5-4067-480d-95fe-c772ec3a2fc0"
      },
      "execution_count": 14,
      "outputs": [
        {
          "output_type": "execute_result",
          "data": {
            "text/plain": [
              "<tf.Tensor: shape=(2, 3, 2, 2), dtype=int32, numpy=\n",
              "array([[[[1, 2],\n",
              "         [3, 4]],\n",
              "\n",
              "        [[3, 4],\n",
              "         [4, 5]],\n",
              "\n",
              "        [[4, 5],\n",
              "         [5, 6]]],\n",
              "\n",
              "\n",
              "       [[[1, 2],\n",
              "         [3, 4]],\n",
              "\n",
              "        [[3, 4],\n",
              "         [4, 5]],\n",
              "\n",
              "        [[4, 5],\n",
              "         [5, 6]]]], dtype=int32)>"
            ]
          },
          "metadata": {},
          "execution_count": 14
        }
      ]
    },
    {
      "cell_type": "code",
      "source": [
        "tensor2.ndim"
      ],
      "metadata": {
        "colab": {
          "base_uri": "https://localhost:8080/"
        },
        "id": "mVXTTv4g7og-",
        "outputId": "f73f9a99-81df-4e6c-b9df-8f780cd63c1b"
      },
      "execution_count": 15,
      "outputs": [
        {
          "output_type": "execute_result",
          "data": {
            "text/plain": [
              "4"
            ]
          },
          "metadata": {},
          "execution_count": 15
        }
      ]
    },
    {
      "cell_type": "markdown",
      "source": [
        "\n",
        "\n",
        " &emsp;&emsp; **Tensors**  &emsp;&&emsp;&emsp; **Rank**\n",
        "\n",
        "*   scalar &emsp;&emsp;&emsp; ----->    Rank 0 tensor\n",
        "*   vector &emsp;&emsp;&emsp; ----->    Rank 1 tensor\n",
        "*   matrix &emsp;&emsp;&emsp; ----->    Rank 2 tensor\n",
        "*   another_matrix----->    Rank 2 tensor\n",
        "*   tensor&emsp;&emsp;&emsp;        ----->    Rank 3 tenosr\n",
        "*   tenosr2  &emsp;&emsp;&emsp;     ----->    Rank 4 tenosr\n"
      ],
      "metadata": {
        "id": "9hF49a3D7sfB"
      }
    },
    {
      "cell_type": "markdown",
      "source": [
        "### *`tf.Variable`*"
      ],
      "metadata": {
        "id": "_fF2-d7kBD2b"
      }
    },
    {
      "cell_type": "code",
      "source": [
        "tf.Variable"
      ],
      "metadata": {
        "colab": {
          "base_uri": "https://localhost:8080/"
        },
        "id": "Qtw4g8SYAY0k",
        "outputId": "f41b9f4e-1f3b-45c7-cc0a-1b152a08b696"
      },
      "execution_count": 16,
      "outputs": [
        {
          "output_type": "execute_result",
          "data": {
            "text/plain": [
              "tensorflow.python.ops.variables.Variable"
            ]
          },
          "metadata": {},
          "execution_count": 16
        }
      ]
    },
    {
      "cell_type": "code",
      "source": [
        "variable_tensor= tf.Variable([7,10])\n",
        "constant_tensor = tf.constant([7,10])\n",
        "variable_tensor,constant_tensor"
      ],
      "metadata": {
        "id": "nIksxxlmA0hN",
        "colab": {
          "base_uri": "https://localhost:8080/"
        },
        "outputId": "ab447d5e-3ec8-4189-af6d-0b3cadc5274a"
      },
      "execution_count": 17,
      "outputs": [
        {
          "output_type": "execute_result",
          "data": {
            "text/plain": [
              "(<tf.Variable 'Variable:0' shape=(2,) dtype=int32, numpy=array([ 7, 10], dtype=int32)>,\n",
              " <tf.Tensor: shape=(2,), dtype=int32, numpy=array([ 7, 10], dtype=int32)>)"
            ]
          },
          "metadata": {},
          "execution_count": 17
        }
      ]
    },
    {
      "cell_type": "code",
      "source": [
        "# changing the value in tensor\n",
        "variable_tensor[1].assign(7)\n",
        "variable_tensor"
      ],
      "metadata": {
        "colab": {
          "base_uri": "https://localhost:8080/"
        },
        "id": "J3lg4hk3xZn7",
        "outputId": "161972a2-3c83-46c8-e0f6-0653f85b950e"
      },
      "execution_count": 18,
      "outputs": [
        {
          "output_type": "execute_result",
          "data": {
            "text/plain": [
              "<tf.Variable 'Variable:0' shape=(2,) dtype=int32, numpy=array([7, 7], dtype=int32)>"
            ]
          },
          "metadata": {},
          "execution_count": 18
        }
      ]
    },
    {
      "cell_type": "code",
      "source": [
        "#changing the value in constant_tensor\n",
        "constant_tensor[1].assign(7)"
      ],
      "metadata": {
        "colab": {
          "base_uri": "https://localhost:8080/",
          "height": 314
        },
        "id": "oNjpfDu-xtwf",
        "outputId": "4c37fb02-883c-4c90-e979-4d5c092fdbf1"
      },
      "execution_count": 19,
      "outputs": [
        {
          "output_type": "error",
          "ename": "AttributeError",
          "evalue": "ignored",
          "traceback": [
            "\u001b[0;31m---------------------------------------------------------------------------\u001b[0m",
            "\u001b[0;31mAttributeError\u001b[0m                            Traceback (most recent call last)",
            "\u001b[0;32m<ipython-input-19-dc34df3c5e59>\u001b[0m in \u001b[0;36m<cell line: 2>\u001b[0;34m()\u001b[0m\n\u001b[1;32m      1\u001b[0m \u001b[0;31m#changing the value in constant_tensor\u001b[0m\u001b[0;34m\u001b[0m\u001b[0;34m\u001b[0m\u001b[0m\n\u001b[0;32m----> 2\u001b[0;31m \u001b[0mconstant_tensor\u001b[0m\u001b[0;34m[\u001b[0m\u001b[0;36m1\u001b[0m\u001b[0;34m]\u001b[0m\u001b[0;34m.\u001b[0m\u001b[0massign\u001b[0m\u001b[0;34m(\u001b[0m\u001b[0;36m7\u001b[0m\u001b[0;34m)\u001b[0m\u001b[0;34m\u001b[0m\u001b[0;34m\u001b[0m\u001b[0m\n\u001b[0m",
            "\u001b[0;32m/usr/local/lib/python3.10/dist-packages/tensorflow/python/framework/ops.py\u001b[0m in \u001b[0;36m__getattr__\u001b[0;34m(self, name)\u001b[0m\n\u001b[1;32m    441\u001b[0m         \u001b[0mnp_config\u001b[0m\u001b[0;34m.\u001b[0m\u001b[0menable_numpy_behavior\u001b[0m\u001b[0;34m(\u001b[0m\u001b[0;34m)\u001b[0m\u001b[0;34m\u001b[0m\u001b[0;34m\u001b[0m\u001b[0m\n\u001b[1;32m    442\u001b[0m       \"\"\")\n\u001b[0;32m--> 443\u001b[0;31m     \u001b[0mself\u001b[0m\u001b[0;34m.\u001b[0m\u001b[0m__getattribute__\u001b[0m\u001b[0;34m(\u001b[0m\u001b[0mname\u001b[0m\u001b[0;34m)\u001b[0m\u001b[0;34m\u001b[0m\u001b[0;34m\u001b[0m\u001b[0m\n\u001b[0m\u001b[1;32m    444\u001b[0m \u001b[0;34m\u001b[0m\u001b[0m\n\u001b[1;32m    445\u001b[0m   \u001b[0;34m@\u001b[0m\u001b[0mstaticmethod\u001b[0m\u001b[0;34m\u001b[0m\u001b[0;34m\u001b[0m\u001b[0m\n",
            "\u001b[0;31mAttributeError\u001b[0m: 'tensorflow.python.framework.ops.EagerTensor' object has no attribute 'assign'"
          ]
        }
      ]
    },
    {
      "cell_type": "code",
      "source": [
        "constant_tensor[1]=7"
      ],
      "metadata": {
        "colab": {
          "base_uri": "https://localhost:8080/",
          "height": 175
        },
        "id": "WI1XaBjdyZij",
        "outputId": "691b69c7-b46c-4e7d-db5b-bd82e8ffa2d1"
      },
      "execution_count": 20,
      "outputs": [
        {
          "output_type": "error",
          "ename": "TypeError",
          "evalue": "ignored",
          "traceback": [
            "\u001b[0;31m---------------------------------------------------------------------------\u001b[0m",
            "\u001b[0;31mTypeError\u001b[0m                                 Traceback (most recent call last)",
            "\u001b[0;32m<ipython-input-20-833ecf251a3e>\u001b[0m in \u001b[0;36m<cell line: 1>\u001b[0;34m()\u001b[0m\n\u001b[0;32m----> 1\u001b[0;31m \u001b[0mconstant_tensor\u001b[0m\u001b[0;34m[\u001b[0m\u001b[0;36m1\u001b[0m\u001b[0;34m]\u001b[0m\u001b[0;34m=\u001b[0m\u001b[0;36m7\u001b[0m\u001b[0;34m\u001b[0m\u001b[0;34m\u001b[0m\u001b[0m\n\u001b[0m",
            "\u001b[0;31mTypeError\u001b[0m: 'tensorflow.python.framework.ops.EagerTensor' object does not support item assignment"
          ]
        }
      ]
    },
    {
      "cell_type": "markdown",
      "source": [
        "\n",
        "```\n",
        "All eager tf.Tensor values are immutable (in contrast to tf.Variable).\n",
        "```"
      ],
      "metadata": {
        "id": "XlrIsdKly8w6"
      }
    },
    {
      "cell_type": "markdown",
      "source": [
        "### *`tf.ones`*\n",
        "> Creates a tensor with all elements set to one (1)."
      ],
      "metadata": {
        "id": "QSRiaok1KUdO"
      }
    },
    {
      "cell_type": "code",
      "source": [
        "one = tf.ones(shape=(3,2,2))\n",
        "one"
      ],
      "metadata": {
        "colab": {
          "base_uri": "https://localhost:8080/"
        },
        "id": "uLTCXgywK4wm",
        "outputId": "a572d890-edde-4802-d4f8-e7f807cf10f2"
      },
      "execution_count": 21,
      "outputs": [
        {
          "output_type": "execute_result",
          "data": {
            "text/plain": [
              "<tf.Tensor: shape=(3, 2, 2), dtype=float32, numpy=\n",
              "array([[[1., 1.],\n",
              "        [1., 1.]],\n",
              "\n",
              "       [[1., 1.],\n",
              "        [1., 1.]],\n",
              "\n",
              "       [[1., 1.],\n",
              "        [1., 1.]]], dtype=float32)>"
            ]
          },
          "metadata": {},
          "execution_count": 21
        }
      ]
    },
    {
      "cell_type": "markdown",
      "source": [
        "### *`tf.zeros`*\n",
        "> Creates a tensor with all elements set to zero."
      ],
      "metadata": {
        "id": "o-t0z2xVLJ44"
      }
    },
    {
      "cell_type": "code",
      "source": [
        "zeros = tf.zeros(shape=(2,3,4))\n",
        "zeros"
      ],
      "metadata": {
        "colab": {
          "base_uri": "https://localhost:8080/"
        },
        "id": "iYO-f1azLXfH",
        "outputId": "c9e401ad-97a9-460c-9c80-86d92741d2e4"
      },
      "execution_count": 22,
      "outputs": [
        {
          "output_type": "execute_result",
          "data": {
            "text/plain": [
              "<tf.Tensor: shape=(2, 3, 4), dtype=float32, numpy=\n",
              "array([[[0., 0., 0., 0.],\n",
              "        [0., 0., 0., 0.],\n",
              "        [0., 0., 0., 0.]],\n",
              "\n",
              "       [[0., 0., 0., 0.],\n",
              "        [0., 0., 0., 0.],\n",
              "        [0., 0., 0., 0.]]], dtype=float32)>"
            ]
          },
          "metadata": {},
          "execution_count": 22
        }
      ]
    },
    {
      "cell_type": "markdown",
      "source": [
        "### **Random Tensors**"
      ],
      "metadata": {
        "id": "Q7FbpNnJzjF5"
      }
    },
    {
      "cell_type": "markdown",
      "source": [
        "#### *`tf.random.Generator`*\n",
        "Random-number generator"
      ],
      "metadata": {
        "id": "G-Q3IUkd53Y-"
      }
    },
    {
      "cell_type": "code",
      "source": [
        "#create 2 random tensors (equal) , setting seed for reproducabilty\n",
        "ran_1 = tf.random.Generator.from_seed(seed=42)\n",
        "ran_2 = tf.random.Generator.from_seed(seed=42)"
      ],
      "metadata": {
        "id": "4jhpsLmgzrLr"
      },
      "execution_count": 23,
      "outputs": []
    },
    {
      "cell_type": "markdown",
      "source": [
        "#### *`tf.random.normal`*\n",
        "Outputs random values from a normal distribution."
      ],
      "metadata": {
        "id": "6fWmC0Xt0bFY"
      }
    },
    {
      "cell_type": "code",
      "source": [
        "random_1 = ran_1.normal(shape=(3,2))\n",
        "random_2 = ran_2.normal(shape=(3,2))\n",
        "random_1,random_2"
      ],
      "metadata": {
        "colab": {
          "base_uri": "https://localhost:8080/"
        },
        "id": "bIwn-M3g0kMK",
        "outputId": "284e4c98-b855-46d7-9afd-85a159a831b1"
      },
      "execution_count": 24,
      "outputs": [
        {
          "output_type": "execute_result",
          "data": {
            "text/plain": [
              "(<tf.Tensor: shape=(3, 2), dtype=float32, numpy=\n",
              " array([[-0.7565803 , -0.06854702],\n",
              "        [ 0.07595026, -1.2573844 ],\n",
              "        [-0.23193763, -1.8107855 ]], dtype=float32)>,\n",
              " <tf.Tensor: shape=(3, 2), dtype=float32, numpy=\n",
              " array([[-0.7565803 , -0.06854702],\n",
              "        [ 0.07595026, -1.2573844 ],\n",
              "        [-0.23193763, -1.8107855 ]], dtype=float32)>)"
            ]
          },
          "metadata": {},
          "execution_count": 24
        }
      ]
    },
    {
      "cell_type": "markdown",
      "source": [
        "#### *`tf.random.uniform`*\n",
        "Outputs random values from a uniform distribution.\n"
      ],
      "metadata": {
        "id": "ieTx5aAV1sUc"
      }
    },
    {
      "cell_type": "code",
      "source": [
        "random_3 = ran_1.uniform(shape=(3,2))\n",
        "random_4 = ran_2.uniform(shape=(3,2))\n",
        "random_3,random_4"
      ],
      "metadata": {
        "colab": {
          "base_uri": "https://localhost:8080/"
        },
        "id": "a4Kzh7m62DP_",
        "outputId": "6ad3c1ef-eafe-404e-e1b0-6a8d9393932b"
      },
      "execution_count": 25,
      "outputs": [
        {
          "output_type": "execute_result",
          "data": {
            "text/plain": [
              "(<tf.Tensor: shape=(3, 2), dtype=float32, numpy=\n",
              " array([[0.7647915 , 0.03845465],\n",
              "        [0.8506975 , 0.20781887],\n",
              "        [0.711869  , 0.8843919 ]], dtype=float32)>,\n",
              " <tf.Tensor: shape=(3, 2), dtype=float32, numpy=\n",
              " array([[0.7647915 , 0.03845465],\n",
              "        [0.8506975 , 0.20781887],\n",
              "        [0.711869  , 0.8843919 ]], dtype=float32)>)"
            ]
          },
          "metadata": {},
          "execution_count": 25
        }
      ]
    },
    {
      "cell_type": "code",
      "source": [
        "'''\n",
        "random_5 has diiferent value even though we have set the same seed or if we\n",
        "re-run, we will get the different output\n",
        "'''\n",
        "#because it is operation-level seed.\n",
        "random_5 = tf.random.uniform(shape=(3,2),seed=42)\n",
        "random_5"
      ],
      "metadata": {
        "colab": {
          "base_uri": "https://localhost:8080/"
        },
        "id": "0tu9-6DZ2stS",
        "outputId": "dd7c1f13-c53c-43d4-b562-0caa79beeb08"
      },
      "execution_count": 26,
      "outputs": [
        {
          "output_type": "execute_result",
          "data": {
            "text/plain": [
              "<tf.Tensor: shape=(3, 2), dtype=float32, numpy=\n",
              "array([[0.95227146, 0.67740774],\n",
              "       [0.79531825, 0.75578177],\n",
              "       [0.4759556 , 0.6310148 ]], dtype=float32)>"
            ]
          },
          "metadata": {},
          "execution_count": 26
        }
      ]
    },
    {
      "cell_type": "markdown",
      "source": [
        "### **`tf.random.set_seed`**\n",
        "> Operations that rely on a random seed actually derive it from two seeds: the global and operation-level seeds. This sets the global seed.\n",
        "\n",
        "\n",
        "```\n",
        "#operational-level seed\n",
        "random_5 = tf.random.uniform(shape=(3,2),seed=7)\n",
        "```\n",
        "\n",
        "\n",
        "```\n",
        "# global level seed\n",
        "tf.random.set_seed(1234)\n",
        "```\n",
        "\n",
        "\n"
      ],
      "metadata": {
        "id": "wF4Ag6ej6NEc"
      }
    },
    {
      "cell_type": "markdown",
      "source": [
        "- If the global seed is set but the operation seed is not set, we get different results for every call to the random op, but the same sequence for every re-run of the program:"
      ],
      "metadata": {
        "id": "C7Fz5KJ48gsg"
      }
    },
    {
      "cell_type": "code",
      "source": [
        "# gloabl seed\n",
        "tf.random.set_seed(42)\n",
        "random_6 = tf.random.uniform(shape=(3,2))\n",
        "random_7 = tf.random.uniform(shape=(3,2))\n",
        "random_6,random_7"
      ],
      "metadata": {
        "colab": {
          "base_uri": "https://localhost:8080/"
        },
        "id": "wg0TgDBe6sV1",
        "outputId": "e9458968-27f4-48cc-d69a-5f2991e4ab02"
      },
      "execution_count": 27,
      "outputs": [
        {
          "output_type": "execute_result",
          "data": {
            "text/plain": [
              "(<tf.Tensor: shape=(3, 2), dtype=float32, numpy=\n",
              " array([[0.6645621 , 0.44100678],\n",
              "        [0.3528825 , 0.46448255],\n",
              "        [0.03366041, 0.68467236]], dtype=float32)>,\n",
              " <tf.Tensor: shape=(3, 2), dtype=float32, numpy=\n",
              " array([[0.68789124, 0.48447883],\n",
              "        [0.9309944 , 0.252187  ],\n",
              "        [0.73115396, 0.89256823]], dtype=float32)>)"
            ]
          },
          "metadata": {},
          "execution_count": 27
        }
      ]
    },
    {
      "cell_type": "markdown",
      "source": [
        "- If the operation seed is set, we get different results for\n",
        "every call to the random op, but the same sequence for every re-run of the program:"
      ],
      "metadata": {
        "id": "rfpxyzUv-3HQ"
      }
    },
    {
      "cell_type": "code",
      "source": [
        "random_6 = tf.random.uniform(shape=(3,2),seed=1)\n",
        "random_7 = tf.random.uniform(shape=(3,2),seed=1)\n",
        "random_6,random_7"
      ],
      "metadata": {
        "colab": {
          "base_uri": "https://localhost:8080/"
        },
        "id": "m2Gmcugt-i8A",
        "outputId": "60ceb4c6-e851-4245-d2d6-f7ab7f77063c"
      },
      "execution_count": 28,
      "outputs": [
        {
          "output_type": "execute_result",
          "data": {
            "text/plain": [
              "(<tf.Tensor: shape=(3, 2), dtype=float32, numpy=\n",
              " array([[0.15012848, 0.63992536],\n",
              "        [0.81787777, 0.34572172],\n",
              "        [0.99661934, 0.64152765]], dtype=float32)>,\n",
              " <tf.Tensor: shape=(3, 2), dtype=float32, numpy=\n",
              " array([[0.01177216, 0.02529657],\n",
              "        [0.06012475, 0.5448892 ],\n",
              "        [0.3730942 , 0.6073855 ]], dtype=float32)>)"
            ]
          },
          "metadata": {},
          "execution_count": 28
        }
      ]
    },
    {
      "cell_type": "markdown",
      "source": [
        "Differnt output on the second call of `tf.random.uniform` above is because the same tf.random.uniform kernel (i.e. internal representation) is used by TensorFlow for all calls of it with the same arguments, and the kernel maintains an internal counter which is incremented every time it is executed, generating different results."
      ],
      "metadata": {
        "id": "upz7p83H-9c0"
      }
    },
    {
      "cell_type": "markdown",
      "source": [
        "Calling `tf.random.set_seed` will reset any such counters:"
      ],
      "metadata": {
        "id": "6O59J1UN9vX-"
      }
    },
    {
      "cell_type": "code",
      "source": [
        "tf.random.set_seed(1234)\n",
        "print(tf.random.uniform([1], seed=1))  # generates 'A1'\n",
        "print(tf.random.uniform([1], seed=1))  # generates 'A2'\n",
        "tf.random.set_seed(1234)\n",
        "print(tf.random.uniform([1], seed=1))  # generates 'A1'\n",
        "print(tf.random.uniform([1], seed=1))  # generates 'A2'"
      ],
      "metadata": {
        "colab": {
          "base_uri": "https://localhost:8080/"
        },
        "id": "TXViDG4E-P20",
        "outputId": "f7b3bfac-e01b-4ed0-ddfa-06a036c2dadd"
      },
      "execution_count": 29,
      "outputs": [
        {
          "output_type": "stream",
          "name": "stdout",
          "text": [
            "tf.Tensor([0.1689806], shape=(1,), dtype=float32)\n",
            "tf.Tensor([0.7539084], shape=(1,), dtype=float32)\n",
            "tf.Tensor([0.1689806], shape=(1,), dtype=float32)\n",
            "tf.Tensor([0.7539084], shape=(1,), dtype=float32)\n"
          ]
        }
      ]
    },
    {
      "cell_type": "markdown",
      "source": [
        "### **`tf.random.shuffle`**\n",
        ">Randomly shuffles a tensor along its first dimension.\n",
        "\n",
        "\n"
      ],
      "metadata": {
        "id": "AMnLTVLtBGLd"
      }
    },
    {
      "cell_type": "code",
      "source": [
        "# Shuffle the tensor ( valuable when you want to shuffle the data so inherent doesn't affect learning)\n",
        "not_shuffled = tf.constant([[1,2],\n",
        "                            [3,4],\n",
        "                            [4,5]])\n",
        "not_shuffled"
      ],
      "metadata": {
        "colab": {
          "base_uri": "https://localhost:8080/"
        },
        "id": "yCORpl63CJ6m",
        "outputId": "929f4814-4186-4ada-ed63-ef4354587211"
      },
      "execution_count": 30,
      "outputs": [
        {
          "output_type": "execute_result",
          "data": {
            "text/plain": [
              "<tf.Tensor: shape=(3, 2), dtype=int32, numpy=\n",
              "array([[1, 2],\n",
              "       [3, 4],\n",
              "       [4, 5]], dtype=int32)>"
            ]
          },
          "metadata": {},
          "execution_count": 30
        }
      ]
    },
    {
      "cell_type": "code",
      "source": [
        "tf.random.shuffle(not_shuffled)"
      ],
      "metadata": {
        "colab": {
          "base_uri": "https://localhost:8080/"
        },
        "id": "4K7qiCoQC7cc",
        "outputId": "632e4fc3-a887-4de7-d802-7e0da7710bae"
      },
      "execution_count": 31,
      "outputs": [
        {
          "output_type": "execute_result",
          "data": {
            "text/plain": [
              "<tf.Tensor: shape=(3, 2), dtype=int32, numpy=\n",
              "array([[4, 5],\n",
              "       [1, 2],\n",
              "       [3, 4]], dtype=int32)>"
            ]
          },
          "metadata": {},
          "execution_count": 31
        }
      ]
    },
    {
      "cell_type": "code",
      "source": [
        "# for reprducability\n",
        "tf.random.set_seed(7)\n",
        "tf.random.shuffle(not_shuffled,seed=10)"
      ],
      "metadata": {
        "colab": {
          "base_uri": "https://localhost:8080/"
        },
        "id": "nWqBEI2YDjV0",
        "outputId": "e0eea030-ba00-4110-edef-c39cf9a798f1"
      },
      "execution_count": 32,
      "outputs": [
        {
          "output_type": "execute_result",
          "data": {
            "text/plain": [
              "<tf.Tensor: shape=(3, 2), dtype=int32, numpy=\n",
              "array([[4, 5],\n",
              "       [1, 2],\n",
              "       [3, 4]], dtype=int32)>"
            ]
          },
          "metadata": {},
          "execution_count": 32
        }
      ]
    },
    {
      "cell_type": "markdown",
      "source": [
        "### **Tensors from NumPy arrays**"
      ],
      "metadata": {
        "id": "k3IEq5R3DwvQ"
      }
    },
    {
      "cell_type": "code",
      "source": [
        "import numpy as np\n",
        "numpy_A= np.arange(0,24)\n",
        "numpy_A"
      ],
      "metadata": {
        "colab": {
          "base_uri": "https://localhost:8080/"
        },
        "id": "TkpsXezoMHjI",
        "outputId": "817e7a86-4d99-4735-fff1-9b4652126465"
      },
      "execution_count": 33,
      "outputs": [
        {
          "output_type": "execute_result",
          "data": {
            "text/plain": [
              "array([ 0,  1,  2,  3,  4,  5,  6,  7,  8,  9, 10, 11, 12, 13, 14, 15, 16,\n",
              "       17, 18, 19, 20, 21, 22, 23])"
            ]
          },
          "metadata": {},
          "execution_count": 33
        }
      ]
    },
    {
      "cell_type": "code",
      "source": [
        "c = tf.constant(numpy_A,shape=(2,3,4))\n",
        "c"
      ],
      "metadata": {
        "colab": {
          "base_uri": "https://localhost:8080/"
        },
        "id": "DGu4d3cAMjFp",
        "outputId": "6474aa7a-88e6-4e69-e708-0807e18d3b5e"
      },
      "execution_count": 34,
      "outputs": [
        {
          "output_type": "execute_result",
          "data": {
            "text/plain": [
              "<tf.Tensor: shape=(2, 3, 4), dtype=int64, numpy=\n",
              "array([[[ 0,  1,  2,  3],\n",
              "        [ 4,  5,  6,  7],\n",
              "        [ 8,  9, 10, 11]],\n",
              "\n",
              "       [[12, 13, 14, 15],\n",
              "        [16, 17, 18, 19],\n",
              "        [20, 21, 22, 23]]])>"
            ]
          },
          "metadata": {},
          "execution_count": 34
        }
      ]
    },
    {
      "cell_type": "markdown",
      "source": [
        "## *Tensor Attributes*\n",
        "\n",
        "> getting information from tensors\n",
        "- Shape\n",
        "- Rank\n",
        "- Axis or dimension\n",
        "- Size\n"
      ],
      "metadata": {
        "id": "wulydZsx7oaf"
      }
    },
    {
      "cell_type": "code",
      "source": [
        "tf.random.set_seed(42)\n",
        "t = tf.random.uniform(shape=(2,3,4,5),maxval=200,seed=42,dtype=tf.int32)\n",
        "t"
      ],
      "metadata": {
        "id": "wNCY8pnA8HvZ",
        "colab": {
          "base_uri": "https://localhost:8080/"
        },
        "outputId": "1c7aa54c-cb7a-42d5-eb69-9d576571e497"
      },
      "execution_count": 35,
      "outputs": [
        {
          "output_type": "execute_result",
          "data": {
            "text/plain": [
              "<tf.Tensor: shape=(2, 3, 4, 5), dtype=int32, numpy=\n",
              "array([[[[ 33, 138, 130, 174, 108],\n",
              "         [141, 153,  73,  42,   5],\n",
              "         [176, 144,  93, 167,   6],\n",
              "         [166,  42,  43, 191,  18]],\n",
              "\n",
              "        [[ 46, 190,  14, 176,  91],\n",
              "         [ 91, 146, 169,  72,  85],\n",
              "         [100, 154, 174,  78, 168],\n",
              "         [134, 164, 141, 150, 171]],\n",
              "\n",
              "        [[ 87, 116, 100, 166, 197],\n",
              "         [150, 167,  12, 156, 142],\n",
              "         [111, 165, 129,  79, 199],\n",
              "         [ 66,  14,  81, 159, 144]]],\n",
              "\n",
              "\n",
              "       [[[161,   4,  12,  43,  53],\n",
              "         [  6,  89,  35,  40,  18],\n",
              "         [187,  74, 102, 198, 102],\n",
              "         [ 16, 173,  26, 155, 162]],\n",
              "\n",
              "        [[150, 164, 107,  38, 154],\n",
              "         [124,  16, 199, 106,   4],\n",
              "         [ 94,   8, 151, 132, 175],\n",
              "         [ 19,  17,  34, 180, 198]],\n",
              "\n",
              "        [[183, 185, 141,  83,  41],\n",
              "         [147,  98, 133,  49, 193],\n",
              "         [118,  68, 168,  15,  41],\n",
              "         [154, 130,  10, 138,  57]]]], dtype=int32)>"
            ]
          },
          "metadata": {},
          "execution_count": 35
        }
      ]
    },
    {
      "cell_type": "code",
      "source": [
        "t[1][2][3][4]"
      ],
      "metadata": {
        "colab": {
          "base_uri": "https://localhost:8080/"
        },
        "id": "qyaj458y6_sG",
        "outputId": "b1ed3f68-7626-44a4-e787-65f29c73c5f7"
      },
      "execution_count": 36,
      "outputs": [
        {
          "output_type": "execute_result",
          "data": {
            "text/plain": [
              "<tf.Tensor: shape=(), dtype=int32, numpy=57>"
            ]
          },
          "metadata": {},
          "execution_count": 36
        }
      ]
    },
    {
      "cell_type": "code",
      "source": [
        "# shape of tensor\n",
        "t.shape"
      ],
      "metadata": {
        "colab": {
          "base_uri": "https://localhost:8080/"
        },
        "id": "yRYupzbd8D9u",
        "outputId": "cebfbd93-d404-4a42-c371-59f6368e6a33"
      },
      "execution_count": 37,
      "outputs": [
        {
          "output_type": "execute_result",
          "data": {
            "text/plain": [
              "TensorShape([2, 3, 4, 5])"
            ]
          },
          "metadata": {},
          "execution_count": 37
        }
      ]
    },
    {
      "cell_type": "code",
      "source": [
        "# rank of tensor\n",
        "t.ndim"
      ],
      "metadata": {
        "colab": {
          "base_uri": "https://localhost:8080/"
        },
        "id": "8kxhziYt8mH2",
        "outputId": "eb9770c3-dc07-4260-ea66-14c6f3de25c6"
      },
      "execution_count": 38,
      "outputs": [
        {
          "output_type": "execute_result",
          "data": {
            "text/plain": [
              "4"
            ]
          },
          "metadata": {},
          "execution_count": 38
        }
      ]
    },
    {
      "cell_type": "code",
      "source": [
        "# size of elements\n",
        "tf.size(t)"
      ],
      "metadata": {
        "colab": {
          "base_uri": "https://localhost:8080/"
        },
        "id": "HcJMMAX09QqY",
        "outputId": "bfa73acf-1982-4a01-83ee-e1f1d2b80158"
      },
      "execution_count": 39,
      "outputs": [
        {
          "output_type": "execute_result",
          "data": {
            "text/plain": [
              "<tf.Tensor: shape=(), dtype=int32, numpy=120>"
            ]
          },
          "metadata": {},
          "execution_count": 39
        }
      ]
    },
    {
      "cell_type": "code",
      "source": [
        "tf.size(t).numpy()"
      ],
      "metadata": {
        "colab": {
          "base_uri": "https://localhost:8080/"
        },
        "id": "LsXWSaW9-LQ-",
        "outputId": "91473638-30bb-447b-ebc0-a505cebc6e95"
      },
      "execution_count": 40,
      "outputs": [
        {
          "output_type": "execute_result",
          "data": {
            "text/plain": [
              "120"
            ]
          },
          "metadata": {},
          "execution_count": 40
        }
      ]
    },
    {
      "cell_type": "code",
      "source": [
        "# Elements along 0 axis\n",
        "t.shape[0]"
      ],
      "metadata": {
        "colab": {
          "base_uri": "https://localhost:8080/"
        },
        "id": "oU_ybBm99fp8",
        "outputId": "20a8c902-c0aa-4015-d060-876b3b7b8968"
      },
      "execution_count": 41,
      "outputs": [
        {
          "output_type": "execute_result",
          "data": {
            "text/plain": [
              "2"
            ]
          },
          "metadata": {},
          "execution_count": 41
        }
      ]
    },
    {
      "cell_type": "code",
      "source": [
        "# last axis\n",
        "t.shape[-1]"
      ],
      "metadata": {
        "colab": {
          "base_uri": "https://localhost:8080/"
        },
        "id": "JwB-hfjC9pLO",
        "outputId": "18d4d24a-2140-44b8-ba21-4cebb4c4490b"
      },
      "execution_count": 42,
      "outputs": [
        {
          "output_type": "execute_result",
          "data": {
            "text/plain": [
              "5"
            ]
          },
          "metadata": {},
          "execution_count": 42
        }
      ]
    },
    {
      "cell_type": "code",
      "source": [
        "# dtype\n",
        "t.dtype"
      ],
      "metadata": {
        "colab": {
          "base_uri": "https://localhost:8080/"
        },
        "id": "5osIvRpw9Sw6",
        "outputId": "6653056c-a8b0-411b-9843-36439ddfa60e"
      },
      "execution_count": 43,
      "outputs": [
        {
          "output_type": "execute_result",
          "data": {
            "text/plain": [
              "tf.int32"
            ]
          },
          "metadata": {},
          "execution_count": 43
        }
      ]
    },
    {
      "cell_type": "markdown",
      "source": [
        "## **Indexing Tensors**"
      ],
      "metadata": {
        "id": "OSoh027I-WhZ"
      }
    },
    {
      "cell_type": "code",
      "source": [
        "t"
      ],
      "metadata": {
        "colab": {
          "base_uri": "https://localhost:8080/"
        },
        "id": "3ypDWiTQAkLl",
        "outputId": "e8e09cd5-ccfe-4581-85f8-324be43c2042"
      },
      "execution_count": 44,
      "outputs": [
        {
          "output_type": "execute_result",
          "data": {
            "text/plain": [
              "<tf.Tensor: shape=(2, 3, 4, 5), dtype=int32, numpy=\n",
              "array([[[[ 33, 138, 130, 174, 108],\n",
              "         [141, 153,  73,  42,   5],\n",
              "         [176, 144,  93, 167,   6],\n",
              "         [166,  42,  43, 191,  18]],\n",
              "\n",
              "        [[ 46, 190,  14, 176,  91],\n",
              "         [ 91, 146, 169,  72,  85],\n",
              "         [100, 154, 174,  78, 168],\n",
              "         [134, 164, 141, 150, 171]],\n",
              "\n",
              "        [[ 87, 116, 100, 166, 197],\n",
              "         [150, 167,  12, 156, 142],\n",
              "         [111, 165, 129,  79, 199],\n",
              "         [ 66,  14,  81, 159, 144]]],\n",
              "\n",
              "\n",
              "       [[[161,   4,  12,  43,  53],\n",
              "         [  6,  89,  35,  40,  18],\n",
              "         [187,  74, 102, 198, 102],\n",
              "         [ 16, 173,  26, 155, 162]],\n",
              "\n",
              "        [[150, 164, 107,  38, 154],\n",
              "         [124,  16, 199, 106,   4],\n",
              "         [ 94,   8, 151, 132, 175],\n",
              "         [ 19,  17,  34, 180, 198]],\n",
              "\n",
              "        [[183, 185, 141,  83,  41],\n",
              "         [147,  98, 133,  49, 193],\n",
              "         [118,  68, 168,  15,  41],\n",
              "         [154, 130,  10, 138,  57]]]], dtype=int32)>"
            ]
          },
          "metadata": {},
          "execution_count": 44
        }
      ]
    },
    {
      "cell_type": "markdown",
      "source": [
        "Get the first element"
      ],
      "metadata": {
        "id": "TCMZXW2FL7vU"
      }
    },
    {
      "cell_type": "code",
      "source": [
        "t[0,0,0,0],t[0][0][0][0]"
      ],
      "metadata": {
        "colab": {
          "base_uri": "https://localhost:8080/"
        },
        "id": "BKSamD-wMCaK",
        "outputId": "c94d04a7-6e14-4172-def5-f48db50c5b4c"
      },
      "execution_count": 45,
      "outputs": [
        {
          "output_type": "execute_result",
          "data": {
            "text/plain": [
              "(<tf.Tensor: shape=(), dtype=int32, numpy=33>,\n",
              " <tf.Tensor: shape=(), dtype=int32, numpy=33>)"
            ]
          },
          "metadata": {},
          "execution_count": 45
        }
      ]
    },
    {
      "cell_type": "markdown",
      "source": [
        " Get the last element"
      ],
      "metadata": {
        "id": "t9d-My_lMSaT"
      }
    },
    {
      "cell_type": "code",
      "source": [
        "t[-1,-1,-1,-1],t[-1,-1,-1,-1]"
      ],
      "metadata": {
        "colab": {
          "base_uri": "https://localhost:8080/"
        },
        "id": "UC9moM9LMddu",
        "outputId": "3ce5671f-ee3c-4310-9293-055dfb05b926"
      },
      "execution_count": 46,
      "outputs": [
        {
          "output_type": "execute_result",
          "data": {
            "text/plain": [
              "(<tf.Tensor: shape=(), dtype=int32, numpy=57>,\n",
              " <tf.Tensor: shape=(), dtype=int32, numpy=57>)"
            ]
          },
          "metadata": {},
          "execution_count": 46
        }
      ]
    },
    {
      "cell_type": "markdown",
      "source": [
        "Get the first 2 elements of each dimension"
      ],
      "metadata": {
        "id": "RWBs4ZeSKCKI"
      }
    },
    {
      "cell_type": "code",
      "source": [
        "t[:2,:2,:2,:2]"
      ],
      "metadata": {
        "colab": {
          "base_uri": "https://localhost:8080/"
        },
        "id": "YfnD7eSqAnqN",
        "outputId": "85263ca0-7535-4992-b1c0-5fa69529a356"
      },
      "execution_count": 47,
      "outputs": [
        {
          "output_type": "execute_result",
          "data": {
            "text/plain": [
              "<tf.Tensor: shape=(2, 2, 2, 2), dtype=int32, numpy=\n",
              "array([[[[ 33, 138],\n",
              "         [141, 153]],\n",
              "\n",
              "        [[ 46, 190],\n",
              "         [ 91, 146]]],\n",
              "\n",
              "\n",
              "       [[[161,   4],\n",
              "         [  6,  89]],\n",
              "\n",
              "        [[150, 164],\n",
              "         [124,  16]]]], dtype=int32)>"
            ]
          },
          "metadata": {},
          "execution_count": 47
        }
      ]
    },
    {
      "cell_type": "code",
      "source": [
        "#Get the first element from each dimension from each index except for final one\n",
        "t[:1,:1,:1,:]"
      ],
      "metadata": {
        "colab": {
          "base_uri": "https://localhost:8080/"
        },
        "id": "rlN6VGrEJxrL",
        "outputId": "0702b984-637b-4507-c090-1a4e467ba147"
      },
      "execution_count": 48,
      "outputs": [
        {
          "output_type": "execute_result",
          "data": {
            "text/plain": [
              "<tf.Tensor: shape=(1, 1, 1, 5), dtype=int32, numpy=array([[[[ 33, 138, 130, 174, 108]]]], dtype=int32)>"
            ]
          },
          "metadata": {},
          "execution_count": 48
        }
      ]
    },
    {
      "cell_type": "markdown",
      "source": [
        "## **Reshaping Tensors**\n",
        "### `tf.reshape`"
      ],
      "metadata": {
        "id": "BhsV2j3VOrp-"
      }
    },
    {
      "cell_type": "code",
      "source": [
        "tf.shape(t).numpy()"
      ],
      "metadata": {
        "colab": {
          "base_uri": "https://localhost:8080/"
        },
        "id": "iS-PRiJezcjD",
        "outputId": "dff5a202-a87a-43c4-de51-7fdcd46008d2"
      },
      "execution_count": 49,
      "outputs": [
        {
          "output_type": "execute_result",
          "data": {
            "text/plain": [
              "array([2, 3, 4, 5], dtype=int32)"
            ]
          },
          "metadata": {},
          "execution_count": 49
        }
      ]
    },
    {
      "cell_type": "code",
      "source": [
        "2*3*4*5"
      ],
      "metadata": {
        "colab": {
          "base_uri": "https://localhost:8080/"
        },
        "id": "5NQLsAsEz-ab",
        "outputId": "e1743230-9a68-4167-94ee-b815289dcc4e"
      },
      "execution_count": 50,
      "outputs": [
        {
          "output_type": "execute_result",
          "data": {
            "text/plain": [
              "120"
            ]
          },
          "metadata": {},
          "execution_count": 50
        }
      ]
    },
    {
      "cell_type": "code",
      "source": [
        "tf.reshape(t,(3,2,5,4))"
      ],
      "metadata": {
        "colab": {
          "base_uri": "https://localhost:8080/"
        },
        "id": "0JfWpPgB0Set",
        "outputId": "87af8115-ec05-4b63-db0b-6bf232e16b93"
      },
      "execution_count": 51,
      "outputs": [
        {
          "output_type": "execute_result",
          "data": {
            "text/plain": [
              "<tf.Tensor: shape=(3, 2, 5, 4), dtype=int32, numpy=\n",
              "array([[[[ 33, 138, 130, 174],\n",
              "         [108, 141, 153,  73],\n",
              "         [ 42,   5, 176, 144],\n",
              "         [ 93, 167,   6, 166],\n",
              "         [ 42,  43, 191,  18]],\n",
              "\n",
              "        [[ 46, 190,  14, 176],\n",
              "         [ 91,  91, 146, 169],\n",
              "         [ 72,  85, 100, 154],\n",
              "         [174,  78, 168, 134],\n",
              "         [164, 141, 150, 171]]],\n",
              "\n",
              "\n",
              "       [[[ 87, 116, 100, 166],\n",
              "         [197, 150, 167,  12],\n",
              "         [156, 142, 111, 165],\n",
              "         [129,  79, 199,  66],\n",
              "         [ 14,  81, 159, 144]],\n",
              "\n",
              "        [[161,   4,  12,  43],\n",
              "         [ 53,   6,  89,  35],\n",
              "         [ 40,  18, 187,  74],\n",
              "         [102, 198, 102,  16],\n",
              "         [173,  26, 155, 162]]],\n",
              "\n",
              "\n",
              "       [[[150, 164, 107,  38],\n",
              "         [154, 124,  16, 199],\n",
              "         [106,   4,  94,   8],\n",
              "         [151, 132, 175,  19],\n",
              "         [ 17,  34, 180, 198]],\n",
              "\n",
              "        [[183, 185, 141,  83],\n",
              "         [ 41, 147,  98, 133],\n",
              "         [ 49, 193, 118,  68],\n",
              "         [168,  15,  41, 154],\n",
              "         [130,  10, 138,  57]]]], dtype=int32)>"
            ]
          },
          "metadata": {},
          "execution_count": 51
        }
      ]
    },
    {
      "cell_type": "markdown",
      "source": [
        "## Expanding the Tensors"
      ],
      "metadata": {
        "id": "0sDniE8y7BNF"
      }
    },
    {
      "cell_type": "code",
      "source": [
        "t_rank2= tf.constant([10,7,9,5],shape=(2,2))\n",
        "t_rank2"
      ],
      "metadata": {
        "colab": {
          "base_uri": "https://localhost:8080/"
        },
        "id": "-QlLw0Hl7DBr",
        "outputId": "2d115581-2229-4b62-c7d1-d43692af468d"
      },
      "execution_count": 52,
      "outputs": [
        {
          "output_type": "execute_result",
          "data": {
            "text/plain": [
              "<tf.Tensor: shape=(2, 2), dtype=int32, numpy=\n",
              "array([[10,  7],\n",
              "       [ 9,  5]], dtype=int32)>"
            ]
          },
          "metadata": {},
          "execution_count": 52
        }
      ]
    },
    {
      "cell_type": "markdown",
      "source": [
        "### `tf.newaxis`"
      ],
      "metadata": {
        "id": "Z-0xG7VAeVfY"
      }
    },
    {
      "cell_type": "code",
      "source": [
        "# Add in extra dimension\n",
        "#t_rank3 = t_rank2[:,:,tf.newaxis]\n",
        "t_rank3 = t_rank2[[... , tf.newaxis]]\n",
        "t_rank3"
      ],
      "metadata": {
        "colab": {
          "base_uri": "https://localhost:8080/"
        },
        "id": "MS0Tl5jGcM4e",
        "outputId": "f3fe45e8-92eb-45cf-ca0e-f8bdd5d01580"
      },
      "execution_count": 53,
      "outputs": [
        {
          "output_type": "execute_result",
          "data": {
            "text/plain": [
              "<tf.Tensor: shape=(2, 2, 1), dtype=int32, numpy=\n",
              "array([[[10],\n",
              "        [ 7]],\n",
              "\n",
              "       [[ 9],\n",
              "        [ 5]]], dtype=int32)>"
            ]
          },
          "metadata": {},
          "execution_count": 53
        }
      ]
    },
    {
      "cell_type": "code",
      "source": [
        "t_rank3 = t_rank2[tf.newaxis,:,:]\n",
        "t_rank3"
      ],
      "metadata": {
        "colab": {
          "base_uri": "https://localhost:8080/"
        },
        "id": "NbPeij3b5bXR",
        "outputId": "d30c35ab-fded-4c2c-b03c-f842291b8808"
      },
      "execution_count": 54,
      "outputs": [
        {
          "output_type": "execute_result",
          "data": {
            "text/plain": [
              "<tf.Tensor: shape=(1, 2, 2), dtype=int32, numpy=\n",
              "array([[[10,  7],\n",
              "        [ 9,  5]]], dtype=int32)>"
            ]
          },
          "metadata": {},
          "execution_count": 54
        }
      ]
    },
    {
      "cell_type": "markdown",
      "source": [
        "### `tf.expand_dims`"
      ],
      "metadata": {
        "id": "G6kZw3utdQtE"
      }
    },
    {
      "cell_type": "code",
      "source": [
        "tf.expand_dims(t_rank2,axis=-1)"
      ],
      "metadata": {
        "colab": {
          "base_uri": "https://localhost:8080/"
        },
        "id": "uo2DTliKgl99",
        "outputId": "eba96821-b37e-4c95-cced-23cb57f3b52d"
      },
      "execution_count": 55,
      "outputs": [
        {
          "output_type": "execute_result",
          "data": {
            "text/plain": [
              "<tf.Tensor: shape=(2, 2, 1), dtype=int32, numpy=\n",
              "array([[[10],\n",
              "        [ 7]],\n",
              "\n",
              "       [[ 9],\n",
              "        [ 5]]], dtype=int32)>"
            ]
          },
          "metadata": {},
          "execution_count": 55
        }
      ]
    },
    {
      "cell_type": "code",
      "source": [
        "tf.expand_dims(t_rank2,axis=0)"
      ],
      "metadata": {
        "colab": {
          "base_uri": "https://localhost:8080/"
        },
        "id": "UOsljezy5nY9",
        "outputId": "6adb4842-8b5d-49d7-e0b6-3a8f27ea25da"
      },
      "execution_count": 56,
      "outputs": [
        {
          "output_type": "execute_result",
          "data": {
            "text/plain": [
              "<tf.Tensor: shape=(1, 2, 2), dtype=int32, numpy=\n",
              "array([[[10,  7],\n",
              "        [ 9,  5]]], dtype=int32)>"
            ]
          },
          "metadata": {},
          "execution_count": 56
        }
      ]
    },
    {
      "cell_type": "markdown",
      "source": [
        "## Manipulating Tensors (Tensor Operations)"
      ],
      "metadata": {
        "id": "2QRRPo6h5tEP"
      }
    },
    {
      "cell_type": "markdown",
      "source": [
        "#### Basic Operations\n",
        "`+,-,*,/`"
      ],
      "metadata": {
        "id": "668dR4Qj51Kf"
      }
    },
    {
      "cell_type": "code",
      "source": [
        "tensor = tf.constant([10,7,1,2],shape=(2,2))\n",
        "tensor"
      ],
      "metadata": {
        "colab": {
          "base_uri": "https://localhost:8080/"
        },
        "id": "EabjddVlG5OH",
        "outputId": "1e799e25-97b6-4231-b4d1-811ef90b86e2"
      },
      "execution_count": 57,
      "outputs": [
        {
          "output_type": "execute_result",
          "data": {
            "text/plain": [
              "<tf.Tensor: shape=(2, 2), dtype=int32, numpy=\n",
              "array([[10,  7],\n",
              "       [ 1,  2]], dtype=int32)>"
            ]
          },
          "metadata": {},
          "execution_count": 57
        }
      ]
    },
    {
      "cell_type": "code",
      "source": [
        "tensor+10"
      ],
      "metadata": {
        "colab": {
          "base_uri": "https://localhost:8080/"
        },
        "id": "p9w_7rliHF7o",
        "outputId": "c6074568-be39-4826-f6ad-eab0bf9304ed"
      },
      "execution_count": 58,
      "outputs": [
        {
          "output_type": "execute_result",
          "data": {
            "text/plain": [
              "<tf.Tensor: shape=(2, 2), dtype=int32, numpy=\n",
              "array([[20, 17],\n",
              "       [11, 12]], dtype=int32)>"
            ]
          },
          "metadata": {},
          "execution_count": 58
        }
      ]
    },
    {
      "cell_type": "code",
      "source": [
        "tensor-7"
      ],
      "metadata": {
        "colab": {
          "base_uri": "https://localhost:8080/"
        },
        "id": "OfMFb9fzHH4i",
        "outputId": "a6d0b95f-8ef5-48f1-ceb6-f4fca1196387"
      },
      "execution_count": 59,
      "outputs": [
        {
          "output_type": "execute_result",
          "data": {
            "text/plain": [
              "<tf.Tensor: shape=(2, 2), dtype=int32, numpy=\n",
              "array([[ 3,  0],\n",
              "       [-6, -5]], dtype=int32)>"
            ]
          },
          "metadata": {},
          "execution_count": 59
        }
      ]
    },
    {
      "cell_type": "code",
      "source": [
        "tensor*2"
      ],
      "metadata": {
        "colab": {
          "base_uri": "https://localhost:8080/"
        },
        "id": "CFcF3hyqHLDQ",
        "outputId": "351e30c3-7eef-460e-e9b1-c341710e6bab"
      },
      "execution_count": 60,
      "outputs": [
        {
          "output_type": "execute_result",
          "data": {
            "text/plain": [
              "<tf.Tensor: shape=(2, 2), dtype=int32, numpy=\n",
              "array([[20, 14],\n",
              "       [ 2,  4]], dtype=int32)>"
            ]
          },
          "metadata": {},
          "execution_count": 60
        }
      ]
    },
    {
      "cell_type": "markdown",
      "source": [
        "#### `tf.math`\n",
        "Tensor built-in functions to perform.(preferred way)"
      ],
      "metadata": {
        "id": "brKm3C4BHOo3"
      }
    },
    {
      "cell_type": "code",
      "source": [
        "tf.math.multiply(tensor,2)"
      ],
      "metadata": {
        "colab": {
          "base_uri": "https://localhost:8080/"
        },
        "id": "k5TXyOoNHk4d",
        "outputId": "38632f61-a819-4712-9491-755628ee2730"
      },
      "execution_count": 61,
      "outputs": [
        {
          "output_type": "execute_result",
          "data": {
            "text/plain": [
              "<tf.Tensor: shape=(2, 2), dtype=int32, numpy=\n",
              "array([[20, 14],\n",
              "       [ 2,  4]], dtype=int32)>"
            ]
          },
          "metadata": {},
          "execution_count": 61
        }
      ]
    },
    {
      "cell_type": "code",
      "source": [
        "tf.math.argmax(tensor)"
      ],
      "metadata": {
        "colab": {
          "base_uri": "https://localhost:8080/"
        },
        "id": "qWE45CCeHwef",
        "outputId": "ace94f45-8e48-4042-834b-14beb052bc7c"
      },
      "execution_count": 62,
      "outputs": [
        {
          "output_type": "execute_result",
          "data": {
            "text/plain": [
              "<tf.Tensor: shape=(2,), dtype=int64, numpy=array([0, 0])>"
            ]
          },
          "metadata": {},
          "execution_count": 62
        }
      ]
    },
    {
      "cell_type": "markdown",
      "source": [
        "### Matrix Multiplication\n",
        "- `tf.linalg.matmul`\n",
        "- `@`\n",
        "- `tf.tensordot`"
      ],
      "metadata": {
        "id": "y-xnbHOxH1Fx"
      }
    },
    {
      "cell_type": "code",
      "source": [
        "tf.random.set_seed(42)\n",
        "x=tf.random.uniform(shape=(3,2),dtype=tf.int32,maxval=20,seed=42)\n",
        "y=tf.random.uniform(shape=(2,3),dtype=tf.int32,maxval=20,seed=42)"
      ],
      "metadata": {
        "id": "oiA5RUn0kv3o"
      },
      "execution_count": 63,
      "outputs": []
    },
    {
      "cell_type": "markdown",
      "source": [
        "#### `tf.linalg.matmul`\n",
        "Multiplies matrix a by matrix b, producing a * b."
      ],
      "metadata": {
        "id": "TPSebpb_ICVJ"
      }
    },
    {
      "cell_type": "code",
      "source": [
        "tf.matmul(tensor,tensor)"
      ],
      "metadata": {
        "colab": {
          "base_uri": "https://localhost:8080/"
        },
        "id": "jxcnHLJ7jp4i",
        "outputId": "fd688498-a357-4af8-bdf9-140edc7cc522"
      },
      "execution_count": 64,
      "outputs": [
        {
          "output_type": "execute_result",
          "data": {
            "text/plain": [
              "<tf.Tensor: shape=(2, 2), dtype=int32, numpy=\n",
              "array([[107,  84],\n",
              "       [ 12,  11]], dtype=int32)>"
            ]
          },
          "metadata": {},
          "execution_count": 64
        }
      ]
    },
    {
      "cell_type": "code",
      "source": [
        "tf.matmul(x,y)"
      ],
      "metadata": {
        "colab": {
          "base_uri": "https://localhost:8080/"
        },
        "id": "mJLV6watnBb5",
        "outputId": "2d978a61-e2d3-4551-e10e-804be9eff341"
      },
      "execution_count": 65,
      "outputs": [
        {
          "output_type": "execute_result",
          "data": {
            "text/plain": [
              "<tf.Tensor: shape=(3, 3), dtype=int32, numpy=\n",
              "array([[288, 179, 199],\n",
              "       [224, 138, 154],\n",
              "       [ 16,  90,  62]], dtype=int32)>"
            ]
          },
          "metadata": {},
          "execution_count": 65
        }
      ]
    },
    {
      "cell_type": "markdown",
      "source": [
        "#### `'@'` operator python matrix multiplication"
      ],
      "metadata": {
        "id": "NHaT2ktXj3JR"
      }
    },
    {
      "cell_type": "code",
      "source": [
        "tensor @ tensor"
      ],
      "metadata": {
        "colab": {
          "base_uri": "https://localhost:8080/"
        },
        "id": "OJmsycEQkivc",
        "outputId": "d1186a50-4199-45f9-8cc9-f685fef062fc"
      },
      "execution_count": 66,
      "outputs": [
        {
          "output_type": "execute_result",
          "data": {
            "text/plain": [
              "<tf.Tensor: shape=(2, 2), dtype=int32, numpy=\n",
              "array([[107,  84],\n",
              "       [ 12,  11]], dtype=int32)>"
            ]
          },
          "metadata": {},
          "execution_count": 66
        }
      ]
    },
    {
      "cell_type": "code",
      "source": [
        "x @ y"
      ],
      "metadata": {
        "colab": {
          "base_uri": "https://localhost:8080/"
        },
        "id": "zJ1ALPHckkwl",
        "outputId": "495e1983-6680-4b83-fbbe-d0f54a8231dc"
      },
      "execution_count": 67,
      "outputs": [
        {
          "output_type": "execute_result",
          "data": {
            "text/plain": [
              "<tf.Tensor: shape=(3, 3), dtype=int32, numpy=\n",
              "array([[288, 179, 199],\n",
              "       [224, 138, 154],\n",
              "       [ 16,  90,  62]], dtype=int32)>"
            ]
          },
          "metadata": {},
          "execution_count": 67
        }
      ]
    },
    {
      "cell_type": "markdown",
      "source": [
        "#### `tf.tensordot`\n",
        "Tensor contraction of a and b along specified axes and outer product."
      ],
      "metadata": {
        "id": "47Vdk6FJ3Jww"
      }
    },
    {
      "cell_type": "code",
      "source": [
        "a = tf.constant([1,2,3,4],shape=(2,2))\n",
        "b = tf.ones(shape=(2,2),dtype=tf.int32)"
      ],
      "metadata": {
        "id": "3mOcoy9N3VsG"
      },
      "execution_count": 68,
      "outputs": []
    },
    {
      "cell_type": "code",
      "source": [
        "# performs matrix-multiplication\n",
        "tf.tensordot(a,b,axes=1)"
      ],
      "metadata": {
        "colab": {
          "base_uri": "https://localhost:8080/"
        },
        "id": "TB0H2ecR3Vxo",
        "outputId": "fae96580-dd88-465f-8116-62de962bd0f3"
      },
      "execution_count": 69,
      "outputs": [
        {
          "output_type": "execute_result",
          "data": {
            "text/plain": [
              "<tf.Tensor: shape=(2, 2), dtype=int32, numpy=\n",
              "array([[3, 3],\n",
              "       [7, 7]], dtype=int32)>"
            ]
          },
          "metadata": {},
          "execution_count": 69
        }
      ]
    },
    {
      "cell_type": "code",
      "source": [
        "# One by one each element(scalar) of first matrix multiply with all element of second matrix\n",
        "# and keeps output in separate matrix for each element multiplication.\n",
        "tf.tensordot(a,b,axes=0)"
      ],
      "metadata": {
        "colab": {
          "base_uri": "https://localhost:8080/"
        },
        "id": "TC7OFM4G3Vz4",
        "outputId": "5cb05b73-6d60-45d8-a148-39fafb4d3720"
      },
      "execution_count": 70,
      "outputs": [
        {
          "output_type": "execute_result",
          "data": {
            "text/plain": [
              "<tf.Tensor: shape=(2, 2, 2, 2), dtype=int32, numpy=\n",
              "array([[[[1, 1],\n",
              "         [1, 1]],\n",
              "\n",
              "        [[2, 2],\n",
              "         [2, 2]]],\n",
              "\n",
              "\n",
              "       [[[3, 3],\n",
              "         [3, 3]],\n",
              "\n",
              "        [[4, 4],\n",
              "         [4, 4]]]], dtype=int32)>"
            ]
          },
          "metadata": {},
          "execution_count": 70
        }
      ]
    },
    {
      "cell_type": "code",
      "source": [
        "# performs element-wise multiplication,sums the result into scalar.\n",
        "tf.tensordot(a,b,axes=2)"
      ],
      "metadata": {
        "colab": {
          "base_uri": "https://localhost:8080/"
        },
        "id": "ipWdzaNv4535",
        "outputId": "2369b6f5-baad-4f13-b36f-85669616958a"
      },
      "execution_count": 71,
      "outputs": [
        {
          "output_type": "execute_result",
          "data": {
            "text/plain": [
              "<tf.Tensor: shape=(), dtype=int32, numpy=10>"
            ]
          },
          "metadata": {},
          "execution_count": 71
        }
      ]
    },
    {
      "cell_type": "markdown",
      "source": [
        "### `tf.transpose`"
      ],
      "metadata": {
        "id": "ew0OK4RknIJE"
      }
    },
    {
      "cell_type": "code",
      "source": [
        "x"
      ],
      "metadata": {
        "colab": {
          "base_uri": "https://localhost:8080/"
        },
        "id": "-A9xgOZk6dgw",
        "outputId": "881db215-751b-4164-a278-29ee5120c3a0"
      },
      "execution_count": 72,
      "outputs": [
        {
          "output_type": "execute_result",
          "data": {
            "text/plain": [
              "<tf.Tensor: shape=(3, 2), dtype=int32, numpy=\n",
              "array([[13, 18],\n",
              "       [10, 14],\n",
              "       [ 8,  1]], dtype=int32)>"
            ]
          },
          "metadata": {},
          "execution_count": 72
        }
      ]
    },
    {
      "cell_type": "code",
      "source": [
        "tf.transpose(x)"
      ],
      "metadata": {
        "colab": {
          "base_uri": "https://localhost:8080/"
        },
        "id": "skFYHL7VXgQ_",
        "outputId": "e6073306-192e-46f5-8a08-455edf7f26bc"
      },
      "execution_count": 73,
      "outputs": [
        {
          "output_type": "execute_result",
          "data": {
            "text/plain": [
              "<tf.Tensor: shape=(2, 3), dtype=int32, numpy=\n",
              "array([[13, 10,  8],\n",
              "       [18, 14,  1]], dtype=int32)>"
            ]
          },
          "metadata": {},
          "execution_count": 73
        }
      ]
    },
    {
      "cell_type": "code",
      "source": [
        "tf.reshape(x,(2,3))"
      ],
      "metadata": {
        "colab": {
          "base_uri": "https://localhost:8080/"
        },
        "id": "DCh79wds5A-m",
        "outputId": "680371e1-4b1d-49bf-a263-a185f71cf548"
      },
      "execution_count": 74,
      "outputs": [
        {
          "output_type": "execute_result",
          "data": {
            "text/plain": [
              "<tf.Tensor: shape=(2, 3), dtype=int32, numpy=\n",
              "array([[13, 18, 10],\n",
              "       [14,  8,  1]], dtype=int32)>"
            ]
          },
          "metadata": {},
          "execution_count": 74
        }
      ]
    },
    {
      "cell_type": "markdown",
      "source": [
        "`transponse` flips the axis, while `reshape` changes the shape with particular order"
      ],
      "metadata": {
        "id": "8466p6PM5Sf5"
      }
    },
    {
      "cell_type": "markdown",
      "source": [
        "### Change the datatype of tensor"
      ],
      "metadata": {
        "id": "x5OKPgJt7QOg"
      }
    },
    {
      "cell_type": "code",
      "source": [
        "t1 = tf.constant([1.7,0.9])\n",
        "t1.dtype"
      ],
      "metadata": {
        "colab": {
          "base_uri": "https://localhost:8080/"
        },
        "id": "_Irn3QwPY_Jx",
        "outputId": "e0c8a9f7-2f76-45c0-e71e-ba208a87cf22"
      },
      "execution_count": 75,
      "outputs": [
        {
          "output_type": "execute_result",
          "data": {
            "text/plain": [
              "tf.float32"
            ]
          },
          "metadata": {},
          "execution_count": 75
        }
      ]
    },
    {
      "cell_type": "markdown",
      "source": [
        "#### `tf.cast`"
      ],
      "metadata": {
        "id": "mmHJyh7dZO_K"
      }
    },
    {
      "cell_type": "code",
      "source": [
        "# changing from float32 to float16 (reduced percision)\n",
        "t2 = tf.cast(t1,dtype=tf.float16)\n",
        "t2"
      ],
      "metadata": {
        "colab": {
          "base_uri": "https://localhost:8080/"
        },
        "id": "rItzN3bUasEU",
        "outputId": "45a11e91-5a88-451b-8ef7-d8cbd6fc6c7d"
      },
      "execution_count": 76,
      "outputs": [
        {
          "output_type": "execute_result",
          "data": {
            "text/plain": [
              "<tf.Tensor: shape=(2,), dtype=float16, numpy=array([1.7, 0.9], dtype=float16)>"
            ]
          },
          "metadata": {},
          "execution_count": 76
        }
      ]
    },
    {
      "cell_type": "code",
      "source": [
        "t3 = tf.cast(t1,dtype= tf.int16)\n",
        "t3"
      ],
      "metadata": {
        "colab": {
          "base_uri": "https://localhost:8080/"
        },
        "id": "CSLER9Rpa2ow",
        "outputId": "5d19f88a-2f9d-4123-f658-4ba6e791dea8"
      },
      "execution_count": 77,
      "outputs": [
        {
          "output_type": "execute_result",
          "data": {
            "text/plain": [
              "<tf.Tensor: shape=(2,), dtype=int16, numpy=array([1, 0], dtype=int16)>"
            ]
          },
          "metadata": {},
          "execution_count": 77
        }
      ]
    },
    {
      "cell_type": "markdown",
      "source": [
        "### Aggregating Tensors"
      ],
      "metadata": {
        "id": "j0i8G_hubG_h"
      }
    },
    {
      "cell_type": "code",
      "source": [
        "import numpy as np\n",
        "t = tf.constant(np.random.rand(2,3,2))\n",
        "a = tf.constant([-1,-4])\n",
        "a"
      ],
      "metadata": {
        "colab": {
          "base_uri": "https://localhost:8080/"
        },
        "id": "luK7Z82Yl58U",
        "outputId": "9b546229-76e8-4945-b2f6-200106e06d5d"
      },
      "execution_count": 78,
      "outputs": [
        {
          "output_type": "execute_result",
          "data": {
            "text/plain": [
              "<tf.Tensor: shape=(2,), dtype=int32, numpy=array([-1, -4], dtype=int32)>"
            ]
          },
          "metadata": {},
          "execution_count": 78
        }
      ]
    },
    {
      "cell_type": "markdown",
      "source": [
        "#### `tf.abs`\n",
        "Get the absolute values"
      ],
      "metadata": {
        "id": "Y3AQRFtKmCHt"
      }
    },
    {
      "cell_type": "code",
      "source": [
        "tf.abs(a)"
      ],
      "metadata": {
        "colab": {
          "base_uri": "https://localhost:8080/"
        },
        "id": "n3SXYO7UmWwj",
        "outputId": "e7e94137-b49b-4c50-d22c-a9df042ec51c"
      },
      "execution_count": 79,
      "outputs": [
        {
          "output_type": "execute_result",
          "data": {
            "text/plain": [
              "<tf.Tensor: shape=(2,), dtype=int32, numpy=array([1, 4], dtype=int32)>"
            ]
          },
          "metadata": {},
          "execution_count": 79
        }
      ]
    },
    {
      "cell_type": "markdown",
      "source": [
        "#### `tf.reduce_min`\n",
        "Find the minimum"
      ],
      "metadata": {
        "id": "YNgzDspmoTJA"
      }
    },
    {
      "cell_type": "code",
      "source": [
        "t"
      ],
      "metadata": {
        "colab": {
          "base_uri": "https://localhost:8080/"
        },
        "id": "Zpx_AfiGmYg9",
        "outputId": "8d335fc0-e3ec-428a-d87c-fa71040b9ba0"
      },
      "execution_count": 80,
      "outputs": [
        {
          "output_type": "execute_result",
          "data": {
            "text/plain": [
              "<tf.Tensor: shape=(2, 3, 2), dtype=float64, numpy=\n",
              "array([[[0.12808268, 0.68219421],\n",
              "        [0.11227912, 0.97035033],\n",
              "        [0.45517014, 0.4717848 ]],\n",
              "\n",
              "       [[0.54932319, 0.51538728],\n",
              "        [0.25927842, 0.59493662],\n",
              "        [0.55088109, 0.52462205]]])>"
            ]
          },
          "metadata": {},
          "execution_count": 80
        }
      ]
    },
    {
      "cell_type": "code",
      "source": [
        "tf.reduce_min(t)"
      ],
      "metadata": {
        "colab": {
          "base_uri": "https://localhost:8080/"
        },
        "id": "c0J9_UsNn5-C",
        "outputId": "76f86c4f-ea96-4327-8ff1-9f0bf7d11064"
      },
      "execution_count": 81,
      "outputs": [
        {
          "output_type": "execute_result",
          "data": {
            "text/plain": [
              "<tf.Tensor: shape=(), dtype=float64, numpy=0.11227912399579232>"
            ]
          },
          "metadata": {},
          "execution_count": 81
        }
      ]
    },
    {
      "cell_type": "markdown",
      "source": [
        "#### `tf.reduce_max`\n",
        "Find the max."
      ],
      "metadata": {
        "id": "ZvpoXJ1LoKQb"
      }
    },
    {
      "cell_type": "code",
      "source": [
        "tf.reduce_max(t)"
      ],
      "metadata": {
        "colab": {
          "base_uri": "https://localhost:8080/"
        },
        "id": "LLm3SsbHoj39",
        "outputId": "3a478c28-8c11-49e1-c8c4-ec847247b8c8"
      },
      "execution_count": 82,
      "outputs": [
        {
          "output_type": "execute_result",
          "data": {
            "text/plain": [
              "<tf.Tensor: shape=(), dtype=float64, numpy=0.9703503346027572>"
            ]
          },
          "metadata": {},
          "execution_count": 82
        }
      ]
    },
    {
      "cell_type": "markdown",
      "source": [
        "#### `tf.reduce_mean`"
      ],
      "metadata": {
        "id": "wH2Dss9YolrS"
      }
    },
    {
      "cell_type": "code",
      "source": [
        "tf.reduce_mean(t)"
      ],
      "metadata": {
        "colab": {
          "base_uri": "https://localhost:8080/"
        },
        "id": "3-M4SVRcouUd",
        "outputId": "5760bda8-348a-456e-962a-2fc97c54f5ef"
      },
      "execution_count": 83,
      "outputs": [
        {
          "output_type": "execute_result",
          "data": {
            "text/plain": [
              "<tf.Tensor: shape=(), dtype=float64, numpy=0.4845241613046046>"
            ]
          },
          "metadata": {},
          "execution_count": 83
        }
      ]
    },
    {
      "cell_type": "markdown",
      "source": [
        "#### `tf.reduce_sum`"
      ],
      "metadata": {
        "id": "JKGB42fpoxsq"
      }
    },
    {
      "cell_type": "code",
      "source": [
        "tf.reduce_sum(t)"
      ],
      "metadata": {
        "colab": {
          "base_uri": "https://localhost:8080/"
        },
        "id": "HkCp6D8do1eE",
        "outputId": "7d4502ee-47e0-4b84-e330-b857ed80c1de"
      },
      "execution_count": 84,
      "outputs": [
        {
          "output_type": "execute_result",
          "data": {
            "text/plain": [
              "<tf.Tensor: shape=(), dtype=float64, numpy=5.814289935655255>"
            ]
          },
          "metadata": {},
          "execution_count": 84
        }
      ]
    },
    {
      "cell_type": "markdown",
      "source": [
        "#### `tf.math.reduce_variance`"
      ],
      "metadata": {
        "id": "5oGEV9uCo4zs"
      }
    },
    {
      "cell_type": "code",
      "source": [
        "import tensorflow_probability as tfp\n",
        "tfp.stats.variance(t)\n",
        "tf.math.reduce_variance(t)"
      ],
      "metadata": {
        "colab": {
          "base_uri": "https://localhost:8080/"
        },
        "id": "UrGqXW67ptTo",
        "outputId": "7c920f4b-acde-49c2-80f8-57a7d0b99df9"
      },
      "execution_count": 85,
      "outputs": [
        {
          "output_type": "execute_result",
          "data": {
            "text/plain": [
              "<tf.Tensor: shape=(), dtype=float64, numpy=0.05131920354750815>"
            ]
          },
          "metadata": {},
          "execution_count": 85
        }
      ]
    },
    {
      "cell_type": "markdown",
      "source": [
        "#### `tf.math.reduce_std`\n",
        "\n"
      ],
      "metadata": {
        "id": "fUz01-wgp0jA"
      }
    },
    {
      "cell_type": "code",
      "source": [
        "tf.math.reduce_std(t)"
      ],
      "metadata": {
        "colab": {
          "base_uri": "https://localhost:8080/"
        },
        "id": "svYr2xrCqNqi",
        "outputId": "800bfac0-f125-4372-f18d-483300a25714"
      },
      "execution_count": 86,
      "outputs": [
        {
          "output_type": "execute_result",
          "data": {
            "text/plain": [
              "<tf.Tensor: shape=(), dtype=float64, numpy=0.2265374219582896>"
            ]
          },
          "metadata": {},
          "execution_count": 86
        }
      ]
    },
    {
      "cell_type": "markdown",
      "source": [
        "### Finding the positional Max and Min"
      ],
      "metadata": {
        "id": "f5WyVQyrqQZv"
      }
    },
    {
      "cell_type": "code",
      "source": [
        "tf.random.set_seed(42)\n",
        "t = tf.random.uniform(shape=[50])\n",
        "t"
      ],
      "metadata": {
        "colab": {
          "base_uri": "https://localhost:8080/"
        },
        "id": "7oaHrGIJrvSh",
        "outputId": "4c95717e-1a61-40a1-959a-e8c1ca6574fb"
      },
      "execution_count": 87,
      "outputs": [
        {
          "output_type": "execute_result",
          "data": {
            "text/plain": [
              "<tf.Tensor: shape=(50,), dtype=float32, numpy=\n",
              "array([0.6645621 , 0.44100678, 0.3528825 , 0.46448255, 0.03366041,\n",
              "       0.68467236, 0.74011743, 0.8724445 , 0.22632635, 0.22319686,\n",
              "       0.3103881 , 0.7223358 , 0.13318717, 0.5480639 , 0.5746088 ,\n",
              "       0.8996835 , 0.00946367, 0.5212307 , 0.6345445 , 0.1993283 ,\n",
              "       0.72942245, 0.54583454, 0.10756552, 0.6767061 , 0.6602763 ,\n",
              "       0.33695042, 0.60141766, 0.21062577, 0.8527372 , 0.44062173,\n",
              "       0.9485276 , 0.23752594, 0.81179297, 0.5263394 , 0.494308  ,\n",
              "       0.21612847, 0.8457197 , 0.8718841 , 0.3083862 , 0.6868038 ,\n",
              "       0.23764038, 0.7817228 , 0.9671384 , 0.06870162, 0.79873943,\n",
              "       0.66028714, 0.5871513 , 0.16461694, 0.7381023 , 0.32054043],\n",
              "      dtype=float32)>"
            ]
          },
          "metadata": {},
          "execution_count": 87
        }
      ]
    },
    {
      "cell_type": "markdown",
      "source": [
        "#### `tf.argmax`"
      ],
      "metadata": {
        "id": "FCFJEH1kr4MC"
      }
    },
    {
      "cell_type": "code",
      "source": [
        "tf.argmax(t)"
      ],
      "metadata": {
        "colab": {
          "base_uri": "https://localhost:8080/"
        },
        "id": "ljPT0CBQsGJl",
        "outputId": "b33e3dac-fb3a-43ae-a793-4449b0428051"
      },
      "execution_count": 88,
      "outputs": [
        {
          "output_type": "execute_result",
          "data": {
            "text/plain": [
              "<tf.Tensor: shape=(), dtype=int64, numpy=42>"
            ]
          },
          "metadata": {},
          "execution_count": 88
        }
      ]
    },
    {
      "cell_type": "code",
      "source": [
        "tf.reduce_max(t) == t[tf.argmax(t)]"
      ],
      "metadata": {
        "colab": {
          "base_uri": "https://localhost:8080/"
        },
        "id": "HsvSZVdKsI3H",
        "outputId": "d13d1b08-e814-4cd9-b3ed-2b969adaf13d"
      },
      "execution_count": 89,
      "outputs": [
        {
          "output_type": "execute_result",
          "data": {
            "text/plain": [
              "<tf.Tensor: shape=(), dtype=bool, numpy=True>"
            ]
          },
          "metadata": {},
          "execution_count": 89
        }
      ]
    },
    {
      "cell_type": "markdown",
      "source": [
        "#### `tf.argmin`"
      ],
      "metadata": {
        "id": "XscT80FntL03"
      }
    },
    {
      "cell_type": "code",
      "source": [
        "tf.argmin(t)"
      ],
      "metadata": {
        "colab": {
          "base_uri": "https://localhost:8080/"
        },
        "id": "zGkZf4JDtfoS",
        "outputId": "bf28939f-56e1-4db7-f882-5886c6e125ff"
      },
      "execution_count": 90,
      "outputs": [
        {
          "output_type": "execute_result",
          "data": {
            "text/plain": [
              "<tf.Tensor: shape=(), dtype=int64, numpy=16>"
            ]
          },
          "metadata": {},
          "execution_count": 90
        }
      ]
    },
    {
      "cell_type": "code",
      "source": [
        "t[tf.argmin(t)]==tf.reduce_min(t)"
      ],
      "metadata": {
        "colab": {
          "base_uri": "https://localhost:8080/"
        },
        "id": "_gPUzEKTthwm",
        "outputId": "b6006e36-1c58-4dc0-bf89-5f5449b448de"
      },
      "execution_count": 91,
      "outputs": [
        {
          "output_type": "execute_result",
          "data": {
            "text/plain": [
              "<tf.Tensor: shape=(), dtype=bool, numpy=True>"
            ]
          },
          "metadata": {},
          "execution_count": 91
        }
      ]
    },
    {
      "cell_type": "markdown",
      "source": [
        "### Squeezing the tensor\n",
        "(removing all single dimensions)"
      ],
      "metadata": {
        "id": "wSOYD5NAtm_R"
      }
    },
    {
      "cell_type": "code",
      "source": [
        "tf.random.set_seed(42)\n",
        "t = tf.random.uniform(shape=(1,2,1,50))\n",
        "t"
      ],
      "metadata": {
        "colab": {
          "base_uri": "https://localhost:8080/"
        },
        "id": "6Vo4H4LeuyvT",
        "outputId": "fc7c2d33-cd00-4dac-98aa-414adfa2d0cc"
      },
      "execution_count": 92,
      "outputs": [
        {
          "output_type": "execute_result",
          "data": {
            "text/plain": [
              "<tf.Tensor: shape=(1, 2, 1, 50), dtype=float32, numpy=\n",
              "array([[[[0.6645621 , 0.44100678, 0.3528825 , 0.46448255, 0.03366041,\n",
              "          0.68467236, 0.74011743, 0.8724445 , 0.22632635, 0.22319686,\n",
              "          0.3103881 , 0.7223358 , 0.13318717, 0.5480639 , 0.5746088 ,\n",
              "          0.8996835 , 0.00946367, 0.5212307 , 0.6345445 , 0.1993283 ,\n",
              "          0.72942245, 0.54583454, 0.10756552, 0.6767061 , 0.6602763 ,\n",
              "          0.33695042, 0.60141766, 0.21062577, 0.8527372 , 0.44062173,\n",
              "          0.9485276 , 0.23752594, 0.81179297, 0.5263394 , 0.494308  ,\n",
              "          0.21612847, 0.8457197 , 0.8718841 , 0.3083862 , 0.6868038 ,\n",
              "          0.23764038, 0.7817228 , 0.9671384 , 0.06870162, 0.79873943,\n",
              "          0.66028714, 0.5871513 , 0.16461694, 0.7381023 , 0.32054043]],\n",
              "\n",
              "        [[0.6073899 , 0.46523476, 0.97803545, 0.7223145 , 0.32347047,\n",
              "          0.82577336, 0.4976915 , 0.19483674, 0.7588748 , 0.3380444 ,\n",
              "          0.28128064, 0.31513572, 0.60670924, 0.7498598 , 0.5016055 ,\n",
              "          0.18282163, 0.13179815, 0.64636123, 0.9559475 , 0.6670735 ,\n",
              "          0.30755532, 0.36892188, 0.44735897, 0.18359458, 0.5288255 ,\n",
              "          0.7052754 , 0.898633  , 0.31386292, 0.62338257, 0.96815526,\n",
              "          0.11207926, 0.29590535, 0.9356605 , 0.1341263 , 0.31937933,\n",
              "          0.262277  , 0.03148758, 0.90045524, 0.6409379 , 0.5821855 ,\n",
              "          0.20917094, 0.71736085, 0.363523  , 0.04670918, 0.14977789,\n",
              "          0.84361756, 0.9355587 , 0.09517312, 0.08617878, 0.6247839 ]]]],\n",
              "      dtype=float32)>"
            ]
          },
          "metadata": {},
          "execution_count": 92
        }
      ]
    },
    {
      "cell_type": "markdown",
      "source": [
        "#### `tf.squeeze`"
      ],
      "metadata": {
        "id": "iOBvnb13vSgE"
      }
    },
    {
      "cell_type": "code",
      "source": [
        "tf.squeeze(t)"
      ],
      "metadata": {
        "colab": {
          "base_uri": "https://localhost:8080/"
        },
        "id": "On1sF1I1vJWp",
        "outputId": "bd44f5ec-c7cb-4950-b0ae-ec7010c3ce5a"
      },
      "execution_count": 93,
      "outputs": [
        {
          "output_type": "execute_result",
          "data": {
            "text/plain": [
              "<tf.Tensor: shape=(2, 50), dtype=float32, numpy=\n",
              "array([[0.6645621 , 0.44100678, 0.3528825 , 0.46448255, 0.03366041,\n",
              "        0.68467236, 0.74011743, 0.8724445 , 0.22632635, 0.22319686,\n",
              "        0.3103881 , 0.7223358 , 0.13318717, 0.5480639 , 0.5746088 ,\n",
              "        0.8996835 , 0.00946367, 0.5212307 , 0.6345445 , 0.1993283 ,\n",
              "        0.72942245, 0.54583454, 0.10756552, 0.6767061 , 0.6602763 ,\n",
              "        0.33695042, 0.60141766, 0.21062577, 0.8527372 , 0.44062173,\n",
              "        0.9485276 , 0.23752594, 0.81179297, 0.5263394 , 0.494308  ,\n",
              "        0.21612847, 0.8457197 , 0.8718841 , 0.3083862 , 0.6868038 ,\n",
              "        0.23764038, 0.7817228 , 0.9671384 , 0.06870162, 0.79873943,\n",
              "        0.66028714, 0.5871513 , 0.16461694, 0.7381023 , 0.32054043],\n",
              "       [0.6073899 , 0.46523476, 0.97803545, 0.7223145 , 0.32347047,\n",
              "        0.82577336, 0.4976915 , 0.19483674, 0.7588748 , 0.3380444 ,\n",
              "        0.28128064, 0.31513572, 0.60670924, 0.7498598 , 0.5016055 ,\n",
              "        0.18282163, 0.13179815, 0.64636123, 0.9559475 , 0.6670735 ,\n",
              "        0.30755532, 0.36892188, 0.44735897, 0.18359458, 0.5288255 ,\n",
              "        0.7052754 , 0.898633  , 0.31386292, 0.62338257, 0.96815526,\n",
              "        0.11207926, 0.29590535, 0.9356605 , 0.1341263 , 0.31937933,\n",
              "        0.262277  , 0.03148758, 0.90045524, 0.6409379 , 0.5821855 ,\n",
              "        0.20917094, 0.71736085, 0.363523  , 0.04670918, 0.14977789,\n",
              "        0.84361756, 0.9355587 , 0.09517312, 0.08617878, 0.6247839 ]],\n",
              "      dtype=float32)>"
            ]
          },
          "metadata": {},
          "execution_count": 93
        }
      ]
    },
    {
      "cell_type": "markdown",
      "source": [
        "## One Hot Encoding tensors"
      ],
      "metadata": {
        "id": "a5VFd-A0vPan"
      }
    },
    {
      "cell_type": "code",
      "source": [
        "some_list =[1,2,3]\n",
        "tf.one_hot(some_list,depth=3)"
      ],
      "metadata": {
        "id": "EZOS53IECi0c",
        "colab": {
          "base_uri": "https://localhost:8080/"
        },
        "outputId": "abd1e0d7-cff3-4e8c-fc57-c5931f910ffa"
      },
      "execution_count": 94,
      "outputs": [
        {
          "output_type": "execute_result",
          "data": {
            "text/plain": [
              "<tf.Tensor: shape=(3, 3), dtype=float32, numpy=\n",
              "array([[0., 1., 0.],\n",
              "       [0., 0., 1.],\n",
              "       [0., 0., 0.]], dtype=float32)>"
            ]
          },
          "metadata": {},
          "execution_count": 94
        }
      ]
    },
    {
      "cell_type": "code",
      "source": [
        "tf.one_hot(some_list,depth=3,on_value=\"yo\",off_value=\"_\")"
      ],
      "metadata": {
        "colab": {
          "base_uri": "https://localhost:8080/"
        },
        "id": "7NiZnzFPDpQG",
        "outputId": "53aa6060-c3a0-4ead-bcd4-f7553b904262"
      },
      "execution_count": 95,
      "outputs": [
        {
          "output_type": "execute_result",
          "data": {
            "text/plain": [
              "<tf.Tensor: shape=(3, 3), dtype=string, numpy=\n",
              "array([[b'_', b'yo', b'_'],\n",
              "       [b'_', b'_', b'yo'],\n",
              "       [b'_', b'_', b'_']], dtype=object)>"
            ]
          },
          "metadata": {},
          "execution_count": 95
        }
      ]
    },
    {
      "cell_type": "markdown",
      "source": [
        "## Tensors and NumPy"
      ],
      "metadata": {
        "id": "atrXkR3UEBxO"
      }
    },
    {
      "cell_type": "code",
      "source": [
        "import numpy as np\n",
        "np_array =[1.,2,3.2]\n",
        "numpy_t = tf.constant(np_array)\n",
        "numpy_t"
      ],
      "metadata": {
        "colab": {
          "base_uri": "https://localhost:8080/"
        },
        "id": "AZRlUDV8O2Xu",
        "outputId": "04355440-2f7c-4b3d-a31a-aab66c8d80d9"
      },
      "execution_count": 96,
      "outputs": [
        {
          "output_type": "execute_result",
          "data": {
            "text/plain": [
              "<tf.Tensor: shape=(3,), dtype=float32, numpy=array([1. , 2. , 3.2], dtype=float32)>"
            ]
          },
          "metadata": {},
          "execution_count": 96
        }
      ]
    },
    {
      "cell_type": "code",
      "source": [
        "# convert tensor to numpy\n",
        "numpy_t.numpy(),np.array(numpy_t)"
      ],
      "metadata": {
        "colab": {
          "base_uri": "https://localhost:8080/"
        },
        "id": "BpFyQp7rPEMX",
        "outputId": "e13fdd96-215b-41ec-d0cc-1df2d4dcda04"
      },
      "execution_count": 97,
      "outputs": [
        {
          "output_type": "execute_result",
          "data": {
            "text/plain": [
              "(array([1. , 2. , 3.2], dtype=float32), array([1. , 2. , 3.2], dtype=float32))"
            ]
          },
          "metadata": {},
          "execution_count": 97
        }
      ]
    },
    {
      "cell_type": "markdown",
      "source": [
        "## Access to GPUs"
      ],
      "metadata": {
        "id": "voBrV5RVQBc-"
      }
    },
    {
      "cell_type": "code",
      "source": [
        "tf.config.list_physical_devices()"
      ],
      "metadata": {
        "colab": {
          "base_uri": "https://localhost:8080/"
        },
        "id": "iYjbMugYvK2H",
        "outputId": "f5454983-b0f9-40c2-e520-a7df8c519597"
      },
      "execution_count": 100,
      "outputs": [
        {
          "output_type": "execute_result",
          "data": {
            "text/plain": [
              "[PhysicalDevice(name='/physical_device:CPU:0', device_type='CPU')]"
            ]
          },
          "metadata": {},
          "execution_count": 100
        }
      ]
    },
    {
      "cell_type": "code",
      "source": [
        "import tensorflow as tf\n",
        "tf.config.list_physical_devices()"
      ],
      "metadata": {
        "colab": {
          "base_uri": "https://localhost:8080/"
        },
        "id": "EzfZKkiXvO0Q",
        "outputId": "8f21a3c8-30ae-44e9-bcce-ff32f05a9237"
      },
      "execution_count": 3,
      "outputs": [
        {
          "output_type": "execute_result",
          "data": {
            "text/plain": [
              "[PhysicalDevice(name='/physical_device:CPU:0', device_type='CPU'),\n",
              " PhysicalDevice(name='/physical_device:GPU:0', device_type='GPU')]"
            ]
          },
          "metadata": {},
          "execution_count": 3
        }
      ]
    },
    {
      "cell_type": "code",
      "source": [
        "!nvidia-smi"
      ],
      "metadata": {
        "colab": {
          "base_uri": "https://localhost:8080/"
        },
        "id": "g2-Pup-AwEaB",
        "outputId": "0ef09c8a-a0de-4b7e-e860-cb4a7146066e"
      },
      "execution_count": 4,
      "outputs": [
        {
          "output_type": "stream",
          "name": "stdout",
          "text": [
            "Mon Sep  4 15:13:54 2023       \n",
            "+-----------------------------------------------------------------------------+\n",
            "| NVIDIA-SMI 525.105.17   Driver Version: 525.105.17   CUDA Version: 12.0     |\n",
            "|-------------------------------+----------------------+----------------------+\n",
            "| GPU  Name        Persistence-M| Bus-Id        Disp.A | Volatile Uncorr. ECC |\n",
            "| Fan  Temp  Perf  Pwr:Usage/Cap|         Memory-Usage | GPU-Util  Compute M. |\n",
            "|                               |                      |               MIG M. |\n",
            "|===============================+======================+======================|\n",
            "|   0  Tesla T4            Off  | 00000000:00:04.0 Off |                    0 |\n",
            "| N/A   41C    P8     9W /  70W |      3MiB / 15360MiB |      0%      Default |\n",
            "|                               |                      |                  N/A |\n",
            "+-------------------------------+----------------------+----------------------+\n",
            "                                                                               \n",
            "+-----------------------------------------------------------------------------+\n",
            "| Processes:                                                                  |\n",
            "|  GPU   GI   CI        PID   Type   Process name                  GPU Memory |\n",
            "|        ID   ID                                                   Usage      |\n",
            "|=============================================================================|\n",
            "|  No running processes found                                                 |\n",
            "+-----------------------------------------------------------------------------+\n"
          ]
        }
      ]
    },
    {
      "cell_type": "code",
      "source": [],
      "metadata": {
        "id": "e9ieIVmQwd9l"
      },
      "execution_count": null,
      "outputs": []
    }
  ]
}