{
  "nbformat": 4,
  "nbformat_minor": 0,
  "metadata": {
    "colab": {
      "provenance": [],
      "toc_visible": true,
      "authorship_tag": "ABX9TyOk28u0no+tamRiArB1Z4kB",
      "include_colab_link": true
    },
    "kernelspec": {
      "name": "python3",
      "display_name": "Python 3"
    },
    "language_info": {
      "name": "python"
    }
  },
  "cells": [
    {
      "cell_type": "markdown",
      "metadata": {
        "id": "view-in-github",
        "colab_type": "text"
      },
      "source": [
        "<a href=\"https://colab.research.google.com/github/shivam-bajaj/TensorFlow/blob/master/00_tensorflow_basic.ipynb\" target=\"_parent\"><img src=\"https://colab.research.google.com/assets/colab-badge.svg\" alt=\"Open In Colab\"/></a>"
      ]
    },
    {
      "cell_type": "markdown",
      "source": [
        "# **TensorFlow**"
      ],
      "metadata": {
        "id": "fPIvBTXcCVTM"
      }
    },
    {
      "cell_type": "markdown",
      "source": [
        "## **Intro to Tensors**"
      ],
      "metadata": {
        "id": "2clD9q7NCjsQ"
      }
    },
    {
      "cell_type": "code",
      "source": [
        "import tensorflow as tf"
      ],
      "metadata": {
        "id": "LmqTeJWvDLfc"
      },
      "execution_count": 1,
      "outputs": []
    },
    {
      "cell_type": "code",
      "source": [
        "tf.__version__"
      ],
      "metadata": {
        "id": "MEf1WVGHDTuV",
        "colab": {
          "base_uri": "https://localhost:8080/",
          "height": 35
        },
        "outputId": "6abe811f-8fad-4d4a-a9cc-22b4ca0b14cf"
      },
      "execution_count": 2,
      "outputs": [
        {
          "output_type": "execute_result",
          "data": {
            "text/plain": [
              "'2.12.0'"
            ],
            "application/vnd.google.colaboratory.intrinsic+json": {
              "type": "string"
            }
          },
          "metadata": {},
          "execution_count": 2
        }
      ]
    },
    {
      "cell_type": "markdown",
      "source": [
        "### *`tf.constant`*"
      ],
      "metadata": {
        "id": "xEX6dSQH6aEV"
      }
    },
    {
      "cell_type": "code",
      "source": [
        "tf.constant"
      ],
      "metadata": {
        "colab": {
          "base_uri": "https://localhost:8080/"
        },
        "id": "Kl3x_fxiCKim",
        "outputId": "b36140d7-5a4f-4ec9-ab32-0884e7e66236"
      },
      "execution_count": 3,
      "outputs": [
        {
          "output_type": "execute_result",
          "data": {
            "text/plain": [
              "<function tensorflow.python.framework.constant_op.constant(value, dtype=None, shape=None, name='Const')>"
            ]
          },
          "metadata": {},
          "execution_count": 3
        }
      ]
    },
    {
      "cell_type": "code",
      "source": [
        "# create tensors with tf.constant()\n",
        "\n",
        "scalar = tf.constant(7)\n",
        "scalar"
      ],
      "metadata": {
        "id": "AELSLWjkDW8d",
        "colab": {
          "base_uri": "https://localhost:8080/"
        },
        "outputId": "b56a4dc2-5ef0-4981-defe-7082452106da"
      },
      "execution_count": 4,
      "outputs": [
        {
          "output_type": "execute_result",
          "data": {
            "text/plain": [
              "<tf.Tensor: shape=(), dtype=int32, numpy=7>"
            ]
          },
          "metadata": {},
          "execution_count": 4
        }
      ]
    },
    {
      "cell_type": "code",
      "source": [
        "# check dimension of a tensor\n",
        "# tenosr rank 1\n",
        "scalar.ndim"
      ],
      "metadata": {
        "colab": {
          "base_uri": "https://localhost:8080/"
        },
        "id": "LfoSfwfoFAUS",
        "outputId": "4ddc3ae2-4fa1-46f8-f2f6-14b33efc19b2"
      },
      "execution_count": 5,
      "outputs": [
        {
          "output_type": "execute_result",
          "data": {
            "text/plain": [
              "0"
            ]
          },
          "metadata": {},
          "execution_count": 5
        }
      ]
    },
    {
      "cell_type": "code",
      "source": [
        "# create a vector\n",
        "# tensor rank 1\n",
        "vector = tf.constant([7,9])\n",
        "vector"
      ],
      "metadata": {
        "colab": {
          "base_uri": "https://localhost:8080/"
        },
        "id": "yncCc82XFYK3",
        "outputId": "aa97cea0-f953-4c61-d037-5e66dd6161d9"
      },
      "execution_count": 6,
      "outputs": [
        {
          "output_type": "execute_result",
          "data": {
            "text/plain": [
              "<tf.Tensor: shape=(2,), dtype=int32, numpy=array([7, 9], dtype=int32)>"
            ]
          },
          "metadata": {},
          "execution_count": 6
        }
      ]
    },
    {
      "cell_type": "code",
      "source": [
        "vector.ndim"
      ],
      "metadata": {
        "colab": {
          "base_uri": "https://localhost:8080/"
        },
        "id": "FhHx4VgXFibp",
        "outputId": "fb385699-9faa-4e7a-fb33-25eb7ad343e8"
      },
      "execution_count": 7,
      "outputs": [
        {
          "output_type": "execute_result",
          "data": {
            "text/plain": [
              "1"
            ]
          },
          "metadata": {},
          "execution_count": 7
        }
      ]
    },
    {
      "cell_type": "code",
      "source": [
        "# create a matrix\n",
        "# tensor rank -2\n",
        "matrix = tf.constant([[7,10],[10,7]])\n",
        "matrix"
      ],
      "metadata": {
        "colab": {
          "base_uri": "https://localhost:8080/"
        },
        "id": "lzIOg4mBFkeq",
        "outputId": "ef2ab00a-7d22-4c19-d3ff-a248cfc01ab3"
      },
      "execution_count": 8,
      "outputs": [
        {
          "output_type": "execute_result",
          "data": {
            "text/plain": [
              "<tf.Tensor: shape=(2, 2), dtype=int32, numpy=\n",
              "array([[ 7, 10],\n",
              "       [10,  7]], dtype=int32)>"
            ]
          },
          "metadata": {},
          "execution_count": 8
        }
      ]
    },
    {
      "cell_type": "code",
      "source": [
        "matrix.ndim"
      ],
      "metadata": {
        "colab": {
          "base_uri": "https://localhost:8080/"
        },
        "id": "MPttMmeQF8Z5",
        "outputId": "3fbc2106-0849-4960-e88f-0faf5541d246"
      },
      "execution_count": 9,
      "outputs": [
        {
          "output_type": "execute_result",
          "data": {
            "text/plain": [
              "2"
            ]
          },
          "metadata": {},
          "execution_count": 9
        }
      ]
    },
    {
      "cell_type": "code",
      "source": [
        "# another matrix with specific data type\n",
        "another_matrix = tf.constant([[1.,2.],[3.,4]], dtype=tf.float16)\n",
        "another_matrix"
      ],
      "metadata": {
        "colab": {
          "base_uri": "https://localhost:8080/"
        },
        "id": "_C5Z7PWsF-du",
        "outputId": "9f5b2766-6238-4fa3-9bd2-645c190d8860"
      },
      "execution_count": 10,
      "outputs": [
        {
          "output_type": "execute_result",
          "data": {
            "text/plain": [
              "<tf.Tensor: shape=(2, 2), dtype=float16, numpy=\n",
              "array([[1., 2.],\n",
              "       [3., 4.]], dtype=float16)>"
            ]
          },
          "metadata": {},
          "execution_count": 10
        }
      ]
    },
    {
      "cell_type": "code",
      "source": [
        "# tensor rank 2\n",
        "another_matrix.ndim"
      ],
      "metadata": {
        "colab": {
          "base_uri": "https://localhost:8080/"
        },
        "id": "p9m6jZ3tG08S",
        "outputId": "1c9e7972-9363-4b23-87a5-3c78d300e026"
      },
      "execution_count": 11,
      "outputs": [
        {
          "output_type": "execute_result",
          "data": {
            "text/plain": [
              "2"
            ]
          },
          "metadata": {},
          "execution_count": 11
        }
      ]
    },
    {
      "cell_type": "code",
      "source": [
        "# tensor rank -3\n",
        "tensor = tf.constant([[[1,2],[3,4]],\n",
        "                      [[3,4],[4,5]],\n",
        "                      [[4,5],[5,6]]])\n",
        "tensor"
      ],
      "metadata": {
        "colab": {
          "base_uri": "https://localhost:8080/"
        },
        "id": "_NwGvAOyHFoe",
        "outputId": "f7b01454-21c2-4275-f4d4-304cae8cb882"
      },
      "execution_count": 12,
      "outputs": [
        {
          "output_type": "execute_result",
          "data": {
            "text/plain": [
              "<tf.Tensor: shape=(3, 2, 2), dtype=int32, numpy=\n",
              "array([[[1, 2],\n",
              "        [3, 4]],\n",
              "\n",
              "       [[3, 4],\n",
              "        [4, 5]],\n",
              "\n",
              "       [[4, 5],\n",
              "        [5, 6]]], dtype=int32)>"
            ]
          },
          "metadata": {},
          "execution_count": 12
        }
      ]
    },
    {
      "cell_type": "code",
      "source": [
        "tensor.ndim"
      ],
      "metadata": {
        "colab": {
          "base_uri": "https://localhost:8080/"
        },
        "id": "MM9V9w_mHm0Y",
        "outputId": "1de0f1cd-80f8-4a61-b905-352a952c83fc"
      },
      "execution_count": 13,
      "outputs": [
        {
          "output_type": "execute_result",
          "data": {
            "text/plain": [
              "3"
            ]
          },
          "metadata": {},
          "execution_count": 13
        }
      ]
    },
    {
      "cell_type": "code",
      "source": [
        "tensor2 = tf.constant([[\n",
        "                      [[1,2],[3,4]],\n",
        "                      [[3,4],[4,5]],\n",
        "                      [[4,5],[5,6]]],\n",
        "                      [[[1,2],[3,4]],\n",
        "                      [[3,4],[4,5]],\n",
        "                      [[4,5],[5,6]]]])\n",
        "tensor2"
      ],
      "metadata": {
        "id": "jmWl-vegIiNi",
        "colab": {
          "base_uri": "https://localhost:8080/"
        },
        "outputId": "83f95ddc-7b10-49e7-dd66-7008903a155f"
      },
      "execution_count": 14,
      "outputs": [
        {
          "output_type": "execute_result",
          "data": {
            "text/plain": [
              "<tf.Tensor: shape=(2, 3, 2, 2), dtype=int32, numpy=\n",
              "array([[[[1, 2],\n",
              "         [3, 4]],\n",
              "\n",
              "        [[3, 4],\n",
              "         [4, 5]],\n",
              "\n",
              "        [[4, 5],\n",
              "         [5, 6]]],\n",
              "\n",
              "\n",
              "       [[[1, 2],\n",
              "         [3, 4]],\n",
              "\n",
              "        [[3, 4],\n",
              "         [4, 5]],\n",
              "\n",
              "        [[4, 5],\n",
              "         [5, 6]]]], dtype=int32)>"
            ]
          },
          "metadata": {},
          "execution_count": 14
        }
      ]
    },
    {
      "cell_type": "code",
      "source": [
        "tensor2.ndim"
      ],
      "metadata": {
        "colab": {
          "base_uri": "https://localhost:8080/"
        },
        "id": "mVXTTv4g7og-",
        "outputId": "00380f41-8ab2-452c-aa33-17fce17ebf94"
      },
      "execution_count": 15,
      "outputs": [
        {
          "output_type": "execute_result",
          "data": {
            "text/plain": [
              "4"
            ]
          },
          "metadata": {},
          "execution_count": 15
        }
      ]
    },
    {
      "cell_type": "markdown",
      "source": [
        "\n",
        "\n",
        " &emsp;&emsp; **Tensors**  &emsp;&&emsp;&emsp; **Rank**\n",
        "\n",
        "*   scalar &emsp;&emsp;&emsp; ----->    Rank 0 tensor\n",
        "*   vector &emsp;&emsp;&emsp; ----->    Rank 1 tensor\n",
        "*   matrix &emsp;&emsp;&emsp; ----->    Rank 2 tensor\n",
        "*   another_matrix----->    Rank 2 tensor\n",
        "*   tensor&emsp;&emsp;&emsp;        ----->    Rank 3 tenosr\n",
        "*   tenosr2  &emsp;&emsp;&emsp;     ----->    Rank 4 tenosr\n"
      ],
      "metadata": {
        "id": "9hF49a3D7sfB"
      }
    },
    {
      "cell_type": "markdown",
      "source": [
        "### *`tf.Variable`*"
      ],
      "metadata": {
        "id": "_fF2-d7kBD2b"
      }
    },
    {
      "cell_type": "code",
      "source": [
        "tf.Variable"
      ],
      "metadata": {
        "colab": {
          "base_uri": "https://localhost:8080/"
        },
        "id": "Qtw4g8SYAY0k",
        "outputId": "7747e3f7-0db1-45c9-b980-7d55eef56f4d"
      },
      "execution_count": 16,
      "outputs": [
        {
          "output_type": "execute_result",
          "data": {
            "text/plain": [
              "tensorflow.python.ops.variables.Variable"
            ]
          },
          "metadata": {},
          "execution_count": 16
        }
      ]
    },
    {
      "cell_type": "code",
      "source": [
        "variable_tensor= tf.Variable([7,10])\n",
        "constant_tensor = tf.constant([7,10])\n",
        "variable_tensor,constant_tensor"
      ],
      "metadata": {
        "id": "nIksxxlmA0hN",
        "colab": {
          "base_uri": "https://localhost:8080/"
        },
        "outputId": "36ad3aeb-3bba-460d-df12-e3cfdb5d9581"
      },
      "execution_count": 17,
      "outputs": [
        {
          "output_type": "execute_result",
          "data": {
            "text/plain": [
              "(<tf.Variable 'Variable:0' shape=(2,) dtype=int32, numpy=array([ 7, 10], dtype=int32)>,\n",
              " <tf.Tensor: shape=(2,), dtype=int32, numpy=array([ 7, 10], dtype=int32)>)"
            ]
          },
          "metadata": {},
          "execution_count": 17
        }
      ]
    },
    {
      "cell_type": "code",
      "source": [
        "# changing the value in tensor\n",
        "variable_tensor[1].assign(7)\n",
        "variable_tensor"
      ],
      "metadata": {
        "colab": {
          "base_uri": "https://localhost:8080/"
        },
        "id": "J3lg4hk3xZn7",
        "outputId": "b1bfe262-e868-47fa-c353-583c29575c23"
      },
      "execution_count": 18,
      "outputs": [
        {
          "output_type": "execute_result",
          "data": {
            "text/plain": [
              "<tf.Variable 'Variable:0' shape=(2,) dtype=int32, numpy=array([7, 7], dtype=int32)>"
            ]
          },
          "metadata": {},
          "execution_count": 18
        }
      ]
    },
    {
      "cell_type": "code",
      "source": [
        "#changing the value in constant_tensor\n",
        "constant_tensor[1].assign(7)"
      ],
      "metadata": {
        "colab": {
          "base_uri": "https://localhost:8080/",
          "height": 314
        },
        "id": "oNjpfDu-xtwf",
        "outputId": "3cafec05-1700-460d-a886-98c3b7754e46"
      },
      "execution_count": 19,
      "outputs": [
        {
          "output_type": "error",
          "ename": "AttributeError",
          "evalue": "ignored",
          "traceback": [
            "\u001b[0;31m---------------------------------------------------------------------------\u001b[0m",
            "\u001b[0;31mAttributeError\u001b[0m                            Traceback (most recent call last)",
            "\u001b[0;32m<ipython-input-19-dc34df3c5e59>\u001b[0m in \u001b[0;36m<cell line: 2>\u001b[0;34m()\u001b[0m\n\u001b[1;32m      1\u001b[0m \u001b[0;31m#changing the value in constant_tensor\u001b[0m\u001b[0;34m\u001b[0m\u001b[0;34m\u001b[0m\u001b[0m\n\u001b[0;32m----> 2\u001b[0;31m \u001b[0mconstant_tensor\u001b[0m\u001b[0;34m[\u001b[0m\u001b[0;36m1\u001b[0m\u001b[0;34m]\u001b[0m\u001b[0;34m.\u001b[0m\u001b[0massign\u001b[0m\u001b[0;34m(\u001b[0m\u001b[0;36m7\u001b[0m\u001b[0;34m)\u001b[0m\u001b[0;34m\u001b[0m\u001b[0;34m\u001b[0m\u001b[0m\n\u001b[0m",
            "\u001b[0;32m/usr/local/lib/python3.10/dist-packages/tensorflow/python/framework/ops.py\u001b[0m in \u001b[0;36m__getattr__\u001b[0;34m(self, name)\u001b[0m\n\u001b[1;32m    441\u001b[0m         \u001b[0mnp_config\u001b[0m\u001b[0;34m.\u001b[0m\u001b[0menable_numpy_behavior\u001b[0m\u001b[0;34m(\u001b[0m\u001b[0;34m)\u001b[0m\u001b[0;34m\u001b[0m\u001b[0;34m\u001b[0m\u001b[0m\n\u001b[1;32m    442\u001b[0m       \"\"\")\n\u001b[0;32m--> 443\u001b[0;31m     \u001b[0mself\u001b[0m\u001b[0;34m.\u001b[0m\u001b[0m__getattribute__\u001b[0m\u001b[0;34m(\u001b[0m\u001b[0mname\u001b[0m\u001b[0;34m)\u001b[0m\u001b[0;34m\u001b[0m\u001b[0;34m\u001b[0m\u001b[0m\n\u001b[0m\u001b[1;32m    444\u001b[0m \u001b[0;34m\u001b[0m\u001b[0m\n\u001b[1;32m    445\u001b[0m   \u001b[0;34m@\u001b[0m\u001b[0mstaticmethod\u001b[0m\u001b[0;34m\u001b[0m\u001b[0;34m\u001b[0m\u001b[0m\n",
            "\u001b[0;31mAttributeError\u001b[0m: 'tensorflow.python.framework.ops.EagerTensor' object has no attribute 'assign'"
          ]
        }
      ]
    },
    {
      "cell_type": "code",
      "source": [
        "constant_tensor[1]=7"
      ],
      "metadata": {
        "colab": {
          "base_uri": "https://localhost:8080/",
          "height": 175
        },
        "id": "WI1XaBjdyZij",
        "outputId": "1fbd2b24-3523-4d78-d6fe-0f4fc7b6c8cf"
      },
      "execution_count": 20,
      "outputs": [
        {
          "output_type": "error",
          "ename": "TypeError",
          "evalue": "ignored",
          "traceback": [
            "\u001b[0;31m---------------------------------------------------------------------------\u001b[0m",
            "\u001b[0;31mTypeError\u001b[0m                                 Traceback (most recent call last)",
            "\u001b[0;32m<ipython-input-20-833ecf251a3e>\u001b[0m in \u001b[0;36m<cell line: 1>\u001b[0;34m()\u001b[0m\n\u001b[0;32m----> 1\u001b[0;31m \u001b[0mconstant_tensor\u001b[0m\u001b[0;34m[\u001b[0m\u001b[0;36m1\u001b[0m\u001b[0;34m]\u001b[0m\u001b[0;34m=\u001b[0m\u001b[0;36m7\u001b[0m\u001b[0;34m\u001b[0m\u001b[0;34m\u001b[0m\u001b[0m\n\u001b[0m",
            "\u001b[0;31mTypeError\u001b[0m: 'tensorflow.python.framework.ops.EagerTensor' object does not support item assignment"
          ]
        }
      ]
    },
    {
      "cell_type": "markdown",
      "source": [
        "\n",
        "```\n",
        "All eager tf.Tensor values are immutable (in contrast to tf.Variable).\n",
        "```"
      ],
      "metadata": {
        "id": "XlrIsdKly8w6"
      }
    },
    {
      "cell_type": "markdown",
      "source": [
        "### *`tf.ones`*\n",
        "> Creates a tensor with all elements set to one (1)."
      ],
      "metadata": {
        "id": "QSRiaok1KUdO"
      }
    },
    {
      "cell_type": "code",
      "source": [
        "one = tf.ones(shape=(3,2,2))\n",
        "one"
      ],
      "metadata": {
        "colab": {
          "base_uri": "https://localhost:8080/"
        },
        "id": "uLTCXgywK4wm",
        "outputId": "2906ab02-300f-425a-a3ac-dbb6139217b8"
      },
      "execution_count": 21,
      "outputs": [
        {
          "output_type": "execute_result",
          "data": {
            "text/plain": [
              "<tf.Tensor: shape=(3, 2, 2), dtype=float32, numpy=\n",
              "array([[[1., 1.],\n",
              "        [1., 1.]],\n",
              "\n",
              "       [[1., 1.],\n",
              "        [1., 1.]],\n",
              "\n",
              "       [[1., 1.],\n",
              "        [1., 1.]]], dtype=float32)>"
            ]
          },
          "metadata": {},
          "execution_count": 21
        }
      ]
    },
    {
      "cell_type": "markdown",
      "source": [
        "### *`tf.zeros`*\n",
        "> Creates a tensor with all elements set to zero."
      ],
      "metadata": {
        "id": "o-t0z2xVLJ44"
      }
    },
    {
      "cell_type": "code",
      "source": [
        "zeros = tf.zeros(shape=(2,3,4))\n",
        "zeros"
      ],
      "metadata": {
        "colab": {
          "base_uri": "https://localhost:8080/"
        },
        "id": "iYO-f1azLXfH",
        "outputId": "d688f587-f10c-4e78-8c82-8b6a169291b8"
      },
      "execution_count": 22,
      "outputs": [
        {
          "output_type": "execute_result",
          "data": {
            "text/plain": [
              "<tf.Tensor: shape=(2, 3, 4), dtype=float32, numpy=\n",
              "array([[[0., 0., 0., 0.],\n",
              "        [0., 0., 0., 0.],\n",
              "        [0., 0., 0., 0.]],\n",
              "\n",
              "       [[0., 0., 0., 0.],\n",
              "        [0., 0., 0., 0.],\n",
              "        [0., 0., 0., 0.]]], dtype=float32)>"
            ]
          },
          "metadata": {},
          "execution_count": 22
        }
      ]
    },
    {
      "cell_type": "markdown",
      "source": [
        "### **Random Tensors**"
      ],
      "metadata": {
        "id": "Q7FbpNnJzjF5"
      }
    },
    {
      "cell_type": "markdown",
      "source": [
        "#### *`tf.random.Generator`*\n",
        "Random-number generator"
      ],
      "metadata": {
        "id": "G-Q3IUkd53Y-"
      }
    },
    {
      "cell_type": "code",
      "source": [
        "#create 2 random tensors (equal) , setting seed for reproducabilty\n",
        "ran_1 = tf.random.Generator.from_seed(seed=42)\n",
        "ran_2 = tf.random.Generator.from_seed(seed=42)"
      ],
      "metadata": {
        "id": "4jhpsLmgzrLr"
      },
      "execution_count": 23,
      "outputs": []
    },
    {
      "cell_type": "markdown",
      "source": [
        "#### *`tf.random.normal`*\n",
        "Outputs random values from a normal distribution."
      ],
      "metadata": {
        "id": "6fWmC0Xt0bFY"
      }
    },
    {
      "cell_type": "code",
      "source": [
        "random_1 = ran_1.normal(shape=(3,2))\n",
        "random_2 = ran_2.normal(shape=(3,2))\n",
        "random_1,random_2"
      ],
      "metadata": {
        "colab": {
          "base_uri": "https://localhost:8080/"
        },
        "id": "bIwn-M3g0kMK",
        "outputId": "ed0eeedc-4b5c-4dcb-bf05-8030de867c20"
      },
      "execution_count": 24,
      "outputs": [
        {
          "output_type": "execute_result",
          "data": {
            "text/plain": [
              "(<tf.Tensor: shape=(3, 2), dtype=float32, numpy=\n",
              " array([[-0.7565803 , -0.06854702],\n",
              "        [ 0.07595026, -1.2573844 ],\n",
              "        [-0.23193763, -1.8107855 ]], dtype=float32)>,\n",
              " <tf.Tensor: shape=(3, 2), dtype=float32, numpy=\n",
              " array([[-0.7565803 , -0.06854702],\n",
              "        [ 0.07595026, -1.2573844 ],\n",
              "        [-0.23193763, -1.8107855 ]], dtype=float32)>)"
            ]
          },
          "metadata": {},
          "execution_count": 24
        }
      ]
    },
    {
      "cell_type": "markdown",
      "source": [
        "#### *`tf.random.uniform`*\n",
        "Outputs random values from a uniform distribution.\n"
      ],
      "metadata": {
        "id": "ieTx5aAV1sUc"
      }
    },
    {
      "cell_type": "code",
      "source": [
        "random_3 = ran_1.uniform(shape=(3,2))\n",
        "random_4 = ran_2.uniform(shape=(3,2))\n",
        "random_3,random_4"
      ],
      "metadata": {
        "colab": {
          "base_uri": "https://localhost:8080/"
        },
        "id": "a4Kzh7m62DP_",
        "outputId": "33c3861b-f22a-4187-8a18-dd29a70fb69b"
      },
      "execution_count": 25,
      "outputs": [
        {
          "output_type": "execute_result",
          "data": {
            "text/plain": [
              "(<tf.Tensor: shape=(3, 2), dtype=float32, numpy=\n",
              " array([[0.7647915 , 0.03845465],\n",
              "        [0.8506975 , 0.20781887],\n",
              "        [0.711869  , 0.8843919 ]], dtype=float32)>,\n",
              " <tf.Tensor: shape=(3, 2), dtype=float32, numpy=\n",
              " array([[0.7647915 , 0.03845465],\n",
              "        [0.8506975 , 0.20781887],\n",
              "        [0.711869  , 0.8843919 ]], dtype=float32)>)"
            ]
          },
          "metadata": {},
          "execution_count": 25
        }
      ]
    },
    {
      "cell_type": "code",
      "source": [
        "'''\n",
        "random_5 has diiferent value even though we have set the same seed or if we\n",
        "re-run, we will get the different output\n",
        "'''\n",
        "#because it is operation-level seed.\n",
        "random_5 = tf.random.uniform(shape=(3,2),seed=42)\n",
        "random_5"
      ],
      "metadata": {
        "colab": {
          "base_uri": "https://localhost:8080/"
        },
        "id": "0tu9-6DZ2stS",
        "outputId": "fde8122e-232b-4e05-bb0e-2df67e014959"
      },
      "execution_count": 26,
      "outputs": [
        {
          "output_type": "execute_result",
          "data": {
            "text/plain": [
              "<tf.Tensor: shape=(3, 2), dtype=float32, numpy=\n",
              "array([[0.95227146, 0.67740774],\n",
              "       [0.79531825, 0.75578177],\n",
              "       [0.4759556 , 0.6310148 ]], dtype=float32)>"
            ]
          },
          "metadata": {},
          "execution_count": 26
        }
      ]
    },
    {
      "cell_type": "markdown",
      "source": [
        "### **`tf.random.set_seed`**\n",
        "> Operations that rely on a random seed actually derive it from two seeds: the global and operation-level seeds. This sets the global seed.\n",
        "\n",
        "\n",
        "```\n",
        "#operational-level seed\n",
        "random_5 = tf.random.uniform(shape=(3,2),seed=7)\n",
        "```\n",
        "\n",
        "\n",
        "```\n",
        "# global level seed\n",
        "tf.random.set_seed(1234)\n",
        "```\n",
        "\n",
        "\n"
      ],
      "metadata": {
        "id": "wF4Ag6ej6NEc"
      }
    },
    {
      "cell_type": "markdown",
      "source": [
        "- If the global seed is set but the operation seed is not set, we get different results for every call to the random op, but the same sequence for every re-run of the program:"
      ],
      "metadata": {
        "id": "C7Fz5KJ48gsg"
      }
    },
    {
      "cell_type": "code",
      "source": [
        "# gloabl seed\n",
        "tf.random.set_seed(42)\n",
        "random_6 = tf.random.uniform(shape=(3,2))\n",
        "random_7 = tf.random.uniform(shape=(3,2))\n",
        "random_6,random_7"
      ],
      "metadata": {
        "colab": {
          "base_uri": "https://localhost:8080/"
        },
        "id": "wg0TgDBe6sV1",
        "outputId": "e0a99054-d77d-48b2-95dc-e2ae1689f94b"
      },
      "execution_count": 27,
      "outputs": [
        {
          "output_type": "execute_result",
          "data": {
            "text/plain": [
              "(<tf.Tensor: shape=(3, 2), dtype=float32, numpy=\n",
              " array([[0.6645621 , 0.44100678],\n",
              "        [0.3528825 , 0.46448255],\n",
              "        [0.03366041, 0.68467236]], dtype=float32)>,\n",
              " <tf.Tensor: shape=(3, 2), dtype=float32, numpy=\n",
              " array([[0.68789124, 0.48447883],\n",
              "        [0.9309944 , 0.252187  ],\n",
              "        [0.73115396, 0.89256823]], dtype=float32)>)"
            ]
          },
          "metadata": {},
          "execution_count": 27
        }
      ]
    },
    {
      "cell_type": "markdown",
      "source": [
        "- If the operation seed is set, we get different results for\n",
        "every call to the random op, but the same sequence for every re-run of the program:"
      ],
      "metadata": {
        "id": "rfpxyzUv-3HQ"
      }
    },
    {
      "cell_type": "code",
      "source": [
        "random_6 = tf.random.uniform(shape=(3,2),seed=1)\n",
        "random_7 = tf.random.uniform(shape=(3,2),seed=1)\n",
        "random_6,random_7"
      ],
      "metadata": {
        "colab": {
          "base_uri": "https://localhost:8080/"
        },
        "id": "m2Gmcugt-i8A",
        "outputId": "68d35599-ee55-4906-d533-6ac75cbb5969"
      },
      "execution_count": 28,
      "outputs": [
        {
          "output_type": "execute_result",
          "data": {
            "text/plain": [
              "(<tf.Tensor: shape=(3, 2), dtype=float32, numpy=\n",
              " array([[0.15012848, 0.63992536],\n",
              "        [0.81787777, 0.34572172],\n",
              "        [0.99661934, 0.64152765]], dtype=float32)>,\n",
              " <tf.Tensor: shape=(3, 2), dtype=float32, numpy=\n",
              " array([[0.01177216, 0.02529657],\n",
              "        [0.06012475, 0.5448892 ],\n",
              "        [0.3730942 , 0.6073855 ]], dtype=float32)>)"
            ]
          },
          "metadata": {},
          "execution_count": 28
        }
      ]
    },
    {
      "cell_type": "markdown",
      "source": [
        "Differnt output on the second call of `tf.random.uniform` above is because the same tf.random.uniform kernel (i.e. internal representation) is used by TensorFlow for all calls of it with the same arguments, and the kernel maintains an internal counter which is incremented every time it is executed, generating different results."
      ],
      "metadata": {
        "id": "upz7p83H-9c0"
      }
    },
    {
      "cell_type": "markdown",
      "source": [
        "Calling `tf.random.set_seed` will reset any such counters:"
      ],
      "metadata": {
        "id": "6O59J1UN9vX-"
      }
    },
    {
      "cell_type": "code",
      "source": [
        "tf.random.set_seed(1234)\n",
        "print(tf.random.uniform([1], seed=1))  # generates 'A1'\n",
        "print(tf.random.uniform([1], seed=1))  # generates 'A2'\n",
        "tf.random.set_seed(1234)\n",
        "print(tf.random.uniform([1], seed=1))  # generates 'A1'\n",
        "print(tf.random.uniform([1], seed=1))  # generates 'A2'"
      ],
      "metadata": {
        "colab": {
          "base_uri": "https://localhost:8080/"
        },
        "id": "TXViDG4E-P20",
        "outputId": "023b100a-94b9-4e3c-b295-db47cf552029"
      },
      "execution_count": 29,
      "outputs": [
        {
          "output_type": "stream",
          "name": "stdout",
          "text": [
            "tf.Tensor([0.1689806], shape=(1,), dtype=float32)\n",
            "tf.Tensor([0.7539084], shape=(1,), dtype=float32)\n",
            "tf.Tensor([0.1689806], shape=(1,), dtype=float32)\n",
            "tf.Tensor([0.7539084], shape=(1,), dtype=float32)\n"
          ]
        }
      ]
    },
    {
      "cell_type": "markdown",
      "source": [
        "### **`tf.random.shuffle`**\n",
        ">Randomly shuffles a tensor along its first dimension.\n",
        "\n",
        "\n"
      ],
      "metadata": {
        "id": "AMnLTVLtBGLd"
      }
    },
    {
      "cell_type": "code",
      "source": [
        "# Shuffle the tensor ( valuable when you want to shuffle the data so inherent doesn't affect learning)\n",
        "not_shuffled = tf.constant([[1,2],\n",
        "                            [3,4],\n",
        "                            [4,5]])\n",
        "not_shuffled"
      ],
      "metadata": {
        "colab": {
          "base_uri": "https://localhost:8080/"
        },
        "id": "yCORpl63CJ6m",
        "outputId": "67935c09-7ae6-4f4d-ccfd-a1cc12521fef"
      },
      "execution_count": 30,
      "outputs": [
        {
          "output_type": "execute_result",
          "data": {
            "text/plain": [
              "<tf.Tensor: shape=(3, 2), dtype=int32, numpy=\n",
              "array([[1, 2],\n",
              "       [3, 4],\n",
              "       [4, 5]], dtype=int32)>"
            ]
          },
          "metadata": {},
          "execution_count": 30
        }
      ]
    },
    {
      "cell_type": "code",
      "source": [
        "tf.random.shuffle(not_shuffled)"
      ],
      "metadata": {
        "colab": {
          "base_uri": "https://localhost:8080/"
        },
        "id": "4K7qiCoQC7cc",
        "outputId": "70f52154-d7df-4640-f00b-d7390e16a290"
      },
      "execution_count": 31,
      "outputs": [
        {
          "output_type": "execute_result",
          "data": {
            "text/plain": [
              "<tf.Tensor: shape=(3, 2), dtype=int32, numpy=\n",
              "array([[4, 5],\n",
              "       [1, 2],\n",
              "       [3, 4]], dtype=int32)>"
            ]
          },
          "metadata": {},
          "execution_count": 31
        }
      ]
    },
    {
      "cell_type": "code",
      "source": [
        "# for reprducability\n",
        "tf.random.set_seed(7)\n",
        "tf.random.shuffle(not_shuffled,seed=10)"
      ],
      "metadata": {
        "colab": {
          "base_uri": "https://localhost:8080/"
        },
        "id": "nWqBEI2YDjV0",
        "outputId": "f52a3bb2-dfe3-4869-a3a5-3e1830026cbd"
      },
      "execution_count": 32,
      "outputs": [
        {
          "output_type": "execute_result",
          "data": {
            "text/plain": [
              "<tf.Tensor: shape=(3, 2), dtype=int32, numpy=\n",
              "array([[4, 5],\n",
              "       [1, 2],\n",
              "       [3, 4]], dtype=int32)>"
            ]
          },
          "metadata": {},
          "execution_count": 32
        }
      ]
    },
    {
      "cell_type": "markdown",
      "source": [
        "### **Tensors from NumPy arrays**"
      ],
      "metadata": {
        "id": "k3IEq5R3DwvQ"
      }
    },
    {
      "cell_type": "code",
      "source": [
        "import numpy as np\n",
        "numpy_A= np.arange(0,24)\n",
        "numpy_A"
      ],
      "metadata": {
        "colab": {
          "base_uri": "https://localhost:8080/"
        },
        "id": "TkpsXezoMHjI",
        "outputId": "7f001edd-6cfc-4998-961b-b4a9f9297598"
      },
      "execution_count": 33,
      "outputs": [
        {
          "output_type": "execute_result",
          "data": {
            "text/plain": [
              "array([ 0,  1,  2,  3,  4,  5,  6,  7,  8,  9, 10, 11, 12, 13, 14, 15, 16,\n",
              "       17, 18, 19, 20, 21, 22, 23])"
            ]
          },
          "metadata": {},
          "execution_count": 33
        }
      ]
    },
    {
      "cell_type": "code",
      "source": [
        "c = tf.constant(numpy_A,shape=(2,3,4))\n",
        "c"
      ],
      "metadata": {
        "colab": {
          "base_uri": "https://localhost:8080/"
        },
        "id": "DGu4d3cAMjFp",
        "outputId": "15b11e32-5141-428a-aae3-d27ddfb7d8ef"
      },
      "execution_count": 34,
      "outputs": [
        {
          "output_type": "execute_result",
          "data": {
            "text/plain": [
              "<tf.Tensor: shape=(2, 3, 4), dtype=int64, numpy=\n",
              "array([[[ 0,  1,  2,  3],\n",
              "        [ 4,  5,  6,  7],\n",
              "        [ 8,  9, 10, 11]],\n",
              "\n",
              "       [[12, 13, 14, 15],\n",
              "        [16, 17, 18, 19],\n",
              "        [20, 21, 22, 23]]])>"
            ]
          },
          "metadata": {},
          "execution_count": 34
        }
      ]
    },
    {
      "cell_type": "markdown",
      "source": [
        "## *Tensor Attributes*\n",
        "\n",
        "> getting information from tensors\n",
        "- Shape\n",
        "- Rank\n",
        "- Axis or dimension\n",
        "- Size\n"
      ],
      "metadata": {
        "id": "wulydZsx7oaf"
      }
    },
    {
      "cell_type": "code",
      "source": [
        "tf.random.set_seed(42)\n",
        "t = tf.random.uniform(shape=(2,3,4,5),maxval=200,seed=42,dtype=tf.int32)\n",
        "t"
      ],
      "metadata": {
        "id": "wNCY8pnA8HvZ",
        "colab": {
          "base_uri": "https://localhost:8080/"
        },
        "outputId": "6e90cd1b-a923-4d89-858e-a55fec8c6856"
      },
      "execution_count": 35,
      "outputs": [
        {
          "output_type": "execute_result",
          "data": {
            "text/plain": [
              "<tf.Tensor: shape=(2, 3, 4, 5), dtype=int32, numpy=\n",
              "array([[[[ 33, 138, 130, 174, 108],\n",
              "         [141, 153,  73,  42,   5],\n",
              "         [176, 144,  93, 167,   6],\n",
              "         [166,  42,  43, 191,  18]],\n",
              "\n",
              "        [[ 46, 190,  14, 176,  91],\n",
              "         [ 91, 146, 169,  72,  85],\n",
              "         [100, 154, 174,  78, 168],\n",
              "         [134, 164, 141, 150, 171]],\n",
              "\n",
              "        [[ 87, 116, 100, 166, 197],\n",
              "         [150, 167,  12, 156, 142],\n",
              "         [111, 165, 129,  79, 199],\n",
              "         [ 66,  14,  81, 159, 144]]],\n",
              "\n",
              "\n",
              "       [[[161,   4,  12,  43,  53],\n",
              "         [  6,  89,  35,  40,  18],\n",
              "         [187,  74, 102, 198, 102],\n",
              "         [ 16, 173,  26, 155, 162]],\n",
              "\n",
              "        [[150, 164, 107,  38, 154],\n",
              "         [124,  16, 199, 106,   4],\n",
              "         [ 94,   8, 151, 132, 175],\n",
              "         [ 19,  17,  34, 180, 198]],\n",
              "\n",
              "        [[183, 185, 141,  83,  41],\n",
              "         [147,  98, 133,  49, 193],\n",
              "         [118,  68, 168,  15,  41],\n",
              "         [154, 130,  10, 138,  57]]]], dtype=int32)>"
            ]
          },
          "metadata": {},
          "execution_count": 35
        }
      ]
    },
    {
      "cell_type": "code",
      "source": [
        "t[1][2][3][4]"
      ],
      "metadata": {
        "colab": {
          "base_uri": "https://localhost:8080/"
        },
        "id": "qyaj458y6_sG",
        "outputId": "8891441c-86a4-4a1e-8343-4e3ed1a5005d"
      },
      "execution_count": 36,
      "outputs": [
        {
          "output_type": "execute_result",
          "data": {
            "text/plain": [
              "<tf.Tensor: shape=(), dtype=int32, numpy=57>"
            ]
          },
          "metadata": {},
          "execution_count": 36
        }
      ]
    },
    {
      "cell_type": "code",
      "source": [
        "# shape of tensor\n",
        "t.shape"
      ],
      "metadata": {
        "colab": {
          "base_uri": "https://localhost:8080/"
        },
        "id": "yRYupzbd8D9u",
        "outputId": "74a88b85-53a5-4b89-8f56-a9428c1118e9"
      },
      "execution_count": 37,
      "outputs": [
        {
          "output_type": "execute_result",
          "data": {
            "text/plain": [
              "TensorShape([2, 3, 4, 5])"
            ]
          },
          "metadata": {},
          "execution_count": 37
        }
      ]
    },
    {
      "cell_type": "code",
      "source": [
        "# rank of tensor\n",
        "t.ndim"
      ],
      "metadata": {
        "colab": {
          "base_uri": "https://localhost:8080/"
        },
        "id": "8kxhziYt8mH2",
        "outputId": "7d0b2554-0279-4c54-ee54-4483be713fc6"
      },
      "execution_count": 38,
      "outputs": [
        {
          "output_type": "execute_result",
          "data": {
            "text/plain": [
              "4"
            ]
          },
          "metadata": {},
          "execution_count": 38
        }
      ]
    },
    {
      "cell_type": "code",
      "source": [
        "# size of elements\n",
        "tf.size(t)"
      ],
      "metadata": {
        "colab": {
          "base_uri": "https://localhost:8080/"
        },
        "id": "HcJMMAX09QqY",
        "outputId": "66b65bc9-e844-4ebe-b1a1-cde063e52b60"
      },
      "execution_count": 39,
      "outputs": [
        {
          "output_type": "execute_result",
          "data": {
            "text/plain": [
              "<tf.Tensor: shape=(), dtype=int32, numpy=120>"
            ]
          },
          "metadata": {},
          "execution_count": 39
        }
      ]
    },
    {
      "cell_type": "code",
      "source": [
        "tf.size(t).numpy()"
      ],
      "metadata": {
        "colab": {
          "base_uri": "https://localhost:8080/"
        },
        "id": "LsXWSaW9-LQ-",
        "outputId": "c7b538c5-d637-4a10-cb41-865f71d427d5"
      },
      "execution_count": 40,
      "outputs": [
        {
          "output_type": "execute_result",
          "data": {
            "text/plain": [
              "120"
            ]
          },
          "metadata": {},
          "execution_count": 40
        }
      ]
    },
    {
      "cell_type": "code",
      "source": [
        "# Elements along 0 axis\n",
        "t.shape[0]"
      ],
      "metadata": {
        "colab": {
          "base_uri": "https://localhost:8080/"
        },
        "id": "oU_ybBm99fp8",
        "outputId": "cff3f491-3677-44b3-8835-5afc283524bd"
      },
      "execution_count": 41,
      "outputs": [
        {
          "output_type": "execute_result",
          "data": {
            "text/plain": [
              "2"
            ]
          },
          "metadata": {},
          "execution_count": 41
        }
      ]
    },
    {
      "cell_type": "code",
      "source": [
        "# last axis\n",
        "t.shape[-1]"
      ],
      "metadata": {
        "colab": {
          "base_uri": "https://localhost:8080/"
        },
        "id": "JwB-hfjC9pLO",
        "outputId": "dc420806-f43b-424f-c083-b5f427615247"
      },
      "execution_count": 42,
      "outputs": [
        {
          "output_type": "execute_result",
          "data": {
            "text/plain": [
              "5"
            ]
          },
          "metadata": {},
          "execution_count": 42
        }
      ]
    },
    {
      "cell_type": "code",
      "source": [
        "# dtype\n",
        "t.dtype"
      ],
      "metadata": {
        "colab": {
          "base_uri": "https://localhost:8080/"
        },
        "id": "5osIvRpw9Sw6",
        "outputId": "432b8e37-abe1-4daf-a3ae-b62ea93b8a2c"
      },
      "execution_count": 43,
      "outputs": [
        {
          "output_type": "execute_result",
          "data": {
            "text/plain": [
              "tf.int32"
            ]
          },
          "metadata": {},
          "execution_count": 43
        }
      ]
    },
    {
      "cell_type": "markdown",
      "source": [
        "## **Indexing Tensors**"
      ],
      "metadata": {
        "id": "OSoh027I-WhZ"
      }
    },
    {
      "cell_type": "code",
      "source": [
        "t"
      ],
      "metadata": {
        "colab": {
          "base_uri": "https://localhost:8080/"
        },
        "id": "3ypDWiTQAkLl",
        "outputId": "75d0181c-bfb6-4cc3-9fc5-765130f48690"
      },
      "execution_count": 44,
      "outputs": [
        {
          "output_type": "execute_result",
          "data": {
            "text/plain": [
              "<tf.Tensor: shape=(2, 3, 4, 5), dtype=int32, numpy=\n",
              "array([[[[ 33, 138, 130, 174, 108],\n",
              "         [141, 153,  73,  42,   5],\n",
              "         [176, 144,  93, 167,   6],\n",
              "         [166,  42,  43, 191,  18]],\n",
              "\n",
              "        [[ 46, 190,  14, 176,  91],\n",
              "         [ 91, 146, 169,  72,  85],\n",
              "         [100, 154, 174,  78, 168],\n",
              "         [134, 164, 141, 150, 171]],\n",
              "\n",
              "        [[ 87, 116, 100, 166, 197],\n",
              "         [150, 167,  12, 156, 142],\n",
              "         [111, 165, 129,  79, 199],\n",
              "         [ 66,  14,  81, 159, 144]]],\n",
              "\n",
              "\n",
              "       [[[161,   4,  12,  43,  53],\n",
              "         [  6,  89,  35,  40,  18],\n",
              "         [187,  74, 102, 198, 102],\n",
              "         [ 16, 173,  26, 155, 162]],\n",
              "\n",
              "        [[150, 164, 107,  38, 154],\n",
              "         [124,  16, 199, 106,   4],\n",
              "         [ 94,   8, 151, 132, 175],\n",
              "         [ 19,  17,  34, 180, 198]],\n",
              "\n",
              "        [[183, 185, 141,  83,  41],\n",
              "         [147,  98, 133,  49, 193],\n",
              "         [118,  68, 168,  15,  41],\n",
              "         [154, 130,  10, 138,  57]]]], dtype=int32)>"
            ]
          },
          "metadata": {},
          "execution_count": 44
        }
      ]
    },
    {
      "cell_type": "markdown",
      "source": [
        "Get the first element"
      ],
      "metadata": {
        "id": "TCMZXW2FL7vU"
      }
    },
    {
      "cell_type": "code",
      "source": [
        "t[0,0,0,0],t[0][0][0][0]"
      ],
      "metadata": {
        "colab": {
          "base_uri": "https://localhost:8080/"
        },
        "id": "BKSamD-wMCaK",
        "outputId": "652bad0b-a5de-422f-d147-cec5c88f8583"
      },
      "execution_count": 45,
      "outputs": [
        {
          "output_type": "execute_result",
          "data": {
            "text/plain": [
              "(<tf.Tensor: shape=(), dtype=int32, numpy=33>,\n",
              " <tf.Tensor: shape=(), dtype=int32, numpy=33>)"
            ]
          },
          "metadata": {},
          "execution_count": 45
        }
      ]
    },
    {
      "cell_type": "markdown",
      "source": [
        " Get the last element"
      ],
      "metadata": {
        "id": "t9d-My_lMSaT"
      }
    },
    {
      "cell_type": "code",
      "source": [
        "t[-1,-1,-1,-1],t[-1,-1,-1,-1]"
      ],
      "metadata": {
        "colab": {
          "base_uri": "https://localhost:8080/"
        },
        "id": "UC9moM9LMddu",
        "outputId": "a4c93573-04ad-44c6-92c6-a2f63edb09b8"
      },
      "execution_count": 46,
      "outputs": [
        {
          "output_type": "execute_result",
          "data": {
            "text/plain": [
              "(<tf.Tensor: shape=(), dtype=int32, numpy=57>,\n",
              " <tf.Tensor: shape=(), dtype=int32, numpy=57>)"
            ]
          },
          "metadata": {},
          "execution_count": 46
        }
      ]
    },
    {
      "cell_type": "markdown",
      "source": [
        "Get the first 2 elements of each dimension"
      ],
      "metadata": {
        "id": "RWBs4ZeSKCKI"
      }
    },
    {
      "cell_type": "code",
      "source": [
        "t[:2,:2,:2,:2]"
      ],
      "metadata": {
        "colab": {
          "base_uri": "https://localhost:8080/"
        },
        "id": "YfnD7eSqAnqN",
        "outputId": "b842ea45-aa50-4397-c740-869a0f708584"
      },
      "execution_count": 47,
      "outputs": [
        {
          "output_type": "execute_result",
          "data": {
            "text/plain": [
              "<tf.Tensor: shape=(2, 2, 2, 2), dtype=int32, numpy=\n",
              "array([[[[ 33, 138],\n",
              "         [141, 153]],\n",
              "\n",
              "        [[ 46, 190],\n",
              "         [ 91, 146]]],\n",
              "\n",
              "\n",
              "       [[[161,   4],\n",
              "         [  6,  89]],\n",
              "\n",
              "        [[150, 164],\n",
              "         [124,  16]]]], dtype=int32)>"
            ]
          },
          "metadata": {},
          "execution_count": 47
        }
      ]
    },
    {
      "cell_type": "code",
      "source": [
        "#Get the first element from each dimension from each index except for final one\n",
        "t[:1,:1,:1,:]"
      ],
      "metadata": {
        "colab": {
          "base_uri": "https://localhost:8080/"
        },
        "id": "rlN6VGrEJxrL",
        "outputId": "8bb8fef2-631a-496d-9349-a816f4db32b0"
      },
      "execution_count": 50,
      "outputs": [
        {
          "output_type": "execute_result",
          "data": {
            "text/plain": [
              "<tf.Tensor: shape=(1, 1, 1, 5), dtype=int32, numpy=array([[[[ 33, 138, 130, 174, 108]]]], dtype=int32)>"
            ]
          },
          "metadata": {},
          "execution_count": 50
        }
      ]
    },
    {
      "cell_type": "markdown",
      "source": [
        "## **Reshaping Tensors**\n",
        "### `tf.reshape`"
      ],
      "metadata": {
        "id": "BhsV2j3VOrp-"
      }
    },
    {
      "cell_type": "code",
      "source": [
        "tf.shape(t).numpy()"
      ],
      "metadata": {
        "colab": {
          "base_uri": "https://localhost:8080/"
        },
        "id": "iS-PRiJezcjD",
        "outputId": "7eadd870-6a64-4589-ea62-49535f794b80"
      },
      "execution_count": 54,
      "outputs": [
        {
          "output_type": "execute_result",
          "data": {
            "text/plain": [
              "array([2, 3, 4, 5], dtype=int32)"
            ]
          },
          "metadata": {},
          "execution_count": 54
        }
      ]
    },
    {
      "cell_type": "code",
      "source": [
        "2*3*4*5"
      ],
      "metadata": {
        "colab": {
          "base_uri": "https://localhost:8080/"
        },
        "id": "5NQLsAsEz-ab",
        "outputId": "bf24a199-04d4-4816-b526-1583f8b7baf6"
      },
      "execution_count": 55,
      "outputs": [
        {
          "output_type": "execute_result",
          "data": {
            "text/plain": [
              "120"
            ]
          },
          "metadata": {},
          "execution_count": 55
        }
      ]
    },
    {
      "cell_type": "code",
      "source": [
        "tf.reshape(t,(3,2,5,4))"
      ],
      "metadata": {
        "colab": {
          "base_uri": "https://localhost:8080/"
        },
        "id": "0JfWpPgB0Set",
        "outputId": "b196f37a-14b5-49b8-ccdb-bbc988f43d73"
      },
      "execution_count": 56,
      "outputs": [
        {
          "output_type": "execute_result",
          "data": {
            "text/plain": [
              "<tf.Tensor: shape=(3, 2, 5, 4), dtype=int32, numpy=\n",
              "array([[[[ 33, 138, 130, 174],\n",
              "         [108, 141, 153,  73],\n",
              "         [ 42,   5, 176, 144],\n",
              "         [ 93, 167,   6, 166],\n",
              "         [ 42,  43, 191,  18]],\n",
              "\n",
              "        [[ 46, 190,  14, 176],\n",
              "         [ 91,  91, 146, 169],\n",
              "         [ 72,  85, 100, 154],\n",
              "         [174,  78, 168, 134],\n",
              "         [164, 141, 150, 171]]],\n",
              "\n",
              "\n",
              "       [[[ 87, 116, 100, 166],\n",
              "         [197, 150, 167,  12],\n",
              "         [156, 142, 111, 165],\n",
              "         [129,  79, 199,  66],\n",
              "         [ 14,  81, 159, 144]],\n",
              "\n",
              "        [[161,   4,  12,  43],\n",
              "         [ 53,   6,  89,  35],\n",
              "         [ 40,  18, 187,  74],\n",
              "         [102, 198, 102,  16],\n",
              "         [173,  26, 155, 162]]],\n",
              "\n",
              "\n",
              "       [[[150, 164, 107,  38],\n",
              "         [154, 124,  16, 199],\n",
              "         [106,   4,  94,   8],\n",
              "         [151, 132, 175,  19],\n",
              "         [ 17,  34, 180, 198]],\n",
              "\n",
              "        [[183, 185, 141,  83],\n",
              "         [ 41, 147,  98, 133],\n",
              "         [ 49, 193, 118,  68],\n",
              "         [168,  15,  41, 154],\n",
              "         [130,  10, 138,  57]]]], dtype=int32)>"
            ]
          },
          "metadata": {},
          "execution_count": 56
        }
      ]
    },
    {
      "cell_type": "markdown",
      "source": [
        "## Expanding the Tensors"
      ],
      "metadata": {
        "id": "0sDniE8y7BNF"
      }
    },
    {
      "cell_type": "code",
      "source": [
        "t_rank2= tf.constant([10,7,9,5],shape=(2,2))\n",
        "t_rank2"
      ],
      "metadata": {
        "colab": {
          "base_uri": "https://localhost:8080/"
        },
        "id": "-QlLw0Hl7DBr",
        "outputId": "7f40b79b-d2e9-4a37-c95c-2349343b1f5e"
      },
      "execution_count": 60,
      "outputs": [
        {
          "output_type": "execute_result",
          "data": {
            "text/plain": [
              "<tf.Tensor: shape=(2, 2), dtype=int32, numpy=\n",
              "array([[10,  7],\n",
              "       [ 9,  5]], dtype=int32)>"
            ]
          },
          "metadata": {},
          "execution_count": 60
        }
      ]
    },
    {
      "cell_type": "markdown",
      "source": [
        "### `tf.newaxis`"
      ],
      "metadata": {
        "id": "Z-0xG7VAeVfY"
      }
    },
    {
      "cell_type": "code",
      "source": [
        "# Add in extra dimension\n",
        "#t_rank3 = t_rank2[:,:,tf.newaxis]\n",
        "t_rank3 = t_rank2[[... , tf.newaxis]]\n",
        "t_rank3"
      ],
      "metadata": {
        "colab": {
          "base_uri": "https://localhost:8080/"
        },
        "id": "MS0Tl5jGcM4e",
        "outputId": "3b7a3f8c-648a-4773-cb1b-22dc08ecab93"
      },
      "execution_count": 63,
      "outputs": [
        {
          "output_type": "execute_result",
          "data": {
            "text/plain": [
              "<tf.Tensor: shape=(2, 2, 1), dtype=int32, numpy=\n",
              "array([[[10],\n",
              "        [ 7]],\n",
              "\n",
              "       [[ 9],\n",
              "        [ 5]]], dtype=int32)>"
            ]
          },
          "metadata": {},
          "execution_count": 63
        }
      ]
    },
    {
      "cell_type": "code",
      "source": [
        "t_rank3 = t_rank2[tf.newaxis,:,:]\n",
        "t_rank3"
      ],
      "metadata": {
        "colab": {
          "base_uri": "https://localhost:8080/"
        },
        "id": "NbPeij3b5bXR",
        "outputId": "9a8cb141-ae77-4bc5-8cb4-d1e2f61bc547"
      },
      "execution_count": 64,
      "outputs": [
        {
          "output_type": "execute_result",
          "data": {
            "text/plain": [
              "<tf.Tensor: shape=(1, 2, 2), dtype=int32, numpy=\n",
              "array([[[10,  7],\n",
              "        [ 9,  5]]], dtype=int32)>"
            ]
          },
          "metadata": {},
          "execution_count": 64
        }
      ]
    },
    {
      "cell_type": "markdown",
      "source": [
        "### `tf.expand_dims`"
      ],
      "metadata": {
        "id": "G6kZw3utdQtE"
      }
    },
    {
      "cell_type": "code",
      "source": [
        "tf.expand_dims(t_rank2,axis=-1)"
      ],
      "metadata": {
        "colab": {
          "base_uri": "https://localhost:8080/"
        },
        "id": "uo2DTliKgl99",
        "outputId": "89d6426b-e249-498b-c96e-ee31618e8d15"
      },
      "execution_count": 65,
      "outputs": [
        {
          "output_type": "execute_result",
          "data": {
            "text/plain": [
              "<tf.Tensor: shape=(2, 2, 1), dtype=int32, numpy=\n",
              "array([[[10],\n",
              "        [ 7]],\n",
              "\n",
              "       [[ 9],\n",
              "        [ 5]]], dtype=int32)>"
            ]
          },
          "metadata": {},
          "execution_count": 65
        }
      ]
    },
    {
      "cell_type": "code",
      "source": [
        "tf.expand_dims(t_rank2,axis=0)"
      ],
      "metadata": {
        "colab": {
          "base_uri": "https://localhost:8080/"
        },
        "id": "UOsljezy5nY9",
        "outputId": "ae2ae81f-3214-4e7c-b2c0-ddfaafed02cd"
      },
      "execution_count": 66,
      "outputs": [
        {
          "output_type": "execute_result",
          "data": {
            "text/plain": [
              "<tf.Tensor: shape=(1, 2, 2), dtype=int32, numpy=\n",
              "array([[[10,  7],\n",
              "        [ 9,  5]]], dtype=int32)>"
            ]
          },
          "metadata": {},
          "execution_count": 66
        }
      ]
    },
    {
      "cell_type": "markdown",
      "source": [
        "## Manipulating Tensors (Tensor Operations)"
      ],
      "metadata": {
        "id": "2QRRPo6h5tEP"
      }
    },
    {
      "cell_type": "markdown",
      "source": [
        "#### Basic Operations\n",
        "`+,-,*,/`"
      ],
      "metadata": {
        "id": "668dR4Qj51Kf"
      }
    },
    {
      "cell_type": "code",
      "source": [
        "tensor = tf.constant([10,7,1,2],shape=(2,2))\n",
        "tensor"
      ],
      "metadata": {
        "colab": {
          "base_uri": "https://localhost:8080/"
        },
        "id": "EabjddVlG5OH",
        "outputId": "040a2de4-76c2-4fdb-91d5-264820185b44"
      },
      "execution_count": 67,
      "outputs": [
        {
          "output_type": "execute_result",
          "data": {
            "text/plain": [
              "<tf.Tensor: shape=(2, 2), dtype=int32, numpy=\n",
              "array([[10,  7],\n",
              "       [ 1,  2]], dtype=int32)>"
            ]
          },
          "metadata": {},
          "execution_count": 67
        }
      ]
    },
    {
      "cell_type": "code",
      "source": [
        "tensor+10"
      ],
      "metadata": {
        "colab": {
          "base_uri": "https://localhost:8080/"
        },
        "id": "p9w_7rliHF7o",
        "outputId": "1f5829c6-672b-4e5e-e77f-6975a126288e"
      },
      "execution_count": 68,
      "outputs": [
        {
          "output_type": "execute_result",
          "data": {
            "text/plain": [
              "<tf.Tensor: shape=(2, 2), dtype=int32, numpy=\n",
              "array([[20, 17],\n",
              "       [11, 12]], dtype=int32)>"
            ]
          },
          "metadata": {},
          "execution_count": 68
        }
      ]
    },
    {
      "cell_type": "code",
      "source": [
        "tensor-7"
      ],
      "metadata": {
        "colab": {
          "base_uri": "https://localhost:8080/"
        },
        "id": "OfMFb9fzHH4i",
        "outputId": "86d5eb58-3ec8-40be-8c36-30b7b301f635"
      },
      "execution_count": 69,
      "outputs": [
        {
          "output_type": "execute_result",
          "data": {
            "text/plain": [
              "<tf.Tensor: shape=(2, 2), dtype=int32, numpy=\n",
              "array([[ 3,  0],\n",
              "       [-6, -5]], dtype=int32)>"
            ]
          },
          "metadata": {},
          "execution_count": 69
        }
      ]
    },
    {
      "cell_type": "code",
      "source": [
        "tensor*2"
      ],
      "metadata": {
        "colab": {
          "base_uri": "https://localhost:8080/"
        },
        "id": "CFcF3hyqHLDQ",
        "outputId": "324c149b-9658-4478-9930-87a3cf3a5274"
      },
      "execution_count": 70,
      "outputs": [
        {
          "output_type": "execute_result",
          "data": {
            "text/plain": [
              "<tf.Tensor: shape=(2, 2), dtype=int32, numpy=\n",
              "array([[20, 14],\n",
              "       [ 2,  4]], dtype=int32)>"
            ]
          },
          "metadata": {},
          "execution_count": 70
        }
      ]
    },
    {
      "cell_type": "markdown",
      "source": [
        "#### `tf.math`\n",
        "Tensor built-in functions to perform.(preferred way)"
      ],
      "metadata": {
        "id": "brKm3C4BHOo3"
      }
    },
    {
      "cell_type": "code",
      "source": [
        "tf.math.multiply(tensor,2)"
      ],
      "metadata": {
        "colab": {
          "base_uri": "https://localhost:8080/"
        },
        "id": "k5TXyOoNHk4d",
        "outputId": "231d8680-5bce-4872-9a14-5cfb151c918d"
      },
      "execution_count": 71,
      "outputs": [
        {
          "output_type": "execute_result",
          "data": {
            "text/plain": [
              "<tf.Tensor: shape=(2, 2), dtype=int32, numpy=\n",
              "array([[20, 14],\n",
              "       [ 2,  4]], dtype=int32)>"
            ]
          },
          "metadata": {},
          "execution_count": 71
        }
      ]
    },
    {
      "cell_type": "code",
      "source": [
        "tf.math.argmax(tensor)"
      ],
      "metadata": {
        "colab": {
          "base_uri": "https://localhost:8080/"
        },
        "id": "qWE45CCeHwef",
        "outputId": "33957c18-a378-47ff-ca1b-582693284c6a"
      },
      "execution_count": 72,
      "outputs": [
        {
          "output_type": "execute_result",
          "data": {
            "text/plain": [
              "<tf.Tensor: shape=(2,), dtype=int64, numpy=array([0, 0])>"
            ]
          },
          "metadata": {},
          "execution_count": 72
        }
      ]
    },
    {
      "cell_type": "code",
      "source": [],
      "metadata": {
        "id": "y-xnbHOxH1Fx"
      },
      "execution_count": 73,
      "outputs": []
    },
    {
      "cell_type": "code",
      "source": [],
      "metadata": {
        "id": "TPSebpb_ICVJ"
      },
      "execution_count": null,
      "outputs": []
    }
  ]
}