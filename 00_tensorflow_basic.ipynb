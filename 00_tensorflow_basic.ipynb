{
  "nbformat": 4,
  "nbformat_minor": 0,
  "metadata": {
    "colab": {
      "provenance": [],
      "toc_visible": true,
      "authorship_tag": "ABX9TyO6G5QkS9iD0GDn/nGqC1kF",
      "include_colab_link": true
    },
    "kernelspec": {
      "name": "python3",
      "display_name": "Python 3"
    },
    "language_info": {
      "name": "python"
    }
  },
  "cells": [
    {
      "cell_type": "markdown",
      "metadata": {
        "id": "view-in-github",
        "colab_type": "text"
      },
      "source": [
        "<a href=\"https://colab.research.google.com/github/shivam-bajaj/TensorFlow/blob/master/00_tensorflow_basic.ipynb\" target=\"_parent\"><img src=\"https://colab.research.google.com/assets/colab-badge.svg\" alt=\"Open In Colab\"/></a>"
      ]
    },
    {
      "cell_type": "markdown",
      "source": [
        "# **TensorFlow**"
      ],
      "metadata": {
        "id": "fPIvBTXcCVTM"
      }
    },
    {
      "cell_type": "markdown",
      "source": [
        "## **Intro to Tensors**"
      ],
      "metadata": {
        "id": "2clD9q7NCjsQ"
      }
    },
    {
      "cell_type": "code",
      "source": [
        "import tensorflow as tf"
      ],
      "metadata": {
        "id": "LmqTeJWvDLfc"
      },
      "execution_count": 1,
      "outputs": []
    },
    {
      "cell_type": "code",
      "source": [
        "tf.__version__"
      ],
      "metadata": {
        "id": "MEf1WVGHDTuV",
        "colab": {
          "base_uri": "https://localhost:8080/",
          "height": 35
        },
        "outputId": "1e31194d-f0b4-47b1-902a-d1ef37ba4861"
      },
      "execution_count": 2,
      "outputs": [
        {
          "output_type": "execute_result",
          "data": {
            "text/plain": [
              "'2.12.0'"
            ],
            "application/vnd.google.colaboratory.intrinsic+json": {
              "type": "string"
            }
          },
          "metadata": {},
          "execution_count": 2
        }
      ]
    },
    {
      "cell_type": "markdown",
      "source": [
        "### *`tf.constant`*"
      ],
      "metadata": {
        "id": "xEX6dSQH6aEV"
      }
    },
    {
      "cell_type": "code",
      "source": [
        "tf.constant"
      ],
      "metadata": {
        "colab": {
          "base_uri": "https://localhost:8080/"
        },
        "id": "Kl3x_fxiCKim",
        "outputId": "215b54e8-0223-457b-f11b-ff449a5bb4bf"
      },
      "execution_count": 3,
      "outputs": [
        {
          "output_type": "execute_result",
          "data": {
            "text/plain": [
              "<function tensorflow.python.framework.constant_op.constant(value, dtype=None, shape=None, name='Const')>"
            ]
          },
          "metadata": {},
          "execution_count": 3
        }
      ]
    },
    {
      "cell_type": "code",
      "source": [
        "# create tensors with tf.constant()\n",
        "\n",
        "scalar = tf.constant(7)\n",
        "scalar"
      ],
      "metadata": {
        "id": "AELSLWjkDW8d",
        "colab": {
          "base_uri": "https://localhost:8080/"
        },
        "outputId": "8fd3f6e4-4908-45f1-d858-12e69136d38c"
      },
      "execution_count": 4,
      "outputs": [
        {
          "output_type": "execute_result",
          "data": {
            "text/plain": [
              "<tf.Tensor: shape=(), dtype=int32, numpy=7>"
            ]
          },
          "metadata": {},
          "execution_count": 4
        }
      ]
    },
    {
      "cell_type": "code",
      "source": [
        "# check dimension of a tensor\n",
        "# tenosr rank 1\n",
        "scalar.ndim"
      ],
      "metadata": {
        "colab": {
          "base_uri": "https://localhost:8080/"
        },
        "id": "LfoSfwfoFAUS",
        "outputId": "085ef397-0050-42be-9dce-8be314a5fb94"
      },
      "execution_count": 5,
      "outputs": [
        {
          "output_type": "execute_result",
          "data": {
            "text/plain": [
              "0"
            ]
          },
          "metadata": {},
          "execution_count": 5
        }
      ]
    },
    {
      "cell_type": "code",
      "source": [
        "# create a vector\n",
        "# tensor rank 1\n",
        "vector = tf.constant([7,9])\n",
        "vector"
      ],
      "metadata": {
        "colab": {
          "base_uri": "https://localhost:8080/"
        },
        "id": "yncCc82XFYK3",
        "outputId": "615ebd91-70b0-48a0-d59b-9f109d0b4951"
      },
      "execution_count": 6,
      "outputs": [
        {
          "output_type": "execute_result",
          "data": {
            "text/plain": [
              "<tf.Tensor: shape=(2,), dtype=int32, numpy=array([7, 9], dtype=int32)>"
            ]
          },
          "metadata": {},
          "execution_count": 6
        }
      ]
    },
    {
      "cell_type": "code",
      "source": [
        "vector.ndim"
      ],
      "metadata": {
        "colab": {
          "base_uri": "https://localhost:8080/"
        },
        "id": "FhHx4VgXFibp",
        "outputId": "dac02760-1fd4-4398-a65b-617624066f56"
      },
      "execution_count": 7,
      "outputs": [
        {
          "output_type": "execute_result",
          "data": {
            "text/plain": [
              "1"
            ]
          },
          "metadata": {},
          "execution_count": 7
        }
      ]
    },
    {
      "cell_type": "code",
      "source": [
        "# create a matrix\n",
        "# tensor rank -2\n",
        "matrix = tf.constant([[7,10],[10,7]])\n",
        "matrix"
      ],
      "metadata": {
        "colab": {
          "base_uri": "https://localhost:8080/"
        },
        "id": "lzIOg4mBFkeq",
        "outputId": "fcb1e202-593e-4d3c-8fbd-f61716480a07"
      },
      "execution_count": 8,
      "outputs": [
        {
          "output_type": "execute_result",
          "data": {
            "text/plain": [
              "<tf.Tensor: shape=(2, 2), dtype=int32, numpy=\n",
              "array([[ 7, 10],\n",
              "       [10,  7]], dtype=int32)>"
            ]
          },
          "metadata": {},
          "execution_count": 8
        }
      ]
    },
    {
      "cell_type": "code",
      "source": [
        "matrix.ndim"
      ],
      "metadata": {
        "colab": {
          "base_uri": "https://localhost:8080/"
        },
        "id": "MPttMmeQF8Z5",
        "outputId": "cb4b8dd5-cd95-40c1-a73a-3234d6960823"
      },
      "execution_count": 9,
      "outputs": [
        {
          "output_type": "execute_result",
          "data": {
            "text/plain": [
              "2"
            ]
          },
          "metadata": {},
          "execution_count": 9
        }
      ]
    },
    {
      "cell_type": "code",
      "source": [
        "# another matrix with specific data type\n",
        "another_matrix = tf.constant([[1.,2.],[3.,4]], dtype=tf.float16)\n",
        "another_matrix"
      ],
      "metadata": {
        "colab": {
          "base_uri": "https://localhost:8080/"
        },
        "id": "_C5Z7PWsF-du",
        "outputId": "2a09afcb-b5ee-480f-c3d4-dff9912d6ccd"
      },
      "execution_count": 10,
      "outputs": [
        {
          "output_type": "execute_result",
          "data": {
            "text/plain": [
              "<tf.Tensor: shape=(2, 2), dtype=float16, numpy=\n",
              "array([[1., 2.],\n",
              "       [3., 4.]], dtype=float16)>"
            ]
          },
          "metadata": {},
          "execution_count": 10
        }
      ]
    },
    {
      "cell_type": "code",
      "source": [
        "# tensor rank 2\n",
        "another_matrix.ndim"
      ],
      "metadata": {
        "colab": {
          "base_uri": "https://localhost:8080/"
        },
        "id": "p9m6jZ3tG08S",
        "outputId": "20bac41b-9ce2-4fd8-a779-b5b73c3bc7ad"
      },
      "execution_count": 11,
      "outputs": [
        {
          "output_type": "execute_result",
          "data": {
            "text/plain": [
              "2"
            ]
          },
          "metadata": {},
          "execution_count": 11
        }
      ]
    },
    {
      "cell_type": "code",
      "source": [
        "# tensor rank -3\n",
        "tensor = tf.constant([[[1,2],[3,4]],\n",
        "                      [[3,4],[4,5]],\n",
        "                      [[4,5],[5,6]]])\n",
        "tensor"
      ],
      "metadata": {
        "colab": {
          "base_uri": "https://localhost:8080/"
        },
        "id": "_NwGvAOyHFoe",
        "outputId": "49a7d388-dfb4-477c-b5ee-1e8967947261"
      },
      "execution_count": 12,
      "outputs": [
        {
          "output_type": "execute_result",
          "data": {
            "text/plain": [
              "<tf.Tensor: shape=(3, 2, 2), dtype=int32, numpy=\n",
              "array([[[1, 2],\n",
              "        [3, 4]],\n",
              "\n",
              "       [[3, 4],\n",
              "        [4, 5]],\n",
              "\n",
              "       [[4, 5],\n",
              "        [5, 6]]], dtype=int32)>"
            ]
          },
          "metadata": {},
          "execution_count": 12
        }
      ]
    },
    {
      "cell_type": "code",
      "source": [
        "tensor.ndim"
      ],
      "metadata": {
        "colab": {
          "base_uri": "https://localhost:8080/"
        },
        "id": "MM9V9w_mHm0Y",
        "outputId": "4cf73253-cf04-40be-b03c-1e80f284f681"
      },
      "execution_count": 13,
      "outputs": [
        {
          "output_type": "execute_result",
          "data": {
            "text/plain": [
              "3"
            ]
          },
          "metadata": {},
          "execution_count": 13
        }
      ]
    },
    {
      "cell_type": "code",
      "source": [
        "tensor2 = tf.constant([[\n",
        "                      [[1,2],[3,4]],\n",
        "                      [[3,4],[4,5]],\n",
        "                      [[4,5],[5,6]]],\n",
        "                      [[[1,2],[3,4]],\n",
        "                      [[3,4],[4,5]],\n",
        "                      [[4,5],[5,6]]]])\n",
        "tensor2"
      ],
      "metadata": {
        "id": "jmWl-vegIiNi",
        "colab": {
          "base_uri": "https://localhost:8080/"
        },
        "outputId": "7401e169-7aa1-4763-8ab7-ffdc5dff6633"
      },
      "execution_count": 14,
      "outputs": [
        {
          "output_type": "execute_result",
          "data": {
            "text/plain": [
              "<tf.Tensor: shape=(2, 3, 2, 2), dtype=int32, numpy=\n",
              "array([[[[1, 2],\n",
              "         [3, 4]],\n",
              "\n",
              "        [[3, 4],\n",
              "         [4, 5]],\n",
              "\n",
              "        [[4, 5],\n",
              "         [5, 6]]],\n",
              "\n",
              "\n",
              "       [[[1, 2],\n",
              "         [3, 4]],\n",
              "\n",
              "        [[3, 4],\n",
              "         [4, 5]],\n",
              "\n",
              "        [[4, 5],\n",
              "         [5, 6]]]], dtype=int32)>"
            ]
          },
          "metadata": {},
          "execution_count": 14
        }
      ]
    },
    {
      "cell_type": "code",
      "source": [
        "tensor2.ndim"
      ],
      "metadata": {
        "colab": {
          "base_uri": "https://localhost:8080/"
        },
        "id": "mVXTTv4g7og-",
        "outputId": "6256c3bf-056e-4ee8-9832-abfc26a13c91"
      },
      "execution_count": 15,
      "outputs": [
        {
          "output_type": "execute_result",
          "data": {
            "text/plain": [
              "4"
            ]
          },
          "metadata": {},
          "execution_count": 15
        }
      ]
    },
    {
      "cell_type": "markdown",
      "source": [
        "\n",
        "\n",
        " &emsp;&emsp; **Tensors**  &emsp;&&emsp;&emsp; **Rank**\n",
        "\n",
        "*   scalar &emsp;&emsp;&emsp; ----->    Rank 0 tensor\n",
        "*   vector &emsp;&emsp;&emsp; ----->    Rank 1 tensor\n",
        "*   matrix &emsp;&emsp;&emsp; ----->    Rank 2 tensor\n",
        "*   another_matrix----->    Rank 2 tensor\n",
        "*   tensor&emsp;&emsp;&emsp;        ----->    Rank 3 tenosr\n",
        "*   tenosr2  &emsp;&emsp;&emsp;     ----->    Rank 4 tenosr\n"
      ],
      "metadata": {
        "id": "9hF49a3D7sfB"
      }
    },
    {
      "cell_type": "markdown",
      "source": [
        "### *`tf.Variable`*"
      ],
      "metadata": {
        "id": "_fF2-d7kBD2b"
      }
    },
    {
      "cell_type": "code",
      "source": [
        "tf.Variable"
      ],
      "metadata": {
        "colab": {
          "base_uri": "https://localhost:8080/"
        },
        "id": "Qtw4g8SYAY0k",
        "outputId": "6b6dd0e2-1d17-44d4-b332-7ea4ad5d3767"
      },
      "execution_count": 16,
      "outputs": [
        {
          "output_type": "execute_result",
          "data": {
            "text/plain": [
              "tensorflow.python.ops.variables.Variable"
            ]
          },
          "metadata": {},
          "execution_count": 16
        }
      ]
    },
    {
      "cell_type": "code",
      "source": [
        "variable_tensor= tf.Variable([7,10])\n",
        "constant_tensor = tf.constant([7,10])\n",
        "variable_tensor,constant_tensor"
      ],
      "metadata": {
        "id": "nIksxxlmA0hN",
        "colab": {
          "base_uri": "https://localhost:8080/"
        },
        "outputId": "600a32f0-b6d4-453a-91b9-248baea34dfe"
      },
      "execution_count": 17,
      "outputs": [
        {
          "output_type": "execute_result",
          "data": {
            "text/plain": [
              "(<tf.Variable 'Variable:0' shape=(2,) dtype=int32, numpy=array([ 7, 10], dtype=int32)>,\n",
              " <tf.Tensor: shape=(2,), dtype=int32, numpy=array([ 7, 10], dtype=int32)>)"
            ]
          },
          "metadata": {},
          "execution_count": 17
        }
      ]
    },
    {
      "cell_type": "code",
      "source": [
        "# changing the value in tensor\n",
        "variable_tensor[1].assign(7)\n",
        "variable_tensor"
      ],
      "metadata": {
        "colab": {
          "base_uri": "https://localhost:8080/"
        },
        "id": "J3lg4hk3xZn7",
        "outputId": "02650ba0-1a67-4827-d241-f739c0f97cc7"
      },
      "execution_count": 18,
      "outputs": [
        {
          "output_type": "execute_result",
          "data": {
            "text/plain": [
              "<tf.Variable 'Variable:0' shape=(2,) dtype=int32, numpy=array([7, 7], dtype=int32)>"
            ]
          },
          "metadata": {},
          "execution_count": 18
        }
      ]
    },
    {
      "cell_type": "code",
      "source": [
        "#changing the value in constant_tensor\n",
        "constant_tensor[1].assign(7)"
      ],
      "metadata": {
        "colab": {
          "base_uri": "https://localhost:8080/",
          "height": 314
        },
        "id": "oNjpfDu-xtwf",
        "outputId": "5808724b-5194-44d8-dc32-609d191ee0a8"
      },
      "execution_count": 19,
      "outputs": [
        {
          "output_type": "error",
          "ename": "AttributeError",
          "evalue": "ignored",
          "traceback": [
            "\u001b[0;31m---------------------------------------------------------------------------\u001b[0m",
            "\u001b[0;31mAttributeError\u001b[0m                            Traceback (most recent call last)",
            "\u001b[0;32m<ipython-input-19-dc34df3c5e59>\u001b[0m in \u001b[0;36m<cell line: 2>\u001b[0;34m()\u001b[0m\n\u001b[1;32m      1\u001b[0m \u001b[0;31m#changing the value in constant_tensor\u001b[0m\u001b[0;34m\u001b[0m\u001b[0;34m\u001b[0m\u001b[0m\n\u001b[0;32m----> 2\u001b[0;31m \u001b[0mconstant_tensor\u001b[0m\u001b[0;34m[\u001b[0m\u001b[0;36m1\u001b[0m\u001b[0;34m]\u001b[0m\u001b[0;34m.\u001b[0m\u001b[0massign\u001b[0m\u001b[0;34m(\u001b[0m\u001b[0;36m7\u001b[0m\u001b[0;34m)\u001b[0m\u001b[0;34m\u001b[0m\u001b[0;34m\u001b[0m\u001b[0m\n\u001b[0m",
            "\u001b[0;32m/usr/local/lib/python3.10/dist-packages/tensorflow/python/framework/ops.py\u001b[0m in \u001b[0;36m__getattr__\u001b[0;34m(self, name)\u001b[0m\n\u001b[1;32m    441\u001b[0m         \u001b[0mnp_config\u001b[0m\u001b[0;34m.\u001b[0m\u001b[0menable_numpy_behavior\u001b[0m\u001b[0;34m(\u001b[0m\u001b[0;34m)\u001b[0m\u001b[0;34m\u001b[0m\u001b[0;34m\u001b[0m\u001b[0m\n\u001b[1;32m    442\u001b[0m       \"\"\")\n\u001b[0;32m--> 443\u001b[0;31m     \u001b[0mself\u001b[0m\u001b[0;34m.\u001b[0m\u001b[0m__getattribute__\u001b[0m\u001b[0;34m(\u001b[0m\u001b[0mname\u001b[0m\u001b[0;34m)\u001b[0m\u001b[0;34m\u001b[0m\u001b[0;34m\u001b[0m\u001b[0m\n\u001b[0m\u001b[1;32m    444\u001b[0m \u001b[0;34m\u001b[0m\u001b[0m\n\u001b[1;32m    445\u001b[0m   \u001b[0;34m@\u001b[0m\u001b[0mstaticmethod\u001b[0m\u001b[0;34m\u001b[0m\u001b[0;34m\u001b[0m\u001b[0m\n",
            "\u001b[0;31mAttributeError\u001b[0m: 'tensorflow.python.framework.ops.EagerTensor' object has no attribute 'assign'"
          ]
        }
      ]
    },
    {
      "cell_type": "code",
      "source": [
        "constant_tensor[1]=7"
      ],
      "metadata": {
        "colab": {
          "base_uri": "https://localhost:8080/",
          "height": 175
        },
        "id": "WI1XaBjdyZij",
        "outputId": "0e98c382-07fe-4551-ee04-b6f5dee67774"
      },
      "execution_count": 20,
      "outputs": [
        {
          "output_type": "error",
          "ename": "TypeError",
          "evalue": "ignored",
          "traceback": [
            "\u001b[0;31m---------------------------------------------------------------------------\u001b[0m",
            "\u001b[0;31mTypeError\u001b[0m                                 Traceback (most recent call last)",
            "\u001b[0;32m<ipython-input-20-833ecf251a3e>\u001b[0m in \u001b[0;36m<cell line: 1>\u001b[0;34m()\u001b[0m\n\u001b[0;32m----> 1\u001b[0;31m \u001b[0mconstant_tensor\u001b[0m\u001b[0;34m[\u001b[0m\u001b[0;36m1\u001b[0m\u001b[0;34m]\u001b[0m\u001b[0;34m=\u001b[0m\u001b[0;36m7\u001b[0m\u001b[0;34m\u001b[0m\u001b[0;34m\u001b[0m\u001b[0m\n\u001b[0m",
            "\u001b[0;31mTypeError\u001b[0m: 'tensorflow.python.framework.ops.EagerTensor' object does not support item assignment"
          ]
        }
      ]
    },
    {
      "cell_type": "markdown",
      "source": [
        "\n",
        "```\n",
        "All eager tf.Tensor values are immutable (in contrast to tf.Variable).\n",
        "```"
      ],
      "metadata": {
        "id": "XlrIsdKly8w6"
      }
    },
    {
      "cell_type": "markdown",
      "source": [
        "### *`tf.ones`*\n",
        "> Creates a tensor with all elements set to one (1)."
      ],
      "metadata": {
        "id": "QSRiaok1KUdO"
      }
    },
    {
      "cell_type": "code",
      "source": [
        "one = tf.ones(shape=(3,2,2))\n",
        "one"
      ],
      "metadata": {
        "colab": {
          "base_uri": "https://localhost:8080/"
        },
        "id": "uLTCXgywK4wm",
        "outputId": "b5b22eaf-55c1-40fb-96fe-8d7f05e4d0d5"
      },
      "execution_count": 21,
      "outputs": [
        {
          "output_type": "execute_result",
          "data": {
            "text/plain": [
              "<tf.Tensor: shape=(3, 2, 2), dtype=float32, numpy=\n",
              "array([[[1., 1.],\n",
              "        [1., 1.]],\n",
              "\n",
              "       [[1., 1.],\n",
              "        [1., 1.]],\n",
              "\n",
              "       [[1., 1.],\n",
              "        [1., 1.]]], dtype=float32)>"
            ]
          },
          "metadata": {},
          "execution_count": 21
        }
      ]
    },
    {
      "cell_type": "markdown",
      "source": [
        "### *`tf.zeros`*\n",
        "> Creates a tensor with all elements set to zero."
      ],
      "metadata": {
        "id": "o-t0z2xVLJ44"
      }
    },
    {
      "cell_type": "code",
      "source": [
        "zeros = tf.zeros(shape=(2,3,4))\n",
        "zeros"
      ],
      "metadata": {
        "colab": {
          "base_uri": "https://localhost:8080/"
        },
        "id": "iYO-f1azLXfH",
        "outputId": "c0e98adb-3748-4856-cb5f-77ff2059735a"
      },
      "execution_count": 22,
      "outputs": [
        {
          "output_type": "execute_result",
          "data": {
            "text/plain": [
              "<tf.Tensor: shape=(2, 3, 4), dtype=float32, numpy=\n",
              "array([[[0., 0., 0., 0.],\n",
              "        [0., 0., 0., 0.],\n",
              "        [0., 0., 0., 0.]],\n",
              "\n",
              "       [[0., 0., 0., 0.],\n",
              "        [0., 0., 0., 0.],\n",
              "        [0., 0., 0., 0.]]], dtype=float32)>"
            ]
          },
          "metadata": {},
          "execution_count": 22
        }
      ]
    },
    {
      "cell_type": "markdown",
      "source": [
        "### **Random Tensors**"
      ],
      "metadata": {
        "id": "Q7FbpNnJzjF5"
      }
    },
    {
      "cell_type": "markdown",
      "source": [
        "#### *`tf.random.Generator`*\n",
        "Random-number generator"
      ],
      "metadata": {
        "id": "G-Q3IUkd53Y-"
      }
    },
    {
      "cell_type": "code",
      "source": [
        "#create 2 random tensors (equal) , setting seed for reproducabilty\n",
        "ran_1 = tf.random.Generator.from_seed(seed=42)\n",
        "ran_2 = tf.random.Generator.from_seed(seed=42)"
      ],
      "metadata": {
        "id": "4jhpsLmgzrLr"
      },
      "execution_count": 23,
      "outputs": []
    },
    {
      "cell_type": "markdown",
      "source": [
        "#### *`tf.random.normal`*\n",
        "Outputs random values from a normal distribution."
      ],
      "metadata": {
        "id": "6fWmC0Xt0bFY"
      }
    },
    {
      "cell_type": "code",
      "source": [
        "random_1 = ran_1.normal(shape=(3,2))\n",
        "random_2 = ran_2.normal(shape=(3,2))\n",
        "random_1,random_2"
      ],
      "metadata": {
        "colab": {
          "base_uri": "https://localhost:8080/"
        },
        "id": "bIwn-M3g0kMK",
        "outputId": "e686b07f-6fbb-4b81-ae53-50bd100ddad0"
      },
      "execution_count": 24,
      "outputs": [
        {
          "output_type": "execute_result",
          "data": {
            "text/plain": [
              "(<tf.Tensor: shape=(3, 2), dtype=float32, numpy=\n",
              " array([[-0.7565803 , -0.06854702],\n",
              "        [ 0.07595026, -1.2573844 ],\n",
              "        [-0.23193763, -1.8107855 ]], dtype=float32)>,\n",
              " <tf.Tensor: shape=(3, 2), dtype=float32, numpy=\n",
              " array([[-0.7565803 , -0.06854702],\n",
              "        [ 0.07595026, -1.2573844 ],\n",
              "        [-0.23193763, -1.8107855 ]], dtype=float32)>)"
            ]
          },
          "metadata": {},
          "execution_count": 24
        }
      ]
    },
    {
      "cell_type": "markdown",
      "source": [
        "#### *`tf.random.uniform`*\n",
        "Outputs random values from a uniform distribution.\n"
      ],
      "metadata": {
        "id": "ieTx5aAV1sUc"
      }
    },
    {
      "cell_type": "code",
      "source": [
        "random_3 = ran_1.uniform(shape=(3,2))\n",
        "random_4 = ran_2.uniform(shape=(3,2))\n",
        "random_3,random_4"
      ],
      "metadata": {
        "colab": {
          "base_uri": "https://localhost:8080/"
        },
        "id": "a4Kzh7m62DP_",
        "outputId": "570e58c4-3b4a-44ee-fd61-5fa7dd78b52f"
      },
      "execution_count": 25,
      "outputs": [
        {
          "output_type": "execute_result",
          "data": {
            "text/plain": [
              "(<tf.Tensor: shape=(3, 2), dtype=float32, numpy=\n",
              " array([[0.7647915 , 0.03845465],\n",
              "        [0.8506975 , 0.20781887],\n",
              "        [0.711869  , 0.8843919 ]], dtype=float32)>,\n",
              " <tf.Tensor: shape=(3, 2), dtype=float32, numpy=\n",
              " array([[0.7647915 , 0.03845465],\n",
              "        [0.8506975 , 0.20781887],\n",
              "        [0.711869  , 0.8843919 ]], dtype=float32)>)"
            ]
          },
          "metadata": {},
          "execution_count": 25
        }
      ]
    },
    {
      "cell_type": "code",
      "source": [
        "'''\n",
        "random_5 has diiferent value even though we have set the same seed or if we\n",
        "re-run, we will get the different output\n",
        "'''\n",
        "#because it is operation-level seed.\n",
        "random_5 = tf.random.uniform(shape=(3,2),seed=42)\n",
        "random_5"
      ],
      "metadata": {
        "colab": {
          "base_uri": "https://localhost:8080/"
        },
        "id": "0tu9-6DZ2stS",
        "outputId": "a54e1047-e1d1-4e2d-c25f-eafe18fcaacf"
      },
      "execution_count": 26,
      "outputs": [
        {
          "output_type": "execute_result",
          "data": {
            "text/plain": [
              "<tf.Tensor: shape=(3, 2), dtype=float32, numpy=\n",
              "array([[0.95227146, 0.67740774],\n",
              "       [0.79531825, 0.75578177],\n",
              "       [0.4759556 , 0.6310148 ]], dtype=float32)>"
            ]
          },
          "metadata": {},
          "execution_count": 26
        }
      ]
    },
    {
      "cell_type": "markdown",
      "source": [
        "### **`tf.random.set_seed`**\n",
        "> Operations that rely on a random seed actually derive it from two seeds: the global and operation-level seeds. This sets the global seed.\n",
        "\n",
        "\n",
        "```\n",
        "#operational-level seed\n",
        "random_5 = tf.random.uniform(shape=(3,2),seed=7)\n",
        "```\n",
        "\n",
        "\n",
        "```\n",
        "# global level seed\n",
        "tf.random.set_seed(1234)\n",
        "```\n",
        "\n",
        "\n"
      ],
      "metadata": {
        "id": "wF4Ag6ej6NEc"
      }
    },
    {
      "cell_type": "markdown",
      "source": [
        "- If the global seed is set but the operation seed is not set, we get different results for every call to the random op, but the same sequence for every re-run of the program:"
      ],
      "metadata": {
        "id": "C7Fz5KJ48gsg"
      }
    },
    {
      "cell_type": "code",
      "source": [
        "# gloabl seed\n",
        "tf.random.set_seed(42)\n",
        "random_6 = tf.random.uniform(shape=(3,2))\n",
        "random_7 = tf.random.uniform(shape=(3,2))\n",
        "random_6,random_7"
      ],
      "metadata": {
        "colab": {
          "base_uri": "https://localhost:8080/"
        },
        "id": "wg0TgDBe6sV1",
        "outputId": "0d356f9b-cdec-4bf0-a9b7-1482deddbd86"
      },
      "execution_count": 27,
      "outputs": [
        {
          "output_type": "execute_result",
          "data": {
            "text/plain": [
              "(<tf.Tensor: shape=(3, 2), dtype=float32, numpy=\n",
              " array([[0.6645621 , 0.44100678],\n",
              "        [0.3528825 , 0.46448255],\n",
              "        [0.03366041, 0.68467236]], dtype=float32)>,\n",
              " <tf.Tensor: shape=(3, 2), dtype=float32, numpy=\n",
              " array([[0.68789124, 0.48447883],\n",
              "        [0.9309944 , 0.252187  ],\n",
              "        [0.73115396, 0.89256823]], dtype=float32)>)"
            ]
          },
          "metadata": {},
          "execution_count": 27
        }
      ]
    },
    {
      "cell_type": "markdown",
      "source": [
        "- If the operation seed is set, we get different results for\n",
        "every call to the random op, but the same sequence for every re-run of the program:"
      ],
      "metadata": {
        "id": "rfpxyzUv-3HQ"
      }
    },
    {
      "cell_type": "code",
      "source": [
        "random_6 = tf.random.uniform(shape=(3,2),seed=1)\n",
        "random_7 = tf.random.uniform(shape=(3,2),seed=1)\n",
        "random_6,random_7"
      ],
      "metadata": {
        "colab": {
          "base_uri": "https://localhost:8080/"
        },
        "id": "m2Gmcugt-i8A",
        "outputId": "15e1034a-cf3c-4d45-b215-b857f35dd7a1"
      },
      "execution_count": 28,
      "outputs": [
        {
          "output_type": "execute_result",
          "data": {
            "text/plain": [
              "(<tf.Tensor: shape=(3, 2), dtype=float32, numpy=\n",
              " array([[0.15012848, 0.63992536],\n",
              "        [0.81787777, 0.34572172],\n",
              "        [0.99661934, 0.64152765]], dtype=float32)>,\n",
              " <tf.Tensor: shape=(3, 2), dtype=float32, numpy=\n",
              " array([[0.01177216, 0.02529657],\n",
              "        [0.06012475, 0.5448892 ],\n",
              "        [0.3730942 , 0.6073855 ]], dtype=float32)>)"
            ]
          },
          "metadata": {},
          "execution_count": 28
        }
      ]
    },
    {
      "cell_type": "markdown",
      "source": [
        "Differnt output on the second call of `tf.random.uniform` above is because the same tf.random.uniform kernel (i.e. internal representation) is used by TensorFlow for all calls of it with the same arguments, and the kernel maintains an internal counter which is incremented every time it is executed, generating different results."
      ],
      "metadata": {
        "id": "upz7p83H-9c0"
      }
    },
    {
      "cell_type": "markdown",
      "source": [
        "Calling `tf.random.set_seed` will reset any such counters:"
      ],
      "metadata": {
        "id": "6O59J1UN9vX-"
      }
    },
    {
      "cell_type": "code",
      "source": [
        "tf.random.set_seed(1234)\n",
        "print(tf.random.uniform([1], seed=1))  # generates 'A1'\n",
        "print(tf.random.uniform([1], seed=1))  # generates 'A2'\n",
        "tf.random.set_seed(1234)\n",
        "print(tf.random.uniform([1], seed=1))  # generates 'A1'\n",
        "print(tf.random.uniform([1], seed=1))  # generates 'A2'"
      ],
      "metadata": {
        "colab": {
          "base_uri": "https://localhost:8080/"
        },
        "id": "TXViDG4E-P20",
        "outputId": "aae677fa-5be0-4b75-c037-cc98826e8752"
      },
      "execution_count": 29,
      "outputs": [
        {
          "output_type": "stream",
          "name": "stdout",
          "text": [
            "tf.Tensor([0.1689806], shape=(1,), dtype=float32)\n",
            "tf.Tensor([0.7539084], shape=(1,), dtype=float32)\n",
            "tf.Tensor([0.1689806], shape=(1,), dtype=float32)\n",
            "tf.Tensor([0.7539084], shape=(1,), dtype=float32)\n"
          ]
        }
      ]
    },
    {
      "cell_type": "markdown",
      "source": [
        "### **`tf.random.shuffle`**\n",
        ">Randomly shuffles a tensor along its first dimension.\n",
        "\n",
        "\n"
      ],
      "metadata": {
        "id": "AMnLTVLtBGLd"
      }
    },
    {
      "cell_type": "code",
      "source": [
        "# Shuffle the tensor ( valuable when you want to shuffle the data so inherent doesn't affect learning)\n",
        "not_shuffled = tf.constant([[1,2],\n",
        "                            [3,4],\n",
        "                            [4,5]])\n",
        "not_shuffled"
      ],
      "metadata": {
        "colab": {
          "base_uri": "https://localhost:8080/"
        },
        "id": "yCORpl63CJ6m",
        "outputId": "04147090-4a68-49be-b4f8-5890d61cf727"
      },
      "execution_count": 30,
      "outputs": [
        {
          "output_type": "execute_result",
          "data": {
            "text/plain": [
              "<tf.Tensor: shape=(3, 2), dtype=int32, numpy=\n",
              "array([[1, 2],\n",
              "       [3, 4],\n",
              "       [4, 5]], dtype=int32)>"
            ]
          },
          "metadata": {},
          "execution_count": 30
        }
      ]
    },
    {
      "cell_type": "code",
      "source": [
        "tf.random.shuffle(not_shuffled)"
      ],
      "metadata": {
        "colab": {
          "base_uri": "https://localhost:8080/"
        },
        "id": "4K7qiCoQC7cc",
        "outputId": "b3b4fb3e-0b21-48d3-9395-5cce5b923435"
      },
      "execution_count": 31,
      "outputs": [
        {
          "output_type": "execute_result",
          "data": {
            "text/plain": [
              "<tf.Tensor: shape=(3, 2), dtype=int32, numpy=\n",
              "array([[4, 5],\n",
              "       [1, 2],\n",
              "       [3, 4]], dtype=int32)>"
            ]
          },
          "metadata": {},
          "execution_count": 31
        }
      ]
    },
    {
      "cell_type": "code",
      "source": [
        "# for reprducability\n",
        "tf.random.set_seed(7)\n",
        "tf.random.shuffle(not_shuffled,seed=10)"
      ],
      "metadata": {
        "colab": {
          "base_uri": "https://localhost:8080/"
        },
        "id": "nWqBEI2YDjV0",
        "outputId": "accdd44b-a249-4e95-8ef4-1a1762163a5b"
      },
      "execution_count": 32,
      "outputs": [
        {
          "output_type": "execute_result",
          "data": {
            "text/plain": [
              "<tf.Tensor: shape=(3, 2), dtype=int32, numpy=\n",
              "array([[4, 5],\n",
              "       [1, 2],\n",
              "       [3, 4]], dtype=int32)>"
            ]
          },
          "metadata": {},
          "execution_count": 32
        }
      ]
    },
    {
      "cell_type": "markdown",
      "source": [
        "### **Tensors from NumPy arrays**"
      ],
      "metadata": {
        "id": "k3IEq5R3DwvQ"
      }
    },
    {
      "cell_type": "code",
      "source": [
        "import numpy as np\n",
        "numpy_A= np.arange(0,24)\n",
        "numpy_A"
      ],
      "metadata": {
        "colab": {
          "base_uri": "https://localhost:8080/"
        },
        "id": "TkpsXezoMHjI",
        "outputId": "6fa4cc95-68cf-4e9e-a1db-6a0a485a8db7"
      },
      "execution_count": 33,
      "outputs": [
        {
          "output_type": "execute_result",
          "data": {
            "text/plain": [
              "array([ 0,  1,  2,  3,  4,  5,  6,  7,  8,  9, 10, 11, 12, 13, 14, 15, 16,\n",
              "       17, 18, 19, 20, 21, 22, 23])"
            ]
          },
          "metadata": {},
          "execution_count": 33
        }
      ]
    },
    {
      "cell_type": "code",
      "source": [
        "c = tf.constant(numpy_A,shape=(2,3,4))\n",
        "c"
      ],
      "metadata": {
        "colab": {
          "base_uri": "https://localhost:8080/"
        },
        "id": "DGu4d3cAMjFp",
        "outputId": "e0c1a2d8-d09b-48b5-f804-59376abf7cd5"
      },
      "execution_count": 34,
      "outputs": [
        {
          "output_type": "execute_result",
          "data": {
            "text/plain": [
              "<tf.Tensor: shape=(2, 3, 4), dtype=int64, numpy=\n",
              "array([[[ 0,  1,  2,  3],\n",
              "        [ 4,  5,  6,  7],\n",
              "        [ 8,  9, 10, 11]],\n",
              "\n",
              "       [[12, 13, 14, 15],\n",
              "        [16, 17, 18, 19],\n",
              "        [20, 21, 22, 23]]])>"
            ]
          },
          "metadata": {},
          "execution_count": 34
        }
      ]
    },
    {
      "cell_type": "markdown",
      "source": [
        "## *Tensor Attributes*\n",
        "\n",
        "> getting information from tensors\n",
        "- Shape\n",
        "- Rank\n",
        "- Axis or dimension\n",
        "- Size\n"
      ],
      "metadata": {
        "id": "wulydZsx7oaf"
      }
    },
    {
      "cell_type": "code",
      "source": [
        "tf.random.set_seed(42)\n",
        "t = tf.random.uniform(shape=(2,3,4,5),maxval=200,seed=42,dtype=tf.int32)\n",
        "t"
      ],
      "metadata": {
        "id": "wNCY8pnA8HvZ",
        "colab": {
          "base_uri": "https://localhost:8080/"
        },
        "outputId": "0dacca86-97d3-4c50-ff14-da54df0b771e"
      },
      "execution_count": 45,
      "outputs": [
        {
          "output_type": "execute_result",
          "data": {
            "text/plain": [
              "<tf.Tensor: shape=(2, 3, 4, 5), dtype=int32, numpy=\n",
              "array([[[[ 33, 138, 130, 174, 108],\n",
              "         [141, 153,  73,  42,   5],\n",
              "         [176, 144,  93, 167,   6],\n",
              "         [166,  42,  43, 191,  18]],\n",
              "\n",
              "        [[ 46, 190,  14, 176,  91],\n",
              "         [ 91, 146, 169,  72,  85],\n",
              "         [100, 154, 174,  78, 168],\n",
              "         [134, 164, 141, 150, 171]],\n",
              "\n",
              "        [[ 87, 116, 100, 166, 197],\n",
              "         [150, 167,  12, 156, 142],\n",
              "         [111, 165, 129,  79, 199],\n",
              "         [ 66,  14,  81, 159, 144]]],\n",
              "\n",
              "\n",
              "       [[[161,   4,  12,  43,  53],\n",
              "         [  6,  89,  35,  40,  18],\n",
              "         [187,  74, 102, 198, 102],\n",
              "         [ 16, 173,  26, 155, 162]],\n",
              "\n",
              "        [[150, 164, 107,  38, 154],\n",
              "         [124,  16, 199, 106,   4],\n",
              "         [ 94,   8, 151, 132, 175],\n",
              "         [ 19,  17,  34, 180, 198]],\n",
              "\n",
              "        [[183, 185, 141,  83,  41],\n",
              "         [147,  98, 133,  49, 193],\n",
              "         [118,  68, 168,  15,  41],\n",
              "         [154, 130,  10, 138,  57]]]], dtype=int32)>"
            ]
          },
          "metadata": {},
          "execution_count": 45
        }
      ]
    },
    {
      "cell_type": "code",
      "source": [
        "t[1][2][3][4]"
      ],
      "metadata": {
        "colab": {
          "base_uri": "https://localhost:8080/"
        },
        "id": "qyaj458y6_sG",
        "outputId": "43996d4d-21b5-40b8-932b-7496fb107646"
      },
      "execution_count": 46,
      "outputs": [
        {
          "output_type": "execute_result",
          "data": {
            "text/plain": [
              "<tf.Tensor: shape=(), dtype=int32, numpy=57>"
            ]
          },
          "metadata": {},
          "execution_count": 46
        }
      ]
    },
    {
      "cell_type": "code",
      "source": [
        "# shape of tensor\n",
        "t.shape"
      ],
      "metadata": {
        "colab": {
          "base_uri": "https://localhost:8080/"
        },
        "id": "yRYupzbd8D9u",
        "outputId": "dae751cc-b8bc-45eb-8e0f-d5fdc8e59a4f"
      },
      "execution_count": 47,
      "outputs": [
        {
          "output_type": "execute_result",
          "data": {
            "text/plain": [
              "TensorShape([2, 3, 4, 5])"
            ]
          },
          "metadata": {},
          "execution_count": 47
        }
      ]
    },
    {
      "cell_type": "code",
      "source": [
        "# rank of tensor\n",
        "t.ndim"
      ],
      "metadata": {
        "colab": {
          "base_uri": "https://localhost:8080/"
        },
        "id": "8kxhziYt8mH2",
        "outputId": "17a89074-5c04-4319-f835-a21eb14536dc"
      },
      "execution_count": 48,
      "outputs": [
        {
          "output_type": "execute_result",
          "data": {
            "text/plain": [
              "4"
            ]
          },
          "metadata": {},
          "execution_count": 48
        }
      ]
    },
    {
      "cell_type": "code",
      "source": [
        "# size of elements\n",
        "tf.size(t)"
      ],
      "metadata": {
        "colab": {
          "base_uri": "https://localhost:8080/"
        },
        "id": "HcJMMAX09QqY",
        "outputId": "98fb2d9d-0a68-444c-f853-fb5500b9ee82"
      },
      "execution_count": 50,
      "outputs": [
        {
          "output_type": "execute_result",
          "data": {
            "text/plain": [
              "<tf.Tensor: shape=(), dtype=int32, numpy=120>"
            ]
          },
          "metadata": {},
          "execution_count": 50
        }
      ]
    },
    {
      "cell_type": "code",
      "source": [
        "tf.size(t).numpy()"
      ],
      "metadata": {
        "colab": {
          "base_uri": "https://localhost:8080/"
        },
        "id": "LsXWSaW9-LQ-",
        "outputId": "f9b36699-8da4-4615-e21b-8eee39d90c10"
      },
      "execution_count": 56,
      "outputs": [
        {
          "output_type": "execute_result",
          "data": {
            "text/plain": [
              "120"
            ]
          },
          "metadata": {},
          "execution_count": 56
        }
      ]
    },
    {
      "cell_type": "code",
      "source": [
        "# Elements along 0 axis\n",
        "t.shape[0]"
      ],
      "metadata": {
        "colab": {
          "base_uri": "https://localhost:8080/"
        },
        "id": "oU_ybBm99fp8",
        "outputId": "703801aa-61dd-414c-bc62-a9e4f004881c"
      },
      "execution_count": 57,
      "outputs": [
        {
          "output_type": "execute_result",
          "data": {
            "text/plain": [
              "2"
            ]
          },
          "metadata": {},
          "execution_count": 57
        }
      ]
    },
    {
      "cell_type": "code",
      "source": [
        "# last axis\n",
        "t.shape[-1]"
      ],
      "metadata": {
        "colab": {
          "base_uri": "https://localhost:8080/"
        },
        "id": "JwB-hfjC9pLO",
        "outputId": "efd8fdf4-7417-4434-bcfb-e5b20377d56a"
      },
      "execution_count": 58,
      "outputs": [
        {
          "output_type": "execute_result",
          "data": {
            "text/plain": [
              "5"
            ]
          },
          "metadata": {},
          "execution_count": 58
        }
      ]
    },
    {
      "cell_type": "code",
      "source": [
        "# dtype\n",
        "t.dtype"
      ],
      "metadata": {
        "colab": {
          "base_uri": "https://localhost:8080/"
        },
        "id": "5osIvRpw9Sw6",
        "outputId": "501c6d75-5888-427d-e6b2-a82183c08e0f"
      },
      "execution_count": 59,
      "outputs": [
        {
          "output_type": "execute_result",
          "data": {
            "text/plain": [
              "tf.int32"
            ]
          },
          "metadata": {},
          "execution_count": 59
        }
      ]
    },
    {
      "cell_type": "markdown",
      "source": [],
      "metadata": {
        "id": "OSoh027I-WhZ"
      }
    }
  ]
}