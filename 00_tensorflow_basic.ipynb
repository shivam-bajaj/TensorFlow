{
  "nbformat": 4,
  "nbformat_minor": 0,
  "metadata": {
    "colab": {
      "provenance": [],
      "toc_visible": true,
      "authorship_tag": "ABX9TyMr4oYIt1lwiO19GHtH+FHm",
      "include_colab_link": true
    },
    "kernelspec": {
      "name": "python3",
      "display_name": "Python 3"
    },
    "language_info": {
      "name": "python"
    }
  },
  "cells": [
    {
      "cell_type": "markdown",
      "metadata": {
        "id": "view-in-github",
        "colab_type": "text"
      },
      "source": [
        "<a href=\"https://colab.research.google.com/github/shivam-bajaj/tensorflow/blob/master/00_tensorflow_basic.ipynb\" target=\"_parent\"><img src=\"https://colab.research.google.com/assets/colab-badge.svg\" alt=\"Open In Colab\"/></a>"
      ]
    },
    {
      "cell_type": "markdown",
      "source": [
        "# **TensorFlow**"
      ],
      "metadata": {
        "id": "fPIvBTXcCVTM"
      }
    },
    {
      "cell_type": "markdown",
      "source": [
        "## **Intro to Tensors**"
      ],
      "metadata": {
        "id": "2clD9q7NCjsQ"
      }
    },
    {
      "cell_type": "code",
      "source": [
        "import tensorflow as tf"
      ],
      "metadata": {
        "id": "LmqTeJWvDLfc"
      },
      "execution_count": 1,
      "outputs": []
    },
    {
      "cell_type": "code",
      "source": [
        "tf.__version__"
      ],
      "metadata": {
        "id": "MEf1WVGHDTuV",
        "colab": {
          "base_uri": "https://localhost:8080/",
          "height": 35
        },
        "outputId": "f5298539-8425-4f23-89f4-1fbdeeb180e1"
      },
      "execution_count": 2,
      "outputs": [
        {
          "output_type": "execute_result",
          "data": {
            "text/plain": [
              "'2.12.0'"
            ],
            "application/vnd.google.colaboratory.intrinsic+json": {
              "type": "string"
            }
          },
          "metadata": {},
          "execution_count": 2
        }
      ]
    },
    {
      "cell_type": "markdown",
      "source": [
        "### *`tf.constant`*"
      ],
      "metadata": {
        "id": "xEX6dSQH6aEV"
      }
    },
    {
      "cell_type": "code",
      "source": [
        "tf.constant"
      ],
      "metadata": {
        "colab": {
          "base_uri": "https://localhost:8080/"
        },
        "id": "Kl3x_fxiCKim",
        "outputId": "19370b12-8561-4a4b-b741-34ac049eb581"
      },
      "execution_count": 3,
      "outputs": [
        {
          "output_type": "execute_result",
          "data": {
            "text/plain": [
              "<function tensorflow.python.framework.constant_op.constant(value, dtype=None, shape=None, name='Const')>"
            ]
          },
          "metadata": {},
          "execution_count": 3
        }
      ]
    },
    {
      "cell_type": "code",
      "source": [
        "# create tensors with tf.constant()\n",
        "\n",
        "scalar = tf.constant(7)\n",
        "scalar"
      ],
      "metadata": {
        "id": "AELSLWjkDW8d",
        "colab": {
          "base_uri": "https://localhost:8080/"
        },
        "outputId": "7009955f-d5af-45be-b87f-80941a9260bc"
      },
      "execution_count": 4,
      "outputs": [
        {
          "output_type": "execute_result",
          "data": {
            "text/plain": [
              "<tf.Tensor: shape=(), dtype=int32, numpy=7>"
            ]
          },
          "metadata": {},
          "execution_count": 4
        }
      ]
    },
    {
      "cell_type": "code",
      "source": [
        "# check dimension of a tensor\n",
        "# tenosr rank 1\n",
        "scalar.ndim"
      ],
      "metadata": {
        "colab": {
          "base_uri": "https://localhost:8080/"
        },
        "id": "LfoSfwfoFAUS",
        "outputId": "186db9c8-0165-42f1-bb7f-6a252bfa68ec"
      },
      "execution_count": 5,
      "outputs": [
        {
          "output_type": "execute_result",
          "data": {
            "text/plain": [
              "0"
            ]
          },
          "metadata": {},
          "execution_count": 5
        }
      ]
    },
    {
      "cell_type": "code",
      "source": [
        "# create a vector\n",
        "# tensor rank 1\n",
        "vector = tf.constant([7,9])\n",
        "vector"
      ],
      "metadata": {
        "colab": {
          "base_uri": "https://localhost:8080/"
        },
        "id": "yncCc82XFYK3",
        "outputId": "8f0c8f4f-e8c3-46a9-cd66-f9133e789d90"
      },
      "execution_count": 6,
      "outputs": [
        {
          "output_type": "execute_result",
          "data": {
            "text/plain": [
              "<tf.Tensor: shape=(2,), dtype=int32, numpy=array([7, 9], dtype=int32)>"
            ]
          },
          "metadata": {},
          "execution_count": 6
        }
      ]
    },
    {
      "cell_type": "code",
      "source": [
        "vector.ndim"
      ],
      "metadata": {
        "colab": {
          "base_uri": "https://localhost:8080/"
        },
        "id": "FhHx4VgXFibp",
        "outputId": "504cf38e-d771-4621-b56e-acfec9b7d25e"
      },
      "execution_count": 7,
      "outputs": [
        {
          "output_type": "execute_result",
          "data": {
            "text/plain": [
              "1"
            ]
          },
          "metadata": {},
          "execution_count": 7
        }
      ]
    },
    {
      "cell_type": "code",
      "source": [
        "# create a matrix\n",
        "# tensor rank -2\n",
        "matrix = tf.constant([[7,10],[10,7]])\n",
        "matrix"
      ],
      "metadata": {
        "colab": {
          "base_uri": "https://localhost:8080/"
        },
        "id": "lzIOg4mBFkeq",
        "outputId": "de9db1b7-095c-4bec-c971-ef4d50e778fb"
      },
      "execution_count": 8,
      "outputs": [
        {
          "output_type": "execute_result",
          "data": {
            "text/plain": [
              "<tf.Tensor: shape=(2, 2), dtype=int32, numpy=\n",
              "array([[ 7, 10],\n",
              "       [10,  7]], dtype=int32)>"
            ]
          },
          "metadata": {},
          "execution_count": 8
        }
      ]
    },
    {
      "cell_type": "code",
      "source": [
        "matrix.ndim"
      ],
      "metadata": {
        "colab": {
          "base_uri": "https://localhost:8080/"
        },
        "id": "MPttMmeQF8Z5",
        "outputId": "a1263888-120d-42be-cb21-de93c035a2ab"
      },
      "execution_count": 9,
      "outputs": [
        {
          "output_type": "execute_result",
          "data": {
            "text/plain": [
              "2"
            ]
          },
          "metadata": {},
          "execution_count": 9
        }
      ]
    },
    {
      "cell_type": "code",
      "source": [
        "# another matrix with specific data type\n",
        "another_matrix = tf.constant([[1.,2.],[3.,4]], dtype=tf.float16)\n",
        "another_matrix"
      ],
      "metadata": {
        "colab": {
          "base_uri": "https://localhost:8080/"
        },
        "id": "_C5Z7PWsF-du",
        "outputId": "734cf5ce-0487-4f06-be8f-7c76950bea68"
      },
      "execution_count": 10,
      "outputs": [
        {
          "output_type": "execute_result",
          "data": {
            "text/plain": [
              "<tf.Tensor: shape=(2, 2), dtype=float16, numpy=\n",
              "array([[1., 2.],\n",
              "       [3., 4.]], dtype=float16)>"
            ]
          },
          "metadata": {},
          "execution_count": 10
        }
      ]
    },
    {
      "cell_type": "code",
      "source": [
        "# tensor rank 2\n",
        "another_matrix.ndim"
      ],
      "metadata": {
        "colab": {
          "base_uri": "https://localhost:8080/"
        },
        "id": "p9m6jZ3tG08S",
        "outputId": "03d0df14-4b04-478f-9f71-62d7e8d5a346"
      },
      "execution_count": 11,
      "outputs": [
        {
          "output_type": "execute_result",
          "data": {
            "text/plain": [
              "2"
            ]
          },
          "metadata": {},
          "execution_count": 11
        }
      ]
    },
    {
      "cell_type": "code",
      "source": [
        "# tensor rank -3\n",
        "tensor = tf.constant([[[1,2],[3,4]],\n",
        "                      [[3,4],[4,5]],\n",
        "                      [[4,5],[5,6]]])\n",
        "tensor"
      ],
      "metadata": {
        "colab": {
          "base_uri": "https://localhost:8080/"
        },
        "id": "_NwGvAOyHFoe",
        "outputId": "951f2386-681c-4f9a-ba47-125b4ce82648"
      },
      "execution_count": 12,
      "outputs": [
        {
          "output_type": "execute_result",
          "data": {
            "text/plain": [
              "<tf.Tensor: shape=(3, 2, 2), dtype=int32, numpy=\n",
              "array([[[1, 2],\n",
              "        [3, 4]],\n",
              "\n",
              "       [[3, 4],\n",
              "        [4, 5]],\n",
              "\n",
              "       [[4, 5],\n",
              "        [5, 6]]], dtype=int32)>"
            ]
          },
          "metadata": {},
          "execution_count": 12
        }
      ]
    },
    {
      "cell_type": "code",
      "source": [
        "tensor.ndim"
      ],
      "metadata": {
        "colab": {
          "base_uri": "https://localhost:8080/"
        },
        "id": "MM9V9w_mHm0Y",
        "outputId": "5c7eaa3b-b108-41f3-ce43-6b94fd4f781e"
      },
      "execution_count": 13,
      "outputs": [
        {
          "output_type": "execute_result",
          "data": {
            "text/plain": [
              "3"
            ]
          },
          "metadata": {},
          "execution_count": 13
        }
      ]
    },
    {
      "cell_type": "code",
      "source": [
        "tensor2 = tf.constant([[\n",
        "                      [[1,2],[3,4]],\n",
        "                      [[3,4],[4,5]],\n",
        "                      [[4,5],[5,6]]],\n",
        "                      [[[1,2],[3,4]],\n",
        "                      [[3,4],[4,5]],\n",
        "                      [[4,5],[5,6]]]])\n",
        "tensor2"
      ],
      "metadata": {
        "id": "jmWl-vegIiNi",
        "colab": {
          "base_uri": "https://localhost:8080/"
        },
        "outputId": "b8bad57c-439d-408b-f0fc-b006f245d054"
      },
      "execution_count": 14,
      "outputs": [
        {
          "output_type": "execute_result",
          "data": {
            "text/plain": [
              "<tf.Tensor: shape=(2, 3, 2, 2), dtype=int32, numpy=\n",
              "array([[[[1, 2],\n",
              "         [3, 4]],\n",
              "\n",
              "        [[3, 4],\n",
              "         [4, 5]],\n",
              "\n",
              "        [[4, 5],\n",
              "         [5, 6]]],\n",
              "\n",
              "\n",
              "       [[[1, 2],\n",
              "         [3, 4]],\n",
              "\n",
              "        [[3, 4],\n",
              "         [4, 5]],\n",
              "\n",
              "        [[4, 5],\n",
              "         [5, 6]]]], dtype=int32)>"
            ]
          },
          "metadata": {},
          "execution_count": 14
        }
      ]
    },
    {
      "cell_type": "code",
      "source": [
        "tensor2.ndim"
      ],
      "metadata": {
        "colab": {
          "base_uri": "https://localhost:8080/"
        },
        "id": "mVXTTv4g7og-",
        "outputId": "615c6b7c-6d07-4cdf-f731-a3877a62166a"
      },
      "execution_count": 15,
      "outputs": [
        {
          "output_type": "execute_result",
          "data": {
            "text/plain": [
              "4"
            ]
          },
          "metadata": {},
          "execution_count": 15
        }
      ]
    },
    {
      "cell_type": "markdown",
      "source": [
        "\n",
        "\n",
        " &emsp;&emsp; **Tensors**  &emsp;&&emsp;&emsp; **Rank**\n",
        "\n",
        "*   scalar &emsp;&emsp;&emsp; ----->    Rank 0 tensor\n",
        "*   vector &emsp;&emsp;&emsp; ----->    Rank 1 tensor\n",
        "*   matrix &emsp;&emsp;&emsp; ----->    Rank 2 tensor\n",
        "*   another_matrix----->    Rank 2 tensor\n",
        "*   tensor&emsp;&emsp;&emsp;        ----->    Rank 3 tenosr\n",
        "*   tenosr2  &emsp;&emsp;&emsp;     ----->    Rank 4 tenosr\n"
      ],
      "metadata": {
        "id": "9hF49a3D7sfB"
      }
    },
    {
      "cell_type": "markdown",
      "source": [
        "### *`tf.Variable`*"
      ],
      "metadata": {
        "id": "_fF2-d7kBD2b"
      }
    },
    {
      "cell_type": "code",
      "source": [
        "tf.Variable"
      ],
      "metadata": {
        "colab": {
          "base_uri": "https://localhost:8080/"
        },
        "id": "Qtw4g8SYAY0k",
        "outputId": "7ca2c011-c7f9-4512-8b63-1cd23834194c"
      },
      "execution_count": 16,
      "outputs": [
        {
          "output_type": "execute_result",
          "data": {
            "text/plain": [
              "tensorflow.python.ops.variables.Variable"
            ]
          },
          "metadata": {},
          "execution_count": 16
        }
      ]
    },
    {
      "cell_type": "code",
      "source": [
        "variable_tensor= tf.Variable([7,10])\n",
        "constant_tensor = tf.constant([7,10])\n",
        "variable_tensor,constant_tensor"
      ],
      "metadata": {
        "id": "nIksxxlmA0hN",
        "colab": {
          "base_uri": "https://localhost:8080/"
        },
        "outputId": "166f4b11-c2b1-4513-a2f8-85fd71928ea7"
      },
      "execution_count": 17,
      "outputs": [
        {
          "output_type": "execute_result",
          "data": {
            "text/plain": [
              "(<tf.Variable 'Variable:0' shape=(2,) dtype=int32, numpy=array([ 7, 10], dtype=int32)>,\n",
              " <tf.Tensor: shape=(2,), dtype=int32, numpy=array([ 7, 10], dtype=int32)>)"
            ]
          },
          "metadata": {},
          "execution_count": 17
        }
      ]
    },
    {
      "cell_type": "code",
      "source": [
        "# changing the value in tensor\n",
        "variable_tensor[1].assign(7)\n",
        "variable_tensor"
      ],
      "metadata": {
        "colab": {
          "base_uri": "https://localhost:8080/"
        },
        "id": "J3lg4hk3xZn7",
        "outputId": "7b3b711c-bf19-4e99-ffff-2a822076aa6a"
      },
      "execution_count": 18,
      "outputs": [
        {
          "output_type": "execute_result",
          "data": {
            "text/plain": [
              "<tf.Variable 'Variable:0' shape=(2,) dtype=int32, numpy=array([7, 7], dtype=int32)>"
            ]
          },
          "metadata": {},
          "execution_count": 18
        }
      ]
    },
    {
      "cell_type": "code",
      "source": [
        "#changing the value in constant_tensor\n",
        "constant_tensor[1].assign(7)"
      ],
      "metadata": {
        "colab": {
          "base_uri": "https://localhost:8080/",
          "height": 314
        },
        "id": "oNjpfDu-xtwf",
        "outputId": "989d0074-85c2-4354-8645-4c91f85fb1a1"
      },
      "execution_count": 19,
      "outputs": [
        {
          "output_type": "error",
          "ename": "AttributeError",
          "evalue": "ignored",
          "traceback": [
            "\u001b[0;31m---------------------------------------------------------------------------\u001b[0m",
            "\u001b[0;31mAttributeError\u001b[0m                            Traceback (most recent call last)",
            "\u001b[0;32m<ipython-input-19-dc34df3c5e59>\u001b[0m in \u001b[0;36m<cell line: 2>\u001b[0;34m()\u001b[0m\n\u001b[1;32m      1\u001b[0m \u001b[0;31m#changing the value in constant_tensor\u001b[0m\u001b[0;34m\u001b[0m\u001b[0;34m\u001b[0m\u001b[0m\n\u001b[0;32m----> 2\u001b[0;31m \u001b[0mconstant_tensor\u001b[0m\u001b[0;34m[\u001b[0m\u001b[0;36m1\u001b[0m\u001b[0;34m]\u001b[0m\u001b[0;34m.\u001b[0m\u001b[0massign\u001b[0m\u001b[0;34m(\u001b[0m\u001b[0;36m7\u001b[0m\u001b[0;34m)\u001b[0m\u001b[0;34m\u001b[0m\u001b[0;34m\u001b[0m\u001b[0m\n\u001b[0m",
            "\u001b[0;32m/usr/local/lib/python3.10/dist-packages/tensorflow/python/framework/ops.py\u001b[0m in \u001b[0;36m__getattr__\u001b[0;34m(self, name)\u001b[0m\n\u001b[1;32m    441\u001b[0m         \u001b[0mnp_config\u001b[0m\u001b[0;34m.\u001b[0m\u001b[0menable_numpy_behavior\u001b[0m\u001b[0;34m(\u001b[0m\u001b[0;34m)\u001b[0m\u001b[0;34m\u001b[0m\u001b[0;34m\u001b[0m\u001b[0m\n\u001b[1;32m    442\u001b[0m       \"\"\")\n\u001b[0;32m--> 443\u001b[0;31m     \u001b[0mself\u001b[0m\u001b[0;34m.\u001b[0m\u001b[0m__getattribute__\u001b[0m\u001b[0;34m(\u001b[0m\u001b[0mname\u001b[0m\u001b[0;34m)\u001b[0m\u001b[0;34m\u001b[0m\u001b[0;34m\u001b[0m\u001b[0m\n\u001b[0m\u001b[1;32m    444\u001b[0m \u001b[0;34m\u001b[0m\u001b[0m\n\u001b[1;32m    445\u001b[0m   \u001b[0;34m@\u001b[0m\u001b[0mstaticmethod\u001b[0m\u001b[0;34m\u001b[0m\u001b[0;34m\u001b[0m\u001b[0m\n",
            "\u001b[0;31mAttributeError\u001b[0m: 'tensorflow.python.framework.ops.EagerTensor' object has no attribute 'assign'"
          ]
        }
      ]
    },
    {
      "cell_type": "code",
      "source": [
        "constant_tensor[1]=7"
      ],
      "metadata": {
        "colab": {
          "base_uri": "https://localhost:8080/",
          "height": 175
        },
        "id": "WI1XaBjdyZij",
        "outputId": "bb5bcf6b-5a8d-40c5-aea7-aa54a49a0657"
      },
      "execution_count": 20,
      "outputs": [
        {
          "output_type": "error",
          "ename": "TypeError",
          "evalue": "ignored",
          "traceback": [
            "\u001b[0;31m---------------------------------------------------------------------------\u001b[0m",
            "\u001b[0;31mTypeError\u001b[0m                                 Traceback (most recent call last)",
            "\u001b[0;32m<ipython-input-20-833ecf251a3e>\u001b[0m in \u001b[0;36m<cell line: 1>\u001b[0;34m()\u001b[0m\n\u001b[0;32m----> 1\u001b[0;31m \u001b[0mconstant_tensor\u001b[0m\u001b[0;34m[\u001b[0m\u001b[0;36m1\u001b[0m\u001b[0;34m]\u001b[0m\u001b[0;34m=\u001b[0m\u001b[0;36m7\u001b[0m\u001b[0;34m\u001b[0m\u001b[0;34m\u001b[0m\u001b[0m\n\u001b[0m",
            "\u001b[0;31mTypeError\u001b[0m: 'tensorflow.python.framework.ops.EagerTensor' object does not support item assignment"
          ]
        }
      ]
    },
    {
      "cell_type": "markdown",
      "source": [
        "\n",
        "```\n",
        "All eager tf.Tensor values are immutable (in contrast to tf.Variable).\n",
        "```"
      ],
      "metadata": {
        "id": "XlrIsdKly8w6"
      }
    },
    {
      "cell_type": "markdown",
      "source": [
        "### *`tf.ones`*\n",
        "> Creates a tensor with all elements set to one (1)."
      ],
      "metadata": {
        "id": "QSRiaok1KUdO"
      }
    },
    {
      "cell_type": "code",
      "source": [
        "one = tf.ones(shape=(3,2,2))\n",
        "one"
      ],
      "metadata": {
        "colab": {
          "base_uri": "https://localhost:8080/"
        },
        "id": "uLTCXgywK4wm",
        "outputId": "afbd7ff2-d187-490a-ce69-f855f3119951"
      },
      "execution_count": 21,
      "outputs": [
        {
          "output_type": "execute_result",
          "data": {
            "text/plain": [
              "<tf.Tensor: shape=(3, 2, 2), dtype=float32, numpy=\n",
              "array([[[1., 1.],\n",
              "        [1., 1.]],\n",
              "\n",
              "       [[1., 1.],\n",
              "        [1., 1.]],\n",
              "\n",
              "       [[1., 1.],\n",
              "        [1., 1.]]], dtype=float32)>"
            ]
          },
          "metadata": {},
          "execution_count": 21
        }
      ]
    },
    {
      "cell_type": "markdown",
      "source": [
        "### *`tf.zeros`*\n",
        "> Creates a tensor with all elements set to zero."
      ],
      "metadata": {
        "id": "o-t0z2xVLJ44"
      }
    },
    {
      "cell_type": "code",
      "source": [
        "zeros = tf.zeros(shape=(2,3,4))\n",
        "zeros"
      ],
      "metadata": {
        "colab": {
          "base_uri": "https://localhost:8080/"
        },
        "id": "iYO-f1azLXfH",
        "outputId": "02bcb10c-36ae-404a-9552-0cf5b272fb20"
      },
      "execution_count": 22,
      "outputs": [
        {
          "output_type": "execute_result",
          "data": {
            "text/plain": [
              "<tf.Tensor: shape=(2, 3, 4), dtype=float32, numpy=\n",
              "array([[[0., 0., 0., 0.],\n",
              "        [0., 0., 0., 0.],\n",
              "        [0., 0., 0., 0.]],\n",
              "\n",
              "       [[0., 0., 0., 0.],\n",
              "        [0., 0., 0., 0.],\n",
              "        [0., 0., 0., 0.]]], dtype=float32)>"
            ]
          },
          "metadata": {},
          "execution_count": 22
        }
      ]
    },
    {
      "cell_type": "markdown",
      "source": [
        "### **Random Tensors**"
      ],
      "metadata": {
        "id": "Q7FbpNnJzjF5"
      }
    },
    {
      "cell_type": "markdown",
      "source": [
        "#### *`tf.random.Generator`*\n",
        "Random-number generator"
      ],
      "metadata": {
        "id": "G-Q3IUkd53Y-"
      }
    },
    {
      "cell_type": "code",
      "source": [
        "#create 2 random tensors (equal) , setting seed for reproducabilty\n",
        "ran_1 = tf.random.Generator.from_seed(seed=42)\n",
        "ran_2 = tf.random.Generator.from_seed(seed=42)"
      ],
      "metadata": {
        "id": "4jhpsLmgzrLr"
      },
      "execution_count": 23,
      "outputs": []
    },
    {
      "cell_type": "markdown",
      "source": [
        "#### *`tf.random.normal`*\n",
        "Outputs random values from a normal distribution."
      ],
      "metadata": {
        "id": "6fWmC0Xt0bFY"
      }
    },
    {
      "cell_type": "code",
      "source": [
        "random_1 = ran_1.normal(shape=(3,2))\n",
        "random_2 = ran_2.normal(shape=(3,2))\n",
        "random_1,random_2"
      ],
      "metadata": {
        "colab": {
          "base_uri": "https://localhost:8080/"
        },
        "id": "bIwn-M3g0kMK",
        "outputId": "95942e56-876e-464c-a8f1-e22445d02134"
      },
      "execution_count": 24,
      "outputs": [
        {
          "output_type": "execute_result",
          "data": {
            "text/plain": [
              "(<tf.Tensor: shape=(3, 2), dtype=float32, numpy=\n",
              " array([[-0.7565803 , -0.06854702],\n",
              "        [ 0.07595026, -1.2573844 ],\n",
              "        [-0.23193763, -1.8107855 ]], dtype=float32)>,\n",
              " <tf.Tensor: shape=(3, 2), dtype=float32, numpy=\n",
              " array([[-0.7565803 , -0.06854702],\n",
              "        [ 0.07595026, -1.2573844 ],\n",
              "        [-0.23193763, -1.8107855 ]], dtype=float32)>)"
            ]
          },
          "metadata": {},
          "execution_count": 24
        }
      ]
    },
    {
      "cell_type": "markdown",
      "source": [
        "#### *`tf.random.uniform`*\n",
        "Outputs random values from a uniform distribution.\n"
      ],
      "metadata": {
        "id": "ieTx5aAV1sUc"
      }
    },
    {
      "cell_type": "code",
      "source": [
        "random_3 = ran_1.uniform(shape=(3,2))\n",
        "random_4 = ran_2.uniform(shape=(3,2))\n",
        "random_3,random_4"
      ],
      "metadata": {
        "colab": {
          "base_uri": "https://localhost:8080/"
        },
        "id": "a4Kzh7m62DP_",
        "outputId": "8bd8298c-0b72-4789-8ed7-d10bd7eef216"
      },
      "execution_count": 25,
      "outputs": [
        {
          "output_type": "execute_result",
          "data": {
            "text/plain": [
              "(<tf.Tensor: shape=(3, 2), dtype=float32, numpy=\n",
              " array([[0.7647915 , 0.03845465],\n",
              "        [0.8506975 , 0.20781887],\n",
              "        [0.711869  , 0.8843919 ]], dtype=float32)>,\n",
              " <tf.Tensor: shape=(3, 2), dtype=float32, numpy=\n",
              " array([[0.7647915 , 0.03845465],\n",
              "        [0.8506975 , 0.20781887],\n",
              "        [0.711869  , 0.8843919 ]], dtype=float32)>)"
            ]
          },
          "metadata": {},
          "execution_count": 25
        }
      ]
    },
    {
      "cell_type": "code",
      "source": [
        "'''\n",
        "random_5 has diiferent value even though we have set the same seed or if we\n",
        "re-run, we will get the different output\n",
        "'''\n",
        "#because it is operation-level seed.\n",
        "random_5 = tf.random.uniform(shape=(3,2),seed=42)\n",
        "random_5"
      ],
      "metadata": {
        "colab": {
          "base_uri": "https://localhost:8080/"
        },
        "id": "0tu9-6DZ2stS",
        "outputId": "f99bb743-cf3b-4801-eecc-fecae48be9e4"
      },
      "execution_count": 26,
      "outputs": [
        {
          "output_type": "execute_result",
          "data": {
            "text/plain": [
              "<tf.Tensor: shape=(3, 2), dtype=float32, numpy=\n",
              "array([[0.95227146, 0.67740774],\n",
              "       [0.79531825, 0.75578177],\n",
              "       [0.4759556 , 0.6310148 ]], dtype=float32)>"
            ]
          },
          "metadata": {},
          "execution_count": 26
        }
      ]
    },
    {
      "cell_type": "markdown",
      "source": [
        "### **`tf.random.set_seed`**\n",
        "> Operations that rely on a random seed actually derive it from two seeds: the global and operation-level seeds. This sets the global seed.\n",
        "\n",
        "\n",
        "```\n",
        "#operational-level seed\n",
        "random_5 = tf.random.uniform(shape=(3,2),seed=7)\n",
        "```\n",
        "\n",
        "\n",
        "```\n",
        "# global level seed\n",
        "tf.random.set_seed(1234)\n",
        "```\n",
        "\n",
        "\n"
      ],
      "metadata": {
        "id": "wF4Ag6ej6NEc"
      }
    },
    {
      "cell_type": "markdown",
      "source": [
        "- If the global seed is set but the operation seed is not set, we get different results for every call to the random op, but the same sequence for every re-run of the program:"
      ],
      "metadata": {
        "id": "C7Fz5KJ48gsg"
      }
    },
    {
      "cell_type": "code",
      "source": [
        "# gloabl seed\n",
        "tf.random.set_seed(42)\n",
        "random_6 = tf.random.uniform(shape=(3,2))\n",
        "random_7 = tf.random.uniform(shape=(3,2))\n",
        "random_6,random_7"
      ],
      "metadata": {
        "colab": {
          "base_uri": "https://localhost:8080/"
        },
        "id": "wg0TgDBe6sV1",
        "outputId": "3803e869-4898-4109-cdf0-415d4331af87"
      },
      "execution_count": 27,
      "outputs": [
        {
          "output_type": "execute_result",
          "data": {
            "text/plain": [
              "(<tf.Tensor: shape=(3, 2), dtype=float32, numpy=\n",
              " array([[0.6645621 , 0.44100678],\n",
              "        [0.3528825 , 0.46448255],\n",
              "        [0.03366041, 0.68467236]], dtype=float32)>,\n",
              " <tf.Tensor: shape=(3, 2), dtype=float32, numpy=\n",
              " array([[0.68789124, 0.48447883],\n",
              "        [0.9309944 , 0.252187  ],\n",
              "        [0.73115396, 0.89256823]], dtype=float32)>)"
            ]
          },
          "metadata": {},
          "execution_count": 27
        }
      ]
    },
    {
      "cell_type": "markdown",
      "source": [
        "- If the operation seed is set, we get different results for\n",
        "every call to the random op, but the same sequence for every re-run of the program:"
      ],
      "metadata": {
        "id": "rfpxyzUv-3HQ"
      }
    },
    {
      "cell_type": "code",
      "source": [
        "random_6 = tf.random.uniform(shape=(3,2),seed=1)\n",
        "random_7 = tf.random.uniform(shape=(3,2),seed=1)\n",
        "random_6,random_7"
      ],
      "metadata": {
        "colab": {
          "base_uri": "https://localhost:8080/"
        },
        "id": "m2Gmcugt-i8A",
        "outputId": "f1709949-dcbb-43c6-94e1-b96140a4fa44"
      },
      "execution_count": 28,
      "outputs": [
        {
          "output_type": "execute_result",
          "data": {
            "text/plain": [
              "(<tf.Tensor: shape=(3, 2), dtype=float32, numpy=\n",
              " array([[0.15012848, 0.63992536],\n",
              "        [0.81787777, 0.34572172],\n",
              "        [0.99661934, 0.64152765]], dtype=float32)>,\n",
              " <tf.Tensor: shape=(3, 2), dtype=float32, numpy=\n",
              " array([[0.01177216, 0.02529657],\n",
              "        [0.06012475, 0.5448892 ],\n",
              "        [0.3730942 , 0.6073855 ]], dtype=float32)>)"
            ]
          },
          "metadata": {},
          "execution_count": 28
        }
      ]
    },
    {
      "cell_type": "markdown",
      "source": [
        "Differnt output on the second call of `tf.random.uniform` above is because the same tf.random.uniform kernel (i.e. internal representation) is used by TensorFlow for all calls of it with the same arguments, and the kernel maintains an internal counter which is incremented every time it is executed, generating different results."
      ],
      "metadata": {
        "id": "upz7p83H-9c0"
      }
    },
    {
      "cell_type": "markdown",
      "source": [
        "Calling `tf.random.set_seed` will reset any such counters:"
      ],
      "metadata": {
        "id": "6O59J1UN9vX-"
      }
    },
    {
      "cell_type": "code",
      "source": [
        "tf.random.set_seed(1234)\n",
        "print(tf.random.uniform([1], seed=1))  # generates 'A1'\n",
        "print(tf.random.uniform([1], seed=1))  # generates 'A2'\n",
        "tf.random.set_seed(1234)\n",
        "print(tf.random.uniform([1], seed=1))  # generates 'A1'\n",
        "print(tf.random.uniform([1], seed=1))  # generates 'A2'"
      ],
      "metadata": {
        "colab": {
          "base_uri": "https://localhost:8080/"
        },
        "id": "TXViDG4E-P20",
        "outputId": "b285200c-f77d-49e4-a0ff-f3a27f1e0a03"
      },
      "execution_count": 29,
      "outputs": [
        {
          "output_type": "stream",
          "name": "stdout",
          "text": [
            "tf.Tensor([0.1689806], shape=(1,), dtype=float32)\n",
            "tf.Tensor([0.7539084], shape=(1,), dtype=float32)\n",
            "tf.Tensor([0.1689806], shape=(1,), dtype=float32)\n",
            "tf.Tensor([0.7539084], shape=(1,), dtype=float32)\n"
          ]
        }
      ]
    },
    {
      "cell_type": "markdown",
      "source": [
        "### **`tf.random.shuffle`**\n",
        ">Randomly shuffles a tensor along its first dimension.\n",
        "\n",
        "\n"
      ],
      "metadata": {
        "id": "AMnLTVLtBGLd"
      }
    },
    {
      "cell_type": "code",
      "source": [
        "# Shuffle the tensor ( valuable when you want to shuffle the data so inherent doesn't affect learning)\n",
        "not_shuffled = tf.constant([[1,2],\n",
        "                            [3,4],\n",
        "                            [4,5]])\n",
        "not_shuffled"
      ],
      "metadata": {
        "colab": {
          "base_uri": "https://localhost:8080/"
        },
        "id": "yCORpl63CJ6m",
        "outputId": "2d3754bb-a118-4527-ab9b-5b47abaa5c23"
      },
      "execution_count": 30,
      "outputs": [
        {
          "output_type": "execute_result",
          "data": {
            "text/plain": [
              "<tf.Tensor: shape=(3, 2), dtype=int32, numpy=\n",
              "array([[1, 2],\n",
              "       [3, 4],\n",
              "       [4, 5]], dtype=int32)>"
            ]
          },
          "metadata": {},
          "execution_count": 30
        }
      ]
    },
    {
      "cell_type": "code",
      "source": [
        "tf.random.shuffle(not_shuffled)"
      ],
      "metadata": {
        "colab": {
          "base_uri": "https://localhost:8080/"
        },
        "id": "4K7qiCoQC7cc",
        "outputId": "79325643-d1a8-4472-c91d-7b672b7417e8"
      },
      "execution_count": 31,
      "outputs": [
        {
          "output_type": "execute_result",
          "data": {
            "text/plain": [
              "<tf.Tensor: shape=(3, 2), dtype=int32, numpy=\n",
              "array([[4, 5],\n",
              "       [1, 2],\n",
              "       [3, 4]], dtype=int32)>"
            ]
          },
          "metadata": {},
          "execution_count": 31
        }
      ]
    },
    {
      "cell_type": "code",
      "source": [
        "# for reprducability\n",
        "tf.random.set_seed(7)\n",
        "tf.random.shuffle(not_shuffled,seed=10)"
      ],
      "metadata": {
        "colab": {
          "base_uri": "https://localhost:8080/"
        },
        "id": "nWqBEI2YDjV0",
        "outputId": "3ae77a49-2256-4136-e860-cf524dfe8f83"
      },
      "execution_count": 32,
      "outputs": [
        {
          "output_type": "execute_result",
          "data": {
            "text/plain": [
              "<tf.Tensor: shape=(3, 2), dtype=int32, numpy=\n",
              "array([[4, 5],\n",
              "       [1, 2],\n",
              "       [3, 4]], dtype=int32)>"
            ]
          },
          "metadata": {},
          "execution_count": 32
        }
      ]
    },
    {
      "cell_type": "markdown",
      "source": [
        "### **Tensors from NumPy arrays**"
      ],
      "metadata": {
        "id": "k3IEq5R3DwvQ"
      }
    },
    {
      "cell_type": "code",
      "source": [
        "import numpy as np\n",
        "numpy_A= np.arange(0,24)\n",
        "numpy_A"
      ],
      "metadata": {
        "colab": {
          "base_uri": "https://localhost:8080/"
        },
        "id": "TkpsXezoMHjI",
        "outputId": "9a95c431-dd54-421b-bc09-e4147c3248b0"
      },
      "execution_count": 33,
      "outputs": [
        {
          "output_type": "execute_result",
          "data": {
            "text/plain": [
              "array([ 0,  1,  2,  3,  4,  5,  6,  7,  8,  9, 10, 11, 12, 13, 14, 15, 16,\n",
              "       17, 18, 19, 20, 21, 22, 23])"
            ]
          },
          "metadata": {},
          "execution_count": 33
        }
      ]
    },
    {
      "cell_type": "code",
      "source": [
        "c = tf.constant(numpy_A,shape=(2,3,4))\n",
        "c"
      ],
      "metadata": {
        "colab": {
          "base_uri": "https://localhost:8080/"
        },
        "id": "DGu4d3cAMjFp",
        "outputId": "0142cda9-77d8-4ddd-ba08-6ac19bdf3c7e"
      },
      "execution_count": 34,
      "outputs": [
        {
          "output_type": "execute_result",
          "data": {
            "text/plain": [
              "<tf.Tensor: shape=(2, 3, 4), dtype=int64, numpy=\n",
              "array([[[ 0,  1,  2,  3],\n",
              "        [ 4,  5,  6,  7],\n",
              "        [ 8,  9, 10, 11]],\n",
              "\n",
              "       [[12, 13, 14, 15],\n",
              "        [16, 17, 18, 19],\n",
              "        [20, 21, 22, 23]]])>"
            ]
          },
          "metadata": {},
          "execution_count": 34
        }
      ]
    }
  ]
}