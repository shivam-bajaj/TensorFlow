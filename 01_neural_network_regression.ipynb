{
  "nbformat": 4,
  "nbformat_minor": 0,
  "metadata": {
    "colab": {
      "provenance": [],
      "toc_visible": true,
      "authorship_tag": "ABX9TyPd1E1DQVu7z8pvlnW/YPdq",
      "include_colab_link": true
    },
    "kernelspec": {
      "name": "python3",
      "display_name": "Python 3"
    },
    "language_info": {
      "name": "python"
    }
  },
  "cells": [
    {
      "cell_type": "markdown",
      "metadata": {
        "id": "view-in-github",
        "colab_type": "text"
      },
      "source": [
        "<a href=\"https://colab.research.google.com/github/shivam-bajaj/TensorFlow/blob/master/01_neural_network_regression.ipynb\" target=\"_parent\"><img src=\"https://colab.research.google.com/assets/colab-badge.svg\" alt=\"Open In Colab\"/></a>"
      ]
    },
    {
      "cell_type": "code",
      "execution_count": 30,
      "metadata": {
        "colab": {
          "base_uri": "https://localhost:8080/",
          "height": 35
        },
        "id": "WPJoR_0SzjPN",
        "outputId": "910177dc-1998-416d-c695-ad94120fc1cc"
      },
      "outputs": [
        {
          "output_type": "execute_result",
          "data": {
            "text/plain": [
              "'2.12.0'"
            ],
            "application/vnd.google.colaboratory.intrinsic+json": {
              "type": "string"
            }
          },
          "metadata": {},
          "execution_count": 30
        }
      ],
      "source": [
        "import tensorflow as tf\n",
        "tf.__version__"
      ]
    },
    {
      "cell_type": "code",
      "source": [
        "import numpy as np\n",
        "import pandas as pd\n",
        "import matplotlib.pyplot as plt\n"
      ],
      "metadata": {
        "id": "O9Zbi14y2zrJ"
      },
      "execution_count": 31,
      "outputs": []
    },
    {
      "cell_type": "code",
      "source": [
        "# Create features\n",
        "X = np.array([-7.0, -4.0, -1.0, 2.0, 5.0, 8.0, 11.0, 14.0])\n",
        "\n",
        "# Create labels\n",
        "y = np.array([3.0, 6.0, 9.0, 12.0, 15.0, 18.0, 21.0, 24.0])\n",
        "\n",
        "# Visualize it\n",
        "plt.scatter(X, y);"
      ],
      "metadata": {
        "colab": {
          "base_uri": "https://localhost:8080/",
          "height": 435
        },
        "id": "QBKBlQYgKxVN",
        "outputId": "c4b82815-3654-40f4-8271-c712bc341388"
      },
      "execution_count": 32,
      "outputs": [
        {
          "output_type": "display_data",
          "data": {
            "text/plain": [
              "<Figure size 640x480 with 1 Axes>"
            ],
            "image/png": "[encoded data removed]"
          },
          "metadata": {}
        }
      ]
    },
    {
      "cell_type": "code",
      "source": [
        "# relationship\n",
        "y == X+10"
      ],
      "metadata": {
        "colab": {
          "base_uri": "https://localhost:8080/"
        },
        "id": "Sh9-VmvrKx79",
        "outputId": "d115f8bf-b34b-47b9-c18a-e05f9e8931df"
      },
      "execution_count": 33,
      "outputs": [
        {
          "output_type": "execute_result",
          "data": {
            "text/plain": [
              "array([ True,  True,  True,  True,  True,  True,  True,  True])"
            ]
          },
          "metadata": {},
          "execution_count": 33
        }
      ]
    },
    {
      "cell_type": "code",
      "source": [
        "# turn numpy arrays into tensors\n",
        "X = tf.constant(X)\n",
        "y= tf.constant(y)\n",
        "X,y"
      ],
      "metadata": {
        "colab": {
          "base_uri": "https://localhost:8080/"
        },
        "id": "5HhF_kzNLfwx",
        "outputId": "efbac039-3a4c-4fae-ce24-9b3a873ed9e3"
      },
      "execution_count": 34,
      "outputs": [
        {
          "output_type": "execute_result",
          "data": {
            "text/plain": [
              "(<tf.Tensor: shape=(8,), dtype=float64, numpy=array([-7., -4., -1.,  2.,  5.,  8., 11., 14.])>,\n",
              " <tf.Tensor: shape=(8,), dtype=float64, numpy=array([ 3.,  6.,  9., 12., 15., 18., 21., 24.])>)"
            ]
          },
          "metadata": {},
          "execution_count": 34
        }
      ]
    },
    {
      "cell_type": "code",
      "source": [
        "# Take a single example of X\n",
        "input_shape = X[0].shape\n",
        "\n",
        "# Take a single example of y\n",
        "output_shape = y[0].shape\n",
        "\n",
        "input_shape, output_shape # these are both scalars (no shape)"
      ],
      "metadata": {
        "colab": {
          "base_uri": "https://localhost:8080/"
        },
        "id": "bwkKs6uILNfR",
        "outputId": "9b809df4-74e7-4fa9-861b-4d33ab779817"
      },
      "execution_count": 35,
      "outputs": [
        {
          "output_type": "execute_result",
          "data": {
            "text/plain": [
              "(TensorShape([]), TensorShape([]))"
            ]
          },
          "metadata": {},
          "execution_count": 35
        }
      ]
    },
    {
      "cell_type": "code",
      "source": [
        "# Set random seed\n",
        "tf.random.set_seed(42)\n",
        "\n",
        "# Create a model using the Sequential API\n",
        "model = tf.keras.Sequential()\n",
        "#Input Layer\n",
        "model.add(tf.keras.layers.Input(shape=(1,)))\n",
        "#Hidden layer\n",
        "model.add(tf.keras.layers.Dense(1))\n",
        "# Compile the model\n",
        "model.compile(loss=tf.keras.losses.mae, # mae is short for mean absolute error\n",
        "              optimizer=tf.keras.optimizers.SGD(), # SGD is short for stochastic gradient descent\n",
        "              metrics=[\"mae\"])\n",
        "\n",
        "# Fit the model\n",
        "model.fit(X, y, epochs=100,verbose=0)"
      ],
      "metadata": {
        "colab": {
          "base_uri": "https://localhost:8080/"
        },
        "id": "gjgPfcItMrhG",
        "outputId": "abeaad0f-d989-4432-c12a-5f0153ddd27f"
      },
      "execution_count": 36,
      "outputs": [
        {
          "output_type": "execute_result",
          "data": {
            "text/plain": [
              "<keras.callbacks.History at 0x7e3139c82ce0>"
            ]
          },
          "metadata": {},
          "execution_count": 36
        }
      ]
    },
    {
      "cell_type": "code",
      "source": [
        "pd.DataFrame(model.history.history)"
      ],
      "metadata": {
        "colab": {
          "base_uri": "https://localhost:8080/",
          "height": 1000
        },
        "id": "IrIx1IRqNRMd",
        "outputId": "e42035ee-576f-4046-c30e-d7652edb0f17"
      },
      "execution_count": 37,
      "outputs": [
        {
          "output_type": "execute_result",
          "data": {
            "text/plain": [
              "         loss        mae\n",
              "0   11.766490  11.766490\n",
              "1   11.633989  11.633989\n",
              "2   11.501490  11.501490\n",
              "3   11.368990  11.368990\n",
              "4   11.236490  11.236490\n",
              "..        ...        ...\n",
              "95   6.900001   6.900001\n",
              "96   6.894375   6.894375\n",
              "97   6.888750   6.888750\n",
              "98   6.883125   6.883125\n",
              "99   6.877501   6.877501\n",
              "\n",
              "[100 rows x 2 columns]"
            ],
            "text/html": [
              "\n",
              "  <div id=\"df-f9cfe1b7-a4c5-4c41-a83d-3582a1ad14db\" class=\"colab-df-container\">\n",
              "    <div>\n",
              "<style scoped>\n",
              "    .dataframe tbody tr th:only-of-type {\n",
              "        vertical-align: middle;\n",
              "    }\n",
              "\n",
              "    .dataframe tbody tr th {\n",
              "        vertical-align: top;\n",
              "    }\n",
              "\n",
              "    .dataframe thead th {\n",
              "        text-align: right;\n",
              "    }\n",
              "</style>\n",
              "<table border=\"1\" class=\"dataframe\">\n",
              "  <thead>\n",
              "    <tr style=\"text-align: right;\">\n",
              "      <th></th>\n",
              "      <th>loss</th>\n",
              "      <th>mae</th>\n",
              "    </tr>\n",
              "  </thead>\n",
              "  <tbody>\n",
              "    <tr>\n",
              "      <th>0</th>\n",
              "      <td>11.766490</td>\n",
              "      <td>11.766490</td>\n",
              "    </tr>\n",
              "    <tr>\n",
              "      <th>1</th>\n",
              "      <td>11.633989</td>\n",
              "      <td>11.633989</td>\n",
              "    </tr>\n",
              "    <tr>\n",
              "      <th>2</th>\n",
              "      <td>11.501490</td>\n",
              "      <td>11.501490</td>\n",
              "    </tr>\n",
              "    <tr>\n",
              "      <th>3</th>\n",
              "      <td>11.368990</td>\n",
              "      <td>11.368990</td>\n",
              "    </tr>\n",
              "    <tr>\n",
              "      <th>4</th>\n",
              "      <td>11.236490</td>\n",
              "      <td>11.236490</td>\n",
              "    </tr>\n",
              "    <tr>\n",
              "      <th>...</th>\n",
              "      <td>...</td>\n",
              "      <td>...</td>\n",
              "    </tr>\n",
              "    <tr>\n",
              "      <th>95</th>\n",
              "      <td>6.900001</td>\n",
              "      <td>6.900001</td>\n",
              "    </tr>\n",
              "    <tr>\n",
              "      <th>96</th>\n",
              "      <td>6.894375</td>\n",
              "      <td>6.894375</td>\n",
              "    </tr>\n",
              "    <tr>\n",
              "      <th>97</th>\n",
              "      <td>6.888750</td>\n",
              "      <td>6.888750</td>\n",
              "    </tr>\n",
              "    <tr>\n",
              "      <th>98</th>\n",
              "      <td>6.883125</td>\n",
              "      <td>6.883125</td>\n",
              "    </tr>\n",
              "    <tr>\n",
              "      <th>99</th>\n",
              "      <td>6.877501</td>\n",
              "      <td>6.877501</td>\n",
              "    </tr>\n",
              "  </tbody>\n",
              "</table>\n",
              "<p>100 rows × 2 columns</p>\n",
              "</div>\n",
              "    <div class=\"colab-df-buttons\">\n",
              "\n",
              "  <div class=\"colab-df-container\">\n",
              "    <button class=\"colab-df-convert\" onclick=\"convertToInteractive('df-f9cfe1b7-a4c5-4c41-a83d-3582a1ad14db')\"\n",
              "            title=\"Convert this dataframe to an interactive table.\"\n",
              "            style=\"display:none;\">\n",
              "\n",
              "  <svg xmlns=\"http://www.w3.org/2000/svg\" height=\"24px\" viewBox=\"0 -960 960 960\">\n",
              "    <path d=\"M120-120v-720h720v720H120Zm60-500h600v-160H180v160Zm220 220h160v-160H400v160Zm0 220h160v-160H400v160ZM180-400h160v-160H180v160Zm440 0h160v-160H620v160ZM180-180h160v-160H180v160Zm440 0h160v-160H620v160Z\"/>\n",
              "  </svg>\n",
              "    </button>\n",
              "\n",
              "  <style>\n",
              "    .colab-df-container {\n",
              "      display:flex;\n",
              "      gap: 12px;\n",
              "    }\n",
              "\n",
              "    .colab-df-convert {\n",
              "      background-color: #E8F0FE;\n",
              "      border: none;\n",
              "      border-radius: 50%;\n",
              "      cursor: pointer;\n",
              "      display: none;\n",
              "      fill: #1967D2;\n",
              "      height: 32px;\n",
              "      padding: 0 0 0 0;\n",
              "      width: 32px;\n",
              "    }\n",
              "\n",
              "    .colab-df-convert:hover {\n",
              "      background-color: #E2EBFA;\n",
              "      box-shadow: 0px 1px 2px rgba(60, 64, 67, 0.3), 0px 1px 3px 1px rgba(60, 64, 67, 0.15);\n",
              "      fill: #174EA6;\n",
              "    }\n",
              "\n",
              "    .colab-df-buttons div {\n",
              "      margin-bottom: 4px;\n",
              "    }\n",
              "\n",
              "    [theme=dark] .colab-df-convert {\n",
              "      background-color: #3B4455;\n",
              "      fill: #D2E3FC;\n",
              "    }\n",
              "\n",
              "    [theme=dark] .colab-df-convert:hover {\n",
              "      background-color: #434B5C;\n",
              "      box-shadow: 0px 1px 3px 1px rgba(0, 0, 0, 0.15);\n",
              "      filter: drop-shadow(0px 1px 2px rgba(0, 0, 0, 0.3));\n",
              "      fill: #FFFFFF;\n",
              "    }\n",
              "  </style>\n",
              "\n",
              "    <script>\n",
              "      const buttonEl =\n",
              "        document.querySelector('#df-f9cfe1b7-a4c5-4c41-a83d-3582a1ad14db button.colab-df-convert');\n",
              "      buttonEl.style.display =\n",
              "        google.colab.kernel.accessAllowed ? 'block' : 'none';\n",
              "\n",
              "      async function convertToInteractive(key) {\n",
              "        const element = document.querySelector('#df-f9cfe1b7-a4c5-4c41-a83d-3582a1ad14db');\n",
              "        const dataTable =\n",
              "          await google.colab.kernel.invokeFunction('convertToInteractive',\n",
              "                                                    [key], {});\n",
              "        if (!dataTable) return;\n",
              "\n",
              "        const docLinkHtml = 'Like what you see? Visit the ' +\n",
              "          '<a target=\"_blank\" href=https://colab.research.google.com/notebooks/data_table.ipynb>data table notebook</a>'\n",
              "          + ' to learn more about interactive tables.';\n",
              "        element.innerHTML = '';\n",
              "        dataTable['output_type'] = 'display_data';\n",
              "        await google.colab.output.renderOutput(dataTable, element);\n",
              "        const docLink = document.createElement('div');\n",
              "        docLink.innerHTML = docLinkHtml;\n",
              "        element.appendChild(docLink);\n",
              "      }\n",
              "    </script>\n",
              "  </div>\n",
              "\n",
              "\n",
              "<div id=\"df-106cfcf3-043b-45f6-acaa-fc05db156b2e\">\n",
              "  <button class=\"colab-df-quickchart\" onclick=\"quickchart('df-106cfcf3-043b-45f6-acaa-fc05db156b2e')\"\n",
              "            title=\"Suggest charts.\"\n",
              "            style=\"display:none;\">\n",
              "\n",
              "<svg xmlns=\"http://www.w3.org/2000/svg\" height=\"24px\"viewBox=\"0 0 24 24\"\n",
              "     width=\"24px\">\n",
              "    <g>\n",
              "        <path d=\"M19 3H5c-1.1 0-2 .9-2 2v14c0 1.1.9 2 2 2h14c1.1 0 2-.9 2-2V5c0-1.1-.9-2-2-2zM9 17H7v-7h2v7zm4 0h-2V7h2v10zm4 0h-2v-4h2v4z\"/>\n",
              "    </g>\n",
              "</svg>\n",
              "  </button>\n",
              "\n",
              "<style>\n",
              "  .colab-df-quickchart {\n",
              "      --bg-color: #E8F0FE;\n",
              "      --fill-color: #1967D2;\n",
              "      --hover-bg-color: #E2EBFA;\n",
              "      --hover-fill-color: #174EA6;\n",
              "      --disabled-fill-color: #AAA;\n",
              "      --disabled-bg-color: #DDD;\n",
              "  }\n",
              "\n",
              "  [theme=dark] .colab-df-quickchart {\n",
              "      --bg-color: #3B4455;\n",
              "      --fill-color: #D2E3FC;\n",
              "      --hover-bg-color: #434B5C;\n",
              "      --hover-fill-color: #FFFFFF;\n",
              "      --disabled-bg-color: #3B4455;\n",
              "      --disabled-fill-color: #666;\n",
              "  }\n",
              "\n",
              "  .colab-df-quickchart {\n",
              "    background-color: var(--bg-color);\n",
              "    border: none;\n",
              "    border-radius: 50%;\n",
              "    cursor: pointer;\n",
              "    display: none;\n",
              "    fill: var(--fill-color);\n",
              "    height: 32px;\n",
              "    padding: 0;\n",
              "    width: 32px;\n",
              "  }\n",
              "\n",
              "  .colab-df-quickchart:hover {\n",
              "    background-color: var(--hover-bg-color);\n",
              "    box-shadow: 0 1px 2px rgba(60, 64, 67, 0.3), 0 1px 3px 1px rgba(60, 64, 67, 0.15);\n",
              "    fill: var(--button-hover-fill-color);\n",
              "  }\n",
              "\n",
              "  .colab-df-quickchart-complete:disabled,\n",
              "  .colab-df-quickchart-complete:disabled:hover {\n",
              "    background-color: var(--disabled-bg-color);\n",
              "    fill: var(--disabled-fill-color);\n",
              "    box-shadow: none;\n",
              "  }\n",
              "\n",
              "  .colab-df-spinner {\n",
              "    border: 2px solid var(--fill-color);\n",
              "    border-color: transparent;\n",
              "    border-bottom-color: var(--fill-color);\n",
              "    animation:\n",
              "      spin 1s steps(1) infinite;\n",
              "  }\n",
              "\n",
              "  @keyframes spin {\n",
              "    0% {\n",
              "      border-color: transparent;\n",
              "      border-bottom-color: var(--fill-color);\n",
              "      border-left-color: var(--fill-color);\n",
              "    }\n",
              "    20% {\n",
              "      border-color: transparent;\n",
              "      border-left-color: var(--fill-color);\n",
              "      border-top-color: var(--fill-color);\n",
              "    }\n",
              "    30% {\n",
              "      border-color: transparent;\n",
              "      border-left-color: var(--fill-color);\n",
              "      border-top-color: var(--fill-color);\n",
              "      border-right-color: var(--fill-color);\n",
              "    }\n",
              "    40% {\n",
              "      border-color: transparent;\n",
              "      border-right-color: var(--fill-color);\n",
              "      border-top-color: var(--fill-color);\n",
              "    }\n",
              "    60% {\n",
              "      border-color: transparent;\n",
              "      border-right-color: var(--fill-color);\n",
              "    }\n",
              "    80% {\n",
              "      border-color: transparent;\n",
              "      border-right-color: var(--fill-color);\n",
              "      border-bottom-color: var(--fill-color);\n",
              "    }\n",
              "    90% {\n",
              "      border-color: transparent;\n",
              "      border-bottom-color: var(--fill-color);\n",
              "    }\n",
              "  }\n",
              "</style>\n",
              "\n",
              "  <script>\n",
              "    async function quickchart(key) {\n",
              "      const quickchartButtonEl =\n",
              "        document.querySelector('#' + key + ' button');\n",
              "      quickchartButtonEl.disabled = true;  // To prevent multiple clicks.\n",
              "      quickchartButtonEl.classList.add('colab-df-spinner');\n",
              "      try {\n",
              "        const charts = await google.colab.kernel.invokeFunction(\n",
              "            'suggestCharts', [key], {});\n",
              "      } catch (error) {\n",
              "        console.error('Error during call to suggestCharts:', error);\n",
              "      }\n",
              "      quickchartButtonEl.classList.remove('colab-df-spinner');\n",
              "      quickchartButtonEl.classList.add('colab-df-quickchart-complete');\n",
              "    }\n",
              "    (() => {\n",
              "      let quickchartButtonEl =\n",
              "        document.querySelector('#df-106cfcf3-043b-45f6-acaa-fc05db156b2e button');\n",
              "      quickchartButtonEl.style.display =\n",
              "        google.colab.kernel.accessAllowed ? 'block' : 'none';\n",
              "    })();\n",
              "  </script>\n",
              "</div>\n",
              "    </div>\n",
              "  </div>\n"
            ]
          },
          "metadata": {},
          "execution_count": 37
        },
        {
          "output_type": "display_data",
          "data": {
            "text/plain": [
              "<google.colab._quickchart_helpers.SectionTitle at 0x7e313b59d270>"
            ],
            "text/html": [
              "<h4 class=\"colab-quickchart-section-title\">Values</h4>\n",
              "<style>\n",
              "  .colab-quickchart-section-title {\n",
              "      clear: both;\n",
              "  }\n",
              "</style>"
            ]
          },
          "metadata": {}
        },
        {
          "output_type": "display_data",
          "data": {
            "text/plain": [
              "import numpy as np\n",
              "from google.colab import autoviz\n",
              "\n",
              "def value_plot(df, y, figscale=1):\n",
              "  from matplotlib import pyplot as plt\n",
              "  df[y].plot(kind='line', figsize=(8 * figscale, 4 * figscale), title=y)\n",
              "  plt.gca().spines[['top', 'right']].set_visible(False)\n",
              "  plt.tight_layout()\n",
              "  return autoviz.MplChart.from_current_mpl_state()\n",
              "\n",
              "chart = value_plot(_df_0, *['loss'], **{})\n",
              "chart"
            ],
            "text/html": [
              "      <div class=\"colab-quickchart-chart-with-code\" id=\"chart-6927c752-7dfc-43bc-a9fc-757afe57e648\">\n",
              "        <img src=\"data:image/png;base64,iVBORw0KGgoAAAANSUhEUgAAAYwAAADECAYAAACMRRb/AAAAOXRFWHRTb2Z0d2FyZQBNYXRwbG90\n",
              "bGliIHZlcnNpb24zLjcuMSwgaHR0cHM6Ly9tYXRwbG90bGliLm9yZy/bCgiHAAAACXBIWXMAAA9h\n",
              "AAAPYQGoP6dpAAAeqElEQVR4nO3de1xUdcI/8M+ZGWa4CKOgIDICKqApCYJcrA3t4mM3szV/7Ram\n",
              "hqY9z5a19mytPV2e3S3pYu761D6/tUDEa5aX6pfWb832scwNsLiUeQFULokXvHBnrt/nDy4xSjjI\n",
              "Gc4M83m/XuflcDgzfOZwho/nnO/MkYQQAkRERFehUjoAERG5BxYGERE5hIVBREQOYWEQEZFDWBhE\n",
              "ROQQFgYRETmEhUFERA5hYRARkUNYGERE5BAWBlE3pk2bhueee07pGEQuhYVBREQOYWEQEZFDWBhE\n",
              "V3H48GHccccdGDp0KAwGA5YsWYK6urrO77/11lsYM2YM/P39ERISggULFgAAhBB44YUXYDAY4O/v\n",
              "D4PBgGeffVahZ0HUdywMoh40NDTgtttuw/jx41FZWYmCggIcOXIE8+fPBwCUlpbi6aefxocffoiG\n",
              "hgaUl5cjIyMDAPDZZ59h7dq1OHDgABoaGlBSUoKZM2cq+XSI+kSjdAAiV/bxxx/DZDLh1VdfhUaj\n",
              "ga+vL/7yl78gISEBp0+fhkajgRAChw4dQnh4OAICApCWlgYA0Gq1aG1txaFDhzBs2DAEBgZiypQp\n",
              "Cj8jomvHPQyiHlRVVSEiIgIazU//t4qKigIAVFZWYtSoUXj33XeRk5OD8PBwJCUlYcuWLQCAqVOn\n",
              "4rXXXsMrr7yCkJAQpKWlYc+ePYo8DyI5sDCIejBy5EhUVlbCYrF0zisvLwcAhIeHAwBmzZqFTz/9\n",
              "FLW1tfjd736H9PR0HDt2DACQkZGBffv24dy5c7j33nsxc+ZMNDQ09P8TIZIBC4OoB3fddRc0Gg2e\n",
              "ffZZtLS04PTp0/jtb3+LmTNnYvjw4Th69Ch2796NxsZGaDQa6PV6AIBarUZ+fj6++OILtLS0QKvV\n",
              "wt/fH5IkQa1WK/ysiK4NC4OoBwEBAdizZw+Ki4thMBiQmJiIqKgo5ObmAgBMJhNefvllhIWFISAg\n",
              "AE899RTWr1+PMWPGoLGxEcuWLUNwcDAGDx6Mt99+Gzt37oSvr6/Cz4ro2ki8pjcRETmCexhEROQQ\n",
              "FgYRETmEhUFERA5hYRARkUN6VRhLly5FZGQkJElCUVERAKC1tRX33nsvYmJiEBcXh+nTp6OsrMwZ\n",
              "WYmISEG9Kow5c+Zg//79iIiIsJu/ePFiHD16FMXFxZg1axYWLVoka0giIlJerwojLS0NBoPBbp63\n",
              "tzfuvPNOSJIEAEhNTcXJkydlC0hERK5B9nMYq1evxqxZs3pcxmg0or6+3m5644035I5CREQykrUw\n",
              "VqxYgbKyMmRmZva4XGZmJvR6vd20bds2OaMQEZHMZCuMlStXYseOHfjkk0+u+tEHy5cvR11dnd2U\n",
              "nJwsVxQiInICWa6HsWrVKmzZsgWfffYZBg8efNXldToddDqd3Tx+IBsRkWvr1R7GkiVLYDAYUF1d\n",
              "jRkzZiAqKgrV1dV46qmncOnSJdx8882Ij49HSkqKs/ISEZFCerWHsWbNmm7nK/n5hUIIvPl5GeJH\n",
              "DkZazDDFchARDXRu/07vnYU/YtWeY1i84SDyT1xQOg4R0YDl9oVx98QRmDZ2GFrNNmSsK0BJ9SWl\n",
              "IxERDUhuXxhajQp/m5uI1NGBaDRaMG9tPo6e5iUwiYjk5vaFAQDeXmpkzU9C/MjBuNRsRnpWHk7U\n",
              "Nikdi4hoQBkQhQEAg3Qa5D6cjOtCA1DbaET6O1+j+mKz0rGIiAaMAVMYAKD39cKGhckYPcwPp+pa\n",
              "kZ6Vh7P1rUrHIiIaEAZUYQDA0EE6bFqUAsMQH1Scb0Z6Vh4uNJmUjkVE5PYGXGEAQKjeB5sXpSIk\n",
              "QIfSs42YtzYP9a1mpWMREbm1AVkYABAe5ItNi1IQ6KfF9z/WIyOnAM0mi9KxiIjc1oAtDACICvbH\n",
              "hoXJCPDW4GDFRSzZ8A1azValYxERuaUBXRgAMGGEHusykuGrVePL0lo8trkQZqtN6VhERG5nwBcG\n",
              "ACSED0HW/MnQaVT47PAZPPVeMaw25T7/iojIHXlEYQDADWOG4m9zE+GllvBR8Sn8x87vFP3QRCIi\n",
              "d+MxhQEAN48LxupfT4JKAt4tqMIfP/6BpUFE5CCPKgwAuPP6ULw2Jw4AkPPVSazac0zhRERE7sHj\n",
              "CgMA5iQa8MdZEwAAb35ehv/7P+UKJyIicn29KoylS5ciMjISkiShqKjoqvNd2bwpkfj9HeMAAK9+\n",
              "egS5B04qG4iIyMX1qjDmzJmD/fv3IyIiwqH5ru7RqWPw+C1RAIAXPzqE9w9WKZyIiMh19eoSrWlp\n",
              "ab2a7w6WTY9Bk9GKtV+dwDPbS+Cr1eCuiaFKxyIicjm9Kgy5GI1GGI1Gu3lWqzLvwJYkCc/ffR2a\n",
              "TRa8W1CFJ94thI9WhVvGhSiSh4jIVSly0jszMxN6vd5uys/PVyIKgLbSePmX1+OeuBGw2AQe3fgt\n",
              "DpTVKpaHiMgVKVIYy5cvR11dnd2UnJysRJROapWEN+6Pw/TxITBZbFi0/iC+qbioaCYiIleiSGHo\n",
              "dDoEBATYTWq1WokodrzUKrz5wCTcFD0UzSYrFuTk4/sf65SORUTkEnpVGEuWLIHBYEB1dTVmzJiB\n",
              "qKioHue7I28vNdY8lIikyCFoaLVg3tp8lJ5pUDoWEZHiJOEin42xbNkyrFq1SukYnepbzUh/Jw/f\n",
              "/ViHYH8d3n90CiKC/JSORUSkGI98p7cjAry9sD4jGWND/HG2wYgH38lDTV2L0rGIiBTDwujBED8t\n",
              "NixKRmSQL3681IL0d/JwrsF49TsSEQ1ALIyrCPb3xqZHUhE22AfHa5vwUHYeLjWblI5FRNTvWBgO\n",
              "CBvsg02LUjDMX4cjpxswP6cAjUZeH5yIPAsLw0GRQ/2wcWEKBvt6objqEhauK0CLidcHJyLPwcLo\n",
              "hbHD/bEhIwX+Og3yTlzAoxu/gdHC0iAiz8DC6KXrDXqsfTgJPl5q7Dt2Dk9sKYLFalM6FhGR07Ew\n",
              "rkFSZCDenpcIrVqFTw+dxtPbSmCzucTbWYiInIaFcY1uih6Gv6YnQK2SsKPwRzz/4fe8PjgRDWgs\n",
              "jD6YPj4Eq+6PgyQBm/IqsWL3YZYGEQ1YLIw+mhUfhldmXw8AeOfLE1i9t1ThREREzsHCkMGvksLx\n",
              "wt3jAQB/+awU73xxXOFERETyY2HIJOMXo/C7GWMBAC/vPoxNeRUKJyIikhcLQ0a/uTkK/zptDADg\n",
              "uQ++x87CaoUTERHJh4Uhs6dnjMX8KREQAvj390vw6fc1SkciIpIFC0NmkiThxZkTMCfRAKtN4PEt\n",
              "hfifo2eVjkVE1GcsDCdQqSS8et9E3HV9KMxWgSUbvsHXx88rHYuIqE96VRhLly5FZGQkJElCUVFR\n",
              "5/zS0lLccMMNiImJQVJSEg4dOiR3TrejVkn486/iccu4YBgtNixcV4CiqktKxyIiuma9Kow5c+Zg\n",
              "//79iIiIsJu/ZMkSLF68GMeOHcMzzzyDBQsWyJnRbWk1Kvx3egKmjA5Ck8mK+WvzcbimXulYRETX\n",
              "pFeFkZaWBoPBYDfv7NmzOHjwIObOnQsAuO+++1BVVYWysjL5Uroxby81suZPRkL4YNS1mPFQdh7K\n",
              "zzUqHYuIqNf6fA6jqqoKoaGh0Gg0ANpO+oaHh6OysvJn72M0GlFfX283Wa0D92PC/XQa5DycjPGh\n",
              "AahtNGFuVh6qLjQrHYuIqFcUOemdmZkJvV5vN+Xn5ysRpd/ofbywYWEyooIHoaauFelZeThT36p0\n",
              "LCIih/W5MEaOHImamhpYLG2XLBVCoLKyEuHh4T97n+XLl6Ours5uSk5O7msUlxc0SIeNC1MQHuiL\n",
              "ygvNSM/Kw/lGo9KxiIgc0ufCCA4ORkJCAjZu3AgA2L59OwwGA6Kion72PjqdDgEBAXaTWq3uaxS3\n",
              "MFzvjU2LUjA8wBtlZxsxb20+6lrMSsciIrqqXhXGkiVLYDAYUF1djRkzZnSWwpo1a7BmzRrExMTg\n",
              "lVdeQU5OjlPCDhQjA32x6ZEUDB2kxaFT9chYV4Bmk0XpWEREPZKEi1zAYdmyZVi1apXSMfrV4Zp6\n",
              "/Prtr1HXYsaNUUHInp8Eby/P2NMiIvfDd3or6LrQAORmJMNPq8ZXZefxm03fwszrgxORi2JhKCx+\n",
              "5GBkL0iCTqPC3iNn8eTWIlh5fXAickEsDBeQOjoIax5KhJdawq6SGvx+ewlsLA0icjEsDBcxbWww\n",
              "3nxgEtQqCe9/U40/fvwDrw9ORC6FheFCbo8Nxcr/MxGSBKw7cBIr/35U6UhERJ1YGC7ml5MMeOne\n",
              "WADAX/9Rjr/+g5/JRUSugYXhgtJTIvAfd14HAHj9/x9FzlcnFE5ERMTCcFmPpI3Gk7dFAwD+8P9+\n",
              "wHsFVQonIiJPx8JwYU/cGo1HbhoFAHhmRwk+Kj6lcCIi8mQsDBcmSRKevfM6PJgSDiGAZVuL8NkP\n",
              "Z5SORUQeioXh4iRJwkuzYvHLSWGw2AT+bdO32F9aq3QsIvJALAw3oFJJeH3ORMyYEAKT1YZH1h/E\n",
              "wZMXlI5FRB6GheEmNGoV/uuBSUiLGYYWsxUP5xTgu+o6pWMRkQdhYbgRnUaNNXMTkTwqEA1GC+at\n",
              "zcOxMw1KxyIiD8HCcDM+WjWy509GnEGPi81mpGfl4WRtk9KxiMgDsDDckL+3F3IzkjFuuD/ONRiR\n",
              "npWHHy+1KB2LiAY4FoabGuyrxYaFKRg91A8/XmrB3Kw8nG1oVToWEQ1gshbGp59+ismTJ2PixIlI\n",
              "TU1FcXGxnA9Plxnmr8PGRSkIG+yDE7VNeCgrHxebTErHIqIBSrbCuHjxItLT05Gbm4uSkhK8/vrr\n",
              "SE9Pl+vh6WeMGOyDzY+kINhfh6NnGjA/Jx8NrWalYxHRACRbYZSXlyMoKAgTJkwAANx0002orKzE\n",
              "t99+K9ePoJ8REeSHTYtSEOinRUl1HRauO4gWk1XpWEQ0wMhWGNHR0Th//jwOHDgAAPjoo4/Q0NCA\n",
              "kydPXrGs0WhEfX293WS18g9cX0SH+GN9RjL8dRrkn7yAxRsOwmjhOiUi+chWGHq9Htu2bcPy5cuR\n",
              "mJiIv//97xg/fjw0Gs0Vy2ZmZkKv19tN+fn5ckXxWLFheqzLSIKPlxpfltbi8c2FMFttSsciogFC\n",
              "Ek66DqjRaMTw4cNRUFCAqKioK75nNBrt5j3//PNYvXq1M6J4nK/KavHwugKYLDbMih+BVffHQ62S\n",
              "lI5FRG5O1lFSNTU1nbf/9Kc/4ZZbbrmiLABAp9MhICDAblKr1XJG8Wg3Rg3Ffz+YAI1KwodFp/Dc\n",
              "B9/x+uBE1GeyFsYLL7yAcePGISoqChUVFcjOzpbz4akXbhsfgj//Kh4qCdiSX4WXdh1maRBRn1x5\n",
              "gqEP3nnnHTkfjvpoZtwItJiteHpbCbL3n4CfToNl02OUjkVEborv9B7g7p88Ev85czwA4L/2lmLN\n",
              "vnKFExGRu2JheIAFN47C07ePBQBkfnIEG/55UtlAROSWWBge4t+mReE3N48BADz/4SFs/6Za4URE\n",
              "5G5YGB7k3/9lLBbcEAkA+N22YnzyXU3PdyAi6oKF4UEkScILd4/H/ZMNsAlg6buF+MeRs0rHIiI3\n",
              "wcLwMCqVhMzZE3H3xFCYrQKPbvwG/yw/r3QsInIDLAwPpFZJ+POv4nHbdcEwWmxYmFuAbysvKh2L\n",
              "iFwcC8NDealVeOvBBNwYFYRmkxUL1ubj0Kk6pWMRkQtjYXgwby813n5oMhIjhqC+1YJ52fkoO9uo\n",
              "dCwiclEsDA/np9Ng7YIkxIYF4HyTCXOz8lB1oVnpWETkglgYBL2PF9ZnpCA6eBBO17fiwayvcbqO\n",
              "1wcnInssDAIABPppsWlRCiKCfFF1oQXpWV+jttF49TsSkcdgYVCn4ABvbFqUghF6b5Sfa8K87HzU\n",
              "NfP64ETUhoVBdgxDfLFxUQqGDtLhh5p6LFiXj0ajRelYROQCWBh0hdHDBmHjomTofbxQWHkJj+Qe\n",
              "RKuZ1wcn8nQsDOrWuOEBWJ+RjEE6Df55/Dz+deM3MFl4fXAiTyZrYezevRsJCQmIj49HbGwscnNz\n",
              "5Xx46mdxIwdj7YIkeHup8I+j5/Dk1kJYrCwNIk8lW2EIITB37lysW7cORUVF+Pjjj7FkyRI0NDTI\n",
              "9SNIAcmjArHmocnQqlXY/d1pPLP9O9hsvNQrkSeSdQ9DkiRcunQJAFBfX4+goCDodDo5fwQpYGrM\n",
              "MLz54CSoVRK2f1uNFz86xOuDE3kg2a7pLUkStm7ditmzZ8PPzw8XL17Ejh07oNVqr1jWaDTCaLQf\n",
              "42+18qSqK5sxYThW3R+HJ7cWYcPXFfDVqfH728dBkiSloxFRP5FtD8NiseCll17Cjh07UFFRgb17\n",
              "9+Khhx5CbW3tFctmZmZCr9fbTfn5+XJFISeZFR+GFb+8HgCwZt9xvPV5mcKJiKg/yVYYRUVFOHXq\n",
              "FNLS0gAASUlJMBgMKCwsvGLZ5cuXo66uzm5KTk6WKwo50QPJ4XjurusAAG/sOYasL48rnIiI+ots\n",
              "hTFy5EjU1NTg8OHDAICysjKUl5dj7NixVyyr0+kQEBBgN6nVarmikJMtumk0lk2PAQC8tOswtuRX\n",
              "KpyIiPqDbOcwQkJC8Pbbb+P++++HSqWCzWbDW2+9hfDwcLl+BLmQx2+JQpPRgjVfHMezO7+Dr1aN\n",
              "WfFhSsciIieSrTAA4IEHHsADDzwg50OSi5IkCb+/YxyaTBZs/LoSy94rhreXGjMmDFc6GhE5Cd/p\n",
              "TddMkiT88Z5YzE4Ig9Um8PjmQnxx7JzSsYjISVgY1CcqlYTX7puIO2KHw2S1YfGGg8g/cUHpWETk\n",
              "BCwM6jONWoXVv56EaWOHodVsQ8a6AhRXXVI6FhHJjIVBstBqVPjb3ESkjg5Eo9GC+Tn5OHK6XulY\n",
              "RCQjFgbJxttLjaz5SYgfORiXms2Ym5WP4+calY5FRDJhYZCsBuk0yH04GdeFBqC20Yi5WXmovtis\n",
              "dCwikgELg2Sn9/XChoXJGD3MD6fqWpGelYez9a1KxyKiPmJhkFMMHaTDpkUpMAzxQcX5ZszNzsOF\n",
              "JpPSsYioD1gY5DSheh9sXpSKkAAdjp1pxPy1+ahvNSsdi4iuEQuDnCo8yBebFqUiyE+L736sQ0ZO\n",
              "AZpNFqVjEdE1YGGQ00UFD8L6hckI8NbgYMVFLF7/DVrNvP4JkbthYVC/mDBCj3UZyfDVqrG/rBaP\n",
              "bS6EmdcHJ3IrLAzqNwnhQ5A9Pwk6jQqfHT6Dp94rhpXXBydyG7J+Wi3R1UwZE4S/zU3E4g0H8VHx\n",
              "KZSfa0RC+BBMGBGA8CBf+Gk18NOp4aPVwNdLDR+tGjqNipeCJXIBLAzqdzePC8bqX0/C0i2FOHSq\n",
              "HodO9fwRImqVBF8vNXx1avhqNfDxUneWip+2rVT8tBr4atu+79sxT6eGj1dbAXX9XucyXmqoVCwi\n",
              "IkexMEgRd14firiRg3Hw5AX80F4ap+tb0WKyoslkQbPJCpOl7RyH1SbQYLSgwWgBYJQ1h49Xe5no\n",
              "1PD10rSXUs9F0+3ty5b1UvNoLw08LAxSTNhgH4TFh/3slfosVhuazVY0G61obi+Rtumn2y0mC5o6\n",
              "5hstaDZb20rHaEGLue3fn+7Xdt8WsxWi/dRJi9mKFrMV55vkfW5atQo+nYXSvmfUftuv/Xbb3pF9\n",
              "8bTtFanhp9PY7Tl13Pb24uE5Uo5shXH+/HnceuutnV83Nzfj+PHjOHv2LAIDA+X6MeRBNGoVAtQq\n",
              "BHh7yfq4Qgi0mm1tezJGK5rN7aXSpZiaTBa0tJdM19vNJguajG2l1Gxuv3+XIjJb25rIZLXB1GJD\n",
              "XYu8b1SUJLSf2/mpXHy17QVjVzQ/HbLz1V52+K7Lsl3LSs3Dc3QVshVGUFAQioqKOr9euXIl9u3b\n",
              "x7IglyNJEnza/3hikLyPbbLY7A6rtXRTPvZ7Qla0tBdWx+3uCqml/X0rQgBNJiuaTFbUyvxBwFqN\n",
              "qr1gujn0pvtpEIJfl3NJXb/XcY7p8vty0MLA4bRDUtnZ2cjMzHTWwxO5JK1GBa1GBb2vvHtFNpto\n",
              "O8Rm6loibeXS9TBd14LqKK1m45V7SV2X7RjZbLLYYLLYcLFZ3r0ilYTOw3DdlVDH+Z9ul2n/t+sA\n",
              "Bp+O+Ry00O+cUhgHDhzAxYsXcffdd3f7faPRCKPR/uSl1cp3/hL9HJVKgp9OAz+dBvCX73GFEDBa\n",
              "bFecG2ru7jCc+fJDcu3njbq5b7PJCmP7oAWbQJdBC/Ly9lJ1OSeksRsd113R2JfSzw1k0ECr4aCF\n",
              "7jilMLKzszFv3jxoNN0/fGZmJv7whz/YzUtNTXVGFCLqgSRJ8PZSw9tLjUA/rayPbbHa2kvmp8EH\n",
              "HQMR7MrosgEMXQctdL1vxzLNXQYttJptaDWbAJkHLWhU0mV7Q/aj6HwvG4zQ48g5u9F3arc+PCcJ\n",
              "IWR9q21jYyNCQ0NRUFCAcePGdbtMd3sYzz//PFavXi1nFCIagDoGLXQdoNDcTdHYjaLrKJ32vaKO\n",
              "YrIfcWeFyckfVyNJHUO5u5bLZV93Hqpr30vqZjRdd6Pv+mMot+x7GFu3bkVcXNzPlgUA6HQ66HQ6\n",
              "u3lqtVruKEQ0AHUdtBAk82ObrTb7w3AdpXLZ8O7uzgnZ3e4YfdfNoIWOZeVW8p//IvuIwsvJXhjZ\n",
              "2dl45JFH5H5YIiKn81KroPdRQe/jnEEL9ueE7EfHdTdAoevtriPnmrqUVMfnsfl6Of8/3bIXxoED\n",
              "B+R+SCIit2Y3aAG6qy7vKCEETNa2odwadzwkRURE/UOSJOg0aug0/XNIn2PHiIjIISwMIiJyCAuD\n",
              "iIgcIvv7MK7V7NmzERkZeU33tVqtyM/PR3JysscOz/X0deDpzx/gOgC4Dq71+UdEROCJJ5646nIu\n",
              "Uxh9UV9fD71ej7q6OgQEBCgdRxGevg48/fkDXAcA14Gznz8PSRERkUNYGERE5BAWBhEROWRAFIZO\n",
              "p8OLL754xedTeRJPXwee/vwBrgOA68DZz39AnPQmIiLnGxB7GERE5HwsDCIicggLg4iIHOL2hVFa\n",
              "WoobbrgBMTExSEpKwqFDh5SO5FStra249957ERMTg7i4OEyfPh1lZWUAgLNnz+L2229HdHQ0YmNj\n",
              "8cUXXyic1vlycnIgSRI++OADAJ61DoxGIx577DFER0fj+uuvx9y5cwF4zmti9+7dSEhIQHx8PGJj\n",
              "Y5GbmwtgYG8DS5cuRWRkJCRJQlFRUef8nn7nsm4Pws3dfPPNIicnRwghxPvvvy8mT56sbCAna2lp\n",
              "Ebt27RI2m00IIcSbb74ppk6dKoQQ4uGHHxYvvviiEEKI/Px8ERYWJkwmk0JJne/EiRNiypQpIjU1\n",
              "VezcuVMI4Vnr4MknnxSPPfZY57ZQU1MjhPCM14TNZhNDhgwRxcXFQoi2bUGn04n6+voBvQ3s27dP\n",
              "VFVViYiICFFYWNg5v6ffuZzbg1sXxpkzZ4S/v78wm81CiLaNKCQkRJSWliqcrP8UFBSIiIgIIYQQ\n",
              "fn5+nX80hBAiKSlJ7NmzR6FkzmW1WsWtt94qDh48KKZOndpZGJ6yDhobG4W/v7+oq6uzm+8prwmb\n",
              "zSYCAwPFvn37hBBCFBcXixEjRgij0egR20DXwujpdy739uDWh6SqqqoQGhoKjabtOlCSJCE8PByV\n",
              "lZUKJ+s/q1evxqxZs3D+/HmYzWYMHz6883uRkZEDdl2sWrUKN954IxITEzvnedI6KC8vR2BgIFas\n",
              "WIHJkyfjpptuwt69ez3mNSFJErZu3YrZs2cjIiICv/jFL5Cbm4uGhgaP2QY69PQ7l3t74BX33NiK\n",
              "FStQVlaGvXv3oqWlRek4/eb777/H9u3bB9Sx6d6yWCyoqKjA+PHj8corr6CwsBDTp0/Hrl27lI7W\n",
              "LywWC1566SXs2LEDaWlpKCgowD333GN3XJ/k59Z7GCNHjkRNTQ0sFguAtuvbVlZWIjw8XOFkzrdy\n",
              "5Urs2LEDn3zyCXx9fREUFASNRoPTp093LnPy5MkBuS6+/PJLnDx5EtHR0YiMjMTXX3+NxYsX4733\n",
              "3vOYdRAeHg6VSoX09HQAwKRJkzBq1ChUVFR4xGuiqKgIp06dQlpaGgAgKSkJBoMBJSUlHrMNdOjp\n",
              "76DsfyP7fDBNYVOnTrU7oZOYmKhsoH7wxhtviISEBHHhwgW7+fPnz7c72TdixIgBc7KvJ13PYXjS\n",
              "Opg+fbrYtWuXEEKI48ePi6CgIFFdXe0Rr4nTp0+LQYMGiR9++EEIIURpaakYMmSIqKio8Iht4PKT\n",
              "3j39zuXcHty+MI4cOSJSU1NFdHS0SExMFCUlJUpHcqqqqioBQIwePVrExcWJuLg4kZycLIRoexFN\n",
              "nz5dREVFifHjx4vPP/9c4bT9o2theNI6KC8vF9OmTROxsbFi4sSJYtu2bUIIz3lNbN68ufO5x8bG\n",
              "ik2bNgkhBvY2sHjxYhEWFibUarUIDg4WY8aMEUL0/DuXc3vgZ0kREZFD3PocBhER9R8WBhEROYSF\n",
              "QUREDmFhEBGRQ1gYRETkEBYGERE5hIVBREQOYWEQEZFDWBhEROQQFgYRETmEhUFERA75Xz9frTd5\n",
              "5zw5AAAAAElFTkSuQmCC\n",
              "\">\n",
              "        \n",
              "      </div>\n",
              "      <script></script>\n",
              "      <script type=\"text/javascript\">\n",
              "        (() => {\n",
              "          const chartElement = document.getElementById(\"chart-6927c752-7dfc-43bc-a9fc-757afe57e648\");\n",
              "          async function getCodeForChartHandler(event) {\n",
              "            const chartCodeResponse =  await google.colab.kernel.invokeFunction(\n",
              "                'getCodeForChart', [\"chart-6927c752-7dfc-43bc-a9fc-757afe57e648\"], {});\n",
              "            const responseJson = chartCodeResponse.data['application/json'];\n",
              "            await google.colab.notebook.addCell(responseJson.code, 'code');\n",
              "          }\n",
              "          chartElement.onclick = getCodeForChartHandler;\n",
              "        })();\n",
              "      </script>\n",
              "      <style>\n",
              "        .colab-quickchart-chart-with-code  {\n",
              "            display: block;\n",
              "            float: left;\n",
              "            border: 1px solid transparent;\n",
              "        }\n",
              "\n",
              "        .colab-quickchart-chart-with-code:hover {\n",
              "            cursor: pointer;\n",
              "            border: 1px solid #aaa;\n",
              "        }\n",
              "      </style>"
            ]
          },
          "metadata": {}
        },
        {
          "output_type": "display_data",
          "data": {
            "text/plain": [
              "import numpy as np\n",
              "from google.colab import autoviz\n",
              "\n",
              "def value_plot(df, y, figscale=1):\n",
              "  from matplotlib import pyplot as plt\n",
              "  df[y].plot(kind='line', figsize=(8 * figscale, 4 * figscale), title=y)\n",
              "  plt.gca().spines[['top', 'right']].set_visible(False)\n",
              "  plt.tight_layout()\n",
              "  return autoviz.MplChart.from_current_mpl_state()\n",
              "\n",
              "chart = value_plot(_df_1, *['mae'], **{})\n",
              "chart"
            ],
            "text/html": [
              "      <div class=\"colab-quickchart-chart-with-code\" id=\"chart-8619994e-e081-4674-8231-eafa74ca3509\">\n",
              "        <img src=\"data:image/png;base64,iVBORw0KGgoAAAANSUhEUgAAAYwAAADECAYAAACMRRb/AAAAOXRFWHRTb2Z0d2FyZQBNYXRwbG90\n",
              "bGliIHZlcnNpb24zLjcuMSwgaHR0cHM6Ly9tYXRwbG90bGliLm9yZy/bCgiHAAAACXBIWXMAAA9h\n",
              "AAAPYQGoP6dpAAAef0lEQVR4nO3dfVxUdaIG8OfMDAzvI6IoikAKaIqCIAPWhlprlutqa26t4VtK\n",
              "2r1b1sfu3fLeXu62Jt2buWu2d9cCX/KlLLW2m9rdtC5lboAF+JqCL7wkiijyzrz+7h+8xCjpIGc4\n",
              "8/J8P5/zaTycOTxzOPB0zvnNHEkIIUBERHQTKqUDEBGRa2BhEBGRXVgYRERkFxYGERHZhYVBRER2\n",
              "YWEQEZFdWBhERGQXFgYREdmFhUFERHZhYRARkV1YGEREZBcWBhER2YWFQdTJxIkT8eSTT+Lhhx9G\n",
              "UFAQwsPD8d577+HIkSMYP348AgMDodfrcfLkSQDABx98gKSkJAQHB6Nfv36YPn06zp49a7POPXv2\n",
              "ICUlBcHBwYiJicEbb7yhxEsj6jlBRB0mTJggdDqdyMnJERaLRfzpT38Sfn5+YurUqeLs2bPCYDCI\n",
              "mTNninvvvVcIIcTevXtFYWGhMJvN4tKlS2LatGkiNTW1Y32ff/650Ol0Yt++fcJisYgjR46I8PBw\n",
              "sWXLFqVeItEtk4Tgx5sTtZs4cSKGDRuG7OxsAEBtbS369OmDbdu2Yfbs2QCAnTt3IiMjAzU1Ndc9\n",
              "v6CgAImJiairq0NgYCCmT5+OUaNGITMzs2OZV155BV988QX27dvXOy+KSCYapQMQOZuwsLCOx/7+\n",
              "/l3Oq6+vBwDk5OTg5ZdfxvHjx9HY2NixTFVVFQIDA1FcXIx9+/bhL3/5S8fXLBYLIiIiHP0yiGTH\n",
              "axhEt8hoNGLatGm47777cOrUKdTV1SEnJwcA0H7gPnDgQDz33HO4evVqx1RfX49jx44pGZ3olrAw\n",
              "iG6R0WhEc3MzgoODERgYiPPnz+P555+3Weapp57C2rVrsX//fpjNZpjNZhw9ehRffvmlQqmJbh0L\n",
              "g+gWBQQEICsrCytWrEBAQADuv/9+/PrXv7ZZ5oEHHsDmzZvx4osvIjQ0FKGhocjIyEB1dbVCqYlu\n",
              "HS96ExGRXXiEQUREdmFhEBGRXVgYRERkFxYGERHZpVuFsXTpUkRFRUGSJBQWFgIAWlpa8MADDyA2\n",
              "Nhbx8fGYPHkySkpKHJGViIgU1K3CmDVrFg4cOIDIyEib+YsXL8bJkydRVFSEGTNmICMjQ9aQRESk\n",
              "vG4VRlpaGsLDw23m+fj4YOrUqZAkCQCQmpqKc+fOyRaQiIicg+zXMNasWYMZM2bccBmDwYC6ujqb\n",
              "6fXXX5c7ChERyUjWwli5ciVKSkpsPpmzK5mZmdDpdDbTjh075IxCREQyk60wVq1ahV27dmHv3r3w\n",
              "8/O74bLLly9HbW2tzaTX6+WKQkREDiDLx5uvXr0a7777Lvbt24c+ffrcdHmtVgutVmszT61WyxGF\n",
              "iIgcpFtHGEuWLEF4eDgqKiowZcoUREdHo6KiAs888wyuXr2KSZMmISEhASkpKY7KS0RECunWEca6\n",
              "deu6nK/k5xcKIbD28xIkDOmDtNj+iuUgInJ3Lv9O7w8LfsDqz05h8eZDyDt7Rek4RERuy+ULY9qY\n",
              "QZg4vD9aTFYs3JiPwxVXlY5EROSWXL4wvDUq/HVOElKH9kWDwYx56/Nw8kK90rGIiNyOyxcGAPh4\n",
              "qZE1PxkJQ/rgapMJ6Vm5OFvdqHQsIiK34haFAQABWg02ParH7WFBqG4wIP3tb1BR06R0LCIit+E2\n",
              "hQEAOj8vbF6kx9D+/jhf24L0rFxU1bUoHYuIyC24VWEAQL8ALbZmpCA82Bell5uQnpWLK41GpWMR\n",
              "Ebk8tysMAAjT+WJbRioGBGlRXNWAeetzUddiUjoWEZFLc8vCAICIED9szUhBX39vHP2hDgs35KPJ\n",
              "aFY6FhGRy3LbwgCA6NBAbF6kR5CPBodKa7Bk87doMVmUjkVE5JLcujAAYNQgHTYu1MPPW42viqvx\n",
              "xLYCmCxWpWMREbkcty8MAEiMCEbW/HHQalTYd+Iinnm/CBarcp9/RUTkijyiMADgjmH98Nc5SfBS\n",
              "S/i46Dz+/cMjin5oIhGRq/GYwgCASSNCseY3Y6GSgPfyy/HyJ8dZGkREdvKowgCAqaPD8F+z4gEA\n",
              "G74+h9WfnVI4ERGRa/C4wgCAWUnheHnGKADA2s9L8Jf/O61wIiIi59etwli6dCmioqIgSRIKCwtv\n",
              "Ot+ZzRsfhefuHwEA+M9Pv8emg+eUDURE5OS6VRizZs3CgQMHEBkZadd8Z/f4hGF48u5oAMBLHx/D\n",
              "B4fKFU5EROS8unWL1rS0tG7NdwXLJsei0WDB+q/P4tmdh+HnrcEvxoQpHYuIyOl0qzDkYjAYYDAY\n",
              "bOZZLMq8A1uSJLww7XY0Gc14L78cT71XAF9vFe4eMUCRPEREzkqRi96ZmZnQ6XQ2U15enhJRALSW\n",
              "xiu/Go3p8YNgtgo8vuU7HCypViwPEZEzUqQwli9fjtraWptJr9crEaWDWiXh9YfiMXnkABjNVmS8\n",
              "cwjfltYomomIyJkoUhharRZBQUE2k1qtViKKDS+1Cmtnj8VdMf3QZLRgwYY8HP2hVulYREROoVuF\n",
              "sWTJEoSHh6OiogJTpkxBdHT0Dee7Ih8vNdbNTUJyVDDqW8yYtz4PxRfrlY5FRKQ4STjJZ2MsW7YM\n",
              "q1evVjpGh7oWE9LfzsWRH2oRGqjFB4+PR2SIv9KxiIgU45Hv9LZHkI8X3lmox/ABgaiqN+CRt3NR\n",
              "WdusdCwiIsWwMG4g2N8bmzP0iArxww9Xm5H+di4u1Rtu/kQiIjfEwriJ0EAfbH0sFYP7+OJMdSPm\n",
              "ZufiapNR6VhERL2OhWGHwX18sTUjBf0Dtfj+Qj3mb8hHg4H3Byciz8LCsFNUP39sWZSCPn5eKCq/\n",
              "ikUb89Fs5P3BichzsDC6YfjAQGxemIJArQa5Z6/g8S3fwmBmaRCRZ2BhdNPocB3WP5oMXy81ck5d\n",
              "wlPvFsJssSodi4jI4VgYtyA5qi/empcEb7UKnx67gN/tOAyr1SnezkJE5DAsjFt0V0x//Dk9EWqV\n",
              "hF0FP+CFvx3l/cGJyK2xMHpg8sgBWP1QPCQJ2JpbhpV7TrA0iMhtsTB6aEbCYLw6czQA4O2vzmLN\n",
              "/mKFExEROQYLQwYPJ0fgxWkjAQB/2leMt788o3AiIiL5sTBksvBnt+FfpwwHALyy5wS25pYqnIiI\n",
              "SF4sDBn9dlI0/mniMADA8x8dxYcFFQonIiKSDwtDZr+bMhzzx0dCCOBfPjiMT49WKh2JiEgWLAyZ\n",
              "SZKEl345CrOSwmGxCjz5bgH+72SV0rGIiHqMheEAKpWE/3xwDH4xOgwmi8CSzd/imzOXlY5FRNQj\n",
              "3SqMpUuXIioqCpIkobCwsGN+cXEx7rjjDsTGxiI5ORnHjh2TO6fLUask/PHhBNw9IhQGsxWLNuaj\n",
              "sPyq0rGIiG5Ztwpj1qxZOHDgACIjI23mL1myBIsXL8apU6fw7LPPYsGCBXJmdFneGhX+Oz0R44eG\n",
              "oNFowfz1eThRWad0LCKiW9KtwkhLS0N4eLjNvKqqKhw6dAhz5swBADz44IMoLy9HSUmJfCldmI+X\n",
              "GlnzxyExog9qm02Ym52L05calI5FRNRtPb6GUV5ejrCwMGg0GgCtF30jIiJQVlb2k88xGAyoq6uz\n",
              "mSwW9/2YcH+tBhse1WNkWBCqG4yYk5WL8itNSsciIuoWRS56Z2ZmQqfT2Ux5eXlKROk1Ol8vbF6k\n",
              "R3RoACprW5CelYuLdS1KxyIisluPC2PIkCGorKyE2dx6y1IhBMrKyhAREfGTz1m+fDlqa2ttJr1e\n",
              "39MoTi8kQIsti1IQ0dcPZVeakJ6Vi8sNBqVjERHZpceFERoaisTERGzZsgUAsHPnToSHhyM6Ovon\n",
              "n6PVahEUFGQzqdXqnkZxCQN1PtiakYKBQT4oqWrAvPV5qG02KR2LiOimulUYS5YsQXh4OCoqKjBl\n",
              "ypSOUli3bh3WrVuH2NhYvPrqq9iwYYNDwrqLIX39sPWxFPQL8Max83VYuDEfTUaz0rGIiG5IEk5y\n",
              "A4dly5Zh9erVSsfoVScq6/Cbt75BbbMJd0aHIHt+Mny8PONIi4hcD9/praDbw4KwaaEe/t5qfF1y\n",
              "Gb/d+h1MvD84ETkpFobCEob0QfaCZGg1Kuz/vgpPby+EhfcHJyInxMJwAqlDQ7BubhK81BJ2H67E\n",
              "czsPw8rSICInw8JwEhOHh2Lt7LFQqyR88G0FXv7kOO8PTkROhYXhRO6LC8OqX4+BJAEbD57Dqr+f\n",
              "VDoSEVEHFoaT+dXYcKx4IA4A8OcvTuPPX/AzuYjIObAwnFB6SiT+fertAIDX/vckNnx9VuFEREQs\n",
              "DKf1WNpQPP3zGADA7//nON7PL1c4ERF5OhaGE3vqnhg8dtdtAIBndx3Gx0XnFU5ERJ6MheHEJEnC\n",
              "v029HY+kREAIYNn2Quw7flHpWETkoVgYTk6SJKyYEYdfjR0Ms1Xgn7d+hwPF1UrHIiIPxMJwASqV\n",
              "hNdmjcGUUQNgtFjx2DuHcOjcFaVjEZGHYWG4CI1ahTdmj0VabH80myx4dEM+jlTUKh2LiDwIC8OF\n",
              "aDVqrJuTBP1tfVFvMGPe+lyculivdCwi8hAsDBfj661G9vxxiA/XoabJhPSsXJyrblQ6FhF5ABaG\n",
              "Cwr08cKmhXqMGBiIS/UGpGfl4oerzUrHIiI3x8JwUX38vLF5UQqG9vPHD1ebMScrF1X1LUrHIiI3\n",
              "JmthfPrppxg3bhzGjBmD1NRUFBUVybl6ukb/QC22ZKRgcB9fnK1uxNysPNQ0GpWORURuSrbCqKmp\n",
              "QXp6OjZt2oTDhw/jtddeQ3p6ulyrp58wqI8vtj2WgtBALU5erMf8DXmobzEpHYuI3JBshXH69GmE\n",
              "hIRg1KhRAIC77roLZWVl+O677+T6FvQTIkP8sTUjBX39vXG4ohaLNh5Cs9GidCwicjOyFUZMTAwu\n",
              "X76MgwcPAgA+/vhj1NfX49y5c9ctazAYUFdXZzNZLPwD1xMxAwLxzkI9ArUa5J27gsWbD8Fg5jYl\n",
              "IvnIVhg6nQ47duzA8uXLkZSUhL///e8YOXIkNBrNdctmZmZCp9PZTHl5eXJF8Vhxg3XYuDAZvl5q\n",
              "fFVcjSe3FcBksSodi4jchCQcdB9Qg8GAgQMHIj8/H9HR0dd9zWAw2Mx74YUXsGbNGkdE8Thfl1Tj\n",
              "0Y35MJqtmJEwCKsfSoBaJSkdi4hcnKyjpCorKzse/+EPf8Ddd999XVkAgFarRVBQkM2kVqvljOLR\n",
              "7ozuh/9+JBEalYS/FZ7H8x8d4f3BiajHZC2MF198ESNGjEB0dDRKS0uRnZ0t5+qpG34+cgD++HAC\n",
              "VBLwbl45Vuw+wdIgoh65/gJDD7z99ttyro566Jfxg9BssuB3Ow4j+8BZ+Gs1WDY5VulYROSi+E5v\n",
              "N/fQuCH4j1+OBAC8sb8Y63JOK5yIiFwVC8MDLLjzNvzuvuEAgMy932PzP84pG4iIXBILw0P888Ro\n",
              "/HbSMADAC387hp3fViiciIhcDQvDg/zLvcOx4I4oAMC/7ijC3iOVN34CEVEnLAwPIkkSXpw2Eg+N\n",
              "C4dVAEvfK8AX31cpHYuIXAQLw8OoVBIyZ47BtDFhMFkEHt/yLf5x+rLSsYjIBbAwPJBaJeGPDyfg\n",
              "57eHwmC2YtGmfHxXVqN0LCJyciwMD+WlVuHNRxJxZ3QImowWLFifh2Pna5WORUROjIXhwXy81Hhr\n",
              "7jgkRQajrsWMedl5KKlqUDoWETkpFoaH89dqsH5BMuIGB+FyoxFzsnJRfqVJ6VhE5IRYGASdrxfe\n",
              "WZiCmNAAXKhrwSNZ3+BCLe8PTkS2WBgEAOjr742tGSmIDPFD+ZVmpGd9g+oGw82fSEQeg4VBHUKD\n",
              "fLA1IwWDdD44fakR87LzUNvE+4MTUSsWBtkID/bDlowU9AvQ4nhlHRZszEODwax0LCJyAiwMus7Q\n",
              "/gHYkqGHztcLBWVX8dimQ2gx8f7gRJ6OhUFdGjEwCO8s1CNAq8E/zlzGP235FkYz7w9O5MlkLYw9\n",
              "e/YgMTERCQkJiIuLw6ZNm+RcPfWy+CF9sH5BMny8VPji5CU8vb0AZgtLg8hTyVYYQgjMmTMHGzdu\n",
              "RGFhIT755BMsWbIE9fX1cn0LUoD+tr5YN3ccvNUq7DlyAc/uPAKrlbd6JfJEsh5hSJKEq1evAgDq\n",
              "6uoQEhICrVYr57cgBUyI7Y+1j4yFWiVh53cVeOnjY7w/OJEHku2e3pIkYfv27Zg5cyb8/f1RU1OD\n",
              "Xbt2wdvb+7plDQYDDAbbMf4WCy+qOrMpowZi9UPxeHp7ITZ/Uwo/rRrP3TcCkiQpHY2IeolsRxhm\n",
              "sxkrVqzArl27UFpaiv3792Pu3Lmorq6+btnMzEzodDqbKS8vT64o5CAzEgZj5a9GAwDW5ZzBm5+X\n",
              "KJyIiHqTbIVRWFiI8+fPIy0tDQCQnJyM8PBwFBQUXLfs8uXLUVtbazPp9Xq5opADzdZH4Plf3A4A\n",
              "eP2zU8j66ozCiYiot8hWGEOGDEFlZSVOnDgBACgpKcHp06cxfPjw65bVarUICgqymdRqtVxRyMEy\n",
              "7hqKZZNjAQArdp/Au3llCiciot4g2zWMAQMG4K233sJDDz0ElUoFq9WKN998ExEREXJ9C3IiT94d\n",
              "jUaDGeu+PIN/+/AI/LzVmJEwWOlYRORAshUGAMyePRuzZ8+Wc5XkpCRJwnP3j0Cj0Ywt35Rh2ftF\n",
              "8PFSY8qogUpHIyIH4Tu96ZZJkoSXp8dhZuJgWKwCT24rwJenLikdi4gchIVBPaJSSfivB8fg/riB\n",
              "MFqsWLz5EPLOXlE6FhE5AAuDekyjVmHNb8Zi4vD+aDFZsXBjPorKryodi4hkxsIgWXhrVPjrnCSk\n",
              "Du2LBoMZ8zfk4fsLdUrHIiIZsTBINj5eamTNT0bCkD642mTCnKw8nLnUoHQsIpIJC4NkFaDVYNOj\n",
              "etweFoTqBgPmZOWioqZJ6VhEJAMWBslO5+eFzYv0GNrfH+drW5CelYuquhalYxFRD7EwyCH6BWix\n",
              "NSMF4cG+KL3chDnZubjSaFQ6FhH1AAuDHCZM54ttGakYEKTFqYsNmL8+D3UtJqVjEdEtYmGQQ0WE\n",
              "+GFrRipC/L1x5IdaLNyQjyajWelYRHQLWBjkcNGhAXhnkR5BPhocKq3B4ne+RYuJ9z8hcjUsDOoV\n",
              "owbpsHGhHn7eahwoqcYT2wpg4v3BiVwKC4N6TWJEMLLnJ0OrUWHfiYt45v0iWHh/cCKXIeun1RLd\n",
              "zPhhIfjrnCQs3nwIHxedx+lLDUiMCMaoQUGICPGDv7cG/lo1fL018PNSw9dbDa1GxVvBEjkBFgb1\n",
              "ukkjQrHmN2Ox9N0CHDtfh2Pnb/wRImqVBD8vNfy0avh5a+Drpe4oFX/v1lLx99bAz7v1637t87Rq\n",
              "+Hq1FlDnr3Us46WGSsUiIrIXC4MUMXV0GOKH9MGhc1dwvK00LtS1oNloQaPRjCajBUZz6zUOi1Wg\n",
              "3mBGvcEMwCBrDl+vtjLRquHnpWkrpRsXTZePr1nWS82zveR+WBikmMF9fDE4YfBP3qnPbLGiyWRB\n",
              "k8GCprYSaZ1+fNxsNKOxfb7BjCaTpbV0DGY0m1r/++PzWp/bbLJAtF06aTZZ0Gyy4HKjvK/NW62C\n",
              "b0ehtB0ZtT32b3vcenRkWzytR0Vq+Gs1NkdO7Y99vHh6jpQjW2FcvnwZ99xzT8e/m5qacObMGVRV\n",
              "VaFv375yfRvyIBq1CkFqFYJ8vGRdrxACLSZr65GMwYImU1updCqmRqMZzW0l0/lxk9GMRkNrKTWZ\n",
              "2p7fqYhMltYmMlqsMDZbUdss7xsVJQlt13Z+LBc/77aCsSmaH0/Z+Xlfc/qu07Kdy0rN03N0E7IV\n",
              "RkhICAoLCzv+vWrVKuTk5LAsyOlIkgTftj+eCJB33Uaz1ea0WnMX5WN7JGRBc1thtT/uqpCa2963\n",
              "IgTQaLSg0WhBtcwfBOytUbUVTBen3rQ/DkLw73QtqfPX2q8xXftcDlpwHw47JZWdnY3MzExHrZ7I\n",
              "KXlrVPDWqKDzk/eoyGoVrafYjJ1LpLVcOp+m61xQ7aXVZLj+KKnzsu0jm41mK4xmK2qa5D0qUkno\n",
              "OA3XVQm1X//pcpm2/3YewODbPp+DFnqdQwrj4MGDqKmpwbRp07r8usFggMFge/HSYuE7f4l+ikol\n",
              "wV+rgb9WAwTKt14hBAxm63XXhpq6Og1nuvaUXNt1oy6e22S0wNA2aMEq0GnQgrx8vFSdrglpbEbH\n",
              "dVU0tqX0UwMZNPDWcNBCVxxSGNnZ2Zg3bx40mq5Xn5mZid///vc281JTUx0RhYhuQJIk+Hip4eOl\n",
              "Rl9/b1nXbbZY20rmx8EH7QMRbMromgEMnQctdH5u+zJNnQYttJisaDEZAZkHLWhU0jVHQ7aj6Pyu\n",
              "GYxww5FzNqPv1C59ek4SQsj6VtuGhgaEhYUhPz8fI0aM6HKZro4wXnjhBaxZs0bOKETkhtoHLXQe\n",
              "oNDURdHYjKJrL522o6L2YrIdcWeB0cEfVyNJ7UO5O5fLNf/uOFXXdpTUxWi6rkbf9cZQbtmPMLZv\n",
              "3474+PifLAsA0Gq10Gq1NvPUarXcUYjIDXUetBAi87pNFqvtabj2UrlmeHdX14RsHrePvuti0EL7\n",
              "snI7/B/3yj6i8FqyF0Z2djYee+wxuVdLRORwXmoVdL4q6HwdM2jB9pqQ7ei4rgYodH7ceeRcY6eS\n",
              "av88Nj8vx/9Pt+yFcfDgQblXSUTk0mwGLUB70+XtJYSA0dI6lFvjiqekiIiod0iSBK1GDa2md07p\n",
              "c+wYERHZhYVBRER2YWEQEZFdZH8fxq2aOXMmoqKibum5FosFeXl50Ov1Hjs819O3gae/foDbAOA2\n",
              "uNXXHxkZiaeeeuqmyzlNYfREXV0ddDodamtrERQUpHQcRXj6NvD01w9wGwDcBo5+/TwlRUREdmFh\n",
              "EBGRXVgYRERkF7coDK1Wi5deeum6z6fyJJ6+DTz99QPcBgC3gaNfv1tc9CYiIsdziyMMIiJyPBYG\n",
              "ERHZhYVBRER2cfnCKC4uxh133IHY2FgkJyfj2LFjSkdyqJaWFjzwwAOIjY1FfHw8Jk+ejJKSEgBA\n",
              "VVUV7rvvPsTExCAuLg5ffvmlwmkdb8OGDZAkCR999BEAz9oGBoMBTzzxBGJiYjB69GjMmTMHgOf8\n",
              "TuzZsweJiYlISEhAXFwcNm3aBMC994GlS5ciKioKkiShsLCwY/6Nfuay7g/CxU2aNEls2LBBCCHE\n",
              "Bx98IMaNG6dsIAdrbm4Wu3fvFlarVQghxNq1a8WECROEEEI8+uij4qWXXhJCCJGXlycGDx4sjEaj\n",
              "Qkkd7+zZs2L8+PEiNTVVfPjhh0IIz9oGTz/9tHjiiSc69oXKykohhGf8TlitVhEcHCyKioqEEK37\n",
              "glarFXV1dW69D+Tk5Ijy8nIRGRkpCgoKOubf6Gcu5/7g0oVx8eJFERgYKEwmkxCidScaMGCAKC4u\n",
              "VjhZ78nPzxeRkZFCCCH8/f07/mgIIURycrL47LPPFErmWBaLRdxzzz3i0KFDYsKECR2F4SnboKGh\n",
              "QQQGBora2lqb+Z7yO2G1WkXfvn1FTk6OEEKIoqIiMWjQIGEwGDxiH+hcGDf6mcu9P7j0Kany8nKE\n",
              "hYVBo2m9D5QkSYiIiEBZWZnCyXrPmjVrMGPGDFy+fBkmkwkDBw7s+FpUVJTbbovVq1fjzjvvRFJS\n",
              "Usc8T9oGp0+fRt++fbFy5UqMGzcOd911F/bv3+8xvxOSJGH79u2YOXMmIiMj8bOf/QybNm1CfX29\n",
              "x+wD7W70M5d7f+Ad91zYypUrUVJSgv3796O5uVnpOL3m6NGj2Llzp1udm+4us9mM0tJSjBw5Eq++\n",
              "+ioKCgowefJk7N69W+lovcJsNmPFihXYtWsX0tLSkJ+fj+nTp9uc1yf5ufQRxpAhQ1BZWQmz2Qyg\n",
              "9f62ZWVliIiIUDiZ461atQq7du3C3r174efnh5CQEGg0Gly4cKFjmXPnzrnltvjqq69w7tw5xMTE\n",
              "ICoqCt988w0WL16M999/32O2QUREBFQqFdLT0wEAY8eOxW233YbS0lKP+J0oLCzE+fPnkZaWBgBI\n",
              "Tk5GeHg4Dh8+7DH7QLsb/R2U/W9kj0+mKWzChAk2F3SSkpKUDdQLXn/9dZGYmCiuXLliM3/+/Pk2\n",
              "F/sGDRrkNhf7bqTzNQxP2gaTJ08Wu3fvFkIIcebMGRESEiIqKio84nfiwoULIiAgQBw/flwIIURx\n",
              "cbEIDg4WpaWlHrEPXHvR+0Y/czn3B5cvjO+//16kpqaKmJgYkZSUJA4fPqx0JIcqLy8XAMTQoUNF\n",
              "fHy8iI+PF3q9XgjR+ks0efJkER0dLUaOHCk+//xzhdP2js6F4Unb4PTp02LixIkiLi5OjBkzRuzY\n",
              "sUMI4Tm/E9u2bet47XFxcWLr1q1CCPfeBxYvXiwGDx4s1Gq1CA0NFcOGDRNC3PhnLuf+wM+SIiIi\n",
              "u7j0NQwiIuo9LAwiIrILC4OIiOzCwiAiIruwMIiIyC4sDCIisgsLg4iI7MLCICIiu7AwiIjILiwM\n",
              "IiKyCwuDiIjs8v9245hYPdxzKwAAAABJRU5ErkJggg==\n",
              "\">\n",
              "        \n",
              "      </div>\n",
              "      <script></script>\n",
              "      <script type=\"text/javascript\">\n",
              "        (() => {\n",
              "          const chartElement = document.getElementById(\"chart-8619994e-e081-4674-8231-eafa74ca3509\");\n",
              "          async function getCodeForChartHandler(event) {\n",
              "            const chartCodeResponse =  await google.colab.kernel.invokeFunction(\n",
              "                'getCodeForChart', [\"chart-8619994e-e081-4674-8231-eafa74ca3509\"], {});\n",
              "            const responseJson = chartCodeResponse.data['application/json'];\n",
              "            await google.colab.notebook.addCell(responseJson.code, 'code');\n",
              "          }\n",
              "          chartElement.onclick = getCodeForChartHandler;\n",
              "        })();\n",
              "      </script>\n",
              "      <style>\n",
              "        .colab-quickchart-chart-with-code  {\n",
              "            display: block;\n",
              "            float: left;\n",
              "            border: 1px solid transparent;\n",
              "        }\n",
              "\n",
              "        .colab-quickchart-chart-with-code:hover {\n",
              "            cursor: pointer;\n",
              "            border: 1px solid #aaa;\n",
              "        }\n",
              "      </style>"
            ]
          },
          "metadata": {}
        },
        {
          "output_type": "display_data",
          "data": {
            "text/plain": [
              "<google.colab._quickchart_helpers.SectionTitle at 0x7e313b6c2e00>"
            ],
            "text/html": [
              "<h4 class=\"colab-quickchart-section-title\">Distributions</h4>\n",
              "<style>\n",
              "  .colab-quickchart-section-title {\n",
              "      clear: both;\n",
              "  }\n",
              "</style>"
            ]
          },
          "metadata": {}
        },
        {
          "output_type": "display_data",
          "data": {
            "text/plain": [
              "import numpy as np\n",
              "from google.colab import autoviz\n",
              "\n",
              "def histogram(df, colname, num_bins=20, figscale=1):\n",
              "  from matplotlib import pyplot as plt\n",
              "  df[colname].plot(kind='hist', bins=num_bins, title=colname, figsize=(8*figscale, 4*figscale))\n",
              "  plt.gca().spines[['top', 'right',]].set_visible(False)\n",
              "  plt.tight_layout()\n",
              "  return autoviz.MplChart.from_current_mpl_state()\n",
              "\n",
              "chart = histogram(_df_2, *['loss'], **{})\n",
              "chart"
            ],
            "text/html": [
              "      <div class=\"colab-quickchart-chart-with-code\" id=\"chart-386705bf-4beb-4b7e-852d-9b670cd8a13f\">\n",
              "        <img src=\"data:image/png;base64,iVBORw0KGgoAAAANSUhEUgAAAYsAAADECAYAAABumQ2GAAAAOXRFWHRTb2Z0d2FyZQBNYXRwbG90\n",
              "bGliIHZlcnNpb24zLjcuMSwgaHR0cHM6Ly9tYXRwbG90bGliLm9yZy/bCgiHAAAACXBIWXMAAA9h\n",
              "AAAPYQGoP6dpAAAUzElEQVR4nO3df1AU9+HG8efk5KKpBxFFSU6g4ZdVKxYDgyTB2KltNVGMPzpt\n",
              "apRaB2I747Q4jZJm2iYxomnG0SZjRcdQU1ojVZJ01NCoYzSpRjH+xqhgJEcMlBQSxCmiwH7/cHJf\n",
              "iZhlgeNOeL9mdgY+7O09Hxx93Nvbz9kMwzAEAMDX6OPrAAAA/0dZAABMURYAAFOUBQDAFGUBADBF\n",
              "WQAATFEWAABTlAUAwBRlAQAwRVkAJh566CE9/fTTvo4B+BRlAQAwRVkAAExRFoAFH374oSZNmqRB\n",
              "gwbJ5XIpMzNTdXV1np+//PLLioqK0oABAzRkyBClp6dLkgzD0O9+9zu5XC4NGDBALpdLTz31lI9m\n",
              "AVhHWQDtVF9fr+9973saMWKE3G63iouLdebMGc2dO1eSVFpaqieffFJvvvmm6uvrdf78ec2bN0+S\n",
              "tGvXLr3yyivav3+/6uvrdeLECU2ZMsWX0wEssfs6AHC72LZtm65evaoVK1bIbrerf//+WrVqlRIS\n",
              "ElRVVSW73S7DMFRSUqLw8HA5nU6lpqZKkgIDA3XlyhWVlJRo8ODBGjhwoMaNG+fjGQHtx5kF0E4V\n",
              "FRWKiIiQ3f7//8eKjo6WJLndbn3zm9/Ua6+9pry8PIWHhysxMVGbNm2SJI0fP14vvPCCli9friFD\n",
              "hig1NVU7d+70yTyAjqAsgHYaNmyY3G63mpqaPGPnz5+XJIWHh0uS0tLSVFRUpP/+97/6zW9+o5/+\n",
              "9Kc6d+6cJGnevHnau3evPvvsM02bNk1TpkxRfX19908E6ADKAminhx9+WHa7XU899ZQaGhpUVVWl\n",
              "X//615oyZYqGDh2qs2fPaseOHbp8+bLsdruCgoIkSQEBATp06JD27dunhoYGBQYGasCAAbLZbAoI\n",
              "CPDxrID2oSyAdnI6ndq5c6eOHz8ul8ulsWPHKjo6Whs3bpQkXb16Vc8//7zuueceOZ1OLVq0SK++\n",
              "+qqioqJ0+fJlZWVlKTQ0VMHBwVq3bp1ef/119e/f38ezAtrHxmdwAwDMcGYBADBFWQAATFEWAABT\n",
              "lAUAwBRlAQAwRVkAAExRFgAAU7dlWaxevdrXEQCgV7kty+Ljjz/2dQQA6FVuy7IAAHQvygIAYIqy\n",
              "AACYoiwAAKYoCwCAqV73GdyRS7Z36vHlyx/uoiQAcPvgzAIAYIqyAACYoiwAAKYoCwCAKcoCAGCK\n",
              "sgAAmKIsAACmuqUs8vLyZLPZ9MYbb0iSqqur9cMf/lAxMTEaNWqU9u3b1x0xAAAd5PWyKC8v1/r1\n",
              "65WcnOwZW7JkiZKTk1VaWqq8vDw99thjunbtmrejAAA6yKtl0dLSovnz5+ull16Sw+HwjBcUFOiJ\n",
              "J56QJCUmJuruu+/W3r17vRkFANAJXl3uY+XKlbr//vs1duxYz1hNTY2uXbumoUOHesYiIyPldrvb\n",
              "PEZjY6MaGxtbjTU3N3snMACgTV47szh16pS2bt2qp59+ulPHycnJUVBQUKvt0KFDXZQSANAeXiuL\n",
              "d999V+Xl5YqJiVFkZKTef/99ZWRkqKCgQHa7XVVVVZ59y8vLFR4e3uZxsrOzVVdX12pLSkryVmwA\n",
              "QBu8VhYLFixQZWWlysvLVV5eruTkZK1bt04LFizQrFmztHbtWklScXGxLl68qPHjx7d5HIfDIafT\n",
              "2WoLCAjwVmwAQBt8skT5ihUr9PjjjysmJkaBgYHKz89X3759fREFANAO3VYW77zzjufrIUOG6O23\n",
              "3+6upwYAdBJ3cAMATFEWAABTlAUAwBRlAQAwRVkAAExRFgAAU5QFAMAUZQEAMEVZAABMURYAAFOU\n",
              "BQDAFGUBADBFWQAATFEWAABTlAUAwBRlAQAwRVkAAExRFgAAU5QFAMCU5bL417/+5Y0cAAA/Zrks\n",
              "nn32WcXFxWn16tW6dOmSNzIBAPyM5bL497//rddee02nTp1SbGysfvGLX+j06dNt7vv9739fo0eP\n",
              "1pgxY/Tggw/q6NGjkqTS0lKlpKQoNjZWiYmJKikp6dwsAABe1aFrFt/5zne0fv16FRUVadu2bRo9\n",
              "erQmTpyokydPttqvoKBAJ06c0LFjx5SVlaX09HRJUmZmpjIyMnTu3DktXrzYMw4A8E8dKotdu3Yp\n",
              "LS1N06dP1y9/+UtVVVUpMzNTjz76aKv9goODPV/X1dXJZrOpurpahw8f1uzZsyVJM2bMUEVFhcrK\n",
              "yjo+CwCAV9mtPuBb3/qWBg0apIULF2r69OkKCAiQJM2cOVMbNmy4af85c+Zoz549kqQdO3aooqJC\n",
              "YWFhstuvP7XNZlN4eLjcbreio6NvenxjY6MaGxtbjTU3N1uNDQDoBMtnFvn5+Xr33Xc1a9YsT1F8\n",
              "6a233rpp/1dffVUVFRVaunSpFi9ebDlgTk6OgoKCWm2HDh2yfBwAQMdZLosPPvhAtbW1nu9ramq0\n",
              "fv1608fNnTtXe/bskcvlUmVlpZqamiRJhmHI7XYrPDy8zcdlZ2errq6u1ZaUlGQ1NgCgEyyXxZo1\n",
              "azRw4EDP9yEhIVqzZs1N+33xxRf69NNPPd+/8cYbCgkJUWhoqBISEpSfny9J2rp1q1wuV5svQUmS\n",
              "w+GQ0+lstX31jAYA4F2Wr1kYhnHTWFvXEOrq6jRr1iw1NDSoT58+Gjx4sLZt2yabzabc3Fylp6dr\n",
              "2bJlcjqdysvL61h6AEC3sFwWYWFhKigo0I9+9CNJ0ubNmxUWFnbTfhEREbe8thAXF6cDBw5YfWoA\n",
              "gI9YLotVq1YpLS1NTz75pCSpf//+evPNN7s8GADAf1gui+HDh+v06dM6e/aspOtnCVxDAICezXJZ\n",
              "SNfvjQgODlZTU5MuXrwoSbd8NxMA4PZnuSz+8pe/aOHCherbt6/69Ln+Zqov78wGAPRMlsviueee\n",
              "U3FxseLi4ryRBwDghyzfZzFo0CCKAgB6GctlMW3aNK1atUrV1dW6dOmSZwMA9FyWX4b67W9/K0nK\n",
              "ysqSzWaTYRiy2Wws7gcAPZjlsmhpafFGDgCAH+vQ51l88MEH+utf/yrp+hpQlZWVXRoKAOBfOrSQ\n",
              "4Lx58/SHP/xB0vVVZx977LGuzgUA8COWy2LdunV6//335XQ6JUlRUVH67LPPujwYAMB/WC4Lh8Oh\n",
              "fv36tRr78lPvAAA9k+WyGDx4sM6dOyebzSbp+h3dLPUBAD1bh1ad/clPfqIzZ85o2LBhcjqd2rZt\n",
              "mzeyAQD8hOWyiI6O1sGDB3X27FkZhsGqswDQC1guC7fbLUm68847JYlVZwGgF7BcFmPHjvXcuX3l\n",
              "yhX973//U0hICKvOAkAPZrksvvo22cLCQh0/frzLAgEA/E+n3/M6ffp0LVu2TM8880xX5PF7kUu2\n",
              "d/ix5csf7sIkANB9LJfFjSvMNjc36+DBg6w6CwA9nOWyCA4O9lyzCAgIUExMjP70pz/dtN+VK1f0\n",
              "4x//WKdPn1a/fv0UGhqqP//5z4qOjlZ1dbXmzJmj8+fPy+FwaM2aNUpNTe2SCQEAup5XV53NyMjQ\n",
              "pEmTZLPZ9PLLL2v+/Pl65513tGTJEiUnJ6uoqEjFxcV69NFHdeHCBfXt29dqHABAN+jQqrPtcccd\n",
              "d2jy5MmeO72Tk5NVXl4uSSooKNATTzwhSUpMTNTdd9+tvXv3eisKAKCTLJ9Z9OnTx1MANzL7EKTV\n",
              "q1crLS1NNTU1unbtmoYOHer5WWRkpOf+ja9qbGxUY2NjqzE+aAkAupflsnj22WfV0NCgBQsWSJLW\n",
              "rl2rfv366Ve/+tUtH7Ns2TKVlZVp9+7damhosPR8OTk5N73TKjk52WpsAEAnWH4Z6vXXX9fzzz8v\n",
              "l8sll8ulpUuXqrCwUHfeeafnru4bvfjiiyosLNRbb72l/v37KyQkRHa7XVVVVZ59ysvLb3kHeHZ2\n",
              "turq6lptSUlJVmMDADrBclnU19e3ulu7urpa9fX1be67cuVKbdq0STt37lRwcLBnfNasWVq7dq0k\n",
              "qbi4WBcvXtT48ePbPIbD4ZDT6Wy1sRYVAHQvyy9DLVq0SPHx8Zo8ebIkqaioyPOpeTf65JNPtGjR\n",
              "It17772aMGGCpOv/8B88eFArVqzQ448/rpiYGAUGBio/P593QgGAH7NcFpmZmbr//vu1Z88eSVJW\n",
              "VpZGjhx5034ul0uGYbR5jCFDhujtt9+2+tQAAB/p0HIfISEh+va3v62HHnpITU1Nunr1qgIDA7s6\n",
              "GwDAT1i+ZrFlyxYlJyfrZz/7mSSppKRE06ZN6+pcAAA/YrkscnJydOTIEc8F6/j4eH388cddnQsA\n",
              "4Ecsl0VAQIBCQkJajfESFAD0bJbLYsCAAfrPf/7juYt79+7dGjhwYJcHAwD4D8sXuFesWKFJkybp\n",
              "o48+0gMPPKALFy5o+/aOf8YDAMD/WSqLlpYWNTc3a8+ePdq/f78Mw1BKSkqrG+4AAD2PpbLo06eP\n",
              "MjIydPz4cU2aNMlbmQAAfsbyNYuYmBiVlZV5IwsAwE9ZvmZRW1urMWPGKCUlRd/4xjc844WFhV0a\n",
              "DADgP9pdFhkZGVq3bp3mzp2rqVOn6q677vJmLgCAH2l3WRw+fFiSNHfuXCUkJOjIkSNeCwUA8C8d\n",
              "+ljVWy0QCADomdp9ZtHQ0KCTJ0/KMAxduXLF8/WXRo8e7ZWAAADfs1QWU6dO9Xx/49c2m00fffRR\n",
              "1yYDAPiNdpdFeXm5F2MAAPxZh65ZAAB6F8oCAGCKsgAAmKIsAACmvFoWCxcuVGRkpGw2m44dO+YZ\n",
              "Ly0tVUpKimJjY5WYmKiSkhJvxgAAdJJXy2LmzJl67733FBER0Wo8MzNTGRkZOnfunBYvXqz09HRv\n",
              "xgAAdJJXyyI1NVUul6vVWHV1tQ4fPqzZs2dLkmbMmKGKigpWsgUAP2Z51dnOqqioUFhYmOz2609t\n",
              "s9kUHh4ut9ut6Ojom/ZvbGxUY2Njq7Hm5uZuyQoAuM7vL3Dn5OQoKCio1Xbo0CFfxwKAXqXby2LY\n",
              "sGGqrKxUU1OTpOuLErrdboWHh7e5f3Z2turq6lptSUlJ3RkZAHq9bi+L0NBQJSQkKD8/X5K0detW\n",
              "uVyuNl+CkiSHwyGn09lqCwgI6M7IANDrebUsMjMz5XK59Mknn+gHP/iBpxByc3OVm5ur2NhYLV++\n",
              "XHl5ed6MAQDoJK9e4M7NzW1zPC4uTgcOHPDmUwMAupDfX+AGAPgeZQEAMEVZAABMURYAAFOUBQDA\n",
              "FGUBADBFWQAATFEWAABTlAUAwBRlAQAwRVkAAExRFgAAU5QFAMAUZQEAMEVZAABMURYAAFOUBQDA\n",
              "FGUBADBFWQAATHn1M7jRWuSS7b6OcFspX/5whx/L79oafte3h878OXUWZxYAAFM+K4vS0lKlpKQo\n",
              "NjZWiYmJKikp8VUUAIAJn70MlZmZqYyMDKWnp2vLli1KT09XcXGxr+LAD/HyRvfhdw0zPjmzqK6u\n",
              "1uHDhzV79mxJ0owZM1RRUaGysjJfxAEAmPDJmUVFRYXCwsJkt19/epvNpvDwcLndbkVHR7fat7Gx\n",
              "UY2Nja3Gmpubuy0rAOA2eDdUTk6OnnnmmVZjw4cPV1ZWVoeON/1rftbc3KxDhw4pKSlJAQEBHTr+\n",
              "7Yh59655S7137rf7vLOydnfocV/Oe+bMmVq0aFGHjmEzDMPo0CM7obq6WtHR0aqtrZXdbpdhGAoL\n",
              "C9N7773XrjMLh8Mhh8PR5bkuXbqkoKAg1dXVyel0dvnx/RXz7l3zlnrv3Jl3x+ftk2sWoaGhSkhI\n",
              "UH5+viRp69atcrlcNxWFdL0YnE5nq80bRQEAuDWfvQyVm5ur9PR0LVu2TE6nU3l5eb6KAgAw4bOy\n",
              "iIuL04EDB3z19AAAC7iD+wYOh0O///3ve93LXMy7d81b6r1zZ94dn7dPLnADAG4vnFkAAExRFgAA\n",
              "U5QFAMAUZSGppqZGY8aM8WyxsbGy2+2qra31dTSv27FjhxISEjRmzBiNGjVKGzdu9HWkblNUVKT7\n",
              "7rtPo0ePVnJyso4fP+7rSF6xcOFCRUZGymaz6dixY57xnr7y863mfavxnqKt+V25ckXTpk1TbGys\n",
              "4uPjNXHiROtr8Rm4yR//+EfjkUce8XUMr2tpaTHuuusu4/jx44ZhGMaFCxcMh8NhXLp0ycfJvK+2\n",
              "ttYYOHCgcerUKcMwDGPfvn3GyJEjfZzKO/bu3WtUVFQYERERxtGjRz3jEyZMMPLy8gzDMIx//OMf\n",
              "xn333eebgF5yq3nfarynaGt+DQ0Nxvbt242WlhbDMAzjpZdeMsaPH2/puJxZtGHDhg36+c9/7usY\n",
              "3cJms+mLL76QdH1JgJCQkF7xtsLz588rJCREI0eOlCQ9+OCDcrvdOnLkiI+Tdb3U1FS5XK5WY71h\n",
              "5ee25v114z1FW/O74447NHnyZNlsNklScnKyysvLLR2XsviK/fv36/PPP9cjjzzi6yheZ7PZtHnz\n",
              "Zk2fPl0RERF64IEHtHHjRgUGBvo6mtfFxMSopqZG+/fvlyT985//VH19veW/QLerr1v5GT3f6tWr\n",
              "lZaWZukxfr/qbHfbsGGD5syZ4/lL1JM1NTVp6dKlKiwsVGpqqoqLizV16lSdPHlSgwYN8nU8rwoK\n",
              "CtKWLVuUnZ2ty5cva9y4cRoxYkSv+HNH77Zs2TKVlZVp925rK9jyN+MGly9fVkFBQa/5xL5jx47p\n",
              "008/VWpqqiQpMTFRLpdLR48e1cSJE32czvsmTJigCRMmSLq+uvHQoUM1YsQIH6fqHsOGDVNlZaWa\n",
              "mpo8Kz+73W6Fh4f7Ohq86MUXX1RhYaF27dql/v37W3osL0PdYPPmzYqPj9fw4cN9HaVbfPkPxocf\n",
              "fihJKisr0/nz5xUXF+fjZN2jsrLS8/Vzzz2n7373u22ufNwTWVn5GT3DypUrtWnTJu3cuVPBwcHW\n",
              "D9C11+Fvb+PGjTNeeeUVX8foVn//+9+NUaNGGaNHjzZGjRpl/O1vf/N1pG4zf/58Iy4uzoiKijJm\n",
              "z55tfP75576O5BUZGRnGPffcYwQEBBihoaFGVFSUYRiGcebMGSM5OdmIiYkxxo4da5w4ccLHSbvW\n",
              "reZ9q/Geoq35VVRUGJKMe++914iPjzfi4+ONpKQkS8dlbSgAgClehgIAmKIsAACmKAsAgCnKAgBg\n",
              "irIAAJiiLAAApigLAIApygIAYIqyAACYoiwAAKYoCwCAqf8D0Am2Zq7ze4EAAAAASUVORK5CYII=\n",
              "\">\n",
              "        \n",
              "      </div>\n",
              "      <script></script>\n",
              "      <script type=\"text/javascript\">\n",
              "        (() => {\n",
              "          const chartElement = document.getElementById(\"chart-386705bf-4beb-4b7e-852d-9b670cd8a13f\");\n",
              "          async function getCodeForChartHandler(event) {\n",
              "            const chartCodeResponse =  await google.colab.kernel.invokeFunction(\n",
              "                'getCodeForChart', [\"chart-386705bf-4beb-4b7e-852d-9b670cd8a13f\"], {});\n",
              "            const responseJson = chartCodeResponse.data['application/json'];\n",
              "            await google.colab.notebook.addCell(responseJson.code, 'code');\n",
              "          }\n",
              "          chartElement.onclick = getCodeForChartHandler;\n",
              "        })();\n",
              "      </script>\n",
              "      <style>\n",
              "        .colab-quickchart-chart-with-code  {\n",
              "            display: block;\n",
              "            float: left;\n",
              "            border: 1px solid transparent;\n",
              "        }\n",
              "\n",
              "        .colab-quickchart-chart-with-code:hover {\n",
              "            cursor: pointer;\n",
              "            border: 1px solid #aaa;\n",
              "        }\n",
              "      </style>"
            ]
          },
          "metadata": {}
        },
        {
          "output_type": "display_data",
          "data": {
            "text/plain": [
              "import numpy as np\n",
              "from google.colab import autoviz\n",
              "\n",
              "def histogram(df, colname, num_bins=20, figscale=1):\n",
              "  from matplotlib import pyplot as plt\n",
              "  df[colname].plot(kind='hist', bins=num_bins, title=colname, figsize=(8*figscale, 4*figscale))\n",
              "  plt.gca().spines[['top', 'right',]].set_visible(False)\n",
              "  plt.tight_layout()\n",
              "  return autoviz.MplChart.from_current_mpl_state()\n",
              "\n",
              "chart = histogram(_df_3, *['mae'], **{})\n",
              "chart"
            ],
            "text/html": [
              "      <div class=\"colab-quickchart-chart-with-code\" id=\"chart-60493f65-6507-470b-bffd-b3a20ec0fb54\">\n",
              "        <img src=\"data:image/png;base64,iVBORw0KGgoAAAANSUhEUgAAAYsAAADECAYAAABumQ2GAAAAOXRFWHRTb2Z0d2FyZQBNYXRwbG90\n",
              "bGliIHZlcnNpb24zLjcuMSwgaHR0cHM6Ly9tYXRwbG90bGliLm9yZy/bCgiHAAAACXBIWXMAAA9h\n",
              "AAAPYQGoP6dpAAAUpUlEQVR4nO3dfVBU1x3G8WcF3fi2oBgi6YpM5MVGKxYDXU3iS2dMo3XUoLZN\n",
              "xihtHYjt1HZ0puo00zbGSJxmHI0dI1pL09AkEqVpx7cmWINJNYrxJYiNioFAFEuKCqbFVeD0Dyc7\n",
              "bsReL7DsCt/PzJ1ZDufe/R0YeObes/dchzHGCACA/6NbsAsAAIQ+wgIAYImwAABYIiwAAJYICwCA\n",
              "JcICAGCJsAAAWCIsAACWCAsAgCXCAgBgibAAAFgiLAAAlggL4BbGjx+vn/zkJ/rud78rl8slt9ut\n",
              "119/XSUlJRo9erT69u2rtLQ0nTx5UpL0xhtvaNSoUerXr58GDBigqVOnqry83O+YO3bs0De+8Q31\n",
              "69dPCQkJevHFF4MxNMA+A6BF48aNMxEREaaoqMg0NTWZ1atXm169epnJkyeb8vJy4/V6TXp6unnk\n",
              "kUeMMcbs3LnTHD161DQ2NprPPvvMTJkyxXg8Ht/x/v73v5uIiAhTWFhompqaTElJiXG73SYvLy9Y\n",
              "QwRum8MYligHWjJ+/HgNGTJEmzZtkiTV1dUpMjJSr776qh5//HFJ0tatWzVv3jxdvHjxpv2PHDmi\n",
              "lJQU1dfXq2/fvpo6daqGDRum7OxsX5/nnntOe/bsUWFhYccMCmil8GAXAISymJgY3+vevXu32Hb5\n",
              "8mVJUlFRkZYtW6YTJ07oP//5j69PTU2N+vbtq9OnT6uwsFAvvfSS73tNTU2KjY0N9DCANmPOAmgH\n",
              "V69e1ZQpU/Too4/q1KlTqq+vV1FRkSTpi5P3gQMHasmSJbp06ZJvu3z5skpLS4NZOnBbCAugHVy9\n",
              "elUNDQ3q16+f+vbtq3Pnzunpp5/26/PTn/5Ua9eu1e7du9XY2KjGxkYdP35ce/fuDVLVwO0jLIB2\n",
              "0KdPH/3ud7/T8uXL1adPH02aNEmzZs3y6zN9+nS98sor+uUvf6no6GhFR0dr3rx5+ve//x2kqoHb\n",
              "xwQ3AMASZxYAAEuEBQDAEmEBALBEWAAALBEWAABLhAUAwBJhAQCwdEeGxZo1a4JdAgB0KXdkWHzy\n",
              "ySfBLgEAupQ7MiwAAB2LsAAAWCIsAACWCAsAgCXCAgBgqcs9VjVuyfY27V/x/LfbqRIAuHNwZgEA\n",
              "sERYAAAsERYAAEuEBQDAEmEBALBEWAAALBEWAABLHRIWubm5cjgcevPNNyVJNTU1evTRR5WQkKDh\n",
              "w4dr7969HVEGAKCVAh4WFRUV2rhxozwej69tyZIl8ng8On36tHJzc/XEE0/o2rVrgS4FANBKAQ2L\n",
              "5uZmzZs3T2vXrpXT6fS15+fn66mnnpIkpaam6t5771VRUVEgSwEAtEFAl/tYtWqVHnzwQY0aNcrX\n",
              "Vltbq2vXrmngwIG+tri4OFVWVrZ4DK/XK6/X69fW1NQUmIIBAC0K2JnF8ePHtXXrVj399NNtOk52\n",
              "drYiIiL8toMHD7ZTlQCA2xGwsHj33XdVUVGhhIQExcXF6f3331dmZqby8/MVHh6u8+fP+/pWVFQo\n",
              "Nja2xeMsXbpUdXV1fltaWlqgygYAtCBgYTF//nxVV1eroqJCFRUV8ng82rBhg+bPn69Zs2Zp/fr1\n",
              "kqTi4mKdPXtW48aNa/E4TqdTLpfLbwsLCwtU2QCAFgRlifKVK1fqySefVEJCgnr06KG8vDx17949\n",
              "GKUAAG5Dh4XFO++843t9zz336K233uqotwYAtBF3cAMALBEWAABLhAUAwBJhAQCwRFgAACwRFgAA\n",
              "S4QFAMASYQEAsERYAAAsERYAAEuEBQDAEmEBALBEWAAALBEWAABLhAUAwBJhAQCwRFgAACwRFgAA\n",
              "S4QFAMCS7bD429/+Fog6AAAhzHZYLFu2TElJSVqzZo3q6+sDURMAIMTYDot//OMfev3113X8+HEl\n",
              "JibqRz/6kU6cONFi30ceeUQjRozQyJEj9fDDD+vIkSOSpNOnT2vMmDFKTExUamqqSktL2zYKAEBA\n",
              "tWrO4utf/7o2btyoXbt2adu2bRoxYoQmTpyokpISv375+fn68MMPdfToUS1cuFAZGRmSpKysLGVm\n",
              "ZurUqVNavHixrx0AEJpaFRaFhYWaNm2a0tPT9eMf/1jnz59XVlaWHnvsMb9+kZGRvtd1dXVyOByq\n",
              "qanRoUOHNHv2bEnSjBkzVFVVpbKystaPAgAQUOF2d/jqV7+qAQMGaMGCBUpPT1dYWJgkaebMmdq0\n",
              "adNN/efMmaM9e/ZIknbs2KGqqirFxMQoPPz6WzscDsXGxqqyslLx8fE37e/1euX1ev3ampqa7JYN\n",
              "AGgD22cWeXl5evfddzVr1ixfUHxh586dN/X/4x//qKqqKi1fvlyLFy+2XWB2drYiIiL8toMHD9o+\n",
              "DgCg9WyHxQcffKALFy74vq6trdXGjRst95s7d6727Nkjt9ut6upqNTY2SpKMMaqsrFRsbGyL+y1d\n",
              "ulR1dXV+W1pamt2yAQBtYDss1q1bp/79+/u+joqK0rp1627qd+nSJZ07d8739ZtvvqmoqChFR0cr\n",
              "JSVFeXl5kqStW7fK7Xa3eAlKkpxOp1wul9/25TMaAEBg2Z6zMMbc1NbSHEJdXZ1mzZqlhoYGdevW\n",
              "TXfffbe2bdsmh8OhnJwcZWRkaMWKFXK5XMrNzW1d9QCADmE7LGJiYpSfn6/vfOc7kqTNmzcrJibm\n",
              "pn6DBw++5dxCUlKS9u/fb/etAQBBYjssVq9erWnTpunnP/+5JKlXr176y1/+0u6FAQBCh+2wGDp0\n",
              "qE6cOKGTJ09Kun6WwBwCAHRutsNCun5vRGRkpBobG3X27FlJuuWnmQAAdz7bYfGHP/xBCxYsUPfu\n",
              "3dWt2/UPU31xZzYAoHOyHRbPPvusiouLlZSUFIh6AAAhyPZ9FgMGDCAoAKCLsR0W06dP1+rVq1VT\n",
              "U6P6+nrfBgDovGxfhvrFL34hSVq4cKEcDoeMMXI4HCzuBwCdmO2waG5uDkQdAIAQ1qrnWXzwwQd6\n",
              "5ZVXJF1fA6q6urpdiwIAhJZWLST4gx/8QL/+9a8lXV919oknnmjvugAAIcR2WGzYsEHvv/++XC6X\n",
              "JGnIkCH67LPP2r0wAEDosB0WTqdTPXv29Gv74ql3AIDOyXZY3H333Tp16pQcDoek63d0s9QHAHRu\n",
              "rVp19vHHH9dHH32kQYMGyeVyadu2bYGoDQAQImyHRXx8vA4cOKCTJ0/KGMOqswDQBdgOi8rKSklS\n",
              "7969JYlVZwGgC7AdFqNGjfLduX3lyhX997//VVRUFKvOAkAnZjssvvwx2YKCAh07dqzdCgIAhJ42\n",
              "f+Y1PT1dK1as0DPPPNMe9YS8uCXbW71vxfPfbsdKAKDj2A6LG1eYbWpq0oEDB1h1FgA6OdthERkZ\n",
              "6ZuzCAsLU0JCgl588cWb+l25ckXf+973dOLECfXs2VPR0dF66aWXFB8fr5qaGs2ZM0dnzpyR0+nU\n",
              "unXrNHbs2HYZEACg/QV01dnMzExNmjRJDodDv/3tbzVv3jy98847WrJkiTwej3bt2qXi4mI99thj\n",
              "Ki8vV/fu3e2WAwDoAK1adfZ23HXXXZo8ebLvTm+Px6OKigpJUn5+vp566ilJUmpqqu69914VFRUF\n",
              "qhQAQBvZPrPo1q2bLwBuZPUQpDVr1mjatGmqra3VtWvXNHDgQN/34uLifPdvfJnX65XX6/Vr40FL\n",
              "ANCxbIfFsmXL1NDQoPnz50uS1q9fr549e+pnP/vZLfdZsWKFysrKtHv3bjU0NNh6v+zs7Js+aeXx\n",
              "eOyWDQBoA9uXof785z/rueeek9vtltvt1vLly1VQUKDevXv77uq+0QsvvKCCggLt3LlTvXr1UlRU\n",
              "lMLDw3X+/Hlfn4qKilveAb506VLV1dX5bWlpaXbLBgC0ge2wuHz5st/d2jU1Nbp8+XKLfVetWqXX\n",
              "XntNb7/9tiIjI33ts2bN0vr16yVJxcXFOnv2rMaNG9fiMZxOp1wul9/GWlQA0LFsX4ZatGiRkpOT\n",
              "NXnyZEnSrl27fE/Nu9Gnn36qRYsW6b777tOECRMkXf/Hf+DAAa1cuVJPPvmkEhIS1KNHD+Xl5fFJ\n",
              "KAAIYbbDIisrSw8++KD27NkjSVq4cKGGDRt2Uz+32y1jTIvHuOeee/TWW2/ZfWsAQJC0armPqKgo\n",
              "fe1rX9P48ePV2Nioq1evqkePHu1dGwAgRNies9iyZYs8Ho++//3vS5JKS0s1ffr09q4LABBCbIdF\n",
              "dna2Dh8+7JuwTk5O1ieffNLedQEAQojtsAgLC1NUVJRfG5egAKBzsx0Wffv21b/+9S/fXdy7d+9W\n",
              "//79270wAEDosD3BvXLlSk2aNEkff/yxHnroIZWXl2v79tY/4wEAEPpshUVzc7Oampq0Z88e7du3\n",
              "T8YYjRkzxu+GOwBA52MrLLp166bMzEwdO3ZMkyZNClRNAIAQY3vOIiEhQWVlZYGoBQAQomzPWVy4\n",
              "cEEjR47UmDFj1KdPH197QUFBuxYGAAgdtx0WmZmZ2rBhg+bOnaupU6eqX79+gawLABBCbjssDh06\n",
              "JEmaO3euUlJSdPjw4YAVBQAILa16rOqtFggEAHROt31m0dDQoJKSEhljdOXKFd/rL4wYMSIgBQIA\n",
              "gs9WWEydOtX39Y2vHQ6HPv744/atDAAQMm47LCoqKgJYBgAglLVqzgIA0LUQFgAAS4QFAMASYQEA\n",
              "sBTQsFiwYIHi4uLkcDh09OhRX/vp06c1ZswYJSYmKjU1VaWlpYEsAwDQRgENi5kzZ+q9997T4MGD\n",
              "/dqzsrKUmZmpU6dOafHixcrIyAhkGQCANgpoWIwdO1Zut9uvraamRocOHdLs2bMlSTNmzFBVVRUr\n",
              "2QJACLO96mxbVVVVKSYmRuHh19/a4XAoNjZWlZWVio+Pv6m/1+uV1+v1a2tqauqQWgEA14X8BHd2\n",
              "drYiIiL8toMHDwa7LADoUjo8LAYNGqTq6mo1NjZKur4oYWVlpWJjY1vsv3TpUtXV1fltaWlpHVky\n",
              "AHR5HR4W0dHRSklJUV5eniRp69atcrvdLV6CkiSn0ymXy+W3hYWFdWTJANDlBTQssrKy5Ha79emn\n",
              "n+pb3/qWLxBycnKUk5OjxMREPf/888rNzQ1kGQCANgroBHdOTk6L7UlJSdq/f38g3xoA0I5CfoIb\n",
              "ABB8hAUAwBJhAQCwRFgAACwRFgAAS4QFAMASYQEAsERYAAAsERYAAEuEBQDAEmEBALBEWAAALBEW\n",
              "AABLhAUAwBJhAQCwRFgAACwRFgAAS4QFAMASYQEAsBTQZ3DDX9yS7cEu4Y5S8fy3W70vP2t7+Fnf\n",
              "Gdrye2orziwAAJaCFhanT5/WmDFjlJiYqNTUVJWWlgarFACAhaBdhsrKylJmZqYyMjK0ZcsWZWRk\n",
              "qLi4OFjlIARxeaPj8LOGlaCcWdTU1OjQoUOaPXu2JGnGjBmqqqpSWVlZMMoBAFgIyplFVVWVYmJi\n",
              "FB5+/e0dDodiY2NVWVmp+Ph4v75er1der9evrampqcNqBQDcAZ+Gys7O1jPPPOPXNnToUC1cuLBV\n",
              "x0v/P99ramrSwYMHlZaWprCwsFYd/07EuLvWuKWuO/Y7fdwLF+5u1X5fjHvmzJlatGhRq47hMMaY\n",
              "Vu3ZBjU1NYqPj9eFCxcUHh4uY4xiYmL03nvv3daZhdPplNPpbPe66uvrFRERobq6OrlcrnY/fqhi\n",
              "3F1r3FLXHTvjbv24gzJnER0drZSUFOXl5UmStm7dKrfbfVNQSNeDweVy+W2BCAoAwK0F7TJUTk6O\n",
              "MjIytGLFCrlcLuXm5garFACAhaCFRVJSkvbv3x+stwcA2MAd3DdwOp361a9+1eUuczHurjVuqeuO\n",
              "nXG3ftxBmeAGANxZOLMAAFgiLAAAlggLAIAlwkJSbW2tRo4c6dsSExMVHh6uCxcuBLu0gNuxY4dS\n",
              "UlI0cuRIDR8+XC+//HKwS+owu3bt0gMPPKARI0bI4/Ho2LFjwS4pIBYsWKC4uDg5HA4dPXrU197Z\n",
              "V36+1bhv1d5ZtDS+K1euaPr06UpMTFRycrImTpxofy0+g5v85je/MVOmTAl2GQHX3Nxs+vXrZ44d\n",
              "O2aMMaa8vNw4nU5TX18f5MoC78KFC6Z///7m+PHjxhhj9u7da4YNGxbkqgKjqKjIVFVVmcGDB5sj\n",
              "R4742idMmGByc3ONMca88cYb5oEHHghOgQFyq3Hfqr2zaGl8DQ0NZvv27aa5udkYY8zatWvNuHHj\n",
              "bB2XM4sWbNq0ST/84Q+DXUaHcDgcunTpkqTrSwJERUV1iY8VnjlzRlFRURo2bJgk6eGHH1ZlZaUO\n",
              "Hz4c5Mra39ixY+V2u/3ausLKzy2N+/+1dxYtje+uu+7S5MmT5XA4JEkej0cVFRW2jktYfMm+fft0\n",
              "8eJFTZkyJdilBJzD4dDmzZuVnp6uwYMH66GHHtLLL7+sHj16BLu0gEtISFBtba327dsnSfrrX/+q\n",
              "y5cv2/4DulP9v5Wf0fmtWbNG06ZNs7VPyK8629E2bdqkOXPm+P6IOrPGxkYtX75cBQUFGjt2rIqL\n",
              "izV16lSVlJRowIABwS4voCIiIrRlyxYtXbpUn3/+uUaPHq3777+/S/ze0bWtWLFCZWVl2r3b3gq2\n",
              "/GXc4PPPP1d+fn6XeWLf0aNHde7cOY0dO1aSlJqaKrfbrSNHjmjixIlBri7wJkyYoAkTJki6vrrx\n",
              "wIEDdf/99we5qo4xaNAgVVdXq7Gx0bfyc2VlpWJjY4NdGgLohRdeUEFBgQoLC9WrVy9b+3IZ6gab\n",
              "N29WcnKyhg4dGuxSOsQX/zD++c9/SpLKysp05swZJSUlBbmyjlFdXe17/eyzz+qb3/xmiysfd0Z2\n",
              "Vn5G57Bq1Sq99tprevvttxUZGWn/AO07D39nGz16tPn9738f7DI61KuvvmqGDx9uRowYYYYPH27+\n",
              "9Kc/BbukDjNv3jyTlJRkhgwZYmbPnm0uXrwY7JICIjMz03zlK18xYWFhJjo62gwZMsQYY8xHH31k\n",
              "PB6PSUhIMKNGjTIffvhhkCttX7ca963aO4uWxldVVWUkmfvuu88kJyeb5ORkk5aWZuu4rA0FALDE\n",
              "ZSgAgCXCAgBgibAAAFgiLAAAlggLAIAlwgIAYImwAABYIiwAAJYICwCAJcICAGCJsAAAWPofQXOd\n",
              "i2onoUQAAAAASUVORK5CYII=\n",
              "\">\n",
              "        \n",
              "      </div>\n",
              "      <script></script>\n",
              "      <script type=\"text/javascript\">\n",
              "        (() => {\n",
              "          const chartElement = document.getElementById(\"chart-60493f65-6507-470b-bffd-b3a20ec0fb54\");\n",
              "          async function getCodeForChartHandler(event) {\n",
              "            const chartCodeResponse =  await google.colab.kernel.invokeFunction(\n",
              "                'getCodeForChart', [\"chart-60493f65-6507-470b-bffd-b3a20ec0fb54\"], {});\n",
              "            const responseJson = chartCodeResponse.data['application/json'];\n",
              "            await google.colab.notebook.addCell(responseJson.code, 'code');\n",
              "          }\n",
              "          chartElement.onclick = getCodeForChartHandler;\n",
              "        })();\n",
              "      </script>\n",
              "      <style>\n",
              "        .colab-quickchart-chart-with-code  {\n",
              "            display: block;\n",
              "            float: left;\n",
              "            border: 1px solid transparent;\n",
              "        }\n",
              "\n",
              "        .colab-quickchart-chart-with-code:hover {\n",
              "            cursor: pointer;\n",
              "            border: 1px solid #aaa;\n",
              "        }\n",
              "      </style>"
            ]
          },
          "metadata": {}
        },
        {
          "output_type": "display_data",
          "data": {
            "text/plain": [
              "<google.colab._quickchart_helpers.SectionTitle at 0x7e313b554b80>"
            ],
            "text/html": [
              "<h4 class=\"colab-quickchart-section-title\">2-d distributions</h4>\n",
              "<style>\n",
              "  .colab-quickchart-section-title {\n",
              "      clear: both;\n",
              "  }\n",
              "</style>"
            ]
          },
          "metadata": {}
        },
        {
          "output_type": "display_data",
          "data": {
            "text/plain": [
              "import numpy as np\n",
              "from google.colab import autoviz\n",
              "\n",
              "def scatter_plots(df, colname_pairs, figscale=1, alpha=.8):\n",
              "  from matplotlib import pyplot as plt\n",
              "  plt.figure(figsize=(len(colname_pairs) * 6 * figscale, 6 * figscale))\n",
              "  for plot_i, (x_colname, y_colname) in enumerate(colname_pairs, start=1):\n",
              "    ax = plt.subplot(1, len(colname_pairs), plot_i)\n",
              "    df.plot(kind='scatter', x=x_colname, y=y_colname, s=(32 * figscale), alpha=alpha, ax=ax)\n",
              "    ax.spines[['top', 'right',]].set_visible(False)\n",
              "  plt.tight_layout()\n",
              "  return autoviz.MplChart.from_current_mpl_state()\n",
              "\n",
              "chart = scatter_plots(_df_4, *[[['loss', 'mae']]], **{})\n",
              "chart"
            ],
            "text/html": [
              "      <div class=\"colab-quickchart-chart-with-code\" id=\"chart-94c7278d-b5e4-451a-828e-2bb5d936af26\">\n",
              "        <img src=\"data:image/png;base64,iVBORw0KGgoAAAANSUhEUgAAAScAAAEnCAYAAADrWoVBAAAAOXRFWHRTb2Z0d2FyZQBNYXRwbG90\n",
              "bGliIHZlcnNpb24zLjcuMSwgaHR0cHM6Ly9tYXRwbG90bGliLm9yZy/bCgiHAAAACXBIWXMAAA9h\n",
              "AAAPYQGoP6dpAAAYnElEQVR4nO3df1BU570G8Oe4K4sorAKiNvxSEawiWAw/ZAwtpoZpxlEvMpk6\n",
              "Mk56E3Wut2Wa2mlLrm2n2ojTGGe8SdpSh+Q6hWZMDBkzF+u0phMJoRWiLmputK6RgglGxZWVKIu7\n",
              "vPcPy9aFXdmVPXt+PZ+ZncTjuvs1o0/O+z579khCCAEiIpWZoPQARET+MJyISJUYTkSkSgwnIlIl\n",
              "hhMRqRLDiYhUieFERKrEcCIiVWI4EZEqyRpOVVVVSE9PhyRJsNlsAICBgQGsWbMGmZmZyM3NxYoV\n",
              "K2C32+Ucg4g0SNZwqqioQEtLC9LS0nyOb9q0CefPn0dHRwdWr16NZ599Vs4xiEiDZA2nkpISJCcn\n",
              "+xyLjo7Gk08+CUmSAABFRUXo7OwM+BoulwtOp9Pn4XK55BybiFRA8T2nvXv3YvXq1QF/vqamBlar\n",
              "1efxoOcTkT4oGk47d+6E3W5HTU1NwOdUV1ejr6/P55GVlRXBKYlICWal3nj37t1obGzE0aNHERMT\n",
              "E/B5FosFFovF55jJZJJ7PCJSmCLhtGfPHrzxxhs4evQopk6dqsQIRKRysi7rNm/ejOTkZFy+fBll\n",
              "ZWXIyMjA5cuXsXXrVty8eROlpaVYvHgxCgsL5RyDiDRI1jOn2tpav8f55ZtENBbF2zoiIn8YTkSk\n",
              "Soq1dUSkLa3266g/3oVL1/sxO3EKKgtTUZyRKNv7MZyIaEyt9uv4SeMZ3B50I3qiCW2XenH2sz7s\n",
              "Kl8kW0BxWUdEY6o/3oXbg27MjIvGtJgozIyLxu1BNxqOd8n2ngwnIhrTpev9iJ5o8l4TK0kSoiea\n",
              "8On1ftnek+FERGOanTgFA3c93o8BCSEwcNeDOdOnyPae3HMiIh/+Nr4rC1Nx9rM+XHEOIHqiCQN3\n",
              "PYiJMmN9Yapsc/DMiYi8hje+2y714taAG22XevGTxjMAgF3li1A4OwGx0WYUzk7ArrWLUDyXbR0R\n",
              "RcD9G9+SJEEIgSvOATQc78Kr6/Nk/ejASDxzIiIvJTa+A2E4EZGXEhvfgTCciMirsjAVMVFmXHEO\n",
              "wHF7EFecA7JvfAfCPScigwp0Ocqu8kVoON6FT6/3Izd5KtYXpcq68R0Iw4nIgMa6HCWSG9+BcFlH\n",
              "ZEBKXI4SKoYTkQGpqZULhOFEZEBqauUCYTgRGZCaWrlAuCFOpHNqb+UCYTgR6ZgWWrlAuKwj0jEt\n",
              "tHKBMJyIdEwLrVwgDCciHdNCKxcIw4lIx7TQygXCDXEiHfHXzKm9lQuE4USkEw9q5l5dn6f0eCHj\n",
              "so5IJ7TczPnDcCLSCS03c/4wnIh0QsvNnD8MJyKd0HIz5w83xIk0SKvXy4WC4USkMVq+Xi4UXNYR\n",
              "aYzeWrlAGE5EGqO3Vi4QhhORxuitlQtE1nCqqqpCeno6JEmCzWYb8zgRjU1vrVwgsoZTRUUFWlpa\n",
              "kJaWFtRxIvLVar+OLQ0n8a29zdjScBKt9uveVq5wdgJio80onJ2AXWsXabaVC0TWtq6kpCSk4/64\n",
              "XC64XC6fYx6PZ1xzEWmBUVq5QFS/51RTUwOr1erzaGtrU3osItkZpZULRPXhVF1djb6+Pp9HQUGB\n",
              "0mMRyc4orVwgqv8QpsVigcVi8TlmMpkUmoYocmYnTkHbpV4IISBJkreVy02ZqvRoEaH6MyciozJK\n",
              "KxeIrGdOmzdvRlNTE65cuYKysjLExsbCbrcHPE5kVEa4Vi5Ukhj+JJeG/OAHP8CePXuUHoMoLEa2\n",
              "cgN3PYiJMntbOaPiso5IYUZv5QJhOBEpzOitXCAMJyKFGeVauVAxnIgUZvRWLhDVf86JSG/0dG85\n",
              "OTGciCJIb/eWkxOXdUQRxGYueAwnoghiMxc8hhNRBLGZCx7DiSiC2MwFjxviRDLh9XLjw3AikoHR\n",
              "v8UyHLisI5IBW7nxYzgRyYCt3PgxnIhkwFZu/BhORDJgKzd+3BAnGie2cvJgOBGNA1s5+XBZRzQO\n",
              "bOXkw3AiGge2cvJhOBGNA1s5+TCciMaBrZx8uCFOFCS2cpHFcCIKAlu5yOOyjigIbOUij+FEFAS2\n",
              "cpHHcCIKAlu5yGM4EQWBrVzkcUOcyA/eW055DCeiEXhvOXXgso5oBDZz6sBwIhqBzZw6MJyIRmAz\n",
              "pw4MJ6IR2MypAzfEydB4vZx6MZzIsHi9nLrJuqyrqqpCeno6JEmCzWbzHr9w4QKKi4uRmZmJ/Px8\n",
              "fPzxx3KOQeQXWzl1kzWcKioq0NLSgrS0NJ/jmzdvxqZNm/D3v/8dP/7xj/H000/LOQaRX2zl1E3W\n",
              "cCopKUFycrLPsatXr+Kjjz5CZWUlAGDt2rXo7u6G3W73+xoulwtOp9Pn4fF45BybDIKtnLpFvK3r\n",
              "7u7GrFmzYDbf2+6SJAmpqano6vJ/Kl1TUwOr1erzaGtri+TIpFNs5dRN9R8lqK6uRl9fn8+joKBA\n",
              "6bFIY1rt17Gl4SS+tbcZWxpOotV+3dvKFc5OQGy0GYWzE7Br7SK2cioR8bYuJSUFPT09cLvdMJvN\n",
              "EEKgq6sLqan+/29lsVhgsVh8jplMpkiMSjrBVk6bIn7mlJSUhLy8PNTX1wMA3n77bSQnJyMjIyPS\n",
              "o5BBsJXTJlnDafPmzUhOTsbly5dRVlbmDaDa2lrU1tYiMzMTu3btwuuvvy7nGGRwbOW0SdZlXW1t\n",
              "rd/jWVlZ+Otf/yrnWxN5zU6cgrZLvRBCQJIkbyuXmzJV6dHoAVS/IU40XmzltImXr5Cu8Fo5/WA4\n",
              "kW6wldMXLutIN9jK6QvDiXSDrZy+MJxIN3itnL4wnEg32MrpCzfESZPYyukfw4k0h62cMXBZR5rD\n",
              "Vs4YGE6kOWzljIHhRJrDVs4YGE6kOWzljIEb4qR6/po5tnL6x3AiVXtQM/fq+jylxyMZPfSyzuVy\n",
              "hXMOIr/YzBlXyOF0+vRpZGdnY+7cuQCAEydO4Ec/+lHYByMC2MwZWcjhVFVVhd/+9reYPn06ACAv\n",
              "Lw9NTU1hH4wIYDNnZCGHU39/P5YtW+b9sSRJiIqKCutQRMPYzBlXyBviZrMZd+/e9Z5md3d381ZN\n",
              "FBa8Xo7uF3I4ffe738WaNWtw7do1bNu2DfX19fjVr34lx2xkILxejkYKOZwqKysxZ84cHDp0CIOD\n",
              "g6ivr/dZ5hE9jPtbueE7pFxxDqDheBeDyaAe6nNOxcXFKC4uDvcsZGBs5WikkMPpzp07ePnll2Gz\n",
              "2TAwMOA93tjYGNbByFh4bzkaKeS2buPGjejs7ERraytKS0vxj3/8A2lpaXLMRjrVar+OLQ0n8a29\n",
              "zdjScBKt9uts5WiUkMOpo6MDv/71rxEXF4fvfe97eP/993HixAk5ZiMdGt74brvUi1sDbrRd6sVP\n",
              "Gs8AAHaVL0Lh7ATERptRODsBu9YuYitnYCEv6yZNmnTvF5rN+PLLLxEbG4tr166FfTDSpwdtfL+6\n",
              "Po+b3+QVcjjFx8fD4XDgySefRFlZGRITE5GcnCzHbKRD3PimYIUcTk1NTTCZTNixYwcaGhpw8+ZN\n",
              "bNiwQY7ZSIe48U3BCjmchj8NLkkSKisrwz4Q6VtlYSrOftaHK84BRE80YeCuhxvf5FfI4dTc3Iwf\n",
              "/vCHsNvtcLvd3uNOpzOsg5H28XIUGo+Qw2njxo144YUXUFBQwGvqKCBejkLjFXI4xcXFoaKiQo5Z\n",
              "SEd4OQqNV8ifc1q7di1+//vfY3BwUI55SCfYytF4hRxOX/3qV7FlyxZMmjQJJpMJEyZM4PKORuGX\n",
              "xNF4hRxOzz33HA4dOgSHwwGn04lbt25xM5xG4eUoNF4h7zklJSVh+fLl437jI0eOYNu2bRgcHERM\n",
              "TAxqa2uRm5s77tclZfD2TRRuIYfTqlWr8Morr+Cpp55CdHS093hcXFzQr+FwOLB+/Xo0Nzdj4cKF\n",
              "+OCDD7B+/XqcPXs21HFIBXj7JpJDyOG0bds2APdudDDcwkiSBI/HE/RrXLx4EQkJCVi4cCEA4LHH\n",
              "HkNXVxdOnjyJvDzfP8wul2vUbahCeS+SH5s5kkPIe05DQ0Peh8fj8f4zFPPmzUNvby9aW1sBAO++\n",
              "+y5u3bqFzs7OUc+tqamB1Wr1ebS1tYU6NsmIzRzJ4aFvqjkeVqsVBw8eRHV1NZYsWYI//elPWLBg\n",
              "Aczm0Sdy1dXV6Ovr83kUFBQoMDUFwmaO5KDY7chLS0tRWloK4N7SbebMmViwYMGo51ksFlgsFp9j\n",
              "/OiCuvB6OZKDYuHU09ODWbNmAQB27NiB5cuXIyMjQ6lxKEi8Xo4iRbFw+tnPfoYPPvgAbrcbS5cu\n",
              "RV1dnVKjUJB4vRxFkmLhtG/fPqXemh4SWzmKJEU2xEmb2MpRJDGcKGhs5SiSGE4UNF4vR5Gk2J4T\n",
              "qRtbOVIaw4lGYStHasBlHY1yfys3LSYKM+OicXvQjYbjXUqPRgbCcKJR2MqRGjCcaBS2cqQGDCca\n",
              "ha0cqQE3xA2OrRypFcPJwNjKkZpxWWdgbOVIzRhOBsZWjtSM4WRgbOVIzRhOBsZWjtSMG+IGwnvL\n",
              "kZYwnAyC95YjreGyziDYzJHWMJwMgs0caQ3DySDYzJHWMJwMgs0caQ03xHWI18uRHjCcdIbXy5Fe\n",
              "cFmnM2zlSC8YTjrDVo70guGkM2zlSC8YTjrDVo70ghviGsZWjvSM4aRRbOVI77is0yi2cqR3DCeN\n",
              "YitHesdw0ii2cqR3DCeNYitHescNcQ1gK0dGxHBSObZyZFRc1qkcWzkyKsXC6fDhw8jLy8PixYuR\n",
              "nZ2N/fv3KzWKqrGVI6NSZFknhEBlZSXef/995OTkoLOzE/Pnz0d5eTliY2OVGEm1ZidOQdulXggh\n",
              "IEmSt5XLTZmq9GhEslJsz0mSJNy8eRMA4HQ6kZCQAIvFMup5LpcLLpfL55jH44nEiKpQWZiKs5/1\n",
              "4YpzANETTRi462ErR4agSDhJkoQDBw6gvLwckydPhsPhQGNjI6KiokY9t6amBr/4xS98jhUVFUVq\n",
              "1IhiK0f0L5IY/hRfBLndbnzzm9/E9u3bUVJSgvb2dqxatQpnzpxBYqLvXzp/Z04//elPsXfv3kiO\n",
              "LLuRrdzwGdJwK0dkNIpsiNtsNnz++ecoKSkBAOTn5yM5ORmnTp0a9VyLxYK4uDifh8lkivTIsmMr\n",
              "R+RLkXBKSUlBT08PPvnkEwCA3W7HxYsXkZWVpcQ4qsBWjsiXIntOM2bMwO9+9zs89dRTmDBhAoaG\n",
              "hvDKK68gNdW4m7xs5Yh8KdbWrVu3DuvWrVPq7VWHrRyRL16+ohB/zRxbOaJ/YTgp4EHXy726Pk/p\n",
              "8YhUgdfWKYDNHNHYGE4KYDNHNDaGkwL4LZZEY2M4KYDfYkk0Nm6Iy4zXyxE9HIaTjPgtlkQPj8s6\n",
              "GbGVI3p4DCcZsZUjengMJxmxlSN6eAwnGbGVI3p43BAPE7ZyROHFcAoDtnJE4cdlXRiwlSMKP4ZT\n",
              "GLCVIwo/hlMYsJUjCj+GUxiwlSMKP26Ih4itHFFkMJxCwFaOKHK4rAsBWzmiyGE4hYCtHFHkMJxC\n",
              "wFaOKHIYTiFgK0cUOdwQfwDeW45IOQwnP/Y1X8R/v2fHLZcbAGCeAHzmuMN7yxFFEMNphGf+pw3v\n",
              "nbvmc8w9BPT/M6gajnfxIwNEEcA9p/v4C6ZhQwK46xliM0cUIQynf3pQMA0b9AyxmSOKEIYTggsm\n",
              "ALCYTGzmiCLE8OEUbDABwHNPzGMzRxQhhg6nUIJpfWEKNj42V+aJiGiYYcMplGB6fP50vPBvOTJP\n",
              "RET3M2Q4hRpMdU8XyDwREY1kuHBiMBFpgyIfwuzt7cXjjz/u/fHt27fx6aef4urVq4iPj5ftff+r\n",
              "8TSDiUgjFAmnhIQE2Gw27493796NY8eOyRpM+5ovoqGtO6jnMpiIlKeKy1fq6upQU1Pj9+dcLhdc\n",
              "LpfPMY/HE9Lr72u+iBcOnwvquQwmInVQfM+ptbUVDocDK1eu9PvzNTU1sFqtPo+2tragX5/BRKRN\n",
              "iodTXV0dNmzYALPZ/0lcdXU1+vr6fB4FBcEFCIOJSLsUXdb19/fjzTffRHt7e8DnWCwWWCwWn2Mm\n",
              "k2nM1w4lmL6WYmUwEamMomdOBw4cQG5uLubPnx/W1221X8fOIIMpY/pkvPOfy8L6/kQ0foqGU11d\n",
              "HZ555pmwv+72//0/iCCelzF9Mo5u/UbY35+Ixk/RZV1ra6ssr2u/OvZ3LjGYiNRN8Q1xOQyJB583\n",
              "MZiI1E+X4TR10sSAP8dgItIGXYbTf3xjLiZIo49/LcXKYCLSCFV8QjzcNpbc+96l1z7sxI0vBxE/\n",
              "OQr/viyd38dEpCG6DCfgXkANhxQRaY8ul3VEpH0MJyJSJYYTEakSw4mIVInhRESqxHAiIlWShBjj\n",
              "Wg8VKi8vR3p6+kP9Wo/Hg7a2NhQUFAT11StK09K8WpoV0Na8WpoVuDfv+fPncejQoVFfeRQsTYbT\n",
              "eDidTlitVvT19SEuLk7pccakpXm1NCugrXm1NCsQnnm5rCMiVWI4EZEqMZyISJUMF04WiwU///nP\n",
              "H3qTLtK0NK+WZgW0Na+WZgXCM6/hNsSJSBsMd+ZERNrAcCIiVWI4EZEqMZyISJUMFU69vb1YvHix\n",
              "95GZmQmz2YwbN24oPZpfhw8fRl5eHhYvXozs7Gzs379f6ZECOnLkCB599FHk5OSgqKgIHR0dSo/k\n",
              "o6qqCunp6ZAkCTabzXv8woULKC4uRmZmJvLz8/Hxxx8rN+R9As0b6LiS/M00MDCANWvWIDMzE7m5\n",
              "uVixYgXsdntoLywM7MUXXxQrV65Uegy/hoaGxLRp00RHR4cQQohLly4Ji8UinE6nwpONduPGDREf\n",
              "Hy/Onj0rhBCiublZLFy4UOGpfB07dkx0d3eLtLQ0cerUKe/x0tJS8frrrwshhHjrrbfEo48+qsyA\n",
              "IwSaN9BxJfmb6c6dO6KpqUkMDQ0JIYR4+eWXxde//vWQXtfQ4TR//nzxzjvvKD2GX0NDQyI+Pl4c\n",
              "O3ZMCCFER0eH+MpXviJcLpfCk43W3t4u5s2b53MsNjZWnDhxQqGJArv/L9AXX3whYmNjxd27d4UQ\n",
              "9/6bz5gxQ1y4cEHBCX0FCiE1hdOwB83U3t4u0tLSQno9Qy3r7tfa2gqHw4GVK1cqPYpfkiThwIED\n",
              "KC8vR1paGpYtW4b9+/cjKipK6dFGmTdvHnp7e713cH733Xdx69YtdHZ2KjvYGLq7uzFr1iyYzffu\n",
              "8yFJElJTU9HV1aXwZPqzd+9erF69OqRfo9u7r4ylrq4OGzZs8P7BVBu3241f/vKXaGxsRElJCdrb\n",
              "27Fq1SqcOXMGiYmJSo/nw2q14uDBg6iurkZ/fz+WLl2KBQsWqPa/LUXWzp07Ybfb8d5774X06wz5\n",
              "p6e/vx9vvvkm2tvblR4lIJvNhs8//xwlJSUAgPz8fCQnJ+PUqVNYsWKFwtONVlpaitLSUgCAy+XC\n",
              "zJkzsWDBAoWnerCUlBT09PTA7XbDbDZDCIGuri6kpqYqPZpu7N69G42NjTh69ChiYmJC+rWGXNYd\n",
              "OHAAubm5mD9/vtKjBDT8F+eTTz4BANjtdly8eBFZWVkKT+ZfT0+P99937NiB5cuXIyMjQ8GJxpaU\n",
              "lIS8vDzU19cDAN5++20kJyerfm6t2LNnD9544w38+c9/xtSpU0N/gXHvgmnQ0qVLxWuvvab0GGP6\n",
              "wx/+ILKzs0VOTo7Izs4WDQ0NSo8U0LPPPiuysrLE3LlzRWVlpXA4HEqP5GPTpk3ikUceESaTSSQl\n",
              "JYm5c+cKIYQ4d+6cKCoqEvPmzRNLliwRp0+fVnjSewLNG+i4kvzN1N3dLQCIOXPmiNzcXJGbmysK\n",
              "CgpCel1e+EtEqmTIZR0RqR/DiYhUieFEspMkCTdv3lR6DNIYhhMRqRLDiSLqo48+QnFxMXJyclBQ\n",
              "UIAPP/wQAHDt2jU88cQTWLRoEXJycvCd73wHAPC3v/0NS5Ys8V78/Jvf/EbJ8SmC2NaR7CRJgsPh\n",
              "QExMDDIyMrBv3z6UlZWhpaUFFRUVsNvt2LdvH86dO4fa2loAwI0bNxAfH4/Vq1fj29/+NtatWwcA\n",
              "cDgcmDZtmpK/HYoQnjlRxJw/fx4TJkxAWVkZAGDZsmWYMWMGbDYbioqK8Mc//hFbt27FoUOHMHny\n",
              "ZAD3Pnm+Y8cObN++HS0tLQwmA2E4kaIkSQIALF26FDabDYWFhWhsbER+fj48Hg++//3vo6mpCbNm\n",
              "zcLzzz+PLVu2KDwxRQqXdSS7kcu6uro6rFixAq2trSgvL4fdbse1a9fwyCOPICoqCk6nE0lJSfji\n",
              "iy9w5coV7yU7R44cwfPPP4+TJ08q/DuiSDDkhb+kjKioKDQ2NqKqqgpbt25FdHQ0Dh48iClTpuCt\n",
              "t97Cnj17YDKZ4Ha78eKLL8JqtWLbtm34y1/+gqioKJhMJrz00ktK/zYoQnjmRESqxD0nIlIlhhMR\n",
              "qRLDiYhUieFERKrEcCIiVWI4EZEqMZyISJUYTkSkSgwnIlIlhhMRqdL/A0ikmi3xgWLSAAAAAElF\n",
              "TkSuQmCC\n",
              "\">\n",
              "        \n",
              "      </div>\n",
              "      <script></script>\n",
              "      <script type=\"text/javascript\">\n",
              "        (() => {\n",
              "          const chartElement = document.getElementById(\"chart-94c7278d-b5e4-451a-828e-2bb5d936af26\");\n",
              "          async function getCodeForChartHandler(event) {\n",
              "            const chartCodeResponse =  await google.colab.kernel.invokeFunction(\n",
              "                'getCodeForChart', [\"chart-94c7278d-b5e4-451a-828e-2bb5d936af26\"], {});\n",
              "            const responseJson = chartCodeResponse.data['application/json'];\n",
              "            await google.colab.notebook.addCell(responseJson.code, 'code');\n",
              "          }\n",
              "          chartElement.onclick = getCodeForChartHandler;\n",
              "        })();\n",
              "      </script>\n",
              "      <style>\n",
              "        .colab-quickchart-chart-with-code  {\n",
              "            display: block;\n",
              "            float: left;\n",
              "            border: 1px solid transparent;\n",
              "        }\n",
              "\n",
              "        .colab-quickchart-chart-with-code:hover {\n",
              "            cursor: pointer;\n",
              "            border: 1px solid #aaa;\n",
              "        }\n",
              "      </style>"
            ]
          },
          "metadata": {}
        }
      ]
    },
    {
      "source": [
        "# Make a prediction with the model\n",
        "model.predict([17.0])"
      ],
      "cell_type": "code",
      "metadata": {
        "colab": {
          "base_uri": "https://localhost:8080/"
        },
        "id": "sgu1VrE3myEU",
        "outputId": "bfb13973-3e99-48b7-ca0e-6050e8753e44"
      },
      "execution_count": 38,
      "outputs": [
        {
          "output_type": "stream",
          "name": "stdout",
          "text": [
            "1/1 [==============================] - 0s 118ms/step\n"
          ]
        },
        {
          "output_type": "execute_result",
          "data": {
            "text/plain": [
              "array([[30.082397]], dtype=float32)"
            ]
          },
          "metadata": {},
          "execution_count": 38
        }
      ]
    },
    {
      "cell_type": "markdown",
      "source": [
        "The relationship is `y=X+10`  \n",
        "So Value should be `y=17+10=27`"
      ],
      "metadata": {
        "id": "fCT2qiK9OFfb"
      }
    },
    {
      "cell_type": "markdown",
      "source": [
        "For Evaluating the model we need a bigger data than this"
      ],
      "metadata": {
        "id": "B0kIRB-zoTAS"
      }
    },
    {
      "cell_type": "markdown",
      "source": [
        "## Make a Bigger dataset"
      ],
      "metadata": {
        "id": "easkZinancpR"
      }
    },
    {
      "cell_type": "code",
      "source": [
        "X = np.arange(-100, 100, 4)\n",
        "# Make labels for the dataset (adhering to the same pattern as before)\n",
        "y = np.arange(-90, 110, 4)\n",
        "X,y"
      ],
      "metadata": {
        "colab": {
          "base_uri": "https://localhost:8080/"
        },
        "id": "ToJIQpUmnmyI",
        "outputId": "48755153-8f4e-4088-e764-8e2b84a4bc00"
      },
      "execution_count": 39,
      "outputs": [
        {
          "output_type": "execute_result",
          "data": {
            "text/plain": [
              "(array([-100,  -96,  -92,  -88,  -84,  -80,  -76,  -72,  -68,  -64,  -60,\n",
              "         -56,  -52,  -48,  -44,  -40,  -36,  -32,  -28,  -24,  -20,  -16,\n",
              "         -12,   -8,   -4,    0,    4,    8,   12,   16,   20,   24,   28,\n",
              "          32,   36,   40,   44,   48,   52,   56,   60,   64,   68,   72,\n",
              "          76,   80,   84,   88,   92,   96]),\n",
              " array([-90, -86, -82, -78, -74, -70, -66, -62, -58, -54, -50, -46, -42,\n",
              "        -38, -34, -30, -26, -22, -18, -14, -10,  -6,  -2,   2,   6,  10,\n",
              "         14,  18,  22,  26,  30,  34,  38,  42,  46,  50,  54,  58,  62,\n",
              "         66,  70,  74,  78,  82,  86,  90,  94,  98, 102, 106]))"
            ]
          },
          "metadata": {},
          "execution_count": 39
        }
      ]
    },
    {
      "cell_type": "code",
      "source": [
        "# Relationship\n",
        "np.array_equal(y,X+10)"
      ],
      "metadata": {
        "colab": {
          "base_uri": "https://localhost:8080/"
        },
        "id": "0DMoxdGznwOk",
        "outputId": "a7423b57-99d5-40b6-9603-cbb3248bb29e"
      },
      "execution_count": 40,
      "outputs": [
        {
          "output_type": "execute_result",
          "data": {
            "text/plain": [
              "True"
            ]
          },
          "metadata": {},
          "execution_count": 40
        }
      ]
    },
    {
      "cell_type": "markdown",
      "source": [
        "## Splitting The Dataset"
      ],
      "metadata": {
        "id": "Zv0LRK2Torf1"
      }
    },
    {
      "cell_type": "code",
      "source": [
        "len(X)"
      ],
      "metadata": {
        "colab": {
          "base_uri": "https://localhost:8080/"
        },
        "id": "ajD1_95VpFi2",
        "outputId": "103e77af-896e-4926-f22b-ddec097c9c2d"
      },
      "execution_count": 41,
      "outputs": [
        {
          "output_type": "execute_result",
          "data": {
            "text/plain": [
              "50"
            ]
          },
          "metadata": {},
          "execution_count": 41
        }
      ]
    },
    {
      "cell_type": "code",
      "source": [
        "# split the data 80:20\n",
        "X_train = X[:40]\n",
        "y_train = y[:40]\n",
        "X_test =  X[40:]\n",
        "y_test =  y[40:]\n",
        "len(X_train),len(X_test)"
      ],
      "metadata": {
        "colab": {
          "base_uri": "https://localhost:8080/"
        },
        "id": "q05g8FrnpJ3-",
        "outputId": "caef4abc-faca-4e37-b157-eaf0226a147f"
      },
      "execution_count": 42,
      "outputs": [
        {
          "output_type": "execute_result",
          "data": {
            "text/plain": [
              "(40, 10)"
            ]
          },
          "metadata": {},
          "execution_count": 42
        }
      ]
    },
    {
      "cell_type": "code",
      "source": [
        "X_train,X_test,y_train,y_test"
      ],
      "metadata": {
        "colab": {
          "base_uri": "https://localhost:8080/"
        },
        "id": "r-hbV5J4qz7v",
        "outputId": "f7ac6b74-838b-476b-ec20-2c75d7396423"
      },
      "execution_count": 43,
      "outputs": [
        {
          "output_type": "execute_result",
          "data": {
            "text/plain": [
              "(array([-100,  -96,  -92,  -88,  -84,  -80,  -76,  -72,  -68,  -64,  -60,\n",
              "         -56,  -52,  -48,  -44,  -40,  -36,  -32,  -28,  -24,  -20,  -16,\n",
              "         -12,   -8,   -4,    0,    4,    8,   12,   16,   20,   24,   28,\n",
              "          32,   36,   40,   44,   48,   52,   56]),\n",
              " array([60, 64, 68, 72, 76, 80, 84, 88, 92, 96]),\n",
              " array([-90, -86, -82, -78, -74, -70, -66, -62, -58, -54, -50, -46, -42,\n",
              "        -38, -34, -30, -26, -22, -18, -14, -10,  -6,  -2,   2,   6,  10,\n",
              "         14,  18,  22,  26,  30,  34,  38,  42,  46,  50,  54,  58,  62,\n",
              "         66]),\n",
              " array([ 70,  74,  78,  82,  86,  90,  94,  98, 102, 106]))"
            ]
          },
          "metadata": {},
          "execution_count": 43
        }
      ]
    },
    {
      "cell_type": "markdown",
      "source": [
        "## Visualise the data"
      ],
      "metadata": {
        "id": "p6MmH5pAp3sc"
      }
    },
    {
      "cell_type": "code",
      "source": [
        "plt.figure(figsize=(10, 7))\n",
        "# Plot training data in blue\n",
        "plt.scatter(X_train, y_train, c='b', label='Training data')\n",
        "# Plot test data in green\n",
        "plt.scatter(X_test, y_test, c='g', label='Testing data')\n",
        "# Show the legend\n",
        "plt.legend();"
      ],
      "metadata": {
        "colab": {
          "base_uri": "https://localhost:8080/",
          "height": 599
        },
        "id": "2bjrV6uEqCPX",
        "outputId": "9d35ebea-a19a-40da-f6cf-1f8d711faa0e"
      },
      "execution_count": 44,
      "outputs": [
        {
          "output_type": "display_data",
          "data": {
            "text/plain": [
              "<Figure size 1000x700 with 1 Axes>"
            ],
            "image/png": "[encoded data removed]"
          },
          "metadata": {}
        }
      ]
    },
    {
      "cell_type": "markdown",
      "source": [
        "## Build Model"
      ],
      "metadata": {
        "id": "Fy8kRVo8qFLY"
      }
    },
    {
      "cell_type": "code",
      "source": [
        "# Set random seed\n",
        "tf.random.set_seed(42)\n",
        "\n",
        "# Create a model using the Sequential API\n",
        "model = tf.keras.Sequential()\n",
        "#Input Layer\n",
        "model.add(tf.keras.layers.Input(shape=(1,)))\n",
        "#Hidden layer\n",
        "model.add(tf.keras.layers.Dense(1))\n",
        "model.add(tf.keras.layers.Dense(1))\n",
        "# Compile the model\n",
        "model.compile(loss=tf.keras.losses.mae, # mae is short for mean absolute error\n",
        "              optimizer=tf.keras.optimizers.SGD(), # SGD is short for stochastic gradient descent\n",
        "              metrics=[\"mae\"])\n"
      ],
      "metadata": {
        "id": "W1F7TR5Rrsxw"
      },
      "execution_count": 45,
      "outputs": []
    },
    {
      "cell_type": "code",
      "source": [
        "model.summary()"
      ],
      "metadata": {
        "colab": {
          "base_uri": "https://localhost:8080/"
        },
        "id": "1N02F0utr6kQ",
        "outputId": "715f077b-9201-440a-f584-1e5d91173b7c"
      },
      "execution_count": 46,
      "outputs": [
        {
          "output_type": "stream",
          "name": "stdout",
          "text": [
            "Model: \"sequential_3\"\n",
            "_________________________________________________________________\n",
            " Layer (type)                Output Shape              Param #   \n",
            "=================================================================\n",
            " dense_4 (Dense)             (None, 1)                 2         \n",
            "                                                                 \n",
            " dense_5 (Dense)             (None, 1)                 2         \n",
            "                                                                 \n",
            "=================================================================\n",
            "Total params: 4\n",
            "Trainable params: 4\n",
            "Non-trainable params: 0\n",
            "_________________________________________________________________\n"
          ]
        }
      ]
    },
    {
      "cell_type": "code",
      "source": [
        "model.fit(X_train, y_train, epochs=100, verbose=0)"
      ],
      "metadata": {
        "colab": {
          "base_uri": "https://localhost:8080/"
        },
        "id": "PtOUTwrbr9pc",
        "outputId": "493e8a60-dbb1-41df-da5d-9901b7e91c80"
      },
      "execution_count": 47,
      "outputs": [
        {
          "output_type": "execute_result",
          "data": {
            "text/plain": [
              "<keras.callbacks.History at 0x7e3139be98d0>"
            ]
          },
          "metadata": {},
          "execution_count": 47
        }
      ]
    },
    {
      "cell_type": "code",
      "source": [
        "from tensorflow.keras.utils import plot_model\n",
        "\n",
        "plot_model(model, show_shapes=True)"
      ],
      "metadata": {
        "colab": {
          "base_uri": "https://localhost:8080/",
          "height": 312
        },
        "id": "IAVM_5oxsI53",
        "outputId": "07997abb-03db-48f7-cda9-3db9a957b315"
      },
      "execution_count": 48,
      "outputs": [
        {
          "output_type": "execute_result",
          "data": {
            "image/png": "[encoded data removed]",
            "text/plain": [
              "<IPython.core.display.Image object>"
            ]
          },
          "metadata": {},
          "execution_count": 48
        }
      ]
    },
    {
      "cell_type": "code",
      "source": [
        "# Make predictions\n",
        "y_pred = model.predict(X_test)\n",
        "y_pred"
      ],
      "metadata": {
        "colab": {
          "base_uri": "https://localhost:8080/"
        },
        "id": "VHaIqji4sOGL",
        "outputId": "7d6f43ec-c679-451c-fcb8-cb026baaf26a"
      },
      "execution_count": 49,
      "outputs": [
        {
          "output_type": "stream",
          "name": "stdout",
          "text": [
            "1/1 [==============================] - 0s 62ms/step\n"
          ]
        },
        {
          "output_type": "execute_result",
          "data": {
            "text/plain": [
              "array([[ 89.93524 ],\n",
              "       [ 95.80458 ],\n",
              "       [101.67393 ],\n",
              "       [107.54327 ],\n",
              "       [113.412605],\n",
              "       [119.28195 ],\n",
              "       [125.15129 ],\n",
              "       [131.02063 ],\n",
              "       [136.88998 ],\n",
              "       [142.75932 ]], dtype=float32)"
            ]
          },
          "metadata": {},
          "execution_count": 49
        }
      ]
    },
    {
      "cell_type": "code",
      "source": [
        "# Viusalising predictions on graph\n",
        "plt.figure(figsize=(10, 7))\n",
        "# Plot training data in blue\n",
        "plt.scatter(X_train,y_train, c=\"b\", label=\"Training data\")\n",
        "# Plot test data in green\n",
        "plt.scatter(X_test,y_test, c=\"g\", label=\"Testing data\")\n",
        "# Plot the predictions in red (predictions were made on the test data)\n",
        "plt.scatter(X_test,y_pred, c=\"r\", label=\"Predictions\")\n",
        "# Show the legend\n",
        "plt.legend()"
      ],
      "metadata": {
        "colab": {
          "base_uri": "https://localhost:8080/",
          "height": 616
        },
        "id": "whEKsKDhsdXG",
        "outputId": "33cd94ec-3191-4c50-b925-79ce64b20323"
      },
      "execution_count": 50,
      "outputs": [
        {
          "output_type": "execute_result",
          "data": {
            "text/plain": [
              "<matplotlib.legend.Legend at 0x7e313b7ddff0>"
            ]
          },
          "metadata": {},
          "execution_count": 50
        },
        {
          "output_type": "display_data",
          "data": {
            "text/plain": [
              "<Figure size 1000x700 with 1 Axes>"
            ],
            "image/png": "[encoded data removed]"
          },
          "metadata": {}
        }
      ]
    },
    {
      "cell_type": "markdown",
      "source": [
        "## Evaluating Predictions\n",
        "\n",
        "Two of the main metrics used for regression problems are:\n",
        "\n",
        "- Mean absolute error (MAE) - the mean difference between each of the predictions.\n",
        "- Mean squared error (MSE) - the squared mean difference between of the predictions (use if larger errors are more detrimental than smaller errors)."
      ],
      "metadata": {
        "id": "tzFy5Uv6tQhD"
      }
    },
    {
      "cell_type": "code",
      "source": [
        "# Evaluate the model on the test set\n",
        "model.evaluate(X_test, y_test)"
      ],
      "metadata": {
        "colab": {
          "base_uri": "https://localhost:8080/"
        },
        "id": "NsocpEQBtubp",
        "outputId": "9d54266c-e86d-4782-f27e-544dc0d77edb"
      },
      "execution_count": 51,
      "outputs": [
        {
          "output_type": "stream",
          "name": "stdout",
          "text": [
            "1/1 [==============================] - 0s 139ms/step - loss: 28.3473 - mae: 28.3473\n"
          ]
        },
        {
          "output_type": "execute_result",
          "data": {
            "text/plain": [
              "[28.347278594970703, 28.347278594970703]"
            ]
          },
          "metadata": {},
          "execution_count": 51
        }
      ]
    },
    {
      "cell_type": "code",
      "source": [
        "# Calculate the mean absolute error\n",
        "mae = tf.metrics.mean_absolute_error(y_true=y_test,\n",
        "                                     y_pred=y_pred)\n",
        "mae"
      ],
      "metadata": {
        "colab": {
          "base_uri": "https://localhost:8080/"
        },
        "id": "3sdxtaUQt9iR",
        "outputId": "f322f2b7-4ab3-4e65-bd1c-a4662cdff596"
      },
      "execution_count": 52,
      "outputs": [
        {
          "output_type": "execute_result",
          "data": {
            "text/plain": [
              "<tf.Tensor: shape=(10,), dtype=float32, numpy=\n",
              "array([10.      , 11.521832, 14.604357, 19.543266, 25.412605, 31.281952,\n",
              "       37.15129 , 43.02063 , 48.889984, 54.759327], dtype=float32)>"
            ]
          },
          "metadata": {},
          "execution_count": 52
        }
      ]
    },
    {
      "cell_type": "markdown",
      "source": [
        "we get 10 values.\n",
        "This is because our `y_test` and `y_pred` tensors are different shapes"
      ],
      "metadata": {
        "id": "o2FuVzumucOz"
      }
    },
    {
      "cell_type": "code",
      "source": [
        "y_test.shape,y_pred.shape"
      ],
      "metadata": {
        "colab": {
          "base_uri": "https://localhost:8080/"
        },
        "id": "n-OUuUecuVpF",
        "outputId": "df7ca50e-e474-40c3-9354-7ee753ea7ed1"
      },
      "execution_count": 53,
      "outputs": [
        {
          "output_type": "execute_result",
          "data": {
            "text/plain": [
              "((10,), (10, 1))"
            ]
          },
          "metadata": {},
          "execution_count": 53
        }
      ]
    },
    {
      "cell_type": "code",
      "source": [
        "# Calcuate the MAE\n",
        "mae = tf.metrics.mean_absolute_error(y_true=y_test,\n",
        "                                     y_pred=y_pred.squeeze()) # use squeeze() to make same shape\n",
        "mae"
      ],
      "metadata": {
        "colab": {
          "base_uri": "https://localhost:8080/"
        },
        "id": "MMYg_yvNuwww",
        "outputId": "056aa188-62ea-4e44-db55-f0eda0b5c993"
      },
      "execution_count": 54,
      "outputs": [
        {
          "output_type": "execute_result",
          "data": {
            "text/plain": [
              "<tf.Tensor: shape=(), dtype=float32, numpy=28.347279>"
            ]
          },
          "metadata": {},
          "execution_count": 54
        }
      ]
    },
    {
      "cell_type": "code",
      "source": [
        "# Calculate the MSE\n",
        "mse = tf.metrics.mean_squared_error(y_true=y_test,\n",
        "                                    y_pred=y_pred.squeeze())\n",
        "mse"
      ],
      "metadata": {
        "colab": {
          "base_uri": "https://localhost:8080/"
        },
        "id": "99Svge0lu6FF",
        "outputId": "dd574c1f-31c8-4610-d89e-12881a2a0e5d"
      },
      "execution_count": 55,
      "outputs": [
        {
          "output_type": "execute_result",
          "data": {
            "text/plain": [
              "<tf.Tensor: shape=(), dtype=float32, numpy=832.39746>"
            ]
          },
          "metadata": {},
          "execution_count": 55
        }
      ]
    },
    {
      "cell_type": "markdown",
      "source": [
        "## Saving the model"
      ],
      "metadata": {
        "id": "yJqG_6FGu_Ij"
      }
    },
    {
      "cell_type": "markdown",
      "source": [
        "You can save a TensorFlow/Keras model using `model.save()`.\n",
        "\n",
        "There are two ways to save a model in TensorFlow:\n",
        "\n",
        "- The SavedModel format (default).\n",
        "- The HDF5 format.\n"
      ],
      "metadata": {
        "id": "M-frKm5AItdD"
      }
    },
    {
      "cell_type": "code",
      "source": [
        "# Save a model using the SavedModel format\n",
        "model.save(\"tf_regression_practice_model\")"
      ],
      "metadata": {
        "colab": {
          "base_uri": "https://localhost:8080/"
        },
        "id": "qjW37clGJR1x",
        "outputId": "d22969eb-a18f-4334-fff9-8bb4e5ac20b1"
      },
      "execution_count": 56,
      "outputs": [
        {
          "output_type": "stream",
          "name": "stderr",
          "text": [
            "WARNING:absl:Found untraced functions such as _update_step_xla while saving (showing 1 of 1). These functions will not be directly callable after loading.\n"
          ]
        }
      ]
    },
    {
      "cell_type": "code",
      "source": [
        "# Save a model using the HDF5 format\n",
        "model.save(\"tf_regression_practice_model.h5\")"
      ],
      "metadata": {
        "id": "SGSDNQCwJ0XD"
      },
      "execution_count": 57,
      "outputs": []
    },
    {
      "cell_type": "code",
      "source": [
        "# Check it out\n",
        "!ls tf_regression_practice_model.h5"
      ],
      "metadata": {
        "id": "ZiaT7ISrKcXA",
        "colab": {
          "base_uri": "https://localhost:8080/"
        },
        "outputId": "c12cf179-f73a-4b31-f36d-6dd219eff57c"
      },
      "execution_count": 59,
      "outputs": [
        {
          "output_type": "stream",
          "name": "stdout",
          "text": [
            "tf_regression_practice_model.h5\n"
          ]
        }
      ]
    },
    {
      "cell_type": "markdown",
      "source": [
        "## Loading the Model"
      ],
      "metadata": {
        "id": "ohzHoXtvK6fn"
      }
    },
    {
      "cell_type": "code",
      "source": [
        "# Load a model from the SavedModel format\n",
        "loaded_saved_model = tf.keras.models.load_model('/content/tf_regression_practice_model')\n",
        "loaded_saved_model.summary()"
      ],
      "metadata": {
        "colab": {
          "base_uri": "https://localhost:8080/"
        },
        "id": "jeGh-2EHO21p",
        "outputId": "9f1f4e1e-9213-46fb-9d23-da44beb3d3a2"
      },
      "execution_count": 61,
      "outputs": [
        {
          "output_type": "stream",
          "name": "stdout",
          "text": [
            "Model: \"sequential_3\"\n",
            "_________________________________________________________________\n",
            " Layer (type)                Output Shape              Param #   \n",
            "=================================================================\n",
            " dense_4 (Dense)             (None, 1)                 2         \n",
            "                                                                 \n",
            " dense_5 (Dense)             (None, 1)                 2         \n",
            "                                                                 \n",
            "=================================================================\n",
            "Total params: 4\n",
            "Trainable params: 4\n",
            "Non-trainable params: 0\n",
            "_________________________________________________________________\n"
          ]
        }
      ]
    },
    {
      "cell_type": "code",
      "source": [
        "# Load a model from the HDF5 format\n",
        "loaded_h5_model = tf.keras.models.load_model(\"tf_regression_practice_model.h5\")\n",
        "loaded_h5_model.summary()"
      ],
      "metadata": {
        "colab": {
          "base_uri": "https://localhost:8080/"
        },
        "id": "w-ZTmaigPHhE",
        "outputId": "241eb810-fa1d-4d35-de1c-4fd2b9d8c9a6"
      },
      "execution_count": 62,
      "outputs": [
        {
          "output_type": "stream",
          "name": "stdout",
          "text": [
            "Model: \"sequential_3\"\n",
            "_________________________________________________________________\n",
            " Layer (type)                Output Shape              Param #   \n",
            "=================================================================\n",
            " dense_4 (Dense)             (None, 1)                 2         \n",
            "                                                                 \n",
            " dense_5 (Dense)             (None, 1)                 2         \n",
            "                                                                 \n",
            "=================================================================\n",
            "Total params: 4\n",
            "Trainable params: 4\n",
            "Non-trainable params: 0\n",
            "_________________________________________________________________\n"
          ]
        }
      ]
    },
    {
      "cell_type": "markdown",
      "source": [
        "## Downloading a model (from Google Colab)"
      ],
      "metadata": {
        "id": "nBF_A1DwPU0v"
      }
    },
    {
      "cell_type": "code",
      "source": [
        "from google.colab import files\n",
        "files.download('tf_regression_practice_model.h5')"
      ],
      "metadata": {
        "colab": {
          "base_uri": "https://localhost:8080/",
          "height": 17
        },
        "id": "Z9yOz576QvLB",
        "outputId": "a9c47182-089d-4519-da6e-60aef7632c11"
      },
      "execution_count": 64,
      "outputs": [
        {
          "output_type": "display_data",
          "data": {
            "text/plain": [
              "<IPython.core.display.Javascript object>"
            ],
            "application/javascript": [
              "\n",
              "    async function download(id, filename, size) {\n",
              "      if (!google.colab.kernel.accessAllowed) {\n",
              "        return;\n",
              "      }\n",
              "      const div = document.createElement('div');\n",
              "      const label = document.createElement('label');\n",
              "      label.textContent = `Downloading \"${filename}\": `;\n",
              "      div.appendChild(label);\n",
              "      const progress = document.createElement('progress');\n",
              "      progress.max = size;\n",
              "      div.appendChild(progress);\n",
              "      document.body.appendChild(div);\n",
              "\n",
              "      const buffers = [];\n",
              "      let downloaded = 0;\n",
              "\n",
              "      const channel = await google.colab.kernel.comms.open(id);\n",
              "      // Send a message to notify the kernel that we're ready.\n",
              "      channel.send({})\n",
              "\n",
              "      for await (const message of channel.messages) {\n",
              "        // Send a message to notify the kernel that we're ready.\n",
              "        channel.send({})\n",
              "        if (message.buffers) {\n",
              "          for (const buffer of message.buffers) {\n",
              "            buffers.push(buffer);\n",
              "            downloaded += buffer.byteLength;\n",
              "            progress.value = downloaded;\n",
              "          }\n",
              "        }\n",
              "      }\n",
              "      const blob = new Blob(buffers, {type: 'application/binary'});\n",
              "      const a = document.createElement('a');\n",
              "      a.href = window.URL.createObjectURL(blob);\n",
              "      a.download = filename;\n",
              "      div.appendChild(a);\n",
              "      a.click();\n",
              "      div.remove();\n",
              "    }\n",
              "  "
            ]
          },
          "metadata": {}
        },
        {
          "output_type": "display_data",
          "data": {
            "text/plain": [
              "<IPython.core.display.Javascript object>"
            ],
            "application/javascript": [
              "download(\"download_f9718db3-7117-4506-a4a1-3644b3fa38d5\", \"tf_regression_practice_model.h5\", 21952)"
            ]
          },
          "metadata": {}
        }
      ]
    },
    {
      "cell_type": "code",
      "source": [],
      "metadata": {
        "id": "1tP3bZW8Q6-i"
      },
      "execution_count": null,
      "outputs": []
    }
  ]
}